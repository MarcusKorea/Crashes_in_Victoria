{
 "cells": [
  {
   "cell_type": "markdown",
   "id": "79caf5f7",
   "metadata": {},
   "source": [
    "## Hypothesis 3 Testing\n",
    "### Road accident frequency/severity increases with rainfall (Melbourne LGA)"
   ]
  },
  {
   "cell_type": "code",
   "execution_count": 106,
   "id": "2de79226",
   "metadata": {},
   "outputs": [],
   "source": [
    "# Import dependencies\n",
    "import pandas as pd\n",
    "import numpy as np\n",
    "import matplotlib.pyplot as plt\n",
    "import os\n",
    "import scipy.stats as st\n",
    "from scipy.stats import linregress"
   ]
  },
  {
   "cell_type": "code",
   "execution_count": 107,
   "id": "204b90e8",
   "metadata": {},
   "outputs": [
    {
     "data": {
      "text/html": [
       "<div>\n",
       "<style scoped>\n",
       "    .dataframe tbody tr th:only-of-type {\n",
       "        vertical-align: middle;\n",
       "    }\n",
       "\n",
       "    .dataframe tbody tr th {\n",
       "        vertical-align: top;\n",
       "    }\n",
       "\n",
       "    .dataframe thead th {\n",
       "        text-align: right;\n",
       "    }\n",
       "</style>\n",
       "<table border=\"1\" class=\"dataframe\">\n",
       "  <thead>\n",
       "    <tr style=\"text-align: right;\">\n",
       "      <th></th>\n",
       "      <th>ACCIDENT_NO</th>\n",
       "      <th>ABS_CODE</th>\n",
       "      <th>ACCIDENT_STATUS</th>\n",
       "      <th>Date</th>\n",
       "      <th>ACCIDENT_TIME</th>\n",
       "      <th>ALCOHOLTIME</th>\n",
       "      <th>ACCIDENT_TYPE</th>\n",
       "      <th>DAY_OF_WEEK</th>\n",
       "      <th>DCA_CODE</th>\n",
       "      <th>HIT_RUN_FLAG</th>\n",
       "      <th>...</th>\n",
       "      <th>MOTORCYCLE</th>\n",
       "      <th>PUBLICVEHICLE</th>\n",
       "      <th>DEG_URBAN_NAME</th>\n",
       "      <th>DEG_URBAN_ALL</th>\n",
       "      <th>LGA_NAME_ALL</th>\n",
       "      <th>REGION_NAME_ALL</th>\n",
       "      <th>RMA</th>\n",
       "      <th>STAT_DIV_NAME</th>\n",
       "      <th>Rainfall amount (millimetres)</th>\n",
       "      <th>Maximum temperature (Degree C)</th>\n",
       "    </tr>\n",
       "  </thead>\n",
       "  <tbody>\n",
       "    <tr>\n",
       "      <th>0</th>\n",
       "      <td>T20140013533</td>\n",
       "      <td>Driving accident</td>\n",
       "      <td>Unfinished</td>\n",
       "      <td>2014/07/01</td>\n",
       "      <td>18:05:00</td>\n",
       "      <td>Yes</td>\n",
       "      <td>Collision with vehicle</td>\n",
       "      <td>Monday</td>\n",
       "      <td>REAR END(VEHICLES IN SAME LANE)</td>\n",
       "      <td>No</td>\n",
       "      <td>...</td>\n",
       "      <td>0.0</td>\n",
       "      <td>0.0</td>\n",
       "      <td>MELB_URBAN</td>\n",
       "      <td>MELB_URBAN</td>\n",
       "      <td>MELBOURNE</td>\n",
       "      <td>METROPOLITAN NORTH WEST REGION</td>\n",
       "      <td>Freeway</td>\n",
       "      <td>Metro</td>\n",
       "      <td>0.4</td>\n",
       "      <td>13.3</td>\n",
       "    </tr>\n",
       "    <tr>\n",
       "      <th>1</th>\n",
       "      <td>T20140013680</td>\n",
       "      <td>Driving accident</td>\n",
       "      <td>Finished</td>\n",
       "      <td>2014/07/03</td>\n",
       "      <td>11:00:00</td>\n",
       "      <td>No</td>\n",
       "      <td>No collision and no object struck</td>\n",
       "      <td>Thursday</td>\n",
       "      <td>OFF CARRIAGEWAY TO RIGHT</td>\n",
       "      <td>No</td>\n",
       "      <td>...</td>\n",
       "      <td>1.0</td>\n",
       "      <td>0.0</td>\n",
       "      <td>MELBOURNE_CBD</td>\n",
       "      <td>MELBOURNE_CBD</td>\n",
       "      <td>MELBOURNE</td>\n",
       "      <td>METROPOLITAN NORTH WEST REGION</td>\n",
       "      <td>Local Road</td>\n",
       "      <td>Metro</td>\n",
       "      <td>0.0</td>\n",
       "      <td>13.1</td>\n",
       "    </tr>\n",
       "    <tr>\n",
       "      <th>2</th>\n",
       "      <td>T20140013898</td>\n",
       "      <td>Driving accident</td>\n",
       "      <td>Finished</td>\n",
       "      <td>2014/07/03</td>\n",
       "      <td>10:30:00</td>\n",
       "      <td>No</td>\n",
       "      <td>Fall from or in moving vehicle</td>\n",
       "      <td>Thursday</td>\n",
       "      <td>FELL IN/FROM VEHICLE</td>\n",
       "      <td>No</td>\n",
       "      <td>...</td>\n",
       "      <td>0.0</td>\n",
       "      <td>1.0</td>\n",
       "      <td>MELB_URBAN</td>\n",
       "      <td>MELB_URBAN</td>\n",
       "      <td>MELBOURNE</td>\n",
       "      <td>METROPOLITAN NORTH WEST REGION</td>\n",
       "      <td>Local Road</td>\n",
       "      <td>Metro</td>\n",
       "      <td>0.0</td>\n",
       "      <td>13.1</td>\n",
       "    </tr>\n",
       "    <tr>\n",
       "      <th>3</th>\n",
       "      <td>T20140013771</td>\n",
       "      <td>Driving accident</td>\n",
       "      <td>Finished</td>\n",
       "      <td>2014/07/04</td>\n",
       "      <td>17:40:00</td>\n",
       "      <td>No</td>\n",
       "      <td>No collision and no object struck</td>\n",
       "      <td>Thursday</td>\n",
       "      <td>OUT OF CONTROL ON CARRIAGEWAY (ON STRAIGHT)</td>\n",
       "      <td>No</td>\n",
       "      <td>...</td>\n",
       "      <td>1.0</td>\n",
       "      <td>0.0</td>\n",
       "      <td>MELB_URBAN</td>\n",
       "      <td>MELB_URBAN</td>\n",
       "      <td>MELBOURNE</td>\n",
       "      <td>METROPOLITAN NORTH WEST REGION</td>\n",
       "      <td>Local Road</td>\n",
       "      <td>Metro</td>\n",
       "      <td>0.0</td>\n",
       "      <td>12.8</td>\n",
       "    </tr>\n",
       "    <tr>\n",
       "      <th>4</th>\n",
       "      <td>T20140013792</td>\n",
       "      <td>Driving accident</td>\n",
       "      <td>Finished</td>\n",
       "      <td>2014/07/04</td>\n",
       "      <td>23:13:00</td>\n",
       "      <td>Yes</td>\n",
       "      <td>Collision with vehicle</td>\n",
       "      <td>Thursday</td>\n",
       "      <td>RIGHT THROUGH</td>\n",
       "      <td>No</td>\n",
       "      <td>...</td>\n",
       "      <td>1.0</td>\n",
       "      <td>0.0</td>\n",
       "      <td>MELBOURNE_CBD</td>\n",
       "      <td>MELBOURNE_CBD</td>\n",
       "      <td>MELBOURNE</td>\n",
       "      <td>METROPOLITAN NORTH WEST REGION</td>\n",
       "      <td>Arterial Other</td>\n",
       "      <td>Metro</td>\n",
       "      <td>0.0</td>\n",
       "      <td>12.8</td>\n",
       "    </tr>\n",
       "  </tbody>\n",
       "</table>\n",
       "<p>5 rows × 54 columns</p>\n",
       "</div>"
      ],
      "text/plain": [
       "    ACCIDENT_NO          ABS_CODE ACCIDENT_STATUS        Date ACCIDENT_TIME  \\\n",
       "0  T20140013533  Driving accident      Unfinished  2014/07/01      18:05:00   \n",
       "1  T20140013680  Driving accident        Finished  2014/07/03      11:00:00   \n",
       "2  T20140013898  Driving accident        Finished  2014/07/03      10:30:00   \n",
       "3  T20140013771  Driving accident        Finished  2014/07/04      17:40:00   \n",
       "4  T20140013792  Driving accident        Finished  2014/07/04      23:13:00   \n",
       "\n",
       "  ALCOHOLTIME                      ACCIDENT_TYPE DAY_OF_WEEK  \\\n",
       "0         Yes             Collision with vehicle      Monday   \n",
       "1          No  No collision and no object struck    Thursday   \n",
       "2          No     Fall from or in moving vehicle    Thursday   \n",
       "3          No  No collision and no object struck    Thursday   \n",
       "4         Yes             Collision with vehicle    Thursday   \n",
       "\n",
       "                                      DCA_CODE HIT_RUN_FLAG  ... MOTORCYCLE  \\\n",
       "0              REAR END(VEHICLES IN SAME LANE)           No  ...        0.0   \n",
       "1                     OFF CARRIAGEWAY TO RIGHT           No  ...        1.0   \n",
       "2                         FELL IN/FROM VEHICLE           No  ...        0.0   \n",
       "3  OUT OF CONTROL ON CARRIAGEWAY (ON STRAIGHT)           No  ...        1.0   \n",
       "4                                RIGHT THROUGH           No  ...        1.0   \n",
       "\n",
       "  PUBLICVEHICLE DEG_URBAN_NAME  DEG_URBAN_ALL LGA_NAME_ALL  \\\n",
       "0           0.0     MELB_URBAN     MELB_URBAN    MELBOURNE   \n",
       "1           0.0  MELBOURNE_CBD  MELBOURNE_CBD    MELBOURNE   \n",
       "2           1.0     MELB_URBAN     MELB_URBAN    MELBOURNE   \n",
       "3           0.0     MELB_URBAN     MELB_URBAN    MELBOURNE   \n",
       "4           0.0  MELBOURNE_CBD  MELBOURNE_CBD    MELBOURNE   \n",
       "\n",
       "                  REGION_NAME_ALL             RMA  STAT_DIV_NAME  \\\n",
       "0  METROPOLITAN NORTH WEST REGION         Freeway          Metro   \n",
       "1  METROPOLITAN NORTH WEST REGION      Local Road          Metro   \n",
       "2  METROPOLITAN NORTH WEST REGION      Local Road          Metro   \n",
       "3  METROPOLITAN NORTH WEST REGION      Local Road          Metro   \n",
       "4  METROPOLITAN NORTH WEST REGION  Arterial Other          Metro   \n",
       "\n",
       "  Rainfall amount (millimetres) Maximum temperature (Degree C)  \n",
       "0                           0.4                           13.3  \n",
       "1                           0.0                           13.1  \n",
       "2                           0.0                           13.1  \n",
       "3                           0.0                           12.8  \n",
       "4                           0.0                           12.8  \n",
       "\n",
       "[5 rows x 54 columns]"
      ]
     },
     "execution_count": 107,
     "metadata": {},
     "output_type": "execute_result"
    }
   ],
   "source": [
    "# Import cleaned Melbourne crash + weather data\n",
    "melbourne_data_path = \"cleaned_data/merged_melb_data.csv\"\n",
    "melbourne_data = pd.read_csv(melbourne_data_path)\n",
    "melbourne_data.head()"
   ]
  },
  {
   "cell_type": "markdown",
   "id": "a7ce2279",
   "metadata": {},
   "source": [
    "#### (1a) Road accident (all roads) frequency against rainfall (Melbourne LGA)"
   ]
  },
  {
   "cell_type": "code",
   "execution_count": 108,
   "id": "6d6c4363",
   "metadata": {},
   "outputs": [],
   "source": [
    "# Group data by the accident date to find daily values.\n",
    "grouped_melbourne_df = melbourne_data.groupby([\"Date\"])\n",
    "\n",
    "# Assign data to axis: x_axis is daily accident count, y_axis is rainfall (mean used but all rainfall data \n",
    "# values same for the same date).\n",
    "y_axis = grouped_melbourne_df[\"ACCIDENT_NO\"].count()\n",
    "x_axis = grouped_melbourne_df[\"Rainfall amount (millimetres)\"].mean().reset_index()"
   ]
  },
  {
   "cell_type": "code",
   "execution_count": 109,
   "id": "814e2274",
   "metadata": {},
   "outputs": [
    {
     "data": {
      "image/png": "[encoded data removed]",
      "text/plain": [
       "<Figure size 432x288 with 1 Axes>"
      ]
     },
     "metadata": {
      "needs_background": "light"
     },
     "output_type": "display_data"
    }
   ],
   "source": [
    "# Undertake the linear regression and plot using matplotlib\n",
    "(slope, intercept, rvalue, pvalue, stderr) = linregress(x_axis[\"Rainfall amount (millimetres)\"], y_axis)\n",
    "regress_values = x_axis[\"Rainfall amount (millimetres)\"] * slope + intercept\n",
    "\n",
    "line_eq = \"y = \" + str(round(slope,2)) + \"x + \" + str(round(intercept,2))\n",
    "r2_value = \"r squared value= \" + str(round((rvalue**2),3))\n",
    "\n",
    "# Use matplotlib to create a scatter plot\n",
    "plt.scatter(x_axis[\"Rainfall amount (millimetres)\"], y_axis, marker=\"o\", facecolors=\"blue\", edgecolors=\"blue\", alpha=0.5)\n",
    "plt.plot(x_axis[\"Rainfall amount (millimetres)\"],regress_values,\"r-\")\n",
    "plt.annotate(line_eq,(25,10),fontsize=10,color=\"red\")\n",
    "plt.annotate(r2_value,(25,9),fontsize=10,color=\"red\")\n",
    "plt.title(\"Relationship Between Rainfall and Road Accident Count (Melbourne LGA)\")\n",
    "plt.xlabel(\"Daily Rainfall (mm)\")\n",
    "plt.ylabel(\"Daily Road Accident Count\")\n",
    "\n",
    "# Save the figure\n",
    "plt.savefig(os.path.join(\"figures\",f\"Melb_Rainfall_vs_Accident_Count.png\"))"
   ]
  },
  {
   "cell_type": "code",
   "execution_count": 110,
   "id": "8159665a",
   "metadata": {},
   "outputs": [
    {
     "name": "stdout",
     "output_type": "stream",
     "text": [
      "The correlation between daily rainfall and daily road accident count for all roads in Melbourne LGA is 0.04\n"
     ]
    }
   ],
   "source": [
    "# Calculating the correlation coefficient for daily rainfall and daily road accident count\n",
    "correlation = st.pearsonr(x_axis[\"Rainfall amount (millimetres)\"], y_axis)\n",
    "print(f\"The correlation between daily rainfall and daily road accident count for all roads in Melbourne LGA is {round(correlation[0],2)}\")\n",
    "\n",
    "# Outcome: correlation=0.04 means there is no correlation i.e daily rainfall has no impact \n",
    "# on daily road accident frequency. Therefore confirming the Null Hypothesis."
   ]
  },
  {
   "cell_type": "markdown",
   "id": "29de7892",
   "metadata": {},
   "source": [
    "#### (1b) Road accident (only freeways/arterials) frequency against rainfall (Melbourne LGA)"
   ]
  },
  {
   "cell_type": "code",
   "execution_count": 111,
   "id": "b62fad6d",
   "metadata": {},
   "outputs": [
    {
     "data": {
      "text/html": [
       "<div>\n",
       "<style scoped>\n",
       "    .dataframe tbody tr th:only-of-type {\n",
       "        vertical-align: middle;\n",
       "    }\n",
       "\n",
       "    .dataframe tbody tr th {\n",
       "        vertical-align: top;\n",
       "    }\n",
       "\n",
       "    .dataframe thead th {\n",
       "        text-align: right;\n",
       "    }\n",
       "</style>\n",
       "<table border=\"1\" class=\"dataframe\">\n",
       "  <thead>\n",
       "    <tr style=\"text-align: right;\">\n",
       "      <th></th>\n",
       "      <th>ACCIDENT_NO</th>\n",
       "      <th>ABS_CODE</th>\n",
       "      <th>ACCIDENT_STATUS</th>\n",
       "      <th>Date</th>\n",
       "      <th>ACCIDENT_TIME</th>\n",
       "      <th>ALCOHOLTIME</th>\n",
       "      <th>ACCIDENT_TYPE</th>\n",
       "      <th>DAY_OF_WEEK</th>\n",
       "      <th>DCA_CODE</th>\n",
       "      <th>HIT_RUN_FLAG</th>\n",
       "      <th>...</th>\n",
       "      <th>MOTORCYCLE</th>\n",
       "      <th>PUBLICVEHICLE</th>\n",
       "      <th>DEG_URBAN_NAME</th>\n",
       "      <th>DEG_URBAN_ALL</th>\n",
       "      <th>LGA_NAME_ALL</th>\n",
       "      <th>REGION_NAME_ALL</th>\n",
       "      <th>RMA</th>\n",
       "      <th>STAT_DIV_NAME</th>\n",
       "      <th>Rainfall amount (millimetres)</th>\n",
       "      <th>Maximum temperature (Degree C)</th>\n",
       "    </tr>\n",
       "  </thead>\n",
       "  <tbody>\n",
       "    <tr>\n",
       "      <th>0</th>\n",
       "      <td>T20140013533</td>\n",
       "      <td>Driving accident</td>\n",
       "      <td>Unfinished</td>\n",
       "      <td>2014/07/01</td>\n",
       "      <td>18:05:00</td>\n",
       "      <td>Yes</td>\n",
       "      <td>Collision with vehicle</td>\n",
       "      <td>Monday</td>\n",
       "      <td>REAR END(VEHICLES IN SAME LANE)</td>\n",
       "      <td>No</td>\n",
       "      <td>...</td>\n",
       "      <td>0.0</td>\n",
       "      <td>0.0</td>\n",
       "      <td>MELB_URBAN</td>\n",
       "      <td>MELB_URBAN</td>\n",
       "      <td>MELBOURNE</td>\n",
       "      <td>METROPOLITAN NORTH WEST REGION</td>\n",
       "      <td>Freeway</td>\n",
       "      <td>Metro</td>\n",
       "      <td>0.4</td>\n",
       "      <td>13.3</td>\n",
       "    </tr>\n",
       "    <tr>\n",
       "      <th>4</th>\n",
       "      <td>T20140013792</td>\n",
       "      <td>Driving accident</td>\n",
       "      <td>Finished</td>\n",
       "      <td>2014/07/04</td>\n",
       "      <td>23:13:00</td>\n",
       "      <td>Yes</td>\n",
       "      <td>Collision with vehicle</td>\n",
       "      <td>Thursday</td>\n",
       "      <td>RIGHT THROUGH</td>\n",
       "      <td>No</td>\n",
       "      <td>...</td>\n",
       "      <td>1.0</td>\n",
       "      <td>0.0</td>\n",
       "      <td>MELBOURNE_CBD</td>\n",
       "      <td>MELBOURNE_CBD</td>\n",
       "      <td>MELBOURNE</td>\n",
       "      <td>METROPOLITAN NORTH WEST REGION</td>\n",
       "      <td>Arterial Other</td>\n",
       "      <td>Metro</td>\n",
       "      <td>0.0</td>\n",
       "      <td>12.8</td>\n",
       "    </tr>\n",
       "    <tr>\n",
       "      <th>6</th>\n",
       "      <td>T20140013781</td>\n",
       "      <td>Driving accident</td>\n",
       "      <td>Finished</td>\n",
       "      <td>2014/07/04</td>\n",
       "      <td>18:45:00</td>\n",
       "      <td>Yes</td>\n",
       "      <td>Collision with vehicle</td>\n",
       "      <td>Friday</td>\n",
       "      <td>REAR END(VEHICLES IN SAME LANE)</td>\n",
       "      <td>No</td>\n",
       "      <td>...</td>\n",
       "      <td>0.0</td>\n",
       "      <td>0.0</td>\n",
       "      <td>MELB_URBAN</td>\n",
       "      <td>MELB_URBAN</td>\n",
       "      <td>MELBOURNE</td>\n",
       "      <td>METROPOLITAN NORTH WEST REGION</td>\n",
       "      <td>Freeway</td>\n",
       "      <td>Metro</td>\n",
       "      <td>0.0</td>\n",
       "      <td>12.8</td>\n",
       "    </tr>\n",
       "    <tr>\n",
       "      <th>9</th>\n",
       "      <td>T20140013895</td>\n",
       "      <td>Driving accident</td>\n",
       "      <td>Finished</td>\n",
       "      <td>2014/07/06</td>\n",
       "      <td>11:38:00</td>\n",
       "      <td>No</td>\n",
       "      <td>Collision with vehicle</td>\n",
       "      <td>Sunday</td>\n",
       "      <td>REAR END(VEHICLES IN SAME LANE)</td>\n",
       "      <td>No</td>\n",
       "      <td>...</td>\n",
       "      <td>0.0</td>\n",
       "      <td>0.0</td>\n",
       "      <td>MELB_URBAN</td>\n",
       "      <td>MELB_URBAN</td>\n",
       "      <td>MELBOURNE</td>\n",
       "      <td>METROPOLITAN NORTH WEST REGION</td>\n",
       "      <td>Freeway</td>\n",
       "      <td>Metro</td>\n",
       "      <td>0.2</td>\n",
       "      <td>13.8</td>\n",
       "    </tr>\n",
       "    <tr>\n",
       "      <th>12</th>\n",
       "      <td>T20140014421</td>\n",
       "      <td>Driving accident</td>\n",
       "      <td>Finished</td>\n",
       "      <td>2014/07/12</td>\n",
       "      <td>12:59:00</td>\n",
       "      <td>No</td>\n",
       "      <td>Collision with vehicle</td>\n",
       "      <td>Saturday</td>\n",
       "      <td>REAR END(VEHICLES IN SAME LANE)</td>\n",
       "      <td>No</td>\n",
       "      <td>...</td>\n",
       "      <td>0.0</td>\n",
       "      <td>0.0</td>\n",
       "      <td>MELB_URBAN</td>\n",
       "      <td>MELB_URBAN</td>\n",
       "      <td>MELBOURNE</td>\n",
       "      <td>METROPOLITAN NORTH WEST REGION</td>\n",
       "      <td>Freeway</td>\n",
       "      <td>Metro</td>\n",
       "      <td>4.4</td>\n",
       "      <td>10.4</td>\n",
       "    </tr>\n",
       "  </tbody>\n",
       "</table>\n",
       "<p>5 rows × 54 columns</p>\n",
       "</div>"
      ],
      "text/plain": [
       "     ACCIDENT_NO          ABS_CODE ACCIDENT_STATUS        Date ACCIDENT_TIME  \\\n",
       "0   T20140013533  Driving accident      Unfinished  2014/07/01      18:05:00   \n",
       "4   T20140013792  Driving accident        Finished  2014/07/04      23:13:00   \n",
       "6   T20140013781  Driving accident        Finished  2014/07/04      18:45:00   \n",
       "9   T20140013895  Driving accident        Finished  2014/07/06      11:38:00   \n",
       "12  T20140014421  Driving accident        Finished  2014/07/12      12:59:00   \n",
       "\n",
       "   ALCOHOLTIME           ACCIDENT_TYPE DAY_OF_WEEK  \\\n",
       "0          Yes  Collision with vehicle      Monday   \n",
       "4          Yes  Collision with vehicle    Thursday   \n",
       "6          Yes  Collision with vehicle      Friday   \n",
       "9           No  Collision with vehicle      Sunday   \n",
       "12          No  Collision with vehicle    Saturday   \n",
       "\n",
       "                           DCA_CODE HIT_RUN_FLAG  ... MOTORCYCLE  \\\n",
       "0   REAR END(VEHICLES IN SAME LANE)           No  ...        0.0   \n",
       "4                     RIGHT THROUGH           No  ...        1.0   \n",
       "6   REAR END(VEHICLES IN SAME LANE)           No  ...        0.0   \n",
       "9   REAR END(VEHICLES IN SAME LANE)           No  ...        0.0   \n",
       "12  REAR END(VEHICLES IN SAME LANE)           No  ...        0.0   \n",
       "\n",
       "   PUBLICVEHICLE DEG_URBAN_NAME  DEG_URBAN_ALL LGA_NAME_ALL  \\\n",
       "0            0.0     MELB_URBAN     MELB_URBAN    MELBOURNE   \n",
       "4            0.0  MELBOURNE_CBD  MELBOURNE_CBD    MELBOURNE   \n",
       "6            0.0     MELB_URBAN     MELB_URBAN    MELBOURNE   \n",
       "9            0.0     MELB_URBAN     MELB_URBAN    MELBOURNE   \n",
       "12           0.0     MELB_URBAN     MELB_URBAN    MELBOURNE   \n",
       "\n",
       "                   REGION_NAME_ALL             RMA  STAT_DIV_NAME  \\\n",
       "0   METROPOLITAN NORTH WEST REGION         Freeway          Metro   \n",
       "4   METROPOLITAN NORTH WEST REGION  Arterial Other          Metro   \n",
       "6   METROPOLITAN NORTH WEST REGION         Freeway          Metro   \n",
       "9   METROPOLITAN NORTH WEST REGION         Freeway          Metro   \n",
       "12  METROPOLITAN NORTH WEST REGION         Freeway          Metro   \n",
       "\n",
       "   Rainfall amount (millimetres) Maximum temperature (Degree C)  \n",
       "0                            0.4                           13.3  \n",
       "4                            0.0                           12.8  \n",
       "6                            0.0                           12.8  \n",
       "9                            0.2                           13.8  \n",
       "12                           4.4                           10.4  \n",
       "\n",
       "[5 rows x 54 columns]"
      ]
     },
     "execution_count": 111,
     "metadata": {},
     "output_type": "execute_result"
    }
   ],
   "source": [
    "# Create new dataframe for melbourne_data that only contains freeways/arterials\n",
    "#melbourne_data[\"RMA\"].unique()\n",
    "melbourne_main_roads=melbourne_data.loc[((melbourne_data[\"RMA\"]==\"Freeway\") | \n",
    "                                         (melbourne_data[\"RMA\"]==\"Arterial Highway\") | \n",
    "                                         (melbourne_data[\"RMA\"]==\"Arterial Other\"))]\n",
    "melbourne_main_roads.head()"
   ]
  },
  {
   "cell_type": "code",
   "execution_count": 112,
   "id": "47cf51d3",
   "metadata": {},
   "outputs": [
    {
     "data": {
      "text/plain": [
       "array(['Freeway', 'Arterial Other', 'Arterial Highway'], dtype=object)"
      ]
     },
     "execution_count": 112,
     "metadata": {},
     "output_type": "execute_result"
    }
   ],
   "source": [
    "# Double check only the main roads (arterials or freeways) returned\n",
    "melbourne_main_roads[\"RMA\"].unique()"
   ]
  },
  {
   "cell_type": "code",
   "execution_count": 113,
   "id": "7e1267bb",
   "metadata": {},
   "outputs": [],
   "source": [
    "# Group data by the accident date to find daily values.\n",
    "grouped_melbourne_main_roads_df = melbourne_main_roads.groupby([\"Date\"])\n",
    "\n",
    "# Assign data to axis: x_axis is daily accident count, y_axis is rainfall (mean used but all rainfall data \n",
    "# values same for the same date).\n",
    "y_axis = grouped_melbourne_main_roads_df[\"ACCIDENT_NO\"].count()\n",
    "x_axis = grouped_melbourne_main_roads_df[\"Rainfall amount (millimetres)\"].mean().reset_index()"
   ]
  },
  {
   "cell_type": "code",
   "execution_count": 114,
   "id": "a8851f9c",
   "metadata": {},
   "outputs": [
    {
     "data": {
      "image/png": "[encoded data removed]",
      "text/plain": [
       "<Figure size 432x288 with 1 Axes>"
      ]
     },
     "metadata": {
      "needs_background": "light"
     },
     "output_type": "display_data"
    }
   ],
   "source": [
    "# Undertake the linear regression and plot using matplotlib\n",
    "(slope, intercept, rvalue, pvalue, stderr) = linregress(x_axis[\"Rainfall amount (millimetres)\"], y_axis)\n",
    "regress_values = x_axis[\"Rainfall amount (millimetres)\"] * slope + intercept\n",
    "\n",
    "line_eq = \"y = \" + str(round(slope,2)) + \"x + \" + str(round(intercept,2))\n",
    "r2_value = \"r squared value= \" + str(round((rvalue**2),3))\n",
    "\n",
    "# Use matplotlib to create a scatter plot\n",
    "plt.scatter(x_axis[\"Rainfall amount (millimetres)\"], y_axis, marker=\"o\", facecolors=\"blue\", edgecolors=\"blue\", alpha=0.5)\n",
    "plt.plot(x_axis[\"Rainfall amount (millimetres)\"],regress_values,\"r-\")\n",
    "plt.annotate(line_eq,(25,6.5),fontsize=10,color=\"red\")\n",
    "plt.annotate(r2_value,(25,6),fontsize=10,color=\"red\")\n",
    "plt.title(\"Relationship Between Rainfall and Road Accident Count (Main Arterials/Freeways) (Melbourne LGA)\")\n",
    "plt.xlabel(\"Daily Rainfall (mm)\")\n",
    "plt.ylabel(\"Daily Road Accident Count\")\n",
    "\n",
    "# Save the figure\n",
    "plt.savefig(os.path.join(\"figures\",f\"Melb_Rainfall_vs_Accident_Count_Arterials_Freeways.png\"))"
   ]
  },
  {
   "cell_type": "code",
   "execution_count": 115,
   "id": "2cc6199f",
   "metadata": {},
   "outputs": [
    {
     "name": "stdout",
     "output_type": "stream",
     "text": [
      "The correlation between daily rainfall and daily road accident count for arterials/freeways in Melbourne LGA is 0.04\n"
     ]
    }
   ],
   "source": [
    "# Calculating the correlation coefficient for daily rainfall and daily road accident count\n",
    "correlation = st.pearsonr(x_axis[\"Rainfall amount (millimetres)\"], y_axis)\n",
    "print(f\"The correlation between daily rainfall and daily road accident count for arterials/freeways in Melbourne LGA is {round(correlation[0],2)}\")\n",
    "\n",
    "# Outcome: correlation=0.04 means there is no correlation i.e daily rainfall has no impact \n",
    "# on daily road accident frequency. Therefore confirming the Null Hypothesis."
   ]
  },
  {
   "cell_type": "markdown",
   "id": "8045fe0b",
   "metadata": {},
   "source": [
    "#### (2a) Road accident severity (all roads, as fatality count) against rainfall (Melbourne LGA)"
   ]
  },
  {
   "cell_type": "code",
   "execution_count": 116,
   "id": "905605b9",
   "metadata": {},
   "outputs": [],
   "source": [
    "# Group data by the accident date to find daily values.\n",
    "grouped_melbourne_df = melbourne_data.groupby([\"Date\"])\n",
    "\n",
    "# Assign data to axis: x_axis is fatality sum, y_axis is rainfall (mean used but all rainfall data \n",
    "# values same for the same date).\n",
    "y_axis = grouped_melbourne_df[\"FATALITY\"].sum()\n",
    "x_axis = grouped_melbourne_df[\"Rainfall amount (millimetres)\"].mean().reset_index()"
   ]
  },
  {
   "cell_type": "code",
   "execution_count": 117,
   "id": "9ac3646f",
   "metadata": {},
   "outputs": [
    {
     "data": {
      "image/png": "[encoded data removed]",
      "text/plain": [
       "<Figure size 432x288 with 1 Axes>"
      ]
     },
     "metadata": {
      "needs_background": "light"
     },
     "output_type": "display_data"
    }
   ],
   "source": [
    "# Undertake the linear regression and plot using matplotlib\n",
    "(slope, intercept, rvalue, pvalue, stderr) = linregress(x_axis[\"Rainfall amount (millimetres)\"], y_axis)\n",
    "regress_values = x_axis[\"Rainfall amount (millimetres)\"] * slope + intercept\n",
    "\n",
    "line_eq = \"y = \" + str(round(slope,2)) + \"x + \" + str(round(intercept,2))\n",
    "r2_value = \"r squared value= \" + str(round((rvalue**2),3))\n",
    "\n",
    "# Use matplotlib to create a scatter plot\n",
    "plt.scatter(x_axis[\"Rainfall amount (millimetres)\"], y_axis, marker=\"o\", facecolors=\"blue\", edgecolors=\"blue\", alpha=0.5)\n",
    "plt.plot(x_axis[\"Rainfall amount (millimetres)\"],regress_values,\"r-\")\n",
    "plt.annotate(line_eq,(25,1.75),fontsize=10,color=\"red\")\n",
    "plt.annotate(r2_value,(25,1.50),fontsize=10,color=\"red\")\n",
    "plt.title(\"Relationship Between Rainfall and Fatality Count (Melbourne LGA)\")\n",
    "plt.xlabel(\"Daily Rainfall (mm)\")\n",
    "plt.ylabel(\"Daily Fatality Count\")\n",
    "\n",
    "# Save the figure\n",
    "plt.savefig(os.path.join(\"figures\",f\"Melb_Rainfall_vs_Fatality_Count.png\"))"
   ]
  },
  {
   "cell_type": "code",
   "execution_count": 118,
   "id": "45081834",
   "metadata": {},
   "outputs": [
    {
     "name": "stdout",
     "output_type": "stream",
     "text": [
      "The correlation between daily rainfall and daily fatality count for all roads in Melbourne LGA is -0.03\n"
     ]
    }
   ],
   "source": [
    "# Calculating the correlation coefficient for daily rainfall and daily fatality count\n",
    "correlation = st.pearsonr(x_axis[\"Rainfall amount (millimetres)\"], y_axis)\n",
    "print(f\"The correlation between daily rainfall and daily fatality count for all roads in Melbourne LGA is {round(correlation[0],2)}\")\n",
    "\n",
    "# Outcome: correlation=-0.03 means there is no correlation i.e daily rainfall does not appear to \n",
    "# increase the likelihood of fatalities in road accidents (all roads) in Melbourne LGA. \n",
    "# Therefore confirming the Null Hypothesis."
   ]
  },
  {
   "cell_type": "markdown",
   "id": "3d2807e7",
   "metadata": {},
   "source": [
    "#### (2b) Road accident severity (only freeways/arterials,as fatality count) against rainfall (Melbourne LGA)"
   ]
  },
  {
   "cell_type": "code",
   "execution_count": 119,
   "id": "d8f6a13e",
   "metadata": {},
   "outputs": [],
   "source": [
    "# Group data by the accident date to find daily values.\n",
    "grouped_melbourne_main_roads_df = melbourne_main_roads.groupby([\"Date\"])\n",
    "\n",
    "# Assign data to axis: x_axis is fatality sum, y_axis is rainfall (mean used but all rainfall data \n",
    "# values same for the same date).\n",
    "y_axis = grouped_melbourne_main_roads_df[\"FATALITY\"].sum()\n",
    "x_axis = grouped_melbourne_main_roads_df[\"Rainfall amount (millimetres)\"].mean().reset_index()"
   ]
  },
  {
   "cell_type": "code",
   "execution_count": 120,
   "id": "39326099",
   "metadata": {},
   "outputs": [
    {
     "data": {
      "image/png": "[encoded data removed]",
      "text/plain": [
       "<Figure size 432x288 with 1 Axes>"
      ]
     },
     "metadata": {
      "needs_background": "light"
     },
     "output_type": "display_data"
    }
   ],
   "source": [
    "# Undertake the linear regression and plot using matplotlib\n",
    "(slope, intercept, rvalue, pvalue, stderr) = linregress(x_axis[\"Rainfall amount (millimetres)\"], y_axis)\n",
    "regress_values = x_axis[\"Rainfall amount (millimetres)\"] * slope + intercept\n",
    "\n",
    "line_eq = \"y = \" + str(round(slope,2)) + \"x + \" + str(round(intercept,2))\n",
    "r2_value = \"r squared value= \" + str(round((rvalue**2),3))\n",
    "\n",
    "# Use matplotlib to create a scatter plot\n",
    "plt.scatter(x_axis[\"Rainfall amount (millimetres)\"], y_axis, marker=\"o\", facecolors=\"blue\", edgecolors=\"blue\", alpha=0.5)\n",
    "plt.plot(x_axis[\"Rainfall amount (millimetres)\"],regress_values,\"r-\")\n",
    "plt.annotate(line_eq,(25,1.75),fontsize=10,color=\"red\")\n",
    "plt.annotate(r2_value,(25,1.50),fontsize=10,color=\"red\")\n",
    "plt.title(\"Relationship Between Rainfall and Fatality Count (Arterials/Freeways)(Melbourne LGA)\")\n",
    "plt.xlabel(\"Daily Rainfall (mm)\")\n",
    "plt.ylabel(\"Daily Fatality Count\")\n",
    "\n",
    "# Save the figure\n",
    "plt.savefig(os.path.join(\"figures\",f\"Melb_Rainfall_vs_Fatality_Count_Arterials_Freeways.png\"))"
   ]
  },
  {
   "cell_type": "code",
   "execution_count": 122,
   "id": "ff14a0cd",
   "metadata": {},
   "outputs": [
    {
     "name": "stdout",
     "output_type": "stream",
     "text": [
      "The correlation between daily rainfall and daily fatality count for arterials/freeways in Melbourne LGA is -0.02\n"
     ]
    }
   ],
   "source": [
    "# Calculating the correlation coefficient for daily rainfall and daily fatality count\n",
    "correlation = st.pearsonr(x_axis[\"Rainfall amount (millimetres)\"], y_axis)\n",
    "print(f\"The correlation between daily rainfall and daily fatality count for arterials/freeways in Melbourne LGA is {round(correlation[0],2)}\")\n",
    "\n",
    "# Outcome: correlation=-0.02 means there is no correlation i.e daily rainfall does not appear to \n",
    "# increase the likelihood of fatalities in road accidents in Melbourne. \n",
    "# Therefore confirming the Null Hypothesis."
   ]
  },
  {
   "cell_type": "markdown",
   "id": "27a485d0",
   "metadata": {},
   "source": [
    "### Road accident frequency/severity increases with rainfall (Hume LGA)"
   ]
  },
  {
   "cell_type": "code",
   "execution_count": 123,
   "id": "c9ff349e",
   "metadata": {},
   "outputs": [
    {
     "data": {
      "text/html": [
       "<div>\n",
       "<style scoped>\n",
       "    .dataframe tbody tr th:only-of-type {\n",
       "        vertical-align: middle;\n",
       "    }\n",
       "\n",
       "    .dataframe tbody tr th {\n",
       "        vertical-align: top;\n",
       "    }\n",
       "\n",
       "    .dataframe thead th {\n",
       "        text-align: right;\n",
       "    }\n",
       "</style>\n",
       "<table border=\"1\" class=\"dataframe\">\n",
       "  <thead>\n",
       "    <tr style=\"text-align: right;\">\n",
       "      <th></th>\n",
       "      <th>ACCIDENT_NO</th>\n",
       "      <th>ABS_CODE</th>\n",
       "      <th>ACCIDENT_STATUS</th>\n",
       "      <th>Date</th>\n",
       "      <th>ACCIDENT_TIME</th>\n",
       "      <th>ALCOHOLTIME</th>\n",
       "      <th>ACCIDENT_TYPE</th>\n",
       "      <th>DAY_OF_WEEK</th>\n",
       "      <th>DCA_CODE</th>\n",
       "      <th>HIT_RUN_FLAG</th>\n",
       "      <th>...</th>\n",
       "      <th>MOTORCYCLE</th>\n",
       "      <th>PUBLICVEHICLE</th>\n",
       "      <th>DEG_URBAN_NAME</th>\n",
       "      <th>DEG_URBAN_ALL</th>\n",
       "      <th>LGA_NAME_ALL</th>\n",
       "      <th>REGION_NAME_ALL</th>\n",
       "      <th>RMA</th>\n",
       "      <th>STAT_DIV_NAME</th>\n",
       "      <th>Rainfall amount (millimetres)</th>\n",
       "      <th>Maximum temperature (Degree C)</th>\n",
       "    </tr>\n",
       "  </thead>\n",
       "  <tbody>\n",
       "    <tr>\n",
       "      <th>0</th>\n",
       "      <td>T20140013978</td>\n",
       "      <td>Driving accident</td>\n",
       "      <td>Finished</td>\n",
       "      <td>2014/07/07</td>\n",
       "      <td>17:45:00</td>\n",
       "      <td>No</td>\n",
       "      <td>Struck Pedestrian</td>\n",
       "      <td>Monday</td>\n",
       "      <td>PED ON FOOTHPATH STRUCK BY VEHENTERING/LEAVING...</td>\n",
       "      <td>No</td>\n",
       "      <td>...</td>\n",
       "      <td>0.0</td>\n",
       "      <td>0.0</td>\n",
       "      <td>MELB_URBAN</td>\n",
       "      <td>MELB_URBAN</td>\n",
       "      <td>HUME</td>\n",
       "      <td>METROPOLITAN NORTH WEST REGION</td>\n",
       "      <td>Local Road</td>\n",
       "      <td>Metro</td>\n",
       "      <td>0.2</td>\n",
       "      <td>15.3</td>\n",
       "    </tr>\n",
       "    <tr>\n",
       "      <th>1</th>\n",
       "      <td>T20140013706</td>\n",
       "      <td>Driving accident</td>\n",
       "      <td>Finished</td>\n",
       "      <td>2014/07/03</td>\n",
       "      <td>15:50:00</td>\n",
       "      <td>No</td>\n",
       "      <td>Collision with vehicle</td>\n",
       "      <td>Thursday</td>\n",
       "      <td>REAR END(VEHICLES IN SAME LANE)</td>\n",
       "      <td>No</td>\n",
       "      <td>...</td>\n",
       "      <td>1.0</td>\n",
       "      <td>0.0</td>\n",
       "      <td>MELB_URBAN</td>\n",
       "      <td>MELB_URBAN</td>\n",
       "      <td>HUME</td>\n",
       "      <td>METROPOLITAN NORTH WEST REGION</td>\n",
       "      <td>Local Road</td>\n",
       "      <td>Metro</td>\n",
       "      <td>0.0</td>\n",
       "      <td>11.7</td>\n",
       "    </tr>\n",
       "    <tr>\n",
       "      <th>2</th>\n",
       "      <td>T20140014503</td>\n",
       "      <td>Driving accident</td>\n",
       "      <td>Finished</td>\n",
       "      <td>2014/07/14</td>\n",
       "      <td>13:27:00</td>\n",
       "      <td>No</td>\n",
       "      <td>Collision with vehicle</td>\n",
       "      <td>Monday</td>\n",
       "      <td>LANE CHANGE LEFT (NOT OVERTAKING)</td>\n",
       "      <td>No</td>\n",
       "      <td>...</td>\n",
       "      <td>0.0</td>\n",
       "      <td>0.0</td>\n",
       "      <td>MELB_URBAN</td>\n",
       "      <td>MELB_URBAN</td>\n",
       "      <td>HUME</td>\n",
       "      <td>METROPOLITAN NORTH WEST REGION</td>\n",
       "      <td>Freeway</td>\n",
       "      <td>Metro</td>\n",
       "      <td>0.4</td>\n",
       "      <td>12.4</td>\n",
       "    </tr>\n",
       "    <tr>\n",
       "      <th>3</th>\n",
       "      <td>T20140014709</td>\n",
       "      <td>Driving accident</td>\n",
       "      <td>Finished</td>\n",
       "      <td>2014/07/16</td>\n",
       "      <td>13:30:00</td>\n",
       "      <td>No</td>\n",
       "      <td>No collision and no object struck</td>\n",
       "      <td>Wednesday</td>\n",
       "      <td>OUT OF CONTROL ON CARRIAGEWAY (ON STRAIGHT)</td>\n",
       "      <td>No</td>\n",
       "      <td>...</td>\n",
       "      <td>1.0</td>\n",
       "      <td>0.0</td>\n",
       "      <td>RURAL_VICTORIA</td>\n",
       "      <td>RURAL_VICTORIA</td>\n",
       "      <td>HUME</td>\n",
       "      <td>METROPOLITAN NORTH WEST REGION</td>\n",
       "      <td>Local Road</td>\n",
       "      <td>Metro</td>\n",
       "      <td>0.4</td>\n",
       "      <td>13.8</td>\n",
       "    </tr>\n",
       "    <tr>\n",
       "      <th>4</th>\n",
       "      <td>T20140014809</td>\n",
       "      <td>Driving accident</td>\n",
       "      <td>Finished</td>\n",
       "      <td>2014/07/17</td>\n",
       "      <td>20:40:00</td>\n",
       "      <td>Yes</td>\n",
       "      <td>No collision and no object struck</td>\n",
       "      <td>Thursday</td>\n",
       "      <td>OFF CARRIAGEWAY TO LEFT</td>\n",
       "      <td>No</td>\n",
       "      <td>...</td>\n",
       "      <td>0.0</td>\n",
       "      <td>0.0</td>\n",
       "      <td>MELB_URBAN</td>\n",
       "      <td>MELB_URBAN</td>\n",
       "      <td>HUME</td>\n",
       "      <td>METROPOLITAN NORTH WEST REGION</td>\n",
       "      <td>Arterial Other</td>\n",
       "      <td>Metro</td>\n",
       "      <td>0.0</td>\n",
       "      <td>11.7</td>\n",
       "    </tr>\n",
       "  </tbody>\n",
       "</table>\n",
       "<p>5 rows × 54 columns</p>\n",
       "</div>"
      ],
      "text/plain": [
       "    ACCIDENT_NO          ABS_CODE ACCIDENT_STATUS        Date ACCIDENT_TIME  \\\n",
       "0  T20140013978  Driving accident        Finished  2014/07/07      17:45:00   \n",
       "1  T20140013706  Driving accident        Finished  2014/07/03      15:50:00   \n",
       "2  T20140014503  Driving accident        Finished  2014/07/14      13:27:00   \n",
       "3  T20140014709  Driving accident        Finished  2014/07/16      13:30:00   \n",
       "4  T20140014809  Driving accident        Finished  2014/07/17      20:40:00   \n",
       "\n",
       "  ALCOHOLTIME                      ACCIDENT_TYPE DAY_OF_WEEK  \\\n",
       "0          No                  Struck Pedestrian      Monday   \n",
       "1          No             Collision with vehicle    Thursday   \n",
       "2          No             Collision with vehicle      Monday   \n",
       "3          No  No collision and no object struck   Wednesday   \n",
       "4         Yes  No collision and no object struck    Thursday   \n",
       "\n",
       "                                            DCA_CODE HIT_RUN_FLAG  ...  \\\n",
       "0  PED ON FOOTHPATH STRUCK BY VEHENTERING/LEAVING...           No  ...   \n",
       "1                    REAR END(VEHICLES IN SAME LANE)           No  ...   \n",
       "2                  LANE CHANGE LEFT (NOT OVERTAKING)           No  ...   \n",
       "3        OUT OF CONTROL ON CARRIAGEWAY (ON STRAIGHT)           No  ...   \n",
       "4                            OFF CARRIAGEWAY TO LEFT           No  ...   \n",
       "\n",
       "  MOTORCYCLE PUBLICVEHICLE  DEG_URBAN_NAME   DEG_URBAN_ALL LGA_NAME_ALL  \\\n",
       "0        0.0           0.0      MELB_URBAN      MELB_URBAN         HUME   \n",
       "1        1.0           0.0      MELB_URBAN      MELB_URBAN         HUME   \n",
       "2        0.0           0.0      MELB_URBAN      MELB_URBAN         HUME   \n",
       "3        1.0           0.0  RURAL_VICTORIA  RURAL_VICTORIA         HUME   \n",
       "4        0.0           0.0      MELB_URBAN      MELB_URBAN         HUME   \n",
       "\n",
       "                  REGION_NAME_ALL             RMA  STAT_DIV_NAME  \\\n",
       "0  METROPOLITAN NORTH WEST REGION      Local Road          Metro   \n",
       "1  METROPOLITAN NORTH WEST REGION      Local Road          Metro   \n",
       "2  METROPOLITAN NORTH WEST REGION         Freeway          Metro   \n",
       "3  METROPOLITAN NORTH WEST REGION      Local Road          Metro   \n",
       "4  METROPOLITAN NORTH WEST REGION  Arterial Other          Metro   \n",
       "\n",
       "  Rainfall amount (millimetres) Maximum temperature (Degree C)  \n",
       "0                           0.2                           15.3  \n",
       "1                           0.0                           11.7  \n",
       "2                           0.4                           12.4  \n",
       "3                           0.4                           13.8  \n",
       "4                           0.0                           11.7  \n",
       "\n",
       "[5 rows x 54 columns]"
      ]
     },
     "execution_count": 123,
     "metadata": {},
     "output_type": "execute_result"
    }
   ],
   "source": [
    "# Import cleaned Hume crash + weather data\n",
    "hume_data_path = \"cleaned_data/merged_hume_data.csv\"\n",
    "hume_data = pd.read_csv(hume_data_path)\n",
    "hume_data.head()"
   ]
  },
  {
   "cell_type": "markdown",
   "id": "8bf2ed73",
   "metadata": {},
   "source": [
    "#### (1a) Road accident (all roads) frequency against rainfall (Hume LGA)"
   ]
  },
  {
   "cell_type": "code",
   "execution_count": 124,
   "id": "ff93060f",
   "metadata": {},
   "outputs": [],
   "source": [
    "# Group data by the accident date to find daily values.\n",
    "grouped_hume_df = hume_data.groupby([\"Date\"])\n",
    "\n",
    "# Assign data to axis: x_axis is daily accident count, y_axis is rainfall (mean used but all rainfall data \n",
    "# values same for the same date).\n",
    "y_axis = grouped_hume_df[\"ACCIDENT_NO\"].count()\n",
    "x_axis = grouped_hume_df[\"Rainfall amount (millimetres)\"].mean().reset_index()"
   ]
  },
  {
   "cell_type": "code",
   "execution_count": 125,
   "id": "92b089be",
   "metadata": {},
   "outputs": [
    {
     "data": {
      "image/png": "[encoded data removed]",
      "text/plain": [
       "<Figure size 432x288 with 1 Axes>"
      ]
     },
     "metadata": {
      "needs_background": "light"
     },
     "output_type": "display_data"
    }
   ],
   "source": [
    "# Undertake the linear regression and plot using matplotlib\n",
    "(slope, intercept, rvalue, pvalue, stderr) = linregress(x_axis[\"Rainfall amount (millimetres)\"], y_axis)\n",
    "regress_values = x_axis[\"Rainfall amount (millimetres)\"] * slope + intercept\n",
    "\n",
    "line_eq = \"y = \" + str(round(slope,2)) + \"x + \" + str(round(intercept,2))\n",
    "r2_value = \"r squared value= \" + str(round((rvalue**2),3))\n",
    "\n",
    "# Use matplotlib to create a scatter plot\n",
    "plt.scatter(x_axis[\"Rainfall amount (millimetres)\"], y_axis, marker=\"o\", facecolors=\"blue\", edgecolors=\"blue\", alpha=0.5)\n",
    "plt.plot(x_axis[\"Rainfall amount (millimetres)\"],regress_values,\"r-\")\n",
    "plt.annotate(line_eq,(40,6.5),fontsize=10,color=\"red\")\n",
    "plt.annotate(r2_value,(40,6),fontsize=10,color=\"red\")\n",
    "plt.title(\"Relationship Between Rainfall and Road Accident Count (Hume LGA)\")\n",
    "plt.xlabel(\"Daily Rainfall (mm)\")\n",
    "plt.ylabel(\"Daily Road Accident Count\")\n",
    "\n",
    "# Save the figure\n",
    "plt.savefig(os.path.join(\"figures\",f\"Hume_Rainfall_vs_Accident_Count.png\"))"
   ]
  },
  {
   "cell_type": "code",
   "execution_count": 126,
   "id": "bc80dbfb",
   "metadata": {},
   "outputs": [
    {
     "name": "stdout",
     "output_type": "stream",
     "text": [
      "The correlation between daily rainfall and daily road accident count for all roads in Hume LGA is 0.03\n"
     ]
    }
   ],
   "source": [
    "# Calculating the correlation coefficient for daily rainfall and daily road accident count\n",
    "correlation = st.pearsonr(x_axis[\"Rainfall amount (millimetres)\"], y_axis)\n",
    "print(f\"The correlation between daily rainfall and daily road accident count for all roads in Hume LGA is {round(correlation[0],2)}\")\n",
    "\n",
    "# Outcome: correlation=0.03 means there is no correlation i.e daily rainfall has no impact \n",
    "# on daily road accident frequency. Therefore confirming the Null Hypothesis."
   ]
  },
  {
   "cell_type": "markdown",
   "id": "9b6178ea",
   "metadata": {},
   "source": [
    "#### (1b) Road accident (only freeways/arterials) frequency against rainfall (Hume LGA)"
   ]
  },
  {
   "cell_type": "code",
   "execution_count": 127,
   "id": "2e1d1bd0",
   "metadata": {},
   "outputs": [
    {
     "data": {
      "text/html": [
       "<div>\n",
       "<style scoped>\n",
       "    .dataframe tbody tr th:only-of-type {\n",
       "        vertical-align: middle;\n",
       "    }\n",
       "\n",
       "    .dataframe tbody tr th {\n",
       "        vertical-align: top;\n",
       "    }\n",
       "\n",
       "    .dataframe thead th {\n",
       "        text-align: right;\n",
       "    }\n",
       "</style>\n",
       "<table border=\"1\" class=\"dataframe\">\n",
       "  <thead>\n",
       "    <tr style=\"text-align: right;\">\n",
       "      <th></th>\n",
       "      <th>ACCIDENT_NO</th>\n",
       "      <th>ABS_CODE</th>\n",
       "      <th>ACCIDENT_STATUS</th>\n",
       "      <th>Date</th>\n",
       "      <th>ACCIDENT_TIME</th>\n",
       "      <th>ALCOHOLTIME</th>\n",
       "      <th>ACCIDENT_TYPE</th>\n",
       "      <th>DAY_OF_WEEK</th>\n",
       "      <th>DCA_CODE</th>\n",
       "      <th>HIT_RUN_FLAG</th>\n",
       "      <th>...</th>\n",
       "      <th>MOTORCYCLE</th>\n",
       "      <th>PUBLICVEHICLE</th>\n",
       "      <th>DEG_URBAN_NAME</th>\n",
       "      <th>DEG_URBAN_ALL</th>\n",
       "      <th>LGA_NAME_ALL</th>\n",
       "      <th>REGION_NAME_ALL</th>\n",
       "      <th>RMA</th>\n",
       "      <th>STAT_DIV_NAME</th>\n",
       "      <th>Rainfall amount (millimetres)</th>\n",
       "      <th>Maximum temperature (Degree C)</th>\n",
       "    </tr>\n",
       "  </thead>\n",
       "  <tbody>\n",
       "    <tr>\n",
       "      <th>2</th>\n",
       "      <td>T20140014503</td>\n",
       "      <td>Driving accident</td>\n",
       "      <td>Finished</td>\n",
       "      <td>2014/07/14</td>\n",
       "      <td>13:27:00</td>\n",
       "      <td>No</td>\n",
       "      <td>Collision with vehicle</td>\n",
       "      <td>Monday</td>\n",
       "      <td>LANE CHANGE LEFT (NOT OVERTAKING)</td>\n",
       "      <td>No</td>\n",
       "      <td>...</td>\n",
       "      <td>0.0</td>\n",
       "      <td>0.0</td>\n",
       "      <td>MELB_URBAN</td>\n",
       "      <td>MELB_URBAN</td>\n",
       "      <td>HUME</td>\n",
       "      <td>METROPOLITAN NORTH WEST REGION</td>\n",
       "      <td>Freeway</td>\n",
       "      <td>Metro</td>\n",
       "      <td>0.4</td>\n",
       "      <td>12.4</td>\n",
       "    </tr>\n",
       "    <tr>\n",
       "      <th>4</th>\n",
       "      <td>T20140014809</td>\n",
       "      <td>Driving accident</td>\n",
       "      <td>Finished</td>\n",
       "      <td>2014/07/17</td>\n",
       "      <td>20:40:00</td>\n",
       "      <td>Yes</td>\n",
       "      <td>No collision and no object struck</td>\n",
       "      <td>Thursday</td>\n",
       "      <td>OFF CARRIAGEWAY TO LEFT</td>\n",
       "      <td>No</td>\n",
       "      <td>...</td>\n",
       "      <td>0.0</td>\n",
       "      <td>0.0</td>\n",
       "      <td>MELB_URBAN</td>\n",
       "      <td>MELB_URBAN</td>\n",
       "      <td>HUME</td>\n",
       "      <td>METROPOLITAN NORTH WEST REGION</td>\n",
       "      <td>Arterial Other</td>\n",
       "      <td>Metro</td>\n",
       "      <td>0.0</td>\n",
       "      <td>11.7</td>\n",
       "    </tr>\n",
       "    <tr>\n",
       "      <th>8</th>\n",
       "      <td>T20140015079</td>\n",
       "      <td>Driving accident</td>\n",
       "      <td>Finished</td>\n",
       "      <td>2014/07/22</td>\n",
       "      <td>09:15:00</td>\n",
       "      <td>No</td>\n",
       "      <td>Collision with vehicle</td>\n",
       "      <td>Tuesday</td>\n",
       "      <td>VEHICLE OFF FOOTPATH STRIKES VEH ON CARRIAGEWAY</td>\n",
       "      <td>No</td>\n",
       "      <td>...</td>\n",
       "      <td>0.0</td>\n",
       "      <td>0.0</td>\n",
       "      <td>SMALL_CITIES</td>\n",
       "      <td>SMALL_CITIES</td>\n",
       "      <td>HUME</td>\n",
       "      <td>METROPOLITAN NORTH WEST REGION</td>\n",
       "      <td>Arterial Other</td>\n",
       "      <td>Metro</td>\n",
       "      <td>0.0</td>\n",
       "      <td>10.1</td>\n",
       "    </tr>\n",
       "    <tr>\n",
       "      <th>10</th>\n",
       "      <td>T20140015349</td>\n",
       "      <td>Driving accident</td>\n",
       "      <td>Finished</td>\n",
       "      <td>2014/07/25</td>\n",
       "      <td>17:00:00</td>\n",
       "      <td>Yes</td>\n",
       "      <td>Collision with vehicle</td>\n",
       "      <td>Friday</td>\n",
       "      <td>RIGHT THROUGH</td>\n",
       "      <td>No</td>\n",
       "      <td>...</td>\n",
       "      <td>0.0</td>\n",
       "      <td>0.0</td>\n",
       "      <td>RURAL_VICTORIA</td>\n",
       "      <td>RURAL_VICTORIA</td>\n",
       "      <td>HUME</td>\n",
       "      <td>METROPOLITAN NORTH WEST REGION</td>\n",
       "      <td>Arterial Other</td>\n",
       "      <td>Metro</td>\n",
       "      <td>0.0</td>\n",
       "      <td>15.9</td>\n",
       "    </tr>\n",
       "    <tr>\n",
       "      <th>11</th>\n",
       "      <td>T20140015197</td>\n",
       "      <td>Driving accident</td>\n",
       "      <td>Finished</td>\n",
       "      <td>2014/07/23</td>\n",
       "      <td>17:14:00</td>\n",
       "      <td>No</td>\n",
       "      <td>Collision with vehicle</td>\n",
       "      <td>Wednesday</td>\n",
       "      <td>HEAD ON (NOT OVERTAKING)</td>\n",
       "      <td>No</td>\n",
       "      <td>...</td>\n",
       "      <td>0.0</td>\n",
       "      <td>0.0</td>\n",
       "      <td>MELB_URBAN</td>\n",
       "      <td>MELB_URBAN</td>\n",
       "      <td>HUME</td>\n",
       "      <td>METROPOLITAN NORTH WEST REGION</td>\n",
       "      <td>Freeway</td>\n",
       "      <td>Metro</td>\n",
       "      <td>0.0</td>\n",
       "      <td>12.4</td>\n",
       "    </tr>\n",
       "  </tbody>\n",
       "</table>\n",
       "<p>5 rows × 54 columns</p>\n",
       "</div>"
      ],
      "text/plain": [
       "     ACCIDENT_NO          ABS_CODE ACCIDENT_STATUS        Date ACCIDENT_TIME  \\\n",
       "2   T20140014503  Driving accident        Finished  2014/07/14      13:27:00   \n",
       "4   T20140014809  Driving accident        Finished  2014/07/17      20:40:00   \n",
       "8   T20140015079  Driving accident        Finished  2014/07/22      09:15:00   \n",
       "10  T20140015349  Driving accident        Finished  2014/07/25      17:00:00   \n",
       "11  T20140015197  Driving accident        Finished  2014/07/23      17:14:00   \n",
       "\n",
       "   ALCOHOLTIME                      ACCIDENT_TYPE DAY_OF_WEEK  \\\n",
       "2           No             Collision with vehicle      Monday   \n",
       "4          Yes  No collision and no object struck    Thursday   \n",
       "8           No             Collision with vehicle     Tuesday   \n",
       "10         Yes             Collision with vehicle      Friday   \n",
       "11          No             Collision with vehicle   Wednesday   \n",
       "\n",
       "                                           DCA_CODE HIT_RUN_FLAG  ...  \\\n",
       "2                 LANE CHANGE LEFT (NOT OVERTAKING)           No  ...   \n",
       "4                           OFF CARRIAGEWAY TO LEFT           No  ...   \n",
       "8   VEHICLE OFF FOOTPATH STRIKES VEH ON CARRIAGEWAY           No  ...   \n",
       "10                                    RIGHT THROUGH           No  ...   \n",
       "11                         HEAD ON (NOT OVERTAKING)           No  ...   \n",
       "\n",
       "   MOTORCYCLE PUBLICVEHICLE  DEG_URBAN_NAME   DEG_URBAN_ALL LGA_NAME_ALL  \\\n",
       "2         0.0           0.0      MELB_URBAN      MELB_URBAN         HUME   \n",
       "4         0.0           0.0      MELB_URBAN      MELB_URBAN         HUME   \n",
       "8         0.0           0.0    SMALL_CITIES    SMALL_CITIES         HUME   \n",
       "10        0.0           0.0  RURAL_VICTORIA  RURAL_VICTORIA         HUME   \n",
       "11        0.0           0.0      MELB_URBAN      MELB_URBAN         HUME   \n",
       "\n",
       "                   REGION_NAME_ALL             RMA  STAT_DIV_NAME  \\\n",
       "2   METROPOLITAN NORTH WEST REGION         Freeway          Metro   \n",
       "4   METROPOLITAN NORTH WEST REGION  Arterial Other          Metro   \n",
       "8   METROPOLITAN NORTH WEST REGION  Arterial Other          Metro   \n",
       "10  METROPOLITAN NORTH WEST REGION  Arterial Other          Metro   \n",
       "11  METROPOLITAN NORTH WEST REGION         Freeway          Metro   \n",
       "\n",
       "   Rainfall amount (millimetres) Maximum temperature (Degree C)  \n",
       "2                            0.4                           12.4  \n",
       "4                            0.0                           11.7  \n",
       "8                            0.0                           10.1  \n",
       "10                           0.0                           15.9  \n",
       "11                           0.0                           12.4  \n",
       "\n",
       "[5 rows x 54 columns]"
      ]
     },
     "execution_count": 127,
     "metadata": {},
     "output_type": "execute_result"
    }
   ],
   "source": [
    "# Create new dataframe for hume_data that only contains freeways/arterials\n",
    "#hume_data[\"RMA\"].unique()\n",
    "hume_main_roads=hume_data.loc[((hume_data[\"RMA\"]==\"Freeway\") | \n",
    "                                         (hume_data[\"RMA\"]==\"Arterial Highway\") | \n",
    "                                         (hume_data[\"RMA\"]==\"Arterial Other\"))]\n",
    "hume_main_roads.head()"
   ]
  },
  {
   "cell_type": "code",
   "execution_count": 128,
   "id": "2084da97",
   "metadata": {},
   "outputs": [
    {
     "data": {
      "text/plain": [
       "array(['Freeway', 'Arterial Other', 'Arterial Highway'], dtype=object)"
      ]
     },
     "execution_count": 128,
     "metadata": {},
     "output_type": "execute_result"
    }
   ],
   "source": [
    "# Double check only the main roads (arterials or freeways) returned\n",
    "hume_main_roads[\"RMA\"].unique()"
   ]
  },
  {
   "cell_type": "code",
   "execution_count": 129,
   "id": "ba3bb062",
   "metadata": {},
   "outputs": [],
   "source": [
    "# Group data by the accident date to find daily values.\n",
    "grouped_hume_main_roads_df = hume_main_roads.groupby([\"Date\"])\n",
    "\n",
    "# Assign data to axis: x_axis is daily accident count, y_axis is rainfall (mean used but all rainfall data \n",
    "# values same for the same date).\n",
    "y_axis = grouped_hume_main_roads_df[\"ACCIDENT_NO\"].count()\n",
    "x_axis = grouped_hume_main_roads_df[\"Rainfall amount (millimetres)\"].mean().reset_index()"
   ]
  },
  {
   "cell_type": "code",
   "execution_count": 130,
   "id": "007bf434",
   "metadata": {},
   "outputs": [
    {
     "data": {
      "image/png": "[encoded data removed]",
      "text/plain": [
       "<Figure size 432x288 with 1 Axes>"
      ]
     },
     "metadata": {
      "needs_background": "light"
     },
     "output_type": "display_data"
    }
   ],
   "source": [
    "# Undertake the linear regression and plot using matplotlib\n",
    "(slope, intercept, rvalue, pvalue, stderr) = linregress(x_axis[\"Rainfall amount (millimetres)\"], y_axis)\n",
    "regress_values = x_axis[\"Rainfall amount (millimetres)\"] * slope + intercept\n",
    "\n",
    "line_eq = \"y = \" + str(round(slope,2)) + \"x + \" + str(round(intercept,2))\n",
    "r2_value = \"r squared value= \" + str(round((rvalue**2),3))\n",
    "\n",
    "# Use matplotlib to create a scatter plot\n",
    "plt.scatter(x_axis[\"Rainfall amount (millimetres)\"], y_axis, marker=\"o\", facecolors=\"blue\", edgecolors=\"blue\", alpha=0.5)\n",
    "plt.plot(x_axis[\"Rainfall amount (millimetres)\"],regress_values,\"r-\")\n",
    "plt.annotate(line_eq,(40,5.5),fontsize=10,color=\"red\")\n",
    "plt.annotate(r2_value,(40,5),fontsize=10,color=\"red\")\n",
    "plt.title(\"Relationship Between Rainfall and Road Accident Count (Main Arterials/Freeways) (Hume LGA)\")\n",
    "plt.xlabel(\"Daily Rainfall (mm)\")\n",
    "plt.ylabel(\"Daily Road Accident Count\")\n",
    "\n",
    "# Save the figure\n",
    "plt.savefig(os.path.join(\"figures\",f\"Hume_Rainfall_vs_Accident_Count_Arterials_Freeways.png\"))"
   ]
  },
  {
   "cell_type": "code",
   "execution_count": 131,
   "id": "48059696",
   "metadata": {},
   "outputs": [
    {
     "name": "stdout",
     "output_type": "stream",
     "text": [
      "The correlation between daily rainfall and daily road accident count for arterials/freeways in Hume LGA is 0.05\n"
     ]
    }
   ],
   "source": [
    "# Calculating the correlation coefficient for daily rainfall and daily road accident count\n",
    "correlation = st.pearsonr(x_axis[\"Rainfall amount (millimetres)\"], y_axis)\n",
    "print(f\"The correlation between daily rainfall and daily road accident count for arterials/freeways in Hume LGA is {round(correlation[0],2)}\")\n",
    "\n",
    "# Outcome: correlation=0.05 means there is no correlation i.e daily rainfall has no impact \n",
    "# on daily road accident frequency. Therefore confirming the Null Hypothesis."
   ]
  },
  {
   "cell_type": "markdown",
   "id": "90af15f8",
   "metadata": {},
   "source": [
    "#### (2a) Road accident severity (all roads, as fatality count) against rainfall (Hume LGA)"
   ]
  },
  {
   "cell_type": "code",
   "execution_count": 132,
   "id": "5ab89bd0",
   "metadata": {},
   "outputs": [],
   "source": [
    "# Group data by the accident date to find daily values.\n",
    "grouped_hume_df = hume_data.groupby([\"Date\"])\n",
    "\n",
    "# Assign data to axis: x_axis is fatality sum, y_axis is rainfall (mean used but all rainfall data \n",
    "# values same for the same date).\n",
    "y_axis = grouped_hume_df[\"FATALITY\"].sum()\n",
    "x_axis = grouped_hume_df[\"Rainfall amount (millimetres)\"].mean().reset_index()"
   ]
  },
  {
   "cell_type": "code",
   "execution_count": 133,
   "id": "fbf48551",
   "metadata": {},
   "outputs": [
    {
     "data": {
      "image/png": "[encoded data removed]",
      "text/plain": [
       "<Figure size 432x288 with 1 Axes>"
      ]
     },
     "metadata": {
      "needs_background": "light"
     },
     "output_type": "display_data"
    }
   ],
   "source": [
    "# Undertake the linear regression and plot using matplotlib\n",
    "(slope, intercept, rvalue, pvalue, stderr) = linregress(x_axis[\"Rainfall amount (millimetres)\"], y_axis)\n",
    "regress_values = x_axis[\"Rainfall amount (millimetres)\"] * slope + intercept\n",
    "\n",
    "line_eq = \"y = \" + str(round(slope,2)) + \"x + \" + str(round(intercept,2))\n",
    "r2_value = \"r squared value= \" + str(round((rvalue**2),3))\n",
    "\n",
    "# Use matplotlib to create a scatter plot\n",
    "plt.scatter(x_axis[\"Rainfall amount (millimetres)\"], y_axis, marker=\"o\", facecolors=\"blue\", edgecolors=\"blue\", alpha=0.5)\n",
    "plt.plot(x_axis[\"Rainfall amount (millimetres)\"],regress_values,\"r-\")\n",
    "plt.annotate(line_eq,(40,1.75),fontsize=10,color=\"red\")\n",
    "plt.annotate(r2_value,(40,1.50),fontsize=10,color=\"red\")\n",
    "plt.title(\"Relationship Between Rainfall and Fatality Count (Hume LGA)\")\n",
    "plt.xlabel(\"Daily Rainfall (mm)\")\n",
    "plt.ylabel(\"Daily Fatality Count\")\n",
    "\n",
    "# Save the figure\n",
    "plt.savefig(os.path.join(\"figures\",f\"Hume_Rainfall_vs_Fatality_Count.png\"))"
   ]
  },
  {
   "cell_type": "code",
   "execution_count": 134,
   "id": "df6d82b1",
   "metadata": {},
   "outputs": [
    {
     "name": "stdout",
     "output_type": "stream",
     "text": [
      "The correlation between daily rainfall and daily fatality count for all roads in Hume LGA is -0.02\n"
     ]
    }
   ],
   "source": [
    "# Calculating the correlation coefficient for daily rainfall and daily fatality count\n",
    "correlation = st.pearsonr(x_axis[\"Rainfall amount (millimetres)\"], y_axis)\n",
    "print(f\"The correlation between daily rainfall and daily fatality count for all roads in Hume LGA is {round(correlation[0],2)}\")\n",
    "\n",
    "# Outcome: correlation=-0.02 means there is no correlation i.e daily rainfall does not appear to \n",
    "# increase the likelihood of fatalities in road accidents (all roads) in Hume LGA. \n",
    "# Therefore confirming the Null Hypothesis."
   ]
  },
  {
   "cell_type": "markdown",
   "id": "6de7d8a3",
   "metadata": {},
   "source": [
    "#### (2b) Road accident severity (only freeways/arterials, as fatality count) against rainfall (Hume LGA)"
   ]
  },
  {
   "cell_type": "code",
   "execution_count": 135,
   "id": "aa81a6bb",
   "metadata": {},
   "outputs": [],
   "source": [
    "# Group data by the accident date to find daily values.\n",
    "grouped_hume_main_roads_df = hume_main_roads.groupby([\"Date\"])\n",
    "\n",
    "# Assign data to axis: x_axis is fatality sum, y_axis is rainfall (mean used but all rainfall data \n",
    "# values same for the same date).\n",
    "y_axis = grouped_hume_main_roads_df[\"FATALITY\"].sum()\n",
    "x_axis = grouped_hume_main_roads_df[\"Rainfall amount (millimetres)\"].mean().reset_index()"
   ]
  },
  {
   "cell_type": "code",
   "execution_count": 136,
   "id": "ba7313ef",
   "metadata": {},
   "outputs": [
    {
     "data": {
      "image/png": "[encoded data removed]",
      "text/plain": [
       "<Figure size 432x288 with 1 Axes>"
      ]
     },
     "metadata": {
      "needs_background": "light"
     },
     "output_type": "display_data"
    }
   ],
   "source": [
    "# Undertake the linear regression and plot using matplotlib\n",
    "(slope, intercept, rvalue, pvalue, stderr) = linregress(x_axis[\"Rainfall amount (millimetres)\"], y_axis)\n",
    "regress_values = x_axis[\"Rainfall amount (millimetres)\"] * slope + intercept\n",
    "\n",
    "line_eq = \"y = \" + str(round(slope,2)) + \"x + \" + str(round(intercept,2))\n",
    "r2_value = \"r squared value= \" + str(round((rvalue**2),3))\n",
    "\n",
    "# Use matplotlib to create a scatter plot\n",
    "plt.scatter(x_axis[\"Rainfall amount (millimetres)\"], y_axis, marker=\"o\", facecolors=\"blue\", edgecolors=\"blue\", alpha=0.5)\n",
    "plt.plot(x_axis[\"Rainfall amount (millimetres)\"],regress_values,\"r-\")\n",
    "plt.annotate(line_eq,(42,1.75),fontsize=10,color=\"red\")\n",
    "plt.annotate(r2_value,(42,1.50),fontsize=10,color=\"red\")\n",
    "plt.title(\"Relationship Between Rainfall and Fatality Count (Arterials/Freeways)(Hume LGA)\")\n",
    "plt.xlabel(\"Daily Rainfall (mm)\")\n",
    "plt.ylabel(\"Daily Fatality Count\")\n",
    "\n",
    "# Save the figure\n",
    "plt.savefig(os.path.join(\"figures\",f\"Hume_Rainfall_vs_Fatality_Count_Arterials_Freeways.png\"))"
   ]
  },
  {
   "cell_type": "code",
   "execution_count": 137,
   "id": "f250e791",
   "metadata": {},
   "outputs": [
    {
     "name": "stdout",
     "output_type": "stream",
     "text": [
      "The correlation between daily rainfall and daily fatality count for arterials/freeways in Hume LGA is -0.01\n"
     ]
    }
   ],
   "source": [
    "# Calculating the correlation coefficient for daily rainfall and daily fatality count\n",
    "correlation = st.pearsonr(x_axis[\"Rainfall amount (millimetres)\"], y_axis)\n",
    "print(f\"The correlation between daily rainfall and daily fatality count for arterials/freeways in Hume LGA is {round(correlation[0],2)}\")\n",
    "\n",
    "# Outcome: correlation=-0.01 means there is no correlation i.e daily rainfall does not appear to \n",
    "# increase the likelihood of fatalities in road accidents on arterials/freeways in Hume. \n",
    "# Therefore confirming the Null Hypothesis."
   ]
  },
  {
   "cell_type": "code",
   "execution_count": null,
   "id": "2a01d240",
   "metadata": {},
   "outputs": [],
   "source": []
  }
 ],
 "metadata": {
  "kernelspec": {
   "display_name": "Python 3",
   "language": "python",
   "name": "python3"
  },
  "language_info": {
   "codemirror_mode": {
    "name": "ipython",
    "version": 3
   },
   "file_extension": ".py",
   "mimetype": "text/x-python",
   "name": "python",
   "nbconvert_exporter": "python",
   "pygments_lexer": "ipython3",
   "version": "3.8.8"
  }
 },
 "nbformat": 4,
 "nbformat_minor": 5
}
