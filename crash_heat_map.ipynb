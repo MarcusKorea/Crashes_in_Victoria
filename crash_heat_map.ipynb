{
 "cells": [
  {
   "cell_type": "markdown",
   "id": "81ad5ea9",
   "metadata": {},
   "source": [
    "## Victorian Road Accidents Heat Map (2014-2019)"
   ]
  },
  {
   "cell_type": "code",
   "execution_count": 37,
   "id": "7c5b43db",
   "metadata": {},
   "outputs": [],
   "source": [
    "# Dependencies\n",
    "import numpy as np\n",
    "import pandas as pd\n",
    "import matplotlib.pyplot as plt\n",
    "import requests\n",
    "import gmaps\n",
    "from config import gkey\n",
    "\n",
    "# Configure gmaps\n",
    "gmaps.configure(api_key=gkey)"
   ]
  },
  {
   "cell_type": "code",
   "execution_count": 38,
   "id": "57fe360d",
   "metadata": {},
   "outputs": [
    {
     "data": {
      "text/html": [
       "<div>\n",
       "<style scoped>\n",
       "    .dataframe tbody tr th:only-of-type {\n",
       "        vertical-align: middle;\n",
       "    }\n",
       "\n",
       "    .dataframe tbody tr th {\n",
       "        vertical-align: top;\n",
       "    }\n",
       "\n",
       "    .dataframe thead th {\n",
       "        text-align: right;\n",
       "    }\n",
       "</style>\n",
       "<table border=\"1\" class=\"dataframe\">\n",
       "  <thead>\n",
       "    <tr style=\"text-align: right;\">\n",
       "      <th></th>\n",
       "      <th>Unnamed: 0</th>\n",
       "      <th>OBJECTID</th>\n",
       "      <th>ACCIDENT_NO</th>\n",
       "      <th>ABS_CODE</th>\n",
       "      <th>ACCIDENT_STATUS</th>\n",
       "      <th>ACCIDENT_DATE</th>\n",
       "      <th>ACCIDENT_TIME</th>\n",
       "      <th>ALCOHOLTIME</th>\n",
       "      <th>ACCIDENT_TYPE</th>\n",
       "      <th>DAY_OF_WEEK</th>\n",
       "      <th>...</th>\n",
       "      <th>HEAVYVEHICLE</th>\n",
       "      <th>PASSENGERVEHICLE</th>\n",
       "      <th>MOTORCYCLE</th>\n",
       "      <th>PUBLICVEHICLE</th>\n",
       "      <th>DEG_URBAN_NAME</th>\n",
       "      <th>DEG_URBAN_ALL</th>\n",
       "      <th>LGA_NAME_ALL</th>\n",
       "      <th>REGION_NAME_ALL</th>\n",
       "      <th>RMA</th>\n",
       "      <th>STAT_DIV_NAME</th>\n",
       "    </tr>\n",
       "  </thead>\n",
       "  <tbody>\n",
       "    <tr>\n",
       "      <th>0</th>\n",
       "      <td>0</td>\n",
       "      <td>1</td>\n",
       "      <td>T20140013514</td>\n",
       "      <td>Driving accident</td>\n",
       "      <td>Unfinished</td>\n",
       "      <td>2014/07/01</td>\n",
       "      <td>13:09:00</td>\n",
       "      <td>No</td>\n",
       "      <td>Collision with vehicle</td>\n",
       "      <td>Monday</td>\n",
       "      <td>...</td>\n",
       "      <td>0.0</td>\n",
       "      <td>2.0</td>\n",
       "      <td>0.0</td>\n",
       "      <td>0.0</td>\n",
       "      <td>TOWNS</td>\n",
       "      <td>TOWNS</td>\n",
       "      <td>MITCHELL</td>\n",
       "      <td>NORTHERN REGION</td>\n",
       "      <td>Arterial Highway</td>\n",
       "      <td>Country</td>\n",
       "    </tr>\n",
       "    <tr>\n",
       "      <th>1</th>\n",
       "      <td>1</td>\n",
       "      <td>2</td>\n",
       "      <td>T20140013549</td>\n",
       "      <td>Driving accident</td>\n",
       "      <td>Finished</td>\n",
       "      <td>2014/07/02</td>\n",
       "      <td>00:01:00</td>\n",
       "      <td>Yes</td>\n",
       "      <td>Collision with vehicle</td>\n",
       "      <td>Wednesday</td>\n",
       "      <td>...</td>\n",
       "      <td>0.0</td>\n",
       "      <td>2.0</td>\n",
       "      <td>0.0</td>\n",
       "      <td>0.0</td>\n",
       "      <td>MELB_URBAN</td>\n",
       "      <td>MELB_URBAN</td>\n",
       "      <td>WHITTLESEA</td>\n",
       "      <td>METROPOLITAN NORTH WEST REGION</td>\n",
       "      <td>Arterial Other</td>\n",
       "      <td>Metro</td>\n",
       "    </tr>\n",
       "    <tr>\n",
       "      <th>2</th>\n",
       "      <td>3</td>\n",
       "      <td>4</td>\n",
       "      <td>T20140013563</td>\n",
       "      <td>Driving accident</td>\n",
       "      <td>Finished</td>\n",
       "      <td>2014/07/02</td>\n",
       "      <td>10:08:00</td>\n",
       "      <td>No</td>\n",
       "      <td>Collision with vehicle</td>\n",
       "      <td>Wednesday</td>\n",
       "      <td>...</td>\n",
       "      <td>0.0</td>\n",
       "      <td>2.0</td>\n",
       "      <td>0.0</td>\n",
       "      <td>0.0</td>\n",
       "      <td>MELB_URBAN</td>\n",
       "      <td>MELB_URBAN</td>\n",
       "      <td>WYNDHAM</td>\n",
       "      <td>METROPOLITAN NORTH WEST REGION</td>\n",
       "      <td>Arterial Other</td>\n",
       "      <td>Metro</td>\n",
       "    </tr>\n",
       "    <tr>\n",
       "      <th>3</th>\n",
       "      <td>4</td>\n",
       "      <td>5</td>\n",
       "      <td>T20140013567</td>\n",
       "      <td>Driving accident</td>\n",
       "      <td>Finished</td>\n",
       "      <td>2014/07/02</td>\n",
       "      <td>09:12:00</td>\n",
       "      <td>No</td>\n",
       "      <td>Collision with vehicle</td>\n",
       "      <td>Wednesday</td>\n",
       "      <td>...</td>\n",
       "      <td>1.0</td>\n",
       "      <td>1.0</td>\n",
       "      <td>0.0</td>\n",
       "      <td>0.0</td>\n",
       "      <td>MELB_URBAN</td>\n",
       "      <td>MELB_URBAN</td>\n",
       "      <td>WYNDHAM</td>\n",
       "      <td>METROPOLITAN NORTH WEST REGION</td>\n",
       "      <td>Arterial Other</td>\n",
       "      <td>Metro</td>\n",
       "    </tr>\n",
       "    <tr>\n",
       "      <th>4</th>\n",
       "      <td>5</td>\n",
       "      <td>6</td>\n",
       "      <td>T20140013582</td>\n",
       "      <td>Driving accident</td>\n",
       "      <td>Finished</td>\n",
       "      <td>2014/07/02</td>\n",
       "      <td>12:20:00</td>\n",
       "      <td>No</td>\n",
       "      <td>Collision with a fixed object</td>\n",
       "      <td>Wednesday</td>\n",
       "      <td>...</td>\n",
       "      <td>0.0</td>\n",
       "      <td>0.0</td>\n",
       "      <td>1.0</td>\n",
       "      <td>0.0</td>\n",
       "      <td>MELB_URBAN</td>\n",
       "      <td>MELB_URBAN</td>\n",
       "      <td>PORT PHILLIP</td>\n",
       "      <td>METROPOLITAN NORTH WEST REGION</td>\n",
       "      <td>Local Road</td>\n",
       "      <td>Metro</td>\n",
       "    </tr>\n",
       "  </tbody>\n",
       "</table>\n",
       "<p>5 rows × 54 columns</p>\n",
       "</div>"
      ],
      "text/plain": [
       "   Unnamed: 0  OBJECTID   ACCIDENT_NO          ABS_CODE ACCIDENT_STATUS  \\\n",
       "0           0         1  T20140013514  Driving accident      Unfinished   \n",
       "1           1         2  T20140013549  Driving accident        Finished   \n",
       "2           3         4  T20140013563  Driving accident        Finished   \n",
       "3           4         5  T20140013567  Driving accident        Finished   \n",
       "4           5         6  T20140013582  Driving accident        Finished   \n",
       "\n",
       "  ACCIDENT_DATE ACCIDENT_TIME ALCOHOLTIME                  ACCIDENT_TYPE  \\\n",
       "0    2014/07/01      13:09:00          No         Collision with vehicle   \n",
       "1    2014/07/02      00:01:00         Yes         Collision with vehicle   \n",
       "2    2014/07/02      10:08:00          No         Collision with vehicle   \n",
       "3    2014/07/02      09:12:00          No         Collision with vehicle   \n",
       "4    2014/07/02      12:20:00          No  Collision with a fixed object   \n",
       "\n",
       "  DAY_OF_WEEK  ... HEAVYVEHICLE PASSENGERVEHICLE MOTORCYCLE PUBLICVEHICLE  \\\n",
       "0      Monday  ...          0.0              2.0        0.0           0.0   \n",
       "1   Wednesday  ...          0.0              2.0        0.0           0.0   \n",
       "2   Wednesday  ...          0.0              2.0        0.0           0.0   \n",
       "3   Wednesday  ...          1.0              1.0        0.0           0.0   \n",
       "4   Wednesday  ...          0.0              0.0        1.0           0.0   \n",
       "\n",
       "  DEG_URBAN_NAME DEG_URBAN_ALL  LGA_NAME_ALL                 REGION_NAME_ALL  \\\n",
       "0          TOWNS         TOWNS      MITCHELL                 NORTHERN REGION   \n",
       "1     MELB_URBAN    MELB_URBAN    WHITTLESEA  METROPOLITAN NORTH WEST REGION   \n",
       "2     MELB_URBAN    MELB_URBAN       WYNDHAM  METROPOLITAN NORTH WEST REGION   \n",
       "3     MELB_URBAN    MELB_URBAN       WYNDHAM  METROPOLITAN NORTH WEST REGION   \n",
       "4     MELB_URBAN    MELB_URBAN  PORT PHILLIP  METROPOLITAN NORTH WEST REGION   \n",
       "\n",
       "                RMA  STAT_DIV_NAME  \n",
       "0  Arterial Highway        Country  \n",
       "1    Arterial Other          Metro  \n",
       "2    Arterial Other          Metro  \n",
       "3    Arterial Other          Metro  \n",
       "4        Local Road          Metro  \n",
       "\n",
       "[5 rows x 54 columns]"
      ]
     },
     "execution_count": 38,
     "metadata": {},
     "output_type": "execute_result"
    }
   ],
   "source": [
    "# Import the cleaned crashes CSV file\n",
    "crashes_df = pd.read_csv(\"cleaned_data/all_crashes.csv\")\n",
    "crashes_df.head()"
   ]
  },
  {
   "cell_type": "code",
   "execution_count": 39,
   "id": "73d29e1f",
   "metadata": {},
   "outputs": [
    {
     "data": {
      "text/plain": [
       "Index(['Unnamed: 0', 'OBJECTID', 'ACCIDENT_NO', 'ABS_CODE', 'ACCIDENT_STATUS',\n",
       "       'ACCIDENT_DATE', 'ACCIDENT_TIME', 'ALCOHOLTIME', 'ACCIDENT_TYPE',\n",
       "       'DAY_OF_WEEK', 'DCA_CODE', 'HIT_RUN_FLAG', 'LIGHT_CONDITION',\n",
       "       'POLICE_ATTEND', 'ROAD_GEOMETRY', 'SEVERITY', 'SPEED_ZONE',\n",
       "       'RUN_OFFROAD', 'LONGITUDE', 'LATITUDE', 'LGA_NAME', 'REGION_NAME',\n",
       "       'TOTAL_PERSONS', 'FATALITY', 'SERIOUSINJURY', 'OTHERINJURY',\n",
       "       'NONINJURED', 'MALES', 'FEMALES', 'BICYCLIST', 'PASSENGER', 'DRIVER',\n",
       "       'PEDESTRIAN', 'PILLION', 'MOTORIST', 'UNKNOWN', 'PED_CYCLIST_5_12',\n",
       "       'PED_CYCLIST_13_18', 'OLD_PEDESTRIAN', 'OLD_DRIVER', 'YOUNG_DRIVER',\n",
       "       'ALCOHOL_RELATED', 'UNLICENCSED', 'NO_OF_VEHICLES', 'HEAVYVEHICLE',\n",
       "       'PASSENGERVEHICLE', 'MOTORCYCLE', 'PUBLICVEHICLE', 'DEG_URBAN_NAME',\n",
       "       'DEG_URBAN_ALL', 'LGA_NAME_ALL', 'REGION_NAME_ALL', 'RMA',\n",
       "       'STAT_DIV_NAME'],\n",
       "      dtype='object')"
      ]
     },
     "execution_count": 39,
     "metadata": {},
     "output_type": "execute_result"
    }
   ],
   "source": [
    "crashes_df.columns"
   ]
  },
  {
   "cell_type": "code",
   "execution_count": 40,
   "id": "5757553c",
   "metadata": {},
   "outputs": [],
   "source": [
    "# Store latitude and longitude in locations\n",
    "locations = crashes_df[[\"LATITUDE\", \"LONGITUDE\"]]\n"
   ]
  },
  {
   "cell_type": "code",
   "execution_count": 41,
   "id": "a83087b5",
   "metadata": {},
   "outputs": [
    {
     "data": {
      "application/vnd.jupyter.widget-view+json": {
       "model_id": "d7d0c644d5614ce6814456a0e34b38a1",
       "version_major": 2,
       "version_minor": 0
      },
      "text/plain": [
       "Figure(layout=FigureLayout(height='420px'))"
      ]
     },
     "metadata": {},
     "output_type": "display_data"
    }
   ],
   "source": [
    "# Plot as a Terrain map\n",
    "fig = gmaps.figure(map_type=\"TERRAIN\",center=(38, 144), zoom_level=1.5)\n",
    "\n",
    "# Create heat layer\n",
    "heat_layer = gmaps.heatmap_layer(locations, \n",
    "                                 max_intensity=10,\n",
    "                                 point_radius=5)\n",
    "\n",
    "fig.add_layer(heat_layer)\n",
    "fig"
   ]
  },
  {
   "cell_type": "code",
   "execution_count": 44,
   "id": "0d06ef72",
   "metadata": {},
   "outputs": [],
   "source": [
    "melb_accidents = crashes_df.loc[crashes_df['LGA_NAME']=='MELBOURNE','ACCIDENT_NO'].count()\n",
    "hume_accidents = crashes_df.loc[crashes_df['LGA_NAME']=='HUME','ACCIDENT_NO'].count()\n",
    "\n",
    "#Got city coordinates from Google search\n",
    "cities = [{'name':'Melbourne', 'location':(-37.8136,144.9631),'accidents': melb_accidents},\n",
    "          {'name':'Hume', 'location': (-37.5987,144.8291), 'accidents': hume_accidents}]\n",
    "\n",
    "city_locations = [city['location'] for city in cities]\n"
   ]
  },
  {
   "cell_type": "code",
   "execution_count": 45,
   "id": "1dacbfca",
   "metadata": {},
   "outputs": [
    {
     "data": {
      "application/vnd.jupyter.widget-view+json": {
       "model_id": "d7d0c644d5614ce6814456a0e34b38a1",
       "version_major": 2,
       "version_minor": 0
      },
      "text/plain": [
       "Figure(layout=FigureLayout(height='420px'))"
      ]
     },
     "metadata": {},
     "output_type": "display_data"
    }
   ],
   "source": [
    "info_box_template = \"\"\"\n",
    "<dl>\n",
    "<dt>Name</dt><dd>{name}</dd>\n",
    "<dt>Accidents</dt><dd>{accidents}</dd>\n",
    "</dl>\n",
    "\"\"\"\n",
    "city_info = [info_box_template.format(**city) for city in cities]\n",
    "markers = gmaps.marker_layer(city_locations, info_box_content=city_info)\n",
    "fig.add_layer(markers)\n",
    "fig"
   ]
  },
  {
   "cell_type": "code",
   "execution_count": null,
   "id": "85aa3401",
   "metadata": {},
   "outputs": [],
   "source": []
  }
 ],
 "metadata": {
  "kernelspec": {
   "display_name": "Python 3 (ipykernel)",
   "language": "python",
   "name": "python3"
  },
  "language_info": {
   "codemirror_mode": {
    "name": "ipython",
    "version": 3
   },
   "file_extension": ".py",
   "mimetype": "text/x-python",
   "name": "python",
   "nbconvert_exporter": "python",
   "pygments_lexer": "ipython3",
   "version": "3.9.6"
  }
 },
 "nbformat": 4,
 "nbformat_minor": 5
}
