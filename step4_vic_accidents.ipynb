{
 "cells": [
  {
   "cell_type": "code",
   "execution_count": 1,
   "id": "34eea18a",
   "metadata": {},
   "outputs": [],
   "source": [
    "import pandas as pd\n",
    "import matplotlib.pyplot as plt\n",
    "import numpy as np"
   ]
  },
  {
   "cell_type": "code",
   "execution_count": 2,
   "id": "a058f96b",
   "metadata": {},
   "outputs": [
    {
     "name": "stdout",
     "output_type": "stream",
     "text": [
      "Expect vehicle to vehicle collisions highest frequency accident type\n"
     ]
    }
   ],
   "source": [
    "print(\"Expect vehicle to vehicle collisions highest frequency accident type\")"
   ]
  },
  {
   "cell_type": "code",
   "execution_count": 3,
   "id": "5e70dfde",
   "metadata": {},
   "outputs": [
    {
     "data": {
      "text/html": [
       "<div>\n",
       "<style scoped>\n",
       "    .dataframe tbody tr th:only-of-type {\n",
       "        vertical-align: middle;\n",
       "    }\n",
       "\n",
       "    .dataframe tbody tr th {\n",
       "        vertical-align: top;\n",
       "    }\n",
       "\n",
       "    .dataframe thead th {\n",
       "        text-align: right;\n",
       "    }\n",
       "</style>\n",
       "<table border=\"1\" class=\"dataframe\">\n",
       "  <thead>\n",
       "    <tr style=\"text-align: right;\">\n",
       "      <th></th>\n",
       "      <th>OBJECTID</th>\n",
       "      <th>ACCIDENT_NO</th>\n",
       "      <th>ABS_CODE</th>\n",
       "      <th>ACCIDENT_DATE</th>\n",
       "      <th>ACCIDENT_TIME</th>\n",
       "      <th>ACCIDENT_TYPE</th>\n",
       "      <th>DAY_OF_WEEK</th>\n",
       "      <th>LONGITUDE</th>\n",
       "      <th>LATITUDE</th>\n",
       "      <th>LGA_NAME</th>\n",
       "      <th>FATALITY</th>\n",
       "      <th>DEG_URBAN_ALL</th>\n",
       "      <th>REGION_NAME_ALL</th>\n",
       "      <th>RMA</th>\n",
       "      <th>STAT_DIV_NAME</th>\n",
       "    </tr>\n",
       "  </thead>\n",
       "  <tbody>\n",
       "    <tr>\n",
       "      <th>0</th>\n",
       "      <td>1</td>\n",
       "      <td>T20140013514</td>\n",
       "      <td>Driving accident</td>\n",
       "      <td>2014/07/01</td>\n",
       "      <td>13:09:00</td>\n",
       "      <td>Collision with vehicle</td>\n",
       "      <td>Monday</td>\n",
       "      <td>144.979861</td>\n",
       "      <td>-37.406699</td>\n",
       "      <td>MITCHELL</td>\n",
       "      <td>0.0</td>\n",
       "      <td>TOWNS</td>\n",
       "      <td>NORTHERN REGION</td>\n",
       "      <td>Arterial Highway</td>\n",
       "      <td>Country</td>\n",
       "    </tr>\n",
       "    <tr>\n",
       "      <th>1</th>\n",
       "      <td>2</td>\n",
       "      <td>T20140013549</td>\n",
       "      <td>Driving accident</td>\n",
       "      <td>2014/07/02</td>\n",
       "      <td>00:01:00</td>\n",
       "      <td>Collision with vehicle</td>\n",
       "      <td>Wednesday</td>\n",
       "      <td>-1.000000</td>\n",
       "      <td>-1.000000</td>\n",
       "      <td>WHITTLESEA</td>\n",
       "      <td>0.0</td>\n",
       "      <td>MELB_URBAN</td>\n",
       "      <td>METROPOLITAN NORTH WEST REGION</td>\n",
       "      <td>Arterial Other</td>\n",
       "      <td>Metro</td>\n",
       "    </tr>\n",
       "    <tr>\n",
       "      <th>2</th>\n",
       "      <td>4</td>\n",
       "      <td>T20140013563</td>\n",
       "      <td>Driving accident</td>\n",
       "      <td>2014/07/02</td>\n",
       "      <td>10:08:00</td>\n",
       "      <td>Collision with vehicle</td>\n",
       "      <td>Wednesday</td>\n",
       "      <td>-1.000000</td>\n",
       "      <td>-1.000000</td>\n",
       "      <td>WYNDHAM</td>\n",
       "      <td>0.0</td>\n",
       "      <td>MELB_URBAN</td>\n",
       "      <td>METROPOLITAN NORTH WEST REGION</td>\n",
       "      <td>Arterial Other</td>\n",
       "      <td>Metro</td>\n",
       "    </tr>\n",
       "    <tr>\n",
       "      <th>3</th>\n",
       "      <td>5</td>\n",
       "      <td>T20140013567</td>\n",
       "      <td>Driving accident</td>\n",
       "      <td>2014/07/02</td>\n",
       "      <td>09:12:00</td>\n",
       "      <td>Collision with vehicle</td>\n",
       "      <td>Wednesday</td>\n",
       "      <td>-1.000000</td>\n",
       "      <td>-1.000000</td>\n",
       "      <td>WYNDHAM</td>\n",
       "      <td>0.0</td>\n",
       "      <td>MELB_URBAN</td>\n",
       "      <td>METROPOLITAN NORTH WEST REGION</td>\n",
       "      <td>Arterial Other</td>\n",
       "      <td>Metro</td>\n",
       "    </tr>\n",
       "    <tr>\n",
       "      <th>4</th>\n",
       "      <td>6</td>\n",
       "      <td>T20140013582</td>\n",
       "      <td>Driving accident</td>\n",
       "      <td>2014/07/02</td>\n",
       "      <td>12:20:00</td>\n",
       "      <td>Collision with a fixed object</td>\n",
       "      <td>Wednesday</td>\n",
       "      <td>144.962062</td>\n",
       "      <td>-37.842131</td>\n",
       "      <td>PORT PHILLIP</td>\n",
       "      <td>0.0</td>\n",
       "      <td>MELB_URBAN</td>\n",
       "      <td>METROPOLITAN NORTH WEST REGION</td>\n",
       "      <td>Local Road</td>\n",
       "      <td>Metro</td>\n",
       "    </tr>\n",
       "  </tbody>\n",
       "</table>\n",
       "</div>"
      ],
      "text/plain": [
       "   OBJECTID   ACCIDENT_NO          ABS_CODE ACCIDENT_DATE ACCIDENT_TIME  \\\n",
       "0         1  T20140013514  Driving accident    2014/07/01      13:09:00   \n",
       "1         2  T20140013549  Driving accident    2014/07/02      00:01:00   \n",
       "2         4  T20140013563  Driving accident    2014/07/02      10:08:00   \n",
       "3         5  T20140013567  Driving accident    2014/07/02      09:12:00   \n",
       "4         6  T20140013582  Driving accident    2014/07/02      12:20:00   \n",
       "\n",
       "                   ACCIDENT_TYPE DAY_OF_WEEK   LONGITUDE   LATITUDE  \\\n",
       "0         Collision with vehicle      Monday  144.979861 -37.406699   \n",
       "1         Collision with vehicle   Wednesday   -1.000000  -1.000000   \n",
       "2         Collision with vehicle   Wednesday   -1.000000  -1.000000   \n",
       "3         Collision with vehicle   Wednesday   -1.000000  -1.000000   \n",
       "4  Collision with a fixed object   Wednesday  144.962062 -37.842131   \n",
       "\n",
       "       LGA_NAME  FATALITY DEG_URBAN_ALL                 REGION_NAME_ALL  \\\n",
       "0      MITCHELL       0.0         TOWNS                 NORTHERN REGION   \n",
       "1    WHITTLESEA       0.0    MELB_URBAN  METROPOLITAN NORTH WEST REGION   \n",
       "2       WYNDHAM       0.0    MELB_URBAN  METROPOLITAN NORTH WEST REGION   \n",
       "3       WYNDHAM       0.0    MELB_URBAN  METROPOLITAN NORTH WEST REGION   \n",
       "4  PORT PHILLIP       0.0    MELB_URBAN  METROPOLITAN NORTH WEST REGION   \n",
       "\n",
       "                RMA STAT_DIV_NAME  \n",
       "0  Arterial Highway       Country  \n",
       "1    Arterial Other         Metro  \n",
       "2    Arterial Other         Metro  \n",
       "3    Arterial Other         Metro  \n",
       "4        Local Road         Metro  "
      ]
     },
     "execution_count": 3,
     "metadata": {},
     "output_type": "execute_result"
    }
   ],
   "source": [
    "# Import cleaned weather data\n",
    "crashes_path = 'cleaned_data/all_crashes.csv'\n",
    "crashes = pd.read_csv(crashes_path)\n",
    "crashes.head()\n",
    "\n"
   ]
  },
  {
   "cell_type": "code",
   "execution_count": 4,
   "id": "83b474ca",
   "metadata": {},
   "outputs": [
    {
     "data": {
      "text/plain": [
       "MELBOURNE           3897\n",
       "CASEY               3000\n",
       "GEELONG             2815\n",
       "DANDENONG           2395\n",
       "HUME                2298\n",
       "                    ... \n",
       "(FALLS CREEK)         11\n",
       "(MOUNT BAW BAW)        4\n",
       "(FRENCH ISLAND)        1\n",
       "(MOUNT STIRLING)       1\n",
       "                       1\n",
       "Name: LGA_NAME, Length: 87, dtype: int64"
      ]
     },
     "execution_count": 4,
     "metadata": {},
     "output_type": "execute_result"
    }
   ],
   "source": [
    "# looking at the counts per LGA \n",
    "crashes[\"LGA_NAME\"].value_counts()"
   ]
  },
  {
   "cell_type": "code",
   "execution_count": 5,
   "id": "e29248c1",
   "metadata": {},
   "outputs": [
    {
     "data": {
      "image/png": "[encoded data removed]",
      "text/plain": [
       "<Figure size 432x288 with 1 Axes>"
      ]
     },
     "metadata": {
      "needs_background": "light"
     },
     "output_type": "display_data"
    }
   ],
   "source": [
    "# plot suburbs against their respective accident counts\n",
    "\n",
    "sizes=crashes[\"LGA_NAME\"].value_counts()\n",
    "x=sizes[sizes>2000]\n",
    "\n",
    "x.plot.bar(x)\n",
    "\n",
    "\n",
    "plt.xlabel(\"LGA\")\n",
    "plt.ylabel(\"Number of Accidents\")\n",
    "plt.title(\"Top 10 LGA's Accident Count\")\n",
    "\n",
    "\n",
    "plt.tight_layout()\n",
    "plt.show()"
   ]
  },
  {
   "cell_type": "code",
   "execution_count": 6,
   "id": "4376853a",
   "metadata": {},
   "outputs": [
    {
     "data": {
      "text/plain": [
       "Metro      50308\n",
       "Country    20695\n",
       "Name: STAT_DIV_NAME, dtype: int64"
      ]
     },
     "execution_count": 6,
     "metadata": {},
     "output_type": "execute_result"
    }
   ],
   "source": [
    "# check value counts for STA_DIV_NAME\n",
    "crashes[\"STAT_DIV_NAME\"].value_counts()"
   ]
  },
  {
   "cell_type": "code",
   "execution_count": 7,
   "id": "3d8b271a",
   "metadata": {},
   "outputs": [
    {
     "data": {
      "image/png": "[encoded data removed]",
      "text/plain": [
       "<Figure size 640x480 with 1 Axes>"
      ]
     },
     "metadata": {},
     "output_type": "display_data"
    }
   ],
   "source": [
    "# compare counts of metro and country counts\n",
    "labels = [\"Metro\", \"Country\"]\n",
    "\n",
    "# The values of each section of the pie chart\n",
    "sizes = [52938, 23461]\n",
    "\n",
    "# The colors of each section of the pie chart\n",
    "colors = [\"royalblue\", \"grey\"]\n",
    "\n",
    "\n",
    "explode = (0.1, 0,)\n",
    "\n",
    "plt.figure(figsize=(8, 6), dpi=80)\n",
    "plt.pie(sizes,labels = labels,explode = explode,colors = colors, autopct = \"%1.1f%%\",shadow = True,textprops={'fontsize': 16})\n",
    "plt.title(\"Metro Vs Country Accident Percentages\")\n",
    "\n",
    "plt.show()"
   ]
  },
  {
   "cell_type": "code",
   "execution_count": 8,
   "id": "4d85d411",
   "metadata": {},
   "outputs": [
    {
     "data": {
      "text/plain": [
       "MELB_URBAN                                 43998\n",
       "RURAL_VICTORIA                             14959\n",
       "LARGE_PROVINCIAL_CITIES                     4016\n",
       "SMALL_CITIES                                3585\n",
       "TOWNS                                       2114\n",
       "MELBOURNE_CBD                                588\n",
       "SMALL_TOWNS                                  588\n",
       "MELB_URBAN,RURAL_VICTORIA                    388\n",
       "MELB_URBAN,MELBOURNE_CBD                     362\n",
       "RURAL_VICTORIA,SMALL_CITIES                  133\n",
       "RURAL_VICTORIA,TOWNS                         119\n",
       "LARGE_PROVINCIAL_CITIES,RURAL_VICTORIA        56\n",
       "RURAL_VICTORIA,SMALL_TOWNS                    54\n",
       "MELB_URBAN,SMALL_TOWNS                        32\n",
       "SMALL_CITIES,SMALL_TOWNS                       4\n",
       "RURAL_VICTORIA,MELB_URBAN                      3\n",
       "RURAL_VICTORIA,SMALL_CITIES,SMALL_TOWNS        2\n",
       "SMALL_CITIES,RURAL_VICTORIA                    2\n",
       "Name: DEG_URBAN_ALL, dtype: int64"
      ]
     },
     "execution_count": 8,
     "metadata": {},
     "output_type": "execute_result"
    }
   ],
   "source": [
    "# check values counts for urban area\n",
    "crashes[\"DEG_URBAN_ALL\"].value_counts()"
   ]
  },
  {
   "cell_type": "code",
   "execution_count": 9,
   "id": "18f82455",
   "metadata": {},
   "outputs": [
    {
     "data": {
      "text/plain": [
       "METROPOLITAN SOUTH EAST REGION                                   25185\n",
       "METROPOLITAN NORTH WEST REGION                                   24875\n",
       "SOUTH WESTERN REGION                                              5362\n",
       "EASTERN REGION,EASTERN REGION                                     3980\n",
       "NORTHERN REGION                                                   3845\n",
       "NORTH EASTERN REGION                                              3815\n",
       "WESTERN REGION                                                    3648\n",
       "METROPOLITAN SOUTH EAST REGION,METROPOLITAN NORTH WEST REGION      200\n",
       "EASTERN REGION,EASTERN REGION,METROPOLITAN SOUTH EAST REGION        25\n",
       "WESTERN REGION,SOUTH WESTERN REGION                                 21\n",
       "WESTERN REGION,NORTHERN REGION                                      12\n",
       "NORTH EASTERN REGION,METROPOLITAN SOUTH EAST REGION                 11\n",
       "NORTH EASTERN REGION,NORTHERN REGION                                 8\n",
       "NORTHERN REGION,METROPOLITAN NORTH WEST REGION                       6\n",
       "METROPOLITAN NORTH WEST REGION,METROPOLITAN SOUTH EAST REGION        3\n",
       "NORTH EASTERN REGION,METROPOLITAN NORTH WEST REGION                  3\n",
       "EASTERN REGION,EASTERN REGION,NORTH EASTERN REGION                   2\n",
       "NORTHERN REGION,NORTH EASTERN REGION                                 1\n",
       "WESTERN REGION,METROPOLITAN NORTH WEST REGION                        1\n",
       "Name: REGION_NAME_ALL, dtype: int64"
      ]
     },
     "execution_count": 9,
     "metadata": {},
     "output_type": "execute_result"
    }
   ],
   "source": [
    "# check value counts for regions\n",
    "crashes[\"REGION_NAME_ALL\"].value_counts()"
   ]
  }
 ],
 "metadata": {
  "kernelspec": {
   "display_name": "Python 3",
   "language": "python",
   "name": "python3"
  },
  "language_info": {
   "codemirror_mode": {
    "name": "ipython",
    "version": 3
   },
   "file_extension": ".py",
   "mimetype": "text/x-python",
   "name": "python",
   "nbconvert_exporter": "python",
   "pygments_lexer": "ipython3",
   "version": "3.8.2"
  }
 },
 "nbformat": 4,
 "nbformat_minor": 5
}
