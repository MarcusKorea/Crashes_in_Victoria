{
 "cells": [
  {
   "cell_type": "markdown",
   "id": "fc3c804b",
   "metadata": {},
   "source": [
    "### Legend for accidents data columns description"
   ]
  },
  {
   "cell_type": "markdown",
   "id": "cd5edd6c",
   "metadata": {},
   "source": [
    "http://data.vicroads.vic.gov.au/metadata/Attribute_Table_Viewlist_7ac33a09.asp.html"
   ]
  },
  {
   "cell_type": "markdown",
   "id": "bc7bc06b",
   "metadata": {},
   "source": [
    "### Data cleaning process"
   ]
  },
  {
   "cell_type": "code",
   "execution_count": 18,
   "id": "bc9ab55a",
   "metadata": {},
   "outputs": [],
   "source": [
    "import pandas as pd\n",
    "import datetime as dt\n",
    "from datetime import date\n",
    "import calendar\n"
   ]
  },
  {
   "cell_type": "code",
   "execution_count": 19,
   "id": "7edff6de",
   "metadata": {},
   "outputs": [
    {
     "data": {
      "text/plain": [
       "(77513, 65)"
      ]
     },
     "execution_count": 19,
     "metadata": {},
     "output_type": "execute_result"
    }
   ],
   "source": [
    "path = 'raw_data/road_crashes.csv'\n",
    "crashes = pd.read_csv(path)\n",
    "# rename CSV File\n",
    "crashes.shape"
   ]
  },
  {
   "cell_type": "code",
   "execution_count": 20,
   "id": "7e97cf1a",
   "metadata": {},
   "outputs": [
    {
     "data": {
      "text/html": [
       "<div>\n",
       "<style scoped>\n",
       "    .dataframe tbody tr th:only-of-type {\n",
       "        vertical-align: middle;\n",
       "    }\n",
       "\n",
       "    .dataframe tbody tr th {\n",
       "        vertical-align: top;\n",
       "    }\n",
       "\n",
       "    .dataframe thead th {\n",
       "        text-align: right;\n",
       "    }\n",
       "</style>\n",
       "<table border=\"1\" class=\"dataframe\">\n",
       "  <thead>\n",
       "    <tr style=\"text-align: right;\">\n",
       "      <th></th>\n",
       "      <th>OBJECTID</th>\n",
       "      <th>ACCIDENT_NO</th>\n",
       "      <th>ABS_CODE</th>\n",
       "      <th>ACCIDENT_STATUS</th>\n",
       "      <th>ACCIDENT_DATE</th>\n",
       "      <th>ACCIDENT_TIME</th>\n",
       "      <th>ALCOHOLTIME</th>\n",
       "      <th>ACCIDENT_TYPE</th>\n",
       "      <th>DAY_OF_WEEK</th>\n",
       "      <th>DCA_CODE</th>\n",
       "      <th>...</th>\n",
       "      <th>PUBLICVEHICLE</th>\n",
       "      <th>DEG_URBAN_NAME</th>\n",
       "      <th>DEG_URBAN_ALL</th>\n",
       "      <th>LGA_NAME_ALL</th>\n",
       "      <th>REGION_NAME_ALL</th>\n",
       "      <th>RMA</th>\n",
       "      <th>RMA_ALL</th>\n",
       "      <th>DIVIDED</th>\n",
       "      <th>DIVIDED_ALL</th>\n",
       "      <th>STAT_DIV_NAME</th>\n",
       "    </tr>\n",
       "  </thead>\n",
       "  <tbody>\n",
       "    <tr>\n",
       "      <th>0</th>\n",
       "      <td>1</td>\n",
       "      <td>T20140013514</td>\n",
       "      <td>ABS to receive accident</td>\n",
       "      <td>Unfinished</td>\n",
       "      <td>2014/07/01</td>\n",
       "      <td>13:09:00</td>\n",
       "      <td>No</td>\n",
       "      <td>Collision with vehicle</td>\n",
       "      <td>Monday</td>\n",
       "      <td>RIGHT THROUGH</td>\n",
       "      <td>...</td>\n",
       "      <td>0.0</td>\n",
       "      <td>TOWNS</td>\n",
       "      <td>TOWNS</td>\n",
       "      <td>MITCHELL</td>\n",
       "      <td>NORTHERN REGION</td>\n",
       "      <td>Arterial Highway</td>\n",
       "      <td>Local Road,Arterial Highway</td>\n",
       "      <td>Undivided</td>\n",
       "      <td>Undivided</td>\n",
       "      <td>Country</td>\n",
       "    </tr>\n",
       "    <tr>\n",
       "      <th>1</th>\n",
       "      <td>2</td>\n",
       "      <td>T20140013549</td>\n",
       "      <td>ABS to receive accident</td>\n",
       "      <td>Finished</td>\n",
       "      <td>2014/07/02</td>\n",
       "      <td>00:01:00</td>\n",
       "      <td>Yes</td>\n",
       "      <td>Collision with vehicle</td>\n",
       "      <td>Wednesday</td>\n",
       "      <td>U TURN</td>\n",
       "      <td>...</td>\n",
       "      <td>0.0</td>\n",
       "      <td>MELB_URBAN</td>\n",
       "      <td>MELB_URBAN</td>\n",
       "      <td>WHITTLESEA</td>\n",
       "      <td>METROPOLITAN NORTH WEST REGION</td>\n",
       "      <td>Arterial Other</td>\n",
       "      <td>Arterial Other</td>\n",
       "      <td>Undivided</td>\n",
       "      <td>Undivided</td>\n",
       "      <td>Metro</td>\n",
       "    </tr>\n",
       "    <tr>\n",
       "      <th>2</th>\n",
       "      <td>3</td>\n",
       "      <td>T20140013561</td>\n",
       "      <td>ABS to receive accident</td>\n",
       "      <td>Finished</td>\n",
       "      <td>2014/07/02</td>\n",
       "      <td>08:30:00</td>\n",
       "      <td>No</td>\n",
       "      <td>collision with some other object</td>\n",
       "      <td>Wednesday</td>\n",
       "      <td>STRUCK OBJECT ON CARRIAGEWAY</td>\n",
       "      <td>...</td>\n",
       "      <td>0.0</td>\n",
       "      <td>MELB_URBAN</td>\n",
       "      <td>MELB_URBAN</td>\n",
       "      <td>KNOX</td>\n",
       "      <td>METROPOLITAN SOUTH EAST REGION</td>\n",
       "      <td>Local Road</td>\n",
       "      <td>Local Road</td>\n",
       "      <td>Undivided</td>\n",
       "      <td>Undivided</td>\n",
       "      <td>Metro</td>\n",
       "    </tr>\n",
       "    <tr>\n",
       "      <th>3</th>\n",
       "      <td>4</td>\n",
       "      <td>T20140013563</td>\n",
       "      <td>ABS to receive accident</td>\n",
       "      <td>Finished</td>\n",
       "      <td>2014/07/02</td>\n",
       "      <td>10:08:00</td>\n",
       "      <td>No</td>\n",
       "      <td>Collision with vehicle</td>\n",
       "      <td>Wednesday</td>\n",
       "      <td>CROSS TRAFFIC(INTERSECTIONS ONLY)</td>\n",
       "      <td>...</td>\n",
       "      <td>0.0</td>\n",
       "      <td>MELB_URBAN</td>\n",
       "      <td>MELB_URBAN</td>\n",
       "      <td>WYNDHAM</td>\n",
       "      <td>METROPOLITAN NORTH WEST REGION</td>\n",
       "      <td>Arterial Other</td>\n",
       "      <td>Arterial Other,Local Road</td>\n",
       "      <td>Divided</td>\n",
       "      <td>Undivided,Divided</td>\n",
       "      <td>Metro</td>\n",
       "    </tr>\n",
       "    <tr>\n",
       "      <th>4</th>\n",
       "      <td>5</td>\n",
       "      <td>T20140013567</td>\n",
       "      <td>ABS to receive accident</td>\n",
       "      <td>Finished</td>\n",
       "      <td>2014/07/02</td>\n",
       "      <td>09:12:00</td>\n",
       "      <td>No</td>\n",
       "      <td>Collision with vehicle</td>\n",
       "      <td>Wednesday</td>\n",
       "      <td>RIGHT THROUGH</td>\n",
       "      <td>...</td>\n",
       "      <td>0.0</td>\n",
       "      <td>MELB_URBAN</td>\n",
       "      <td>MELB_URBAN</td>\n",
       "      <td>WYNDHAM</td>\n",
       "      <td>METROPOLITAN NORTH WEST REGION</td>\n",
       "      <td>Arterial Other</td>\n",
       "      <td>Arterial Other,Local Road</td>\n",
       "      <td>Undivided</td>\n",
       "      <td>Undivided</td>\n",
       "      <td>Metro</td>\n",
       "    </tr>\n",
       "  </tbody>\n",
       "</table>\n",
       "<p>5 rows × 56 columns</p>\n",
       "</div>"
      ],
      "text/plain": [
       "   OBJECTID   ACCIDENT_NO                 ABS_CODE ACCIDENT_STATUS  \\\n",
       "0         1  T20140013514  ABS to receive accident      Unfinished   \n",
       "1         2  T20140013549  ABS to receive accident        Finished   \n",
       "2         3  T20140013561  ABS to receive accident        Finished   \n",
       "3         4  T20140013563  ABS to receive accident        Finished   \n",
       "4         5  T20140013567  ABS to receive accident        Finished   \n",
       "\n",
       "  ACCIDENT_DATE ACCIDENT_TIME ALCOHOLTIME                     ACCIDENT_TYPE  \\\n",
       "0    2014/07/01      13:09:00          No            Collision with vehicle   \n",
       "1    2014/07/02      00:01:00         Yes            Collision with vehicle   \n",
       "2    2014/07/02      08:30:00          No  collision with some other object   \n",
       "3    2014/07/02      10:08:00          No            Collision with vehicle   \n",
       "4    2014/07/02      09:12:00          No            Collision with vehicle   \n",
       "\n",
       "  DAY_OF_WEEK                           DCA_CODE  ... PUBLICVEHICLE  \\\n",
       "0      Monday                      RIGHT THROUGH  ...           0.0   \n",
       "1   Wednesday                             U TURN  ...           0.0   \n",
       "2   Wednesday       STRUCK OBJECT ON CARRIAGEWAY  ...           0.0   \n",
       "3   Wednesday  CROSS TRAFFIC(INTERSECTIONS ONLY)  ...           0.0   \n",
       "4   Wednesday                      RIGHT THROUGH  ...           0.0   \n",
       "\n",
       "  DEG_URBAN_NAME DEG_URBAN_ALL LGA_NAME_ALL                 REGION_NAME_ALL  \\\n",
       "0          TOWNS         TOWNS     MITCHELL                 NORTHERN REGION   \n",
       "1     MELB_URBAN    MELB_URBAN   WHITTLESEA  METROPOLITAN NORTH WEST REGION   \n",
       "2     MELB_URBAN    MELB_URBAN         KNOX  METROPOLITAN SOUTH EAST REGION   \n",
       "3     MELB_URBAN    MELB_URBAN      WYNDHAM  METROPOLITAN NORTH WEST REGION   \n",
       "4     MELB_URBAN    MELB_URBAN      WYNDHAM  METROPOLITAN NORTH WEST REGION   \n",
       "\n",
       "                RMA                      RMA_ALL    DIVIDED  \\\n",
       "0  Arterial Highway  Local Road,Arterial Highway  Undivided   \n",
       "1    Arterial Other               Arterial Other  Undivided   \n",
       "2        Local Road                   Local Road  Undivided   \n",
       "3    Arterial Other    Arterial Other,Local Road    Divided   \n",
       "4    Arterial Other    Arterial Other,Local Road  Undivided   \n",
       "\n",
       "         DIVIDED_ALL STAT_DIV_NAME  \n",
       "0          Undivided       Country  \n",
       "1          Undivided         Metro  \n",
       "2          Undivided         Metro  \n",
       "3  Undivided,Divided         Metro  \n",
       "4          Undivided         Metro  \n",
       "\n",
       "[5 rows x 56 columns]"
      ]
     },
     "execution_count": 20,
     "metadata": {},
     "output_type": "execute_result"
    }
   ],
   "source": [
    "# Removed these columns as the information they contained were not needed.\n",
    "\n",
    "# store not needed columns in a list\n",
    "removed_columns = [\"X\",\"Y\",\"NODE_ID\",\"NODE_TYPE\",'VICGRID_X', 'VICGRID_Y','INJ_OR_FATAL','SRNS','SRNS_ALL']\n",
    "\n",
    "# drop the columns from the data frame\n",
    "clean_crashes = crashes.drop(removed_columns,axis =1)\n",
    "\n",
    "clean_crashes.head()\n",
    "# node_id was assumed to be location of a particular node, it was removed as we have latitude and longtidue.\n",
    "\n",
    "# node type removed as road geomtry gave us the same info\n",
    "\n",
    "# removed inj or fatal column as we have columns for injurys,fatals etc already\n",
    "\n",
    "# removed SRNS and SRNS_ALL as more than 50% of the column data was missing\n"
   ]
  },
  {
   "cell_type": "code",
   "execution_count": 21,
   "id": "6f3a8cbc",
   "metadata": {},
   "outputs": [
    {
     "data": {
      "text/plain": [
       "0.0    76824\n",
       "1.0      661\n",
       "2.0       22\n",
       "3.0        4\n",
       "8.0        1\n",
       "Name: PED_CYCLIST_5_12, dtype: int64"
      ]
     },
     "execution_count": 21,
     "metadata": {},
     "output_type": "execute_result"
    }
   ],
   "source": [
    "clean_crashes[\"PED_CYCLIST_5_12\"].value_counts()\n",
    "\n",
    "# rename columns so they make more sense/easier to read/type"
   ]
  },
  {
   "cell_type": "code",
   "execution_count": 22,
   "id": "f297a27f",
   "metadata": {},
   "outputs": [
    {
     "data": {
      "text/plain": [
       "ABS to receive accident                   72307\n",
       "Non ABS accident                           4968\n",
       "Heart attk/suicide/death by nat.causes      238\n",
       "Name: ABS_CODE, dtype: int64"
      ]
     },
     "execution_count": 22,
     "metadata": {},
     "output_type": "execute_result"
    }
   ],
   "source": [
    "clean_crashes[\"ABS_CODE\"].value_counts()"
   ]
  },
  {
   "cell_type": "code",
   "execution_count": 23,
   "id": "f71d5729",
   "metadata": {},
   "outputs": [
    {
     "data": {
      "text/plain": [
       "Driving accident         77275\n",
       "Death before accident      238\n",
       "Name: ABS_CODE, dtype: int64"
      ]
     },
     "execution_count": 23,
     "metadata": {},
     "output_type": "execute_result"
    }
   ],
   "source": [
    "#Replace values inside \n",
    "clean_crashes[\"ABS_CODE\"] = clean_crashes[\"ABS_CODE\"].replace({\"ABS to receive accident\":\"Driving accident\",\n",
    "                                       \"Non ABS accident\": \"Driving accident\",\n",
    "                                       \"Heart attk/suicide/death by nat.causes\": \"Death before accident\"})\n",
    "clean_crashes[\"ABS_CODE\"].value_counts()"
   ]
  },
  {
   "cell_type": "markdown",
   "id": "7a906116",
   "metadata": {},
   "source": [
    "### Dealing with NA values"
   ]
  },
  {
   "cell_type": "code",
   "execution_count": 24,
   "id": "2744ae55",
   "metadata": {},
   "outputs": [
    {
     "data": {
      "text/plain": [
       "OBJECTID                0\n",
       "ACCIDENT_NO             0\n",
       "ABS_CODE                0\n",
       "ACCIDENT_STATUS         0\n",
       "ACCIDENT_DATE           0\n",
       "ACCIDENT_TIME           0\n",
       "ALCOHOLTIME             0\n",
       "ACCIDENT_TYPE           0\n",
       "DAY_OF_WEEK          2360\n",
       "DCA_CODE                0\n",
       "HIT_RUN_FLAG            0\n",
       "LIGHT_CONDITION         0\n",
       "POLICE_ATTEND           0\n",
       "ROAD_GEOMETRY           0\n",
       "SEVERITY                1\n",
       "SPEED_ZONE              0\n",
       "RUN_OFFROAD             0\n",
       "LONGITUDE            1106\n",
       "LATITUDE             1106\n",
       "LGA_NAME                0\n",
       "REGION_NAME             0\n",
       "TOTAL_PERSONS           1\n",
       "FATALITY                1\n",
       "SERIOUSINJURY           1\n",
       "OTHERINJURY             1\n",
       "NONINJURED              1\n",
       "MALES                   1\n",
       "FEMALES                 1\n",
       "BICYCLIST               1\n",
       "PASSENGER               1\n",
       "DRIVER                  1\n",
       "PEDESTRIAN              1\n",
       "PILLION                 1\n",
       "MOTORIST                1\n",
       "UNKNOWN                 1\n",
       "PED_CYCLIST_5_12        1\n",
       "PED_CYCLIST_13_18       1\n",
       "OLD_PEDESTRIAN          1\n",
       "OLD_DRIVER              1\n",
       "YOUNG_DRIVER            1\n",
       "ALCOHOL_RELATED         1\n",
       "UNLICENCSED             1\n",
       "NO_OF_VEHICLES          5\n",
       "HEAVYVEHICLE            5\n",
       "PASSENGERVEHICLE        5\n",
       "MOTORCYCLE              5\n",
       "PUBLICVEHICLE           5\n",
       "DEG_URBAN_NAME          0\n",
       "DEG_URBAN_ALL           0\n",
       "LGA_NAME_ALL            0\n",
       "REGION_NAME_ALL         1\n",
       "RMA                  5452\n",
       "RMA_ALL              5452\n",
       "DIVIDED              5452\n",
       "DIVIDED_ALL          5452\n",
       "STAT_DIV_NAME           2\n",
       "dtype: int64"
      ]
     },
     "execution_count": 24,
     "metadata": {},
     "output_type": "execute_result"
    }
   ],
   "source": [
    "# check how many NA values each column has\n",
    "clean_crashes.isna().sum()"
   ]
  },
  {
   "cell_type": "code",
   "execution_count": 25,
   "id": "852970b3",
   "metadata": {},
   "outputs": [
    {
     "data": {
      "text/html": [
       "<div>\n",
       "<style scoped>\n",
       "    .dataframe tbody tr th:only-of-type {\n",
       "        vertical-align: middle;\n",
       "    }\n",
       "\n",
       "    .dataframe tbody tr th {\n",
       "        vertical-align: top;\n",
       "    }\n",
       "\n",
       "    .dataframe thead th {\n",
       "        text-align: right;\n",
       "    }\n",
       "</style>\n",
       "<table border=\"1\" class=\"dataframe\">\n",
       "  <thead>\n",
       "    <tr style=\"text-align: right;\">\n",
       "      <th></th>\n",
       "      <th>OBJECTID</th>\n",
       "      <th>ACCIDENT_NO</th>\n",
       "      <th>ABS_CODE</th>\n",
       "      <th>ACCIDENT_STATUS</th>\n",
       "      <th>ACCIDENT_DATE</th>\n",
       "      <th>ACCIDENT_TIME</th>\n",
       "      <th>ALCOHOLTIME</th>\n",
       "      <th>ACCIDENT_TYPE</th>\n",
       "      <th>DAY_OF_WEEK</th>\n",
       "      <th>DCA_CODE</th>\n",
       "      <th>...</th>\n",
       "      <th>PUBLICVEHICLE</th>\n",
       "      <th>DEG_URBAN_NAME</th>\n",
       "      <th>DEG_URBAN_ALL</th>\n",
       "      <th>LGA_NAME_ALL</th>\n",
       "      <th>REGION_NAME_ALL</th>\n",
       "      <th>RMA</th>\n",
       "      <th>RMA_ALL</th>\n",
       "      <th>DIVIDED</th>\n",
       "      <th>DIVIDED_ALL</th>\n",
       "      <th>STAT_DIV_NAME</th>\n",
       "    </tr>\n",
       "  </thead>\n",
       "  <tbody>\n",
       "    <tr>\n",
       "      <th>2</th>\n",
       "      <td>3</td>\n",
       "      <td>T20140013561</td>\n",
       "      <td>Driving accident</td>\n",
       "      <td>Finished</td>\n",
       "      <td>2014/07/02</td>\n",
       "      <td>08:30:00</td>\n",
       "      <td>No</td>\n",
       "      <td>collision with some other object</td>\n",
       "      <td>Wednesday</td>\n",
       "      <td>STRUCK OBJECT ON CARRIAGEWAY</td>\n",
       "      <td>...</td>\n",
       "      <td>0.0</td>\n",
       "      <td>MELB_URBAN</td>\n",
       "      <td>MELB_URBAN</td>\n",
       "      <td>KNOX</td>\n",
       "      <td>METROPOLITAN SOUTH EAST REGION</td>\n",
       "      <td>Local Road</td>\n",
       "      <td>Local Road</td>\n",
       "      <td>Undivided</td>\n",
       "      <td>Undivided</td>\n",
       "      <td>Metro</td>\n",
       "    </tr>\n",
       "    <tr>\n",
       "      <th>9</th>\n",
       "      <td>10</td>\n",
       "      <td>T20140013589</td>\n",
       "      <td>Driving accident</td>\n",
       "      <td>Finished</td>\n",
       "      <td>2014/07/01</td>\n",
       "      <td>18:00:00</td>\n",
       "      <td>Yes</td>\n",
       "      <td>Collision with vehicle</td>\n",
       "      <td>Tuesday</td>\n",
       "      <td>LANE CHANGE LEFT (NOT OVERTAKING)</td>\n",
       "      <td>...</td>\n",
       "      <td>0.0</td>\n",
       "      <td>MELB_URBAN</td>\n",
       "      <td>MELB_URBAN</td>\n",
       "      <td>HOBSONS BAY</td>\n",
       "      <td>METROPOLITAN NORTH WEST REGION</td>\n",
       "      <td>Freeway</td>\n",
       "      <td>Freeway</td>\n",
       "      <td>Divided</td>\n",
       "      <td>Divided</td>\n",
       "      <td>Metro</td>\n",
       "    </tr>\n",
       "    <tr>\n",
       "      <th>16</th>\n",
       "      <td>17</td>\n",
       "      <td>T20140013619</td>\n",
       "      <td>Driving accident</td>\n",
       "      <td>Finished</td>\n",
       "      <td>2014/07/02</td>\n",
       "      <td>18:00:00</td>\n",
       "      <td>Yes</td>\n",
       "      <td>Collision with vehicle</td>\n",
       "      <td>Wednesday</td>\n",
       "      <td>OTHER MANOEUVRING NOT INCLUDED IN DCAs 140-148</td>\n",
       "      <td>...</td>\n",
       "      <td>0.0</td>\n",
       "      <td>LARGE_PROVINCIAL_CITIES</td>\n",
       "      <td>LARGE_PROVINCIAL_CITIES</td>\n",
       "      <td>BENDIGO</td>\n",
       "      <td>NORTHERN REGION</td>\n",
       "      <td>NaN</td>\n",
       "      <td>NaN</td>\n",
       "      <td>NaN</td>\n",
       "      <td>NaN</td>\n",
       "      <td>Country</td>\n",
       "    </tr>\n",
       "    <tr>\n",
       "      <th>19</th>\n",
       "      <td>20</td>\n",
       "      <td>T20140013508</td>\n",
       "      <td>Driving accident</td>\n",
       "      <td>Finished</td>\n",
       "      <td>2014/07/01</td>\n",
       "      <td>06:50:00</td>\n",
       "      <td>No</td>\n",
       "      <td>Collision with vehicle</td>\n",
       "      <td>Tuesday</td>\n",
       "      <td>RIGHT NEAR (INTERSECTIONS ONLY)</td>\n",
       "      <td>...</td>\n",
       "      <td>0.0</td>\n",
       "      <td>MELB_URBAN</td>\n",
       "      <td>MELB_URBAN</td>\n",
       "      <td>KNOX</td>\n",
       "      <td>METROPOLITAN SOUTH EAST REGION</td>\n",
       "      <td>Arterial Other</td>\n",
       "      <td>Arterial Other,Local Road</td>\n",
       "      <td>Undivided</td>\n",
       "      <td>Undivided</td>\n",
       "      <td>Metro</td>\n",
       "    </tr>\n",
       "    <tr>\n",
       "      <th>23</th>\n",
       "      <td>24</td>\n",
       "      <td>T20140013599</td>\n",
       "      <td>Driving accident</td>\n",
       "      <td>Finished</td>\n",
       "      <td>2014/07/02</td>\n",
       "      <td>15:41:00</td>\n",
       "      <td>No</td>\n",
       "      <td>Collision with a fixed object</td>\n",
       "      <td>Wednesday</td>\n",
       "      <td>LEFT OFF CARRIAGEWAY INTO OBJECT/PARKED VEHICLE</td>\n",
       "      <td>...</td>\n",
       "      <td>0.0</td>\n",
       "      <td>MELB_URBAN</td>\n",
       "      <td>MELB_URBAN</td>\n",
       "      <td>KNOX</td>\n",
       "      <td>METROPOLITAN SOUTH EAST REGION</td>\n",
       "      <td>Local Road</td>\n",
       "      <td>Local Road</td>\n",
       "      <td>Undivided</td>\n",
       "      <td>Undivided</td>\n",
       "      <td>Metro</td>\n",
       "    </tr>\n",
       "  </tbody>\n",
       "</table>\n",
       "<p>5 rows × 56 columns</p>\n",
       "</div>"
      ],
      "text/plain": [
       "    OBJECTID   ACCIDENT_NO          ABS_CODE ACCIDENT_STATUS ACCIDENT_DATE  \\\n",
       "2          3  T20140013561  Driving accident        Finished    2014/07/02   \n",
       "9         10  T20140013589  Driving accident        Finished    2014/07/01   \n",
       "16        17  T20140013619  Driving accident        Finished    2014/07/02   \n",
       "19        20  T20140013508  Driving accident        Finished    2014/07/01   \n",
       "23        24  T20140013599  Driving accident        Finished    2014/07/02   \n",
       "\n",
       "   ACCIDENT_TIME ALCOHOLTIME                     ACCIDENT_TYPE DAY_OF_WEEK  \\\n",
       "2       08:30:00          No  collision with some other object   Wednesday   \n",
       "9       18:00:00         Yes            Collision with vehicle     Tuesday   \n",
       "16      18:00:00         Yes            Collision with vehicle   Wednesday   \n",
       "19      06:50:00          No            Collision with vehicle     Tuesday   \n",
       "23      15:41:00          No     Collision with a fixed object   Wednesday   \n",
       "\n",
       "                                           DCA_CODE  ... PUBLICVEHICLE  \\\n",
       "2                      STRUCK OBJECT ON CARRIAGEWAY  ...           0.0   \n",
       "9                 LANE CHANGE LEFT (NOT OVERTAKING)  ...           0.0   \n",
       "16   OTHER MANOEUVRING NOT INCLUDED IN DCAs 140-148  ...           0.0   \n",
       "19                  RIGHT NEAR (INTERSECTIONS ONLY)  ...           0.0   \n",
       "23  LEFT OFF CARRIAGEWAY INTO OBJECT/PARKED VEHICLE  ...           0.0   \n",
       "\n",
       "             DEG_URBAN_NAME            DEG_URBAN_ALL LGA_NAME_ALL  \\\n",
       "2                MELB_URBAN               MELB_URBAN         KNOX   \n",
       "9                MELB_URBAN               MELB_URBAN  HOBSONS BAY   \n",
       "16  LARGE_PROVINCIAL_CITIES  LARGE_PROVINCIAL_CITIES      BENDIGO   \n",
       "19               MELB_URBAN               MELB_URBAN         KNOX   \n",
       "23               MELB_URBAN               MELB_URBAN         KNOX   \n",
       "\n",
       "                   REGION_NAME_ALL             RMA                    RMA_ALL  \\\n",
       "2   METROPOLITAN SOUTH EAST REGION      Local Road                 Local Road   \n",
       "9   METROPOLITAN NORTH WEST REGION         Freeway                    Freeway   \n",
       "16                 NORTHERN REGION             NaN                        NaN   \n",
       "19  METROPOLITAN SOUTH EAST REGION  Arterial Other  Arterial Other,Local Road   \n",
       "23  METROPOLITAN SOUTH EAST REGION      Local Road                 Local Road   \n",
       "\n",
       "      DIVIDED  DIVIDED_ALL STAT_DIV_NAME  \n",
       "2   Undivided    Undivided         Metro  \n",
       "9     Divided      Divided         Metro  \n",
       "16        NaN          NaN       Country  \n",
       "19  Undivided    Undivided         Metro  \n",
       "23  Undivided    Undivided         Metro  \n",
       "\n",
       "[5 rows x 56 columns]"
      ]
     },
     "execution_count": 25,
     "metadata": {},
     "output_type": "execute_result"
    }
   ],
   "source": [
    "# check where long/lat is NA\n",
    "clean_crashes[clean_crashes[\"LONGITUDE\"].isna()].head()\n",
    "clean_crashes[clean_crashes[\"LATITUDE\"].isna()].head()"
   ]
  },
  {
   "cell_type": "code",
   "execution_count": 26,
   "id": "06dae5f9",
   "metadata": {},
   "outputs": [],
   "source": [
    "# first change DAY_OF_WEEK NAN\n",
    "# index of missing day of week values\n",
    "missing_dow = clean_crashes.index[clean_crashes[\"DAY_OF_WEEK\"].isna()]\n",
    "\n",
    "for index in missing_dow.tolist():\n",
    "    clean_crashes.iloc[index,8] = pd.to_datetime(clean_crashes.iloc[index,4]).day_name()\n",
    "\n",
    "# check if NA have been removed\n",
    "clean_crashes[\"DAY_OF_WEEK\"].value_counts()\n",
    "\n",
    "# No Nan Values left at DAY_OF_WEEK column\n",
    "\n",
    "# For missing lat/long data, either search for lat/long of the place where the accident occured, or remove (depending on row)\n",
    "\n",
    "# Remove rows that have less than 6 na values after we figure out what to do with columns with high Nan count\n",
    "\n",
    "# Remove these rows as they have extremly high amount of NA's\n",
    "remove_col = [\"RMA\",\"RMA_ALL\",\"DIVIDED\",\"DIVIDED_ALL\"]\n",
    "clean_crashes = clean_crashes.drop(remove_col,axis =1)\n",
    "\n",
    "# remove lat,long values that have NA\n",
    "clean_crashes = clean_crashes.dropna()\n",
    "\n",
    "\n",
    "# check if all na values are gone\n",
    "clean_crashes.isna().sum()\n",
    "\n",
    "clean_crashes.to_csv('cleaned_data/all_crashes.csv')\n"
   ]
  },
  {
   "cell_type": "markdown",
   "id": "4160f582",
   "metadata": {},
   "source": [
    "### Check variable types"
   ]
  },
  {
   "cell_type": "code",
   "execution_count": 27,
   "id": "23a35169",
   "metadata": {
    "scrolled": true
   },
   "outputs": [
    {
     "name": "stdout",
     "output_type": "stream",
     "text": [
      "<class 'pandas.core.frame.DataFrame'>\n",
      "Int64Index: 76399 entries, 0 to 77512\n",
      "Data columns (total 52 columns):\n",
      " #   Column             Non-Null Count  Dtype  \n",
      "---  ------             --------------  -----  \n",
      " 0   OBJECTID           76399 non-null  int64  \n",
      " 1   ACCIDENT_NO        76399 non-null  object \n",
      " 2   ABS_CODE           76399 non-null  object \n",
      " 3   ACCIDENT_STATUS    76399 non-null  object \n",
      " 4   ACCIDENT_DATE      76399 non-null  object \n",
      " 5   ACCIDENT_TIME      76399 non-null  object \n",
      " 6   ALCOHOLTIME        76399 non-null  object \n",
      " 7   ACCIDENT_TYPE      76399 non-null  object \n",
      " 8   DAY_OF_WEEK        76399 non-null  object \n",
      " 9   DCA_CODE           76399 non-null  object \n",
      " 10  HIT_RUN_FLAG       76399 non-null  object \n",
      " 11  LIGHT_CONDITION    76399 non-null  object \n",
      " 12  POLICE_ATTEND      76399 non-null  object \n",
      " 13  ROAD_GEOMETRY      76399 non-null  object \n",
      " 14  SEVERITY           76399 non-null  object \n",
      " 15  SPEED_ZONE         76399 non-null  object \n",
      " 16  RUN_OFFROAD        76399 non-null  object \n",
      " 17  LONGITUDE          76399 non-null  float64\n",
      " 18  LATITUDE           76399 non-null  float64\n",
      " 19  LGA_NAME           76399 non-null  object \n",
      " 20  REGION_NAME        76399 non-null  object \n",
      " 21  TOTAL_PERSONS      76399 non-null  float64\n",
      " 22  FATALITY           76399 non-null  float64\n",
      " 23  SERIOUSINJURY      76399 non-null  float64\n",
      " 24  OTHERINJURY        76399 non-null  float64\n",
      " 25  NONINJURED         76399 non-null  float64\n",
      " 26  MALES              76399 non-null  float64\n",
      " 27  FEMALES            76399 non-null  float64\n",
      " 28  BICYCLIST          76399 non-null  float64\n",
      " 29  PASSENGER          76399 non-null  float64\n",
      " 30  DRIVER             76399 non-null  float64\n",
      " 31  PEDESTRIAN         76399 non-null  float64\n",
      " 32  PILLION            76399 non-null  float64\n",
      " 33  MOTORIST           76399 non-null  float64\n",
      " 34  UNKNOWN            76399 non-null  float64\n",
      " 35  PED_CYCLIST_5_12   76399 non-null  float64\n",
      " 36  PED_CYCLIST_13_18  76399 non-null  float64\n",
      " 37  OLD_PEDESTRIAN     76399 non-null  float64\n",
      " 38  OLD_DRIVER         76399 non-null  float64\n",
      " 39  YOUNG_DRIVER       76399 non-null  float64\n",
      " 40  ALCOHOL_RELATED    76399 non-null  object \n",
      " 41  UNLICENCSED        76399 non-null  float64\n",
      " 42  NO_OF_VEHICLES     76399 non-null  float64\n",
      " 43  HEAVYVEHICLE       76399 non-null  float64\n",
      " 44  PASSENGERVEHICLE   76399 non-null  float64\n",
      " 45  MOTORCYCLE         76399 non-null  float64\n",
      " 46  PUBLICVEHICLE      76399 non-null  float64\n",
      " 47  DEG_URBAN_NAME     76399 non-null  object \n",
      " 48  DEG_URBAN_ALL      76399 non-null  object \n",
      " 49  LGA_NAME_ALL       76399 non-null  object \n",
      " 50  REGION_NAME_ALL    76399 non-null  object \n",
      " 51  STAT_DIV_NAME      76399 non-null  object \n",
      "dtypes: float64(27), int64(1), object(24)\n",
      "memory usage: 30.9+ MB\n"
     ]
    }
   ],
   "source": [
    "# Check data characteristics (ensure that numeric columns are integer - they are, so no change required)\n",
    "clean_crashes.info()"
   ]
  },
  {
   "cell_type": "markdown",
   "id": "4b58f9fa",
   "metadata": {},
   "source": [
    "### Sepearte by LGA Name"
   ]
  },
  {
   "cell_type": "code",
   "execution_count": 28,
   "id": "2541e71c",
   "metadata": {},
   "outputs": [],
   "source": [
    "# filter for melbourne only\n",
    "melbourne_data = clean_crashes[clean_crashes[\"LGA_NAME\"] == \"MELBOURNE\"]\n",
    "melbourne_data.to_csv('cleaned_data/melbourne_data.csv')\n",
    "\n",
    "# filter for hume only\n",
    "hume_data = clean_crashes[clean_crashes[\"LGA_NAME\"] == \"HUME\"]\n",
    "hume_data.to_csv('cleaned_data/hume_data.csv')"
   ]
  },
  {
   "cell_type": "markdown",
   "id": "73057314",
   "metadata": {},
   "source": [
    "### Looking at the data and seeing if we can find anything interesting"
   ]
  },
  {
   "cell_type": "code",
   "execution_count": 29,
   "id": "ddb47880",
   "metadata": {
    "scrolled": true
   },
   "outputs": [
    {
     "data": {
      "text/plain": [
       "MELBOURNE                    3977\n",
       "CASEY                        3118\n",
       "GEELONG                      2957\n",
       "DANDENONG                    2492\n",
       "HUME                         2478\n",
       "                             ... \n",
       "(FRENCH ISLAND)                 2\n",
       "MOUNT BULLER ALPINE RESOR       2\n",
       "(MOUNT STIRLING)                2\n",
       "MOUNT HOTHAM ALPINE RESOR       2\n",
       "MOUNT STIRLING ALPINE RES       1\n",
       "Name: LGA_NAME, Length: 91, dtype: int64"
      ]
     },
     "execution_count": 29,
     "metadata": {},
     "output_type": "execute_result"
    }
   ],
   "source": [
    "# see places with the most accidents\n",
    "clean_crashes[\"LGA_NAME\"].value_counts()"
   ]
  },
  {
   "cell_type": "code",
   "execution_count": 30,
   "id": "4908870e",
   "metadata": {
    "scrolled": true
   },
   "outputs": [
    {
     "data": {
      "text/plain": [
       "Collision with vehicle               46351\n",
       "Collision with a fixed object        12363\n",
       "Struck Pedestrian                     7407\n",
       "Vehicle overturned (no collision)     3948\n",
       "No collision and no object struck     3777\n",
       "collision with some other object       962\n",
       "Struck animal                          759\n",
       "Fall from or in moving vehicle         740\n",
       "Other accident                          92\n",
       "Name: ACCIDENT_TYPE, dtype: int64"
      ]
     },
     "execution_count": 30,
     "metadata": {},
     "output_type": "execute_result"
    }
   ],
   "source": [
    "# see accident type and its counts\n",
    "clean_crashes[\"ACCIDENT_TYPE\"].value_counts()"
   ]
  },
  {
   "cell_type": "code",
   "execution_count": 31,
   "id": "5d874b5a",
   "metadata": {
    "scrolled": true
   },
   "outputs": [
    {
     "data": {
      "text/plain": [
       "<AxesSubplot:title={'center':'FATALITY'}, xlabel='ACCIDENT_TYPE'>"
      ]
     },
     "execution_count": 31,
     "metadata": {},
     "output_type": "execute_result"
    },
    {
     "data": {
      "image/png": "[encoded data removed]",
      "text/plain": [
       "<Figure size 1440x720 with 1 Axes>"
      ]
     },
     "metadata": {
      "needs_background": "light"
     },
     "output_type": "display_data"
    }
   ],
   "source": [
    "clean_crashes.boxplot(\"FATALITY\", by=\"ACCIDENT_TYPE\", figsize=(20, 10))"
   ]
  },
  {
   "cell_type": "markdown",
   "id": "ae34b901",
   "metadata": {},
   "source": [
    "### Notes"
   ]
  },
  {
   "cell_type": "code",
   "execution_count": 15,
   "id": "749a8737",
   "metadata": {},
   "outputs": [],
   "source": [
    "## Bar Graphs\n",
    "# accident counts per region\n",
    "# accident types"
   ]
  },
  {
   "cell_type": "code",
   "execution_count": 16,
   "id": "870c7f7b",
   "metadata": {},
   "outputs": [],
   "source": [
    "# retrieved from:\n",
    "# vic roads\n",
    "# bom\n",
    "# google api\n",
    "# downloaded csv files/used api\n"
   ]
  },
  {
   "cell_type": "code",
   "execution_count": 17,
   "id": "25d15ebe",
   "metadata": {},
   "outputs": [],
   "source": [
    "# NOTE: see what weather data affects and then decide if we remove any of the remaining columns if they are not needed\n"
   ]
  }
 ],
 "metadata": {
  "kernelspec": {
   "display_name": "Python 3 (ipykernel)",
   "language": "python",
   "name": "python3"
  },
  "language_info": {
   "codemirror_mode": {
    "name": "ipython",
    "version": 3
   },
   "file_extension": ".py",
   "mimetype": "text/x-python",
   "name": "python",
   "nbconvert_exporter": "python",
   "pygments_lexer": "ipython3",
   "version": "3.9.6"
  }
 },
 "nbformat": 4,
 "nbformat_minor": 5
}
