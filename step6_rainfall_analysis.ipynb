{
 "cells": [
  {
   "cell_type": "markdown",
   "id": "79caf5f7",
   "metadata": {},
   "source": [
    "## Hypothesis 3 Testing\n",
    "### Road accident frequency/severity increases with rainfall (Melbourne LGA)"
   ]
  },
  {
   "cell_type": "code",
   "execution_count": 1,
   "id": "2de79226",
   "metadata": {},
   "outputs": [],
   "source": [
    "# Import dependencies\n",
    "import pandas as pd\n",
    "import numpy as np\n",
    "import matplotlib.pyplot as plt\n",
    #"import os\n",
    "import scipy.stats as st\n",
    "from scipy.stats import linregress"
   ]
  },
  {
   "cell_type": "code",
   "execution_count": 2,
   "id": "204b90e8",
   "metadata": {},
   "outputs": [
    {
     "data": {
      "text/html": [
       "<div>\n",
       "<style scoped>\n",
       "    .dataframe tbody tr th:only-of-type {\n",
       "        vertical-align: middle;\n",
       "    }\n",
       "\n",
       "    .dataframe tbody tr th {\n",
       "        vertical-align: top;\n",
       "    }\n",
       "\n",
       "    .dataframe thead th {\n",
       "        text-align: right;\n",
       "    }\n",
       "</style>\n",
       "<table border=\"1\" class=\"dataframe\">\n",
       "  <thead>\n",
       "    <tr style=\"text-align: right;\">\n",
       "      <th></th>\n",
       "      <th>ACCIDENT_NO</th>\n",
       "      <th>ABS_CODE</th>\n",
       "      <th>Date</th>\n",
       "      <th>ACCIDENT_TIME</th>\n",
       "      <th>ACCIDENT_TYPE</th>\n",
       "      <th>DAY_OF_WEEK</th>\n",
       "      <th>LONGITUDE</th>\n",
       "      <th>LATITUDE</th>\n",
       "      <th>LGA_NAME</th>\n",
       "      <th>FATALITY</th>\n",
       "      <th>DEG_URBAN_ALL</th>\n",
       "      <th>REGION_NAME_ALL</th>\n",
       "      <th>RMA</th>\n",
       "      <th>STAT_DIV_NAME</th>\n",
       "      <th>Rainfall amount (millimetres)</th>\n",
       "      <th>Maximum temperature (Degree C)</th>\n",
       "    </tr>\n",
       "  </thead>\n",
       "  <tbody>\n",
       "    <tr>\n",
       "      <th>0</th>\n",
       "      <td>T20140013533</td>\n",
       "      <td>Driving accident</td>\n",
       "      <td>2014/07/01</td>\n",
       "      <td>18:05:00</td>\n",
       "      <td>Collision with vehicle</td>\n",
       "      <td>Monday</td>\n",
       "      <td>144.939569</td>\n",
       "      <td>-37.783539</td>\n",
       "      <td>MELBOURNE</td>\n",
       "      <td>0.0</td>\n",
       "      <td>MELB_URBAN</td>\n",
       "      <td>METROPOLITAN NORTH WEST REGION</td>\n",
       "      <td>Freeway</td>\n",
       "      <td>Metro</td>\n",
       "      <td>0.4</td>\n",
       "      <td>13.3</td>\n",
       "    </tr>\n",
       "    <tr>\n",
       "      <th>1</th>\n",
       "      <td>T20140013680</td>\n",
       "      <td>Driving accident</td>\n",
       "      <td>2014/07/03</td>\n",
       "      <td>11:00:00</td>\n",
       "      <td>No collision and no object struck</td>\n",
       "      <td>Thursday</td>\n",
       "      <td>144.966742</td>\n",
       "      <td>-37.809840</td>\n",
       "      <td>MELBOURNE</td>\n",
       "      <td>0.0</td>\n",
       "      <td>MELBOURNE_CBD</td>\n",
       "      <td>METROPOLITAN NORTH WEST REGION</td>\n",
       "      <td>Local Road</td>\n",
       "      <td>Metro</td>\n",
       "      <td>0.0</td>\n",
       "      <td>13.1</td>\n",
       "    </tr>\n",
       "    <tr>\n",
       "      <th>2</th>\n",
       "      <td>T20140013898</td>\n",
       "      <td>Driving accident</td>\n",
       "      <td>2014/07/03</td>\n",
       "      <td>10:30:00</td>\n",
       "      <td>Fall from or in moving vehicle</td>\n",
       "      <td>Thursday</td>\n",
       "      <td>-1.000000</td>\n",
       "      <td>-1.000000</td>\n",
       "      <td>MELBOURNE</td>\n",
       "      <td>0.0</td>\n",
       "      <td>MELB_URBAN</td>\n",
       "      <td>METROPOLITAN NORTH WEST REGION</td>\n",
       "      <td>Local Road</td>\n",
       "      <td>Metro</td>\n",
       "      <td>0.0</td>\n",
       "      <td>13.1</td>\n",
       "    </tr>\n",
       "    <tr>\n",
       "      <th>3</th>\n",
       "      <td>T20140013771</td>\n",
       "      <td>Driving accident</td>\n",
       "      <td>2014/07/04</td>\n",
       "      <td>17:40:00</td>\n",
       "      <td>No collision and no object struck</td>\n",
       "      <td>Thursday</td>\n",
       "      <td>-1.000000</td>\n",
       "      <td>-1.000000</td>\n",
       "      <td>MELBOURNE</td>\n",
       "      <td>0.0</td>\n",
       "      <td>MELB_URBAN</td>\n",
       "      <td>METROPOLITAN NORTH WEST REGION</td>\n",
       "      <td>Local Road</td>\n",
       "      <td>Metro</td>\n",
       "      <td>0.0</td>\n",
       "      <td>12.8</td>\n",
       "    </tr>\n",
       "    <tr>\n",
       "      <th>4</th>\n",
       "      <td>T20140013792</td>\n",
       "      <td>Driving accident</td>\n",
       "      <td>2014/07/04</td>\n",
       "      <td>23:13:00</td>\n",
       "      <td>Collision with vehicle</td>\n",
       "      <td>Thursday</td>\n",
       "      <td>144.954839</td>\n",
       "      <td>-37.814404</td>\n",
       "      <td>MELBOURNE</td>\n",
       "      <td>0.0</td>\n",
       "      <td>MELBOURNE_CBD</td>\n",
       "      <td>METROPOLITAN NORTH WEST REGION</td>\n",
       "      <td>Arterial Other</td>\n",
       "      <td>Metro</td>\n",
       "      <td>0.0</td>\n",
       "      <td>12.8</td>\n",
       "    </tr>\n",
       "  </tbody>\n",
       "</table>\n",
       "</div>"
      ],
      "text/plain": [
       "    ACCIDENT_NO          ABS_CODE        Date ACCIDENT_TIME  \\\n",
       "0  T20140013533  Driving accident  2014/07/01      18:05:00   \n",
       "1  T20140013680  Driving accident  2014/07/03      11:00:00   \n",
       "2  T20140013898  Driving accident  2014/07/03      10:30:00   \n",
       "3  T20140013771  Driving accident  2014/07/04      17:40:00   \n",
       "4  T20140013792  Driving accident  2014/07/04      23:13:00   \n",
       "\n",
       "                       ACCIDENT_TYPE DAY_OF_WEEK   LONGITUDE   LATITUDE  \\\n",
       "0             Collision with vehicle      Monday  144.939569 -37.783539   \n",
       "1  No collision and no object struck    Thursday  144.966742 -37.809840   \n",
       "2     Fall from or in moving vehicle    Thursday   -1.000000  -1.000000   \n",
       "3  No collision and no object struck    Thursday   -1.000000  -1.000000   \n",
       "4             Collision with vehicle    Thursday  144.954839 -37.814404   \n",
       "\n",
       "    LGA_NAME  FATALITY  DEG_URBAN_ALL                 REGION_NAME_ALL  \\\n",
       "0  MELBOURNE       0.0     MELB_URBAN  METROPOLITAN NORTH WEST REGION   \n",
       "1  MELBOURNE       0.0  MELBOURNE_CBD  METROPOLITAN NORTH WEST REGION   \n",
       "2  MELBOURNE       0.0     MELB_URBAN  METROPOLITAN NORTH WEST REGION   \n",
       "3  MELBOURNE       0.0     MELB_URBAN  METROPOLITAN NORTH WEST REGION   \n",
       "4  MELBOURNE       0.0  MELBOURNE_CBD  METROPOLITAN NORTH WEST REGION   \n",
       "\n",
       "              RMA STAT_DIV_NAME  Rainfall amount (millimetres)  \\\n",
       "0         Freeway         Metro                            0.4   \n",
       "1      Local Road         Metro                            0.0   \n",
       "2      Local Road         Metro                            0.0   \n",
       "3      Local Road         Metro                            0.0   \n",
       "4  Arterial Other         Metro                            0.0   \n",
       "\n",
       "   Maximum temperature (Degree C)  \n",
       "0                            13.3  \n",
       "1                            13.1  \n",
       "2                            13.1  \n",
       "3                            12.8  \n",
       "4                            12.8  "
      ]
     },
     "execution_count": 2,
     "metadata": {},
     "output_type": "execute_result"
    }
   ],
   "source": [
    "# Import cleaned Melbourne crash + weather data\n",
    "melbourne_data_path = \"cleaned_data/merged_melb_data.csv\"\n",
    "melbourne_data = pd.read_csv(melbourne_data_path)\n",
    "melbourne_data.head()"
   ]
  },
  {
   "cell_type": "markdown",
   "id": "a7ce2279",
   "metadata": {},
   "source": [
    "#### (1a) Road accident (all roads) frequency against rainfall (Melbourne LGA)"
   ]
  },
  {
   "cell_type": "code",
   "execution_count": 3,
   "id": "6d6c4363",
   "metadata": {},
   "outputs": [],
   "source": [
    "# Group data by the accident date to find daily values.\n",
    "grouped_melbourne_df = melbourne_data.groupby([\"Date\"])\n",
    "\n",
    "# Assign data to axis: x_axis is daily accident count, y_axis is rainfall (mean used but all rainfall data \n",
    "# values same for the same date).\n",
    "y_axis = grouped_melbourne_df[\"ACCIDENT_NO\"].count()\n",
    "x_axis = grouped_melbourne_df[\"Rainfall amount (millimetres)\"].mean().reset_index()"
   ]
  },
  {
   "cell_type": "code",
   "execution_count": 4,
   "id": "814e2274",
   "metadata": {},
   "outputs": [
    {
     "name": "stdout",
     "output_type": "stream",
     "text": [
      "The pvalue of this correlation is 0.099 ---> We cannot reject null hypothesis\n"
     ]
    },
    {
     "data": {
      "image/png": "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\n",
      "text/plain": [
       "<Figure size 432x288 with 1 Axes>"
      ]
     },
     "metadata": {
      "needs_background": "light"
     },
     "output_type": "display_data"
    }
   ],
   "source": [
    "# Undertake the linear regression and plot using matplotlib\n",
    "(slope, intercept, rvalue, pvalue, stderr) = linregress(x_axis[\"Rainfall amount (millimetres)\"], y_axis)\n",
    "regress_values = x_axis[\"Rainfall amount (millimetres)\"] * slope + intercept\n",
    "\n",
    "line_eq = \"y = \" + str(round(slope,2)) + \"x + \" + str(round(intercept,2))\n",
    "r_value = \"r value= \" + str(round((rvalue),2))\n",
    "\n",
    "# Use matplotlib to create a scatter plot\n",
    "plt.scatter(x_axis[\"Rainfall amount (millimetres)\"], y_axis, marker=\"o\", facecolors=\"blue\", edgecolors=\"blue\", alpha=0.5)\n",
    "plt.plot(x_axis[\"Rainfall amount (millimetres)\"],regress_values,\"r-\")\n",
    "plt.annotate(line_eq,(25,10),fontsize=10,color=\"red\")\n",
    "plt.annotate(r_value,(25,9),fontsize=10,color=\"red\")\n",
    "plt.title(\"Relationship Between Rainfall and Road Accident Count (Melbourne LGA)\")\n",
    "plt.xlabel(\"Daily Rainfall (mm)\")\n",
    "plt.ylabel(\"Daily Road Accident Count\")\n",
    "\n",
    "# Save the figure\n",
    "# plt.savefig(os.path.join(\"figures\",f\"Melb_Rainfall_vs_Accident_Count.png\"))\n",
    "print('The pvalue of this correlation is '+str(round(pvalue,3))+' ---> We cannot reject null hypothesis')"
   ]
  },
  {
   "cell_type": "code",
   "execution_count": 5,
   "id": "8159665a",
   "metadata": {},
   "outputs": [
    {
     "name": "stdout",
     "output_type": "stream",
     "text": [
      "The correlation between daily rainfall and daily road accident count for all roads in Melbourne LGA is 0.04\n"
     ]
    }
   ],
   "source": [
    "# Calculating the correlation coefficient for daily rainfall and daily road accident count\n",
    "correlation = st.pearsonr(x_axis[\"Rainfall amount (millimetres)\"], y_axis)\n",
    "print(f\"The correlation between daily rainfall and daily road accident count for all roads in Melbourne LGA is {round(correlation[0],2)}\")\n",
    "\n",
    "# Outcome: correlation=0.04 means there is no correlation i.e daily rainfall has no impact \n",
    "# on daily road accident frequency. Therefore confirming the Null Hypothesis."
   ]
  },
  {
   "cell_type": "markdown",
   "id": "29de7892",
   "metadata": {},
   "source": [
    "#### (1b) Road accident (only freeways/arterials) frequency against rainfall (Melbourne LGA)"
   ]
  },
  {
   "cell_type": "code",
   "execution_count": 6,
   "id": "b62fad6d",
   "metadata": {},
   "outputs": [
    {
     "data": {
      "text/html": [
       "<div>\n",
       "<style scoped>\n",
       "    .dataframe tbody tr th:only-of-type {\n",
       "        vertical-align: middle;\n",
       "    }\n",
       "\n",
       "    .dataframe tbody tr th {\n",
       "        vertical-align: top;\n",
       "    }\n",
       "\n",
       "    .dataframe thead th {\n",
       "        text-align: right;\n",
       "    }\n",
       "</style>\n",
       "<table border=\"1\" class=\"dataframe\">\n",
       "  <thead>\n",
       "    <tr style=\"text-align: right;\">\n",
       "      <th></th>\n",
       "      <th>ACCIDENT_NO</th>\n",
       "      <th>ABS_CODE</th>\n",
       "      <th>Date</th>\n",
       "      <th>ACCIDENT_TIME</th>\n",
       "      <th>ACCIDENT_TYPE</th>\n",
       "      <th>DAY_OF_WEEK</th>\n",
       "      <th>LONGITUDE</th>\n",
       "      <th>LATITUDE</th>\n",
       "      <th>LGA_NAME</th>\n",
       "      <th>FATALITY</th>\n",
       "      <th>DEG_URBAN_ALL</th>\n",
       "      <th>REGION_NAME_ALL</th>\n",
       "      <th>RMA</th>\n",
       "      <th>STAT_DIV_NAME</th>\n",
       "      <th>Rainfall amount (millimetres)</th>\n",
       "      <th>Maximum temperature (Degree C)</th>\n",
       "    </tr>\n",
       "  </thead>\n",
       "  <tbody>\n",
       "    <tr>\n",
       "      <th>0</th>\n",
       "      <td>T20140013533</td>\n",
       "      <td>Driving accident</td>\n",
       "      <td>2014/07/01</td>\n",
       "      <td>18:05:00</td>\n",
       "      <td>Collision with vehicle</td>\n",
       "      <td>Monday</td>\n",
       "      <td>144.939569</td>\n",
       "      <td>-37.783539</td>\n",
       "      <td>MELBOURNE</td>\n",
       "      <td>0.0</td>\n",
       "      <td>MELB_URBAN</td>\n",
       "      <td>METROPOLITAN NORTH WEST REGION</td>\n",
       "      <td>Freeway</td>\n",
       "      <td>Metro</td>\n",
       "      <td>0.4</td>\n",
       "      <td>13.3</td>\n",
       "    </tr>\n",
       "    <tr>\n",
       "      <th>4</th>\n",
       "      <td>T20140013792</td>\n",
       "      <td>Driving accident</td>\n",
       "      <td>2014/07/04</td>\n",
       "      <td>23:13:00</td>\n",
       "      <td>Collision with vehicle</td>\n",
       "      <td>Thursday</td>\n",
       "      <td>144.954839</td>\n",
       "      <td>-37.814404</td>\n",
       "      <td>MELBOURNE</td>\n",
       "      <td>0.0</td>\n",
       "      <td>MELBOURNE_CBD</td>\n",
       "      <td>METROPOLITAN NORTH WEST REGION</td>\n",
       "      <td>Arterial Other</td>\n",
       "      <td>Metro</td>\n",
       "      <td>0.0</td>\n",
       "      <td>12.8</td>\n",
       "    </tr>\n",
       "    <tr>\n",
       "      <th>6</th>\n",
       "      <td>T20140013781</td>\n",
       "      <td>Driving accident</td>\n",
       "      <td>2014/07/04</td>\n",
       "      <td>18:45:00</td>\n",
       "      <td>Collision with vehicle</td>\n",
       "      <td>Friday</td>\n",
       "      <td>144.927965</td>\n",
       "      <td>-37.826950</td>\n",
       "      <td>MELBOURNE</td>\n",
       "      <td>0.0</td>\n",
       "      <td>MELB_URBAN</td>\n",
       "      <td>METROPOLITAN NORTH WEST REGION</td>\n",
       "      <td>Freeway</td>\n",
       "      <td>Metro</td>\n",
       "      <td>0.0</td>\n",
       "      <td>12.8</td>\n",
       "    </tr>\n",
       "    <tr>\n",
       "      <th>9</th>\n",
       "      <td>T20140013895</td>\n",
       "      <td>Driving accident</td>\n",
       "      <td>2014/07/06</td>\n",
       "      <td>11:38:00</td>\n",
       "      <td>Collision with vehicle</td>\n",
       "      <td>Sunday</td>\n",
       "      <td>144.936284</td>\n",
       "      <td>-37.825632</td>\n",
       "      <td>MELBOURNE</td>\n",
       "      <td>0.0</td>\n",
       "      <td>MELB_URBAN</td>\n",
       "      <td>METROPOLITAN NORTH WEST REGION</td>\n",
       "      <td>Freeway</td>\n",
       "      <td>Metro</td>\n",
       "      <td>0.2</td>\n",
       "      <td>13.8</td>\n",
       "    </tr>\n",
       "    <tr>\n",
       "      <th>12</th>\n",
       "      <td>T20140014421</td>\n",
       "      <td>Driving accident</td>\n",
       "      <td>2014/07/12</td>\n",
       "      <td>12:59:00</td>\n",
       "      <td>Collision with vehicle</td>\n",
       "      <td>Saturday</td>\n",
       "      <td>144.923991</td>\n",
       "      <td>-37.827752</td>\n",
       "      <td>MELBOURNE</td>\n",
       "      <td>0.0</td>\n",
       "      <td>MELB_URBAN</td>\n",
       "      <td>METROPOLITAN NORTH WEST REGION</td>\n",
       "      <td>Freeway</td>\n",
       "      <td>Metro</td>\n",
       "      <td>4.4</td>\n",
       "      <td>10.4</td>\n",
       "    </tr>\n",
       "  </tbody>\n",
       "</table>\n",
       "</div>"
      ],
      "text/plain": [
       "     ACCIDENT_NO          ABS_CODE        Date ACCIDENT_TIME  \\\n",
       "0   T20140013533  Driving accident  2014/07/01      18:05:00   \n",
       "4   T20140013792  Driving accident  2014/07/04      23:13:00   \n",
       "6   T20140013781  Driving accident  2014/07/04      18:45:00   \n",
       "9   T20140013895  Driving accident  2014/07/06      11:38:00   \n",
       "12  T20140014421  Driving accident  2014/07/12      12:59:00   \n",
       "\n",
       "             ACCIDENT_TYPE DAY_OF_WEEK   LONGITUDE   LATITUDE   LGA_NAME  \\\n",
       "0   Collision with vehicle      Monday  144.939569 -37.783539  MELBOURNE   \n",
       "4   Collision with vehicle    Thursday  144.954839 -37.814404  MELBOURNE   \n",
       "6   Collision with vehicle      Friday  144.927965 -37.826950  MELBOURNE   \n",
       "9   Collision with vehicle      Sunday  144.936284 -37.825632  MELBOURNE   \n",
       "12  Collision with vehicle    Saturday  144.923991 -37.827752  MELBOURNE   \n",
       "\n",
       "    FATALITY  DEG_URBAN_ALL                 REGION_NAME_ALL             RMA  \\\n",
       "0        0.0     MELB_URBAN  METROPOLITAN NORTH WEST REGION         Freeway   \n",
       "4        0.0  MELBOURNE_CBD  METROPOLITAN NORTH WEST REGION  Arterial Other   \n",
       "6        0.0     MELB_URBAN  METROPOLITAN NORTH WEST REGION         Freeway   \n",
       "9        0.0     MELB_URBAN  METROPOLITAN NORTH WEST REGION         Freeway   \n",
       "12       0.0     MELB_URBAN  METROPOLITAN NORTH WEST REGION         Freeway   \n",
       "\n",
       "   STAT_DIV_NAME  Rainfall amount (millimetres)  \\\n",
       "0          Metro                            0.4   \n",
       "4          Metro                            0.0   \n",
       "6          Metro                            0.0   \n",
       "9          Metro                            0.2   \n",
       "12         Metro                            4.4   \n",
       "\n",
       "    Maximum temperature (Degree C)  \n",
       "0                             13.3  \n",
       "4                             12.8  \n",
       "6                             12.8  \n",
       "9                             13.8  \n",
       "12                            10.4  "
      ]
     },
     "execution_count": 6,
     "metadata": {},
     "output_type": "execute_result"
    }
   ],
   "source": [
    "# Create new dataframe for melbourne_data that only contains freeways/arterials\n",
    "#melbourne_data[\"RMA\"].unique()\n",
    "melbourne_main_roads=melbourne_data.loc[((melbourne_data[\"RMA\"]==\"Freeway\") | \n",
    "                                         (melbourne_data[\"RMA\"]==\"Arterial Highway\") | \n",
    "                                         (melbourne_data[\"RMA\"]==\"Arterial Other\"))]\n",
    "melbourne_main_roads.head()"
   ]
  },
  {
   "cell_type": "code",
   "execution_count": 7,
   "id": "47cf51d3",
   "metadata": {},
   "outputs": [
    {
     "data": {
      "text/plain": [
       "array(['Freeway', 'Arterial Other', 'Arterial Highway'], dtype=object)"
      ]
     },
     "execution_count": 7,
     "metadata": {},
     "output_type": "execute_result"
    }
   ],
   "source": [
    "# Double check only the main roads (arterials or freeways) returned\n",
    "melbourne_main_roads[\"RMA\"].unique()"
   ]
  },
  {
   "cell_type": "code",
   "execution_count": 8,
   "id": "7e1267bb",
   "metadata": {},
   "outputs": [],
   "source": [
    "# Group data by the accident date to find daily values.\n",
    "grouped_melbourne_main_roads_df = melbourne_main_roads.groupby([\"Date\"])\n",
    "\n",
    "# Assign data to axis: x_axis is daily accident count, y_axis is rainfall (mean used but all rainfall data \n",
    "# values same for the same date).\n",
    "y_axis = grouped_melbourne_main_roads_df[\"ACCIDENT_NO\"].count()\n",
    "x_axis = grouped_melbourne_main_roads_df[\"Rainfall amount (millimetres)\"].mean().reset_index()"
   ]
  },
  {
   "cell_type": "code",
   "execution_count": 9,
   "id": "a8851f9c",
   "metadata": {},
   "outputs": [
    {
     "name": "stdout",
     "output_type": "stream",
     "text": [
      "The pvalue of this correlation is 0.195 ---> We cannot reject null hypothesis\n"
     ]
    },
    {
     "data": {
      "image/png": "iVBORw0KGgoAAAANSUhEUgAAAXoAAAElCAYAAADqeCmyAAAAOXRFWHRTb2Z0d2FyZQBNYXRwbG90bGliIHZlcnNpb24zLjQuMywgaHR0cHM6Ly9tYXRwbG90bGliLm9yZy/MnkTPAAAACXBIWXMAAAsTAAALEwEAmpwYAABBe0lEQVR4nO29d5hdVdX4/1mZJDNpU5IMLWEIAQkSCAGGIiVGigJSR6SoNEFefd/QNGLHwO8FUYMgRFSKSFOEvKNiAQSlqRQnEIaaLz0QUiZkZtLbzPr9sfblnrlzy7kz907L+jzPee45u66zz77r7LPOPmuLquI4juMMXAb1tgCO4zhOcXFF7ziOM8BxRe84jjPAcUXvOI4zwHFF7ziOM8BxRe84jjPA6feKXkQeFZFzu5i3RkRWi0hJoeWK1DFLRO7MEv+SiEwvVv1bMuHaToyZ9iAReS3kOSFH2uki8l7k+G0RObyb4saRsUO9vUVvyJHtWorIWSLyz56Up7/RJxR9+KOsCxdziYj8WkRGFqmeD/+QqrpQVUeqaluh64qLqk5W1Ue7kldEVETWhHZbLiK/FZHKmHn7/J8j3CQ3hfNrEZF/i8jH4uYP1/bNmMkvB+aEPH/oksC9TEp/WCQiPynmICaHLCIib4rIy4UoL89r2WVCG+6cI822InKLiCwWkVUi8qqIXCYiI4osW9ZBYzb6hKIPHKuqI4GpwF7At3pXnH7DnqHdJgJVwKzeFafg/C6c31jgEeDeItWzA/BSkcruSRL94ePAKcAXe0mOacBWwEQR2beXZCg4IjIaeBIYBnxMVUcBRwCVwE69KFpW+pKiB0BVlwAPYgofABE5IIzmWkTk+UymDhHZSUT+ISIfhBHuXYkRrojcAdQAfwojnktEZEK4gw8OabYTkftEZIWIvC4iX4qUPUtE7hGR28Nd/CURqY3EfyOMolaJyAIROSwi2tAs+T58ygh1zBWR34W0z4rInjHbbSVwH7BbpOyKyMhjkYj8r4iUiMhHgV8AH4uMlncMv4NC3ptEZFmkrDtE5KJs5UbSflFEXhGRZhF5UER2iMSpiHxZzEzSIiI/ExGJcX6bgbuAcSJSHcraT0SeDOUsFpE5IjI0pa6dw/6vQ11/CW37tIjsFOLewG6Uib5RKiJnh3NYFUam/xXnOqQiIp8WkedEZKWIvCsisyJxif53pogsDH32O5H4YUHuZrGRcWyFqaqvA/+i4//oS6Ffrwj9fLtI3E+DfCtFZJ6IHNJNOc4E/gj8NexH22SyiDwU5FgqIt8O4SUi8m0ReSO0+zwR2T7ERa/lmCD/ShF5hhQFKyK7RspfICInR+Ky9YPHQ7LnQz84Jc15fRVYBXxBVd8Obf2uql6oqo2hnANF5D8i0hp+D4zU38GqIJFRerb+ICJHAt8GTgmyPR/jGiRR1V7fgLeBw8P+eOAF4KfheBzwAXA0dmM6IhxXh/hHgXPD/s4hvhSoBh4Hrk1XTzieACgwOBw/DtwAlGF/kCbg0BA3C1gf5CgBfgA8FeImAe8C20XK3SlXvjTnPgvYBJwEDAFmAm8BQzK0mwI7h/0q4G/A5ZH43wO/BEZgo6tngP8KcWcB/0wpbyGwT9hfALwJfDQSt1eMco8HXgc+CgwGvgv8O0XmP2MjoJrQxkdmOL9ZwJ1hfyhwFbA8cr32AQ4I9UwAXgEuytA+v8b6zX4h/V3A3Vn6xqcxBSLY6HgtsHeImw68lylvyjlMB/bA+u4UYClwQkr/uwkbIe4JbIi0+VXAE8BoYHvgxWi9OfrDrsBi4OJwfGhou72x/8f1wOORvF8AxoS2+RqwBCjrohzDgZVYn/9MqHdoiBsV5Poa9j8bBewf4r6O/fcnhXbfExiT5tzuBu7B+t/uwCJCXw5h7wJnh3PZK9S/W8x+8GE9Gc7tKeCyLPGjgWbg9FD+aeE4cR4d+god+3iu/vBh2rx1bHcUdKG2cPKrsTulAn8HKkPcN4A7UtI/CJwZ9h8lKPo05Z4APJflz5xo2MGhA7cBoyLxPwB+HWnkhyNxuwHrwv7OwDLgcFKUcrZ8qTKFtNGbwCDsT3FIlj/2SqAlyP4qMC7EbR06ybBI+tOAR8L+WXRW9HdgI5ZtMEX/I+DLwI6hjkExyr0fOCflHNYCO0RkPjgSfw/wzQznNwvYGDm/D4DpWfrRRcDvU9onquhvjsQdDbyaqW+kKfsPwIVhfzoxFX2acq4Frknpf+Mj8c8Ap4b9N4ncBIHzyK3oVwJrwv5vgdIQdwvwo0jakdigYkKGspoxM1BX5PgCdgMfjCnzVuDESF95LkO+BcDxWc5tZ2ywtAnYNRJ3JUlFfwrwREreXwLfj9kPcin614AvZ4k/HXgmJexJ4Kx0fYX0ij5Tf/gwbb5bXzLdnKBm75qOjUbGhvAdgM+Gx/MWEWkBDga2TS1ARLYWkbuDOWElcGeknFxsB6xQ1VWRsHewJ4oESyL7a4EyERms9ph8EXYhlgUZtsuVL4Mc7yZ2VLUdeC/Ilom9VbUS+0P9HHhCRMqwdhsCLI602y+xEXgmHsPafxr2dPMoNpr9OPbnaY9R7g7ATyNxK7DRWbZ2zPbi/Z5wfltjI8l9EhEisouI/FnsBf5K7A+f7XrHrldEjhKRp8LjfwumEOL2pWg5+4vIIyLSJCKt2I0ztZxMcm1HpD9g/TEXe4f8pwD7YyPcRFkf5lfV1diNc1yQc2YwVbWG862IyJmvHGdi122zqq4H/o+k+WZ74I0M+bLFJajGbiCZ5NkB2D9FX3weG7wkyKf/pfIBaXRPhA7tHJFvXJq0meiOfGnpS4oeAFV9DLvrzg5B72Ij+srINkJVr0qT/UrsjriHqpZjI4uo/VezVP0+MFpERkXCarDHwjhy/0ZVD8Y6mgI/jJMvDdsndsTs5eODbLnq3wTcjI2+d8fabQMwNtJu5ao6OZElTTGPAYdgyv4x4J/AQZiifyykyVXuu5gZJ3q9hqnqv/Nog3TntxwbSc4SkcQf7efYU8xHwvX+Nh2vd5cQkVJMOc0Gtg43mr92sezfYO9OtlfVCuzdSNxyFhPpD1h/zIka92AjyUtD8PtY3wRAbIbIGGBRsMdfApwMVIXzbY3IGVsOERmPmYm+EG7ASzBT5NEiMhbrH5mmvL5L7heaTcDmLPK8CzyW0v9GqupXcpQbl4eBE8N/Mx0d2jkiX0KPrMFMWwm2IT7Z9FdW+pyiD1wLHCH2IvJO4FgR+VR4WVMmNo93fJp8ozATUKuIjMNsflGWkqGTqeq7wL+BH4Q6pgDnhPqzIiKTROTQoCDWA+uA9lhn2pl9RKQujPgvwpTqUzFkKMHskuuAN1V1MWazv1pEykVkkNjL6o+HLEuB8RJ5eamqr4X8X8D+LCtDus8QFH2Mcn8BfEtEJge5KkTks11siw6o6gLMbHdJCBqFmSpWi8iuQKH+zEMxO3YTsFlEjgI+2cWyRmFPiutFZD/gc3nkvQdry6rQ38/Ps+6rgC+JyDaYGedsEZka+umVwNNqLxRHYcqzCRgsIpcC5V2U43Tg/2F29qlh2wV7Mj0Nez+zrYhcJPbSe5SI7B/y3gz8fyLyETGmiMiYaOFqU6HrsRv+cBHZjY4ve/8M7CIip4vIkLDtKzYBIQ4ZdUTgJ1jb3CZhkoGIjBObyjoFGxDsIiKfE5HBYi90dwtyAcwHTg1y1WI3wbgsBSZkuclkpE8qelVtAm4HLg0K+HhstNaE3bG/TnrZL8MeXVuBv2AdIsoPgO+GR7qZafKfhtnJ3sdeOH5fVR+OIXIpyReFSzAzRlenh/4Re+xOvNCpC6P1TDwvIqtD+jMxW+iKEHcGprReDvFzST52/gObTrhERJZHynsM+CC0e+JYgGcjaTKWq6q/x55m7g7mlBeBo/JpgBz8GDhPRLbCXlZ/Dnu3cxPwu0JUEMx3F2AKrjnUcV8Xi/tv4HIRWYWNru/JI+9l2GP/W9jN9Y58KlbVFzAT3NdDP/4e9qSyGBs5nxqSPgg8gCnod7DBStQ0ko8cZwI3qOqS6IYNAM4MbXsEcCz2X3kN+ETI+xOsff6G3cBvwV5KpjIDM2cswZ7+b42c8yrspnwq9j9egvXH0iwyR5mFKfEWiczWiZS/AjgQe0/wdLiuf8d0zuuq+gFwDPay+QNsUHJMeCIFuwY7Yf3qMuyJLy6JqcUfiMizWVOmIMHI7/QBxKbe7ayqX+htWRzHGTj0yRG94ziOUzhc0TuO4wxw3HTjOI4zwPERveM4zgDHFX0eiMgPJPh7KWCZ3xaRmwtZZrERkUNEZEHMtH3eS2ZvICLHikjOWUJF6nO/FpH/Dft9wvVxXyNM/XxVgl+l/o4r+piEC34G9hVo4g+iIvL7lHR7hvBH45Srqleqapf86UfqnBXq3D9G2m4rXlV9QlUndaeMTIg5odolKKONYg6cEls6J1P9ElX9EzA5zL1OS7H63EBAUhwSpon/iNgX6k1izs9eE5HrJeX7GzFnfu0i8vNouKpuAH4FfLN4Z9FzuKKPz1nAX1V1XSSsCfMAGf2o40xsPnKPICKCKYMV4Tdb2kxuF/Kpr9tlZCl7J6BEVRPt96PwVWNi+11KeunKxyN9iN9iX/tm4iz6YJ/rCj15rcS8XD6NzaPfK3w1fRDmXuHglORnYHPaTwkfkkX5DXBmmvB+R3/+k/Q0R5F0A5BgI+bs6lT48OvUUzCPeB8i2V3AxnJTmoVDsI+VLsC+uIu66T1LRP4lIteIyAfYB0Ud3BOHdKUiMjvUuVREfiEiw0LcdBF5T8wN8xLg1tTHfRH5piRdy74sIiemEzT82a8RkWWhLV4Qkd0jST6NfVmYEbEVxa4QkX9hfkAmSna3tNnO7TER+UzYPyi0/afD8WEiMj/sZ3N//XUR+b8UGa8TkZ9GrsGboW3eEpHPR5I+Gs45E93pcxnbJEO7fjuc29tRGcW+bL49jIzfEZHvStKV9Yd9Nxx3GGVnuFZZ3VRLFhfXeTAL+JeqflVV3wNQ1WWqeq2q3h2pKzFI+i72AdSx0UJC3mbMQ2q/xhV9fPbAvOulcjvJkfSnsC9BU33T/Af7FHw0Nkq4V8zxWCYOxj4hPwy4VLJ/vn0m8CeSX1wemxK/P+Z9cGvMtcGXgSfDCLkypLkK+0x9KuYhcBxJHylg/jhGYz480o1A38BuOBXY1353StIfTZRPYg7TdglpT8a+HkxwNPZFcy5OD3KMwka4D2HtuhWmAG8Q+zQ+17klnLiB+fN5M8iXOE4oWcG+qt4Oc7+8PckFXu4Ejowo/sFBhtvF/MlcBxwVHPYdiH0Cn+AV7JP2qLuBKF3qc6HebG2SyjaYA7NxWH+6UUQSprnrsWs1EWuTMzBXG3GJXquEs69jMJ/2U7A+8Kkgd+IL+DrMedkT2FNPvhyOfQGci4MxX1IJt8dnpknzCuYuuF/jij4+ldin9h0IzrpGhz/GGdifMDXNnar6QfDmdzX2OXY2G/dlqrpOVZ8HnidDRxOR4cBngd8ENwlz6Wy+eV9Vrw91r0tThmB/xItVNeG980qSn8eD+e35vqpuSFeGqt6rqu+ranswr7yG+ftOZRP2h98Vm9r7SvCdkziXfbFRboKZkvRCGHXT8GtVfUltMZIjgbdV9dZwjs9hf/LPxji3xzDlBabgfxA5/lDRq+rrqvpQOP8m7FP9j4e4xZibgYQ/nyOB5ao6L9J2u4vIMFVdrKrRVawS/akyTVslwrvS547J1CYZ6gH4Xji/x7Cb7cnhaeFU4Fuquir4xbkaU95x+fBaRVx5XKWqLaq6EFs1bGoI/zLwg9AvNmPXamoXRvVjiXiAFJEZoQ+tFpGbIunOBO5X1WbspnikmGuNKKvIfH36Da7o49OMKal03IH53/gE5iOnA5LdBWw64ropPRFzRpUwd9wFHCUdZwq82ylXR6oxb3rzJOnW9YEQnqBJzd1sWkTkDBGZH8m/O2nOT1X/AcwBfoa5c74xMpo9DFugZEMky+yIB8JoedFzyuaWNte5PYk5oNoaUza3A9uLeVncD1Pgcdxf34Y9LRF+7wjnuwYzq3wZc+v8FzHnawkS/aklta0CXe1zcVz1dqgnyJrgHezpZSzmkvqdlLh8XO6m63+Z+nccF9dx6OBKWFXnhKfXa7HzIZjvPksweanqk9jiOqlO50aR+fr0G1zRx6cRMwGk4w7MedVfVXVtNEJyu4DtDmdif5KFYvbze7GOHO2sqV/EpR4vxzxWTo4o1Qq1dUcz5fmQMNq6CVM6Y8L5vUiG81PV61R1H8yj3y4kPYweTQ77fAZ5srmlzXpu4VrNAy4EXlTVjZgH068Cb0QcUeVyf/0HYIrY+4ZjiNjLVfVBVT0CUzyvhrZK8FFs5L0yw3l2qc/laJN0VEnHha1rMFPQcuwpbIeUuHxc7ubzRWahXFz/HTP/ZONEzAvlDZJ0p5wwXUX5KPZU3a9xRR+fv5J8rO+Aqr4V4tK9OM3lArZLiLlhPgxTLFPDtifmqS/b7JsO7onVFhO5Cbgm8dgq5nb1UzFFGYH9mZtC3rOxEX06mfcVW4hjCKYk1pN053wU8ezzqWR0Sxvz3B7DblIJe/yjKceQw/11eNqZiz3+PxNMEokngeODEt0Qyoi6r/44tiJXJrra57riqvcyERkaBibHAPequQS+B7hCzJ3wDthNMPECdj4wTURqRKSCrntsTdAVF9elYm7FE9sg7P3JIWKugxMLq4zFlHaCM7Hpk3uQ/P8cBOwpInuEPOOwd1M53YT3dVzRx+d2bPGEdG5TUdV/qmq6BUJyuYDtKqcD81X1b9rRHex1JEeX6Ujnnvgb2DqvTwXTxMNkf4fwIar6Mma3fRK7ieyBLUqdjnJM8TZjbfEB8OMg6+qEgswHze2WNte5PYYp8sczHENu99dg5ps96OjCdxCmGN/HzBAfp6PP/NMIc+Qz0KU+F6NNUlmCXZP3saeRL6vqqyHufOym/Ca2EM1vMAWJqj6EzeRqxJ6M/kw30K65uF6NPbUltkPVpufuj71ofV7MlfC/wvl9LzJIulY7ulOeh/1XE6P6zwG3pZgT+yXu6yYPRORKYJmqXtvbsgwkROQSbMWqS3Im7qOISA1mmtkmiykmmv5Y4HRVzTXt0ftcLyA2d/55YJqqLuttebqLK3qn1xGb4/2Cqr7S27J0hWAu+AlQrqpf7G15HCcVV/SO0w2C/X0pZoo6UpMrczlOn8EVveM4zgDHX8Y6juMMcIrmoKorjB07VidMmNDbYjiO4/Qb5s2bt1xVs7pT7lOKfsKECTQ0NPS2GI7jOP0GEXknVxo33TiO4wxwXNE7juMMcFzRO47jDHBc0TuO4wxwXNE7juMMcIq5/uckzOFRgonApYX22dHYCPX1sHAh1NRAXR1MybjcsuM4zpZH0Ub0qrpAVaeq6lRgH2yBgU6LcnSHxkaYPRuam2H8ePudPdvCHcdxHKOnTDeHYQs55JzvmQ/19VBVZdugQcn9+nROZB3HcbZQekrRn0qGRX5F5DwRaRCRhqamprwKXbgQKio6hlVUWLjjOI5jFF3Rh5WMjsOWueuEqt6oqrWqWltdnfUr3k7U1EBra8ew1lYLdxzHcYyeGNEfBTyrqksLXXBdndnlm5uhvT25X5drtUjHcZwtiJ5Q9KeRwWzTXaZMgZkzzS7/3nv2O3Omz7pxHMeJUlSnZmFRhiOA/ypWHVOmuGJ3HMfJRlEVvaquAcYUsw7HcRwnO/5lrOM4zgDHFb3jOM4AxxW94zjOAMcVveM4zgDHFb3jbKls2ACnnAI77wz77w9vv50+3QMPwKRJlu6qq5Lhc+ZYmAgsX15cWb/zHdh+exg5MnOau+6CqVOT26BBMH8+rF0Ln/407LorTJ4M3/xmcWXtg7iid5wtlVtusY9PXn8dLr4YvvGNzmna2uB//gfuvx9efhl++1v7BTjoIHj4Ydhhh+7JcdZZ8Oij2dMceyw880z2NJ//vCn2+fPhjjtgxx1N4YN9YPPqq/Dcc/Cvf9n5bEG4onec/sCll8K11yaPv/Md+OlPu1fmH/8IZ55p+yedBH//O6h2TPPMMzZqnzgRhg6FU0+1fAB77QUTJnQu98IL4fLLbf/BB2HaNPt0vTsccABsu2389L/9rckKMHw4fOITtj90KOy9t31huQVR1Hn0juMUiC9+0Xx7XHSRKc27704/wj3kEFi1qnP47Nlw+OEdwxYtMnMIwODB5hHwgw9g7Nj0acD8gT/9dHZZf/AD2Hdfk+WCC+CvfzUzSk/yu98lb0hRWlrgT3+ym9EWhCt6x+kPTJgAY8aY6WHpUhtNj0nzLeITT/S4aJ0YPhxuuslG8tdcAzvt1DnNgw8mTUULF8I//2n299LS3DeSXDz9tMmw++4dwzdvhtNOs5vPxIndq6Of4YrecfoL554Lv/41LFliI/x05DOiHzcO3n3XRumbN5vr19SbRyJNgvfes7BcvPCClfX+++njP/Up28Bs9GedBdOn5y43DnffbQo9lfPOg498xJ6KtjBc0TtOf+HEE81Wv2kT/OY36dPkM6I/7ji47Tb42Mdg7lw49FCbQRNl333htdfgrbdMwd99d+a6E7zzDlx9tT19HH00nHCCzerpCdrb4Z57OrfDd79rN7Kbb+4ZOfoY/jLWcfoLQ4faS8WTT4aSku6Xd845ZpPfeWf4yU+SUyfff98UNJjtfs4cG31/9KNW9+TJFnfddfY08N575lnw3HPtZe4559gTxHbb2cyec8+F9eu7J+sll1hda9fa76xZFn7ffXbzS/D44/ZOIWqaee89uOIKmy209942E2cLU/iiqW/Ze5Ha2lptaGjobTEcp2/S3m6K6t57zQThOICIzFPV2mxpfETvOP2Bl1+2kfdhh7mSd/LGbfSO0x/YbTd4883elsLpp/iI3nEcZ4Djit5xHGeA44recRxngOOK3nEcZ4Djit5xHGeA44recbZEpk+HnvpmZd482GMPmx56wQWdPWSChV1wgaWZMgWefbZj/MqV9qHUjBk9I/MAwxW94/Q3VLvv9rcn+cpXzMnZa6/Z9sADndPcf38y/sYbLU+U733PnKQ5XcIVveP0B95+21Z5OuMM88oYdTT2wAPw2c8mjx99FI45xva/8hWorTW3Bd//fvqyo6s2zZ1rDsYAmprgM58xfzf77msLduTL4sU2Gj/gAPOjc8YZ8Ic/dE73xz9anIilbWmxvGBPBEuXwic/mX/9DuAfTDlO/+G118wJ2QEHdAw//HDzzLhmDYwYYb7YE4tuXHEFjB5tK0Uddhg0NpppJA4XXmgrTx18sLkS/tSn4JVX4JFHLDyV4cPh3//uGLZokZlcEowfb2GppPN7v2gRbL01fO1rcOedtpqV0yWKquhFpBK4GdgdUOCLqvpkIeuYO9d8Li1aZM71ZsywxXIaG6G+3vpnaak97W7c2HG/psbWcpgypWP6aLjj9Bl22KGzkgdzPHbkkbagxkknwV/+Aj/6kcXdc4+ZQjZvthHyyy/H79gPP5xcNhBsZL56tTlWmz+/26cTixtuMAdr0ZuFkzfFHtH/FHhAVU8SkaHA8EIWPneuObUrL7dVxlpa7Pidd+D55205zCFDkstRTp4ML71k+9OmQXOzOdk77jhzgldVZf0pET5zpit7pw8xYkTmuFNPtRHP6NFmqhk1ylwLz54N//mPde6zzkrvRTLqmjga394OTz0FZWUd0+czoh83ruOyfZn82Wfye//kk+Zy+IYb7CazcaOZmqKLlDs5KZqNXkQqgGnALQCqulFVWwpZx5w5puQrK22lsspKO77+euvXVVWwYIGFlZfbJIPE/oIFyTRz5iT3Bw1K7tfXF1JaxykiH/+4zVS56aak2WblSrs5VFSYjTvTgthbb20mmfZ2+P3vk+Gf/KT9mRIkRvGJEX3qlqrkwUZg5eV2w1CF22+H44/vnO644yxO1dJWVFjeu+6yx+y337ab1hlnuJLvAsV8Gbsj0ATcKiLPicjNItJpSCIi54lIg4g0NDU15VXBokXWh6KUl8OKFdZPwNYaKCuzbdWq5H5rq8VXVFg5ifQJKiqsfzlOv6CkxF7A3n9/8kXsnnvakoO77gqf+xwcdFD6vFddZXkOPLDjAtzXXWejoylTzKnaL37RNdluuMF80u+8sy0reNRRFv6LXyTLPPpo8yG/887wpS9ZHqdg5PRHLyKfVdV7c4WlyVcLPAUcpKpPi8hPgZWq+r1MefL1Rz99uplrKiuTYS0tth1/vI3KH30U1q2zuKVLbfACMGyY5W9uNjPPnnta+gTNzXacWN/AcRynL1Iof/TfihmWynvAe6qaWOl3LrB3jHyxmTHDnk5bWuyps6XFjs8/3xR1c7PNSFu50rba2uT+pEnJNDNmJPfb25P7dXWFlNZxHKd3yPgyVkSOAo4GxonIdZGocmBzroJVdYmIvCsik1R1AXAY8HKufPlw0kn2G511893vdp51M316cqZNdH/bbW3VsylTYJddOs66SYQ7juP0dzKabkRkT2AqcDkQWZSRVcAjqtqcs3CRqdj0yqHAm8DZ2fL5UoKO4zj5Ecd0k3FEr6rPA8+LyG9UdVNXBFDV+UBWARzHcZziEmce/X4iMgvYIaQXQFV1YtZcjuM4Tp8gjqK/BbgYmAe0FVccx3Ecp9DEUfStqprhSwvHcRynrxNH0T8iIj8G6oENiUBVfTZzFsdxHKevEEfR7x9+oy9VFTi08OI4juM4hSanolfVT/SEII7jOE5xyKnoReTSdOGqennhxXEcx3EKTRzTzZrIfhlwDPBKccRxHMdxCk0c083V0WMRmQ08WDSJHMdxnILSFTfFwwFf7sVxHKefEMdG/wI2ywagBKjG/N84juM4/YA4NvpjIvubgaWqmtN7peM4jtM3yGm6UdV3gErgWOBEYLciy+Q4juMUkJyKXkQuBO4CtgrbXSJyfrEFcxzHcQpDHNPNOcD+qroGQER+CDwJXJ81l+M4jtMniDPrRujotbIthDmO4zj9gDgj+luBp0Xk9+H4BMx1seM4jtMPiPPB1E9E5FHg4BB0tqo+V1SpHMdxnIKRbXHwfYGxqnp/cEn8bAg/WkQGqeq8nhLScRzH6TrZbPQ/BF5OE/4S8OPiiOM4juMUmmyKflSYQ9+BEDa2eCI5juM4hSSboq/KEje80II4juM4xSGbon9YRK4QkQ+nUopxOfCP4ovmOI7jFIJss26+BtwMvC4i80PYnkADcG6R5XIcx3EKREZFH76EPU1EJgKTQ/BLqvpm3MJF5G1gFfaR1WZVrc2eI3/22gvmz08eT50Kz2WZ/NnYCPX1sHAh1NRAXR1MmVJoqZwtAe9LTn8hjlOzN1X1T2GLreQjfEJVp/aEkgc73muv9OkbG2H2bGhuhvHj7Xf2bAt3nHzwvuT0J7qy8EifIVXJ5wqvr4eqKtsGDUru19cXS0JnoOJ9yelPFFvRK/A3EZknIuelSyAi54lIg4g0NDU1FVWYhQuhoqJjWEWFhTtOPnhfcvoTcdwU3xEnLAMHq+rewFHA/4jItNQEqnqjqtaqam11dXXMYrtGTQ20tnYMa221cMfJB+9LTn8izoh+cvRAREqAfeIUrqqLwu8y4PfAfvkKmI2pU/MLr6szW2pzM7S3J/fr6goplbMl4H3J6U9kVPQi8i0RWQVMEZGVYVsFLAP+mKtgERkhIqMS+8AngRcLJDdgs2tSlXq2WTdTpsDMmWZLfe89+50502dKOPnjfcnpT4iqZk8g8gNV/VbeBdu0zIRr48HAb1T1imx5amtrtaGhId+qHMdxtlhEZF6uWY1x3BR/S0TGATtE06vq4znyvYl9YOU4juP0IjkVvYhcBZyKebJMrDSlQFZF7ziO4/QN4qwwdSIwSVU3FFsYx3Ecp/DEmXXzJjCk2II4juM4xSHOiH4tMF9E/g58OKpX1QuKJpXjOI5TMOIo+vvC5jiO4/RD4sy6uU1EhgE1qrqgB2RyHMdxCkgcFwjHAvOBB8LxVBHxEb7jOE4/Ic7L2FmY64IWAFWdD0wsmkSO4zhOQYmj6Depaor7JtqLIYzjOI5TeOK8jH1JRD4HlIjIR4ALgH8XVyzHcRynUMQZ0Z+PebDcAPwWWAlcVESZHMdxnAISZ9bNWuA7YXMcx3H6GRkVvYj8CfNpkxZVPa4oEjmO4zgFJduIfnb4rQO2Ae4Mx6cBS4splOM4jlM4Mip6VX0MQESuTvF1/CcRcafxjuM4/YQ4L2NHhEVEABCRHYERxRPJcRzHKSRxpldeDDwqIm8Cgi1A8l9FlcpxHMcpGHFm3TwQ5s/vGoJedd/0juM4/Ydss24OVdV/iEjquvY7iQiqWl9k2RzHcZwCkG1E/3HgH8CxaeIUcEXvOI7TD8g26+b74ffsnhPHcRzHKTRx3BRfKSKVkeMqEfnfokrlOI7jFIw40yuPUtWWxIGqNgNHF00ix3Ecp6DEUfQlIlKaOAirTZVmSe84juP0IeLMo78L+LuI3BqOzwZui1uBiJQADcAiVT0mfxFzld85bPhwGDUKdtwRNm2C1laoqLDjUaNg6FDLt3gxtLRAZSVsuy2owpIlybCpU6GuDqZMgcZGqK+HhQuhpiYZnou4+Qqdrhj0Zt2O43QdUc3otyyZSORI4PBw+JCqPhi7ApGvArVAeS5FX1tbqw0N8b0rpFPyCUpLYcMGGDECxo+HpUuhvR323RcWLYL162HIELsprFkDmzdbvsGDLU97O+yxB5SUwHHHwX33QVWV3TBaW6G5GWbOzK7oGhth9uzc+Qqdrhj0Zt2O42RGROaluKnpRJyXsTsCj6rqTFWdCTwuIhNiCjAe+DRwc5z0hWTjRlPSmzbZKH34cCgrg4YGKC+3+DVrbOS+dq0db9xo+5WVMGyY3RCqqmDOHPutqoJBg5L79TkmmNbXx8tX6HTFoDfrdhyne8Sx0d9Lx6UD20JYHK4FLiHL0oMicp6INIhIQ1NTU8xic6Nqin7zZhvZDx5so/x160zht7UlR/FtbcnjtjYLKytLmnwWLbLfKBUVZsLIxsKF8fIVOl0x6M26HcfpHnEU/WBV3Zg4CPtDc2USkWOAZao6L1s6Vb1RVWtVtba6ujqGOPEQMaWdUPAJhT9smJltSkosDmw/cVxSYmHr1ydNFOPG2W+U1lazU2ejpiZevkKnKwa9WbfjON0jjqJvEpEPFxkRkeOB5THyHQQcJyJvA3cDh4rIndmzFI6hQ03RDxkC22xjJpn166G2FlautPgRI+zF6/Dhdjx0qO23tNjIf9w4s0PPmGG/zc1mu0/s16U6h0ihri5evkKnKwa9WbfjON0j58tYEdkJm3mzHea98l3gdFV9I3YlItOBmYV+GWtldw7zWTfFwWfdOE7fI87L2FizbkJhIwFUdbWI7Kuq/8lDkOkUSdE7juNsycRR9HHm0SeoAU4TkVOBVmzKZCxU9VHg0TzqchzHcQpEVkUfplGeFrZN2KIjtar6dtElcxzHcQpCxpexIvIk8BfsZvAZVd0HWOVK3nEcp3+RbdbNUmAUsDWQmPcYz6DvOI7j9BkyKnpVPQHYA5gHzBKRt4AqEdmvh2RzHMdxCkBWG72qtgK3AreKyFbAycA1IlKjqtv3hICO4zhO94jzwRQAqrpMVeeo6kHAwUWUyXEcxykgsRV9FFV9p9CCOI7jOMWhS4recRzH6T+4onccxxngZHwZKyLXk2U6papeUBSJHMdxnIKSbUTfgE2tLAP2Bl4L21RiuCl2HMdx+gYZR/SqehuAiHwFOFhVN4fjXwBP9Ix4juM4TneJY6OvAsojxyNDmOM4jtMPiOO98irgORF5BPNHPw2YVUyhHMdxnMKRU9Gr6q0icj+wfwj6hqouKa5YjuM4TqGIO71yA7AYaAZ2EZFpxRPJcRzHKSQ5R/Qici5wITAemA8cADwJHFpUyRzHcZyCEGdEfyGwL/COqn4C2AtoKaZQjuM4TuGIo+jXq+p6ABEpVdVXgUnFFctxHMcpFHFm3bwnIpXAH4CHRKQZcKdmjuM4/YQ4s25ODLuzwhTLCuCBokrlOI7jFIw4I3pEZE/gkHD4hKpuLJ5IjuM4TiHJaaMXkQuBu4CtwnaniJxfbMEcx3GcwhBnRH8OsL+qrgEQkR9i0yuvL6ZgjuM4TmGIo+gFaIsct4Ww7JlEyoDHgdJQz1xV/X5XhMxeT/b4khLbBg2C9nb7LS+HzZthzRpLM3IkjBoFq1fDhg0wejR85jMW/9RTsG6dxY8fD1OnQl0dTJkCV18N118PK1ZYnvPPh699rbMMjY1QXw8LF0JNTTJ/OubOhTlzYNEiGDcOZsyAk07Kv5yu1N0VouWXloIqbNyYf13pylmyBFpaoLKyY7v3JMVuP6d/Uqh+0VP9S1Qzupy3BCJfBc4Efh+CTgBuU9VrcuQTYISqrhaRIcA/gQtV9alMeWpra7WhoSG+8DlvN51JKPx0xyJQVQVtbbBqle1vvTUsXWphY8fCfvvZjaO6Gn75Sxg2zLZ162y77LKOyr6xEWbPtrIqKqC1FZqbYebMzhd07ly45BK7EZWXw8qVtv3oR7DLLvHL6UrdXSFa/vr18PjjFj5tGpSVxa8rXTnr18OQITB8uF2fPfawdi+U7HEodvs5/ZNC9YtClSMi81S1NluanDZ6Vf0JcDawImxnAzfGyKequjocDglb9rtKDxBV8mDKJEFJSXKUL2JKds0aG2EOHw5r19pIu6oKbrnFFPyIEXazGDHCjq9PMWjV11v6qipLl9ivr+8s25w5puArKy1tZaUdz5mTXzldqbsrRMtfsCB5g1qwIL+60pWzcaO1fWWltWui3QslexyK3X5O/6RQ/aIn+1dWRS8i40SkFnhRVa8D7gY+iy1AkhMRKRGR+cAy4CFVfTpNmvNEpEFEGpqamvI+gUIyaJCZdDZvtuP2dhtZDh5sW1ub3XUrKkwJDRvWMf+wYWbGibJwoaWPUlFh4aksWmRKLkp5uYXnU05X6u4K0fJbW20UX1Zm+/nUla6ctrbkdUiUWUjZ41Ds9nP6J4XqFz3ZvzIqehG5CPNtcz3wVPB58wowDNgnTuGq2qaqUzE/OfuJyO5p0tyoqrWqWltdXZ33CRSS9vakUgdT/GVlSeVfUpJ8xBoxwkw1UdatM1t9lJqapOJL0Npq4amMG2dPEVFWrrTwfMrpSt1dIVp+RYXdFNev76i049SVrpySkuR1SJRZSNnjUOz2c/onheoXPdm/so3ozwMmqerHMLv8HOCTqnqxqi7OpxJVbQEeAY7sopwFY1DKGW/alNxvazMFDvYysLzcjjdsMLPN8OGmdJub4ZxzTLGvWWM3iDVr7Pj8lImndXWWvrnZ0iX26+o6yzZjhin2lhZL29JixzNm5FdOV+ruCtHyJ01KvlOYNCm/utKVM3SotX1Li7Vrot0LJXscit1+Tv+kUP2iJ/tXxpexIvKsqu4dOX5eVfeMXbBINbBJVVtEZBjwN+CHqvrnTHnyfRlr9WSP91k3PuumO/isGycdfWnWTZyXsdkU/TLMJp/g1Oixql6Qo/IpwG1ACfbkcI+qXp4tT1cUveM4zpZMHEWfbR7911OO5+VTuao2Yi6NHcdxnF4ko6JX1dt6UhDHcRynOOScR+84juP0b1zRO47jDHByKnoRGdMTgjiO4zjFIc6I/ikRuVdEjg7+axzHcZx+RBxFvwvm2+Z04DURuVJEdimuWI7jOE6hiOPUTFX1IVU9DfgS5snyGRF5TEQ+VnQJHcdxnG6R0x99sNF/ARvRLwXOB+4DpgL3AjsWUT7HcRynm8RZeORJ4A7gBFV9LxLeICK/KI5YjuM4TqGIo+gnaQY/Car6wwLL4ziO4xSYjIpeRP5EWCgk3WQbVT2ueGI5juM4hSLbiH52j0nhOI7jFI1svm4e60lBHMdxnOKQzXRzj6qeLCIvkGatV1V1r9yO4zj9gGymmwvD7zE9IYjjOI5THLKZbhaH33d6ThzHcRyn0MRxanaAiPxHRFaLyEYRaRORlbnyOY7jOH2DOL5u5gCnAa8Bw4BzgZ8VUyjHcRyncMTyR6+qrwMlqtqmqrcCRxZXLMdxHKdQxPkydq2IDAXmi8iPgMX4giWO4zj9hjgK+/SQbgawBtge+EwxhXIcx3EKR84Rvaq+IyLVYf+y4ovkOI7jFJKMI3oxZonIcmAB8P9EpElELu058RzHcZzukm1EfzFwELCvqr4FICITgZ+LyMWqek1PCOg4jtNnUIVVq2D5cmhqsi3TfmJbtSp3uccdB3/8Y9HEzqboTweOUNXliQBVfVNEvgD8Dciq6EVke+B2YGvMhcKNqvrT7oucWk+hS4QhQ6C8HLbaCtraYNgwKCuDhQuhpQVKSmDUKBg5EhYvhtWrk3krKiyuuRnWrbOw0lLYc0/46Eftmr/1FixbZvEbN1qaoUNhxAiorIQDDoD//m+YksXJRGMj3HADPPWUtcEBB8BXvmJ55s6FOXNg0SKTZ+JEk7WmBurqLE1jI9TX2zl1JXz33eHFFzuni0O6OiB9vV0pKzVfrjRxyugKhSy3sRF+/nO73qrx+khPylqsNsyb9etN2aZTuOkU8vLlucvsCYrcWJLB1Twi8qKq7p5vXCTNtsC2qvqsiIwC5mGLl7ycKU9tba02NDTEF77IS5WLmNIuK7M+IQKDB8OmTfZni1tGIu1OO1k5qrB5s/VJVbtxtLfb7w472I1mp53gyivTX//GRvj2t+GNN0w+sBvIzjvD9Onws5/ZjWrQILuptLXBpz4F221nN6DjjoP77oOqKrsRtLbmF/7666ZwPvYxkzORbubM3P21sRFmz+5YxxtvWDtNnNix3lzlpSsrNV+uNHHK6AqFLLexEb7zHWv36PXO1kd6UtbY+dva4IMPco+Ao2GbNnXv5IrBiBFQXW3b2LHp96NhFRVFVVYiMk9Va7OlyTai39jFOOBDFwoJNwqrROQVYByQUdH3NVRNAX/wQfI6bd5syn7z5njKXjWp7N94w54S1q6FDRuSCr6tzcoE6+OTJlkfr69P/0err7f48nJ72gCrY9kyuP56eyqorIS334bhw638//wHzjrL0s6ZY08YVVV2nPiNG/7++1b3okXwkY8kwzPJmyp7VVXHOpqabH+ffTrWm6u8dGWl5suVJk4ZXaGQ5dbX27VNvd7Z+kjeslYq2wxbyYiWJmrWNKHNTbz1veVMOTDLaDg8yk7BHt07cUf35OoSQ4ZkVrjp9kePTv75BjDZznDPDK4OBCjLpxIRmQDsBTydJu484DyAmpqafIrtEVRNUQ4ZklTugwd3HKnnIpq2tBTWrDEFP3iwlQ02+m5vtxtAWZmNihYuTF/ewoWWrqIiGZbIs2KFPTqDPTGUllo9K8OVrKgwBT1tWscy8wlvbTWl09raMV0meVNlHz++Y9iGDZ3TxSkvXVmp+XKliVNGVyhkuQsXAuvWUTOsicpVy6nc1ETFxibKVjWx6++b4P00SnjFitjlz8oWeV/+8mZlzJj4o+ExY5J3NqdbZHNqVlKICkRkJPB/wEWq2unGoao3AjeCmW4KUWchEbGRd1ub7SeUdlwlDx3TbthgZSQUe6K89naLLy1NKuhM972aGnjpJUuX+B8k8owebUq9stKU/6ZNJnt5uaVrbYVx4+w3McrMN7yiwt5VVFZ2TBfnPl1TY4/10TpKSzuni1NeurJS8+VKE6eMnGze3Mku/Jmlyxn0chNj2psYvnY5w9c2UbayiVEbmuD2puQdPga/yhb5PtCYh6xZ2DB0FGuHj2XNiGpah1SzsbKavY7IopBHjQIRZs3q3IaJ41mzCiOb0z2K+swiIkMwJX+XqtYXs65ikFDIY8YU1kYvklToCRt9W5v9jh1rinqnnZIvKVOpq4OGBjMFJcpO2OhPPtls9GBKP2GjP+QQ+/M1N8OMGWZzh4421bjh221no8zJk+0GlUh3zjm526Ouzuy50Tqqq61Nmps71purvHRlpearO1G54coWBjc3sXWJKeLtP2ji6P2a4KtNXPjachY+20TV5iZGbVjO8DVNlG5ea5m78dXIp7ueNS0bB5WyYtBYWodW0zy4muWMpX10Nft9upptdk8zGq6qsg4Vg2w2dmKYheJcB6d3yfgyttsF20KztwErVPWiOHnyfRlr9eQvWy581k3PzbrZaZs11B3SxOCW5Tz95ybWv9vE9sOWs9f4JraSNC/oWlq6cEV7gDTmh6Xt1Ty7cCwL11UzrKaaA44Zyy4HhXTpHmOy4LNunEzEeRlbTEV/MPAE8AIQDBN8W1X/milPVxS9U0Q2beo8KyLX/OGEDaovUVGR2fyQzjY8YkTxp3Q5ToHo7qybbqGq/8Re3DrFoL3dHhviTFFL7K9f39tSd6asLPvUtNT9qiqzpzmOE5uBP6+oN1A1m8zatbatWZN5/+67be5jYlpMX2LQoOwj4FTlPGaM2aAcx+lTbJmKfvPmpLKNKt9sCjlOfHQ/j1kVXaayMr/R8IgRxZfJcZw+x8BQ9D/8IXzzmx3DDj88sxLemPN7r86UlZmiHD7ctsR+YhpKani6tOn2Ve3tbUWFmyQcxykKA0PRX3dd57A1a0yZjh0bT+Fmix8+3JWw4zj9loGh6Bct6m0JHMdx+iw+THUcxxnguKJ3HMcZ4LiidxzHGeC4onccxxnguKJ3HMcZ4LiidxzHGeC4onccxxnguKJ3HMcZ4LiidxzHGeC4onccxxnguKJ3HMcZ4LiidxzHGeC4onccxxnguKJ3HMcZ4LiidxzHGeC4onccxxnguKJ3HMcZ4LiidxzHGeC4onccxxngFG3NWBH5FXAMsExVdy9ePcUquTODBkFpKZSVwbp1sHmzbQkZhgyxra0N1q/vmHf0aNhjD6ipgccfh3fe6Rg/dCgceKCtZf7SS7BkiYVNmwYnnwwvvggLF8KqVfDWW7BsmdU9ZAgMGwYjR8L48bB0KTz/PGzYACUlsM8+8MtfwpQpyboaG+HnP4ennrLzSOSdOhXq6ixNfb3VV1NjYan508VHw0tLQRU2brT95cvhtdesrQ44AL7ylY71DB1qcRs2pK+zGGQ6j3zTdKf8YuZ3vA0TiKoWp2CRacBq4Pa4ir62tlYbGhryqKOLwvUSI0fC6tWZ40VgcLj1VlTYjWXNGhgxAg47zJTmQw+ZAgVTiqqm7IcOhfZ2WLnS4kpKLE4Vdt0V7r47qYy/8x14/XVLs2SJ3ZjGjoX99oPWVpNj4kSTobUVmpth5sxk/tmzoaqqY/xxx8F991n4+vV2MwOYPBnmzYMVK2D77WH4cLtZVVdb/okTO6afNs1upNE6i0Gm84jWGSdNd8ovZn5ny2lDEZmnqrXZ0hTNdKOqjwMrilV+f2T1alPemVBNjtI3bbKRuqrle/99aGgwJahqynHoUMu3aZMp0ISSjz5hDBoEb7xhoxqw32XLoLzcyi0ttbxr18KiRdDUZPFVVZa3qsq2aP5EWDR+zpzk/oIFVn55ucm8caPJvXq11VVebjIl6ommX7Cgc53FINN5ROuMk6Y75Rczv+NtGKXXbfQicp6INIhIQ1NTU2+LU3RKSuKl2bw5edzWZqORVauSJpH2duu87e12PDhihBNJjvoHDbIbwcKFdrxwoT0JlJXZzWLwYNsSdWzYYFuUioqO+SsqOscvWpQMb2218svKTOa2NpM7Yc5KmL4S9UTTt7Z2rrMYZDqPaJ1x0nSn/GLmd7wNo/S6olfVG1W1VlVrq6ure1ucotPWFi9NVHGXlFgHHTXKlKNIUskPGmTH0RuDanJU395uI/uaGjuuqUkq3bKy5HuGRB2lpbZFaW3tmD+hjKPx48Z1VNLr19s2apSVnbi5gIUPG5asJ5o+erNI1FkMMp1HtM44abpTfjHzO96GUXpd0W9JjBxpijcTCRv9pk2mnNets7CRI2G77aC21pShiCnNjRst35AhZnopL7fjxGh+0yarb6edki9Z6+pgq63MzDNypCngtWvNpDJunNnOt9rKbJnt7fbb3NwxfyIsGj9jRnJ/0iQrf+VKk3noUJN75Eira+VKkylRTzT9pEmd6ywGmc4jWmecNN0pv5j5HW/DKEV7GQsgIhOAPxfrZazV0QXBuojPuknm91k3hSm/mPmdLaMN47yMLeasm98C04GxwFLg+6p6S7Y8XVH0juM4WzJxFH3R5tGr6mnFKttxHMeJj9voHcdxBjiu6B3HcQY4rugdx3EGOK7oHcdxBjhFnV6ZLyLSBLyTM2F6xgLLCyjOQMXbKR7eTrnxNopHsdtpB1XN+rVpn1L03UFEGnJNMXK8neLi7ZQbb6N49IV2ctON4zjOAMcVveM4zgBnICn6G3tbgH6Ct1M8vJ1y420Uj15vpwFjo3ccx3HSM5BG9I7jOE4aXNE7juMMcPq9oheRI0VkgYi8LiLf7G15+goi8isRWSYiL0bCRovIQyLyWvit6k0Z+wIisr2IPCIiL4vISyJyYQj3toogImUi8oyIPB/a6bIQvqOIPB3+f78TkaG9LWtvIyIlIvKciPw5HPd6G/VrRS8iJcDPgKOA3YDTRGS33pWqz/Br4MiUsG8Cf1fVjwB/D8dbOpuBr6nqbsABwP+EPuRt1ZENwKGquicwFThSRA4Afghco6o7A83AOb0nYp/hQuCVyHGvt1G/VvTAfsDrqvqmqm4E7gaO72WZ+gQZFmc/Hrgt7N8GnNCTMvVFVHWxqj4b9ldhf9BxeFt1QI3V4XBI2BQ4FJgbwrf4dhKR8cCngZvDsdAH2qi/K/pxwLuR4/dCmJOerVV1cdhfAmzdm8L0NcKKaHsBT+Nt1YlgkpgPLAMeAt4AWlQ1sWKx///gWuASILFo6Bj6QBv1d0XvdBG1ebU+tzYgIiOB/wMuUtWV0ThvK0NV21R1KjAee5retXcl6luIyDHAMlWd19uypFK0FaZ6iEXA9pHj8SHMSc9SEdlWVReLyLbYyGyLR0SGYEr+LlWtD8HeVhlQ1RYReQT4GFApIoPDiHVL//8dBBwnIkcDZUA58FP6QBv19xH9f4CPhLfaQ4FTgft6Waa+zH3AmWH/TOCPvShLnyDYUG8BXlHVn0SivK0iiEi1iFSG/WHAEdj7jEeAk0KyLbqdVPVbqjpeVSdguugfqvp5+kAb9fsvY8Pd81qgBPiVql7RuxL1DdItzg78AbgHqMHcQZ+sqqkvbLcoRORg4AngBZJ21W9jdnpvq4CITMFeJJZgA8R7VPVyEZmITYIYDTwHfEFVN/SepH0DEZkOzFTVY/pCG/V7Re84juNkp7+bbhzHcZwcuKJ3HMcZ4LiidxzHGeC4onccxxnguKJ3HMcZ4Liid3oMEWkTkfnB++HzIvI1EcnaB0VkOxGZG/anJzwCxqzvLBFpCnW+KiIXx8hzuYgcniNNqYg8HMo9JUu6X4vISWH/URFJu0C0iMwNU/AKiojMFpFDC12u0//o71/GOv2LdeETekRkK+A32NeD38+UQVXfJ/mxSVf4narOEJExwAIRmauq72ZKrKqXxihzr5B2ajfkAkBEJgMlqvpmd8tKw/XATcA/ilC204/wEb3TK6jqMuA8YIYYE0TkCRF5NmwHgjkai/rUD2GDgp/46sjx64njDPV9ALwObBvyXCoi/xGRF0XkxvCFbOoo/G0RuSzI84KI7BpuUHcC+4YR/U6ZyorJ54l8KSkiq0Xkx+Gp52ER2S88DbwpIseFNGeJyB/E/OS/LSIzROSrYj7QnxKR0eGc3wHGiMg2ecjjDEBc0Tu9RhjFlgBbYb5kjlDVvYFTgOuy5GvHlO3nQ9DhwPOq2pQpj4jUYP5HGkPQHFXdV1V3B4YBx2TIujzI9HPsS8dlwLnAE6o6VVXfyKOsdBwERJ1gjcA+nZ8MrAL+F3M3cCJweSTd7kAdsC9wBbBWVfcCngTOiKR7NtThbMG4onf6CkOAm0TkBeBebCGZbPyKpEL7InBrhnSniEgjNpq/QVXXh/BPiK368wLmL3xyhvwJJ2fzgAkZ0sQtKx3bAtEb1EbggbD/AvCYqm4K+9H6H1HVVeHm1gr8KZInmm4ZsF0e8jgDEFf0Tq8RXkC2YcroYswnz55ALZB1ubVgZ18aXjbuB9yfIenvVHUKcCBwlYhsIyJlwA3ASaq6B2bHLsuQP+GTpI0077TyLCsd61LSb9KkX5L2RP3hKSZaf9RXSnvkODVdWajD2YJxRe/0CsGe/gvM7KFABbA4KLTTMZNOLm7GTDj3qmpbtoSq2gDcgS3zllCsy8X80HfnZW93y3oF2Lkb9ediF+DFnKmcAY0reqcnGZaYXgk8DPwNuCzE3QCcKSLPYwtarIlR3n3ASDKbbVL5IXA2Njq/CVOAD2LurruEqrZ0s6y/YF5GC46Yn/2dgYZilO/0H9x7pdNvCfPSr1HVQ3pblq4SfLs/AhyU66mkC2WfCOytqt8rZLlO/8NH9E6/RES+ia0K9a3elqU7qOo67DuCYqwjOhi4ugjlOv0MH9E7juMMcHxE7ziOM8BxRe84jjPAcUXvOI4zwHFF7ziOM8BxRe84jjPA+f8BYkHImMixq6oAAAAASUVORK5CYII=\n",
      "text/plain": [
       "<Figure size 432x288 with 1 Axes>"
      ]
     },
     "metadata": {
      "needs_background": "light"
     },
     "output_type": "display_data"
    }
   ],
   "source": [
    "# Undertake the linear regression and plot using matplotlib\n",
    "(slope, intercept, rvalue, pvalue, stderr) = linregress(x_axis[\"Rainfall amount (millimetres)\"], y_axis)\n",
    "regress_values = x_axis[\"Rainfall amount (millimetres)\"] * slope + intercept\n",
    "\n",
    "line_eq = \"y = \" + str(round(slope,2)) + \"x + \" + str(round(intercept,2))\n",
    "r_value = \"r value= \" + str(round((rvalue),2))\n",
    "\n",
    "# Use matplotlib to create a scatter plot\n",
    "plt.scatter(x_axis[\"Rainfall amount (millimetres)\"], y_axis, marker=\"o\", facecolors=\"blue\", edgecolors=\"blue\", alpha=0.5)\n",
    "plt.plot(x_axis[\"Rainfall amount (millimetres)\"],regress_values,\"r-\")\n",
    "plt.annotate(line_eq,(25,6.5),fontsize=10,color=\"red\")\n",
    "plt.annotate(r_value,(25,6),fontsize=10,color=\"red\")\n",
    "plt.title(\"Relationship Between Rainfall and Road Accident Count \\n(Main Arterials/Freeways) (Melbourne LGA)\")\n",
    "plt.xlabel(\"Daily Rainfall (mm)\")\n",
    "plt.ylabel(\"Daily Road Accident Count\")\n",
    "\n",
    "# Save the figure\n",
    "# plt.savefig(os.path.join(\"figures\",f\"Melb_Rainfall_vs_Accident_Count_Arterials_Freeways.png\"))\n",
    "print('The pvalue of this correlation is '+str(round(pvalue,3))+' ---> We cannot reject null hypothesis')"
   ]
  },
  {
   "cell_type": "code",
   "execution_count": 10,
   "id": "2cc6199f",
   "metadata": {},
   "outputs": [
    {
     "name": "stdout",
     "output_type": "stream",
     "text": [
      "The correlation between daily rainfall and daily road accident count for arterials/freeways in Melbourne LGA is 0.04\n"
     ]
    }
   ],
   "source": [
    "# Calculating the correlation coefficient for daily rainfall and daily road accident count\n",
    "correlation = st.pearsonr(x_axis[\"Rainfall amount (millimetres)\"], y_axis)\n",
    "print(f\"The correlation between daily rainfall and daily road accident count for arterials/freeways in Melbourne LGA is {round(correlation[0],2)}\")\n",
    "\n",
    "# Outcome: correlation=0.04 means there is no correlation i.e daily rainfall has no impact \n",
    "# on daily road accident frequency. Therefore confirming the Null Hypothesis."
   ]
  },
  {
   "cell_type": "markdown",
   "id": "8045fe0b",
   "metadata": {},
   "source": [
    "#### (2a) Road accident severity (all roads, as fatality count) against rainfall (Melbourne LGA)"
   ]
  },
  {
   "cell_type": "code",
   "execution_count": 11,
   "id": "905605b9",
   "metadata": {},
   "outputs": [],
   "source": [
    "# Group data by the accident date to find daily values.\n",
    "grouped_melbourne_df = melbourne_data.groupby([\"Date\"])\n",
    "\n",
    "# Assign data to axis: x_axis is fatality sum, y_axis is rainfall (mean used but all rainfall data \n",
    "# values same for the same date).\n",
    "y_axis = grouped_melbourne_df[\"FATALITY\"].sum()\n",
    "x_axis = grouped_melbourne_df[\"Rainfall amount (millimetres)\"].mean().reset_index()"
   ]
  },
  {
   "cell_type": "code",
   "execution_count": 12,
   "id": "9ac3646f",
   "metadata": {},
   "outputs": [
    {
     "name": "stdout",
     "output_type": "stream",
     "text": [
      "The pvalue of this correlation is 0.199 ---> We cannot reject null hypothesis\n"
     ]
    },
    {
     "data": {
      "image/png": "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\n",
      "text/plain": [
       "<Figure size 432x288 with 1 Axes>"
      ]
     },
     "metadata": {
      "needs_background": "light"
     },
     "output_type": "display_data"
    }
   ],
   "source": [
    "# Undertake the linear regression and plot using matplotlib\n",
    "(slope, intercept, rvalue, pvalue, stderr) = linregress(x_axis[\"Rainfall amount (millimetres)\"], y_axis)\n",
    "regress_values = x_axis[\"Rainfall amount (millimetres)\"] * slope + intercept\n",
    "\n",
    "line_eq = \"y = \" + str(round(slope,2)) + \"x + \" + str(round(intercept,2))\n",
    "r_value = \"r value= \" + str(round((rvalue),2))\n",
    "\n",
    "# Use matplotlib to create a scatter plot\n",
    "plt.scatter(x_axis[\"Rainfall amount (millimetres)\"], y_axis, marker=\"o\", facecolors=\"blue\", edgecolors=\"blue\", alpha=0.5)\n",
    "plt.plot(x_axis[\"Rainfall amount (millimetres)\"],regress_values,\"r-\")\n",
    "plt.annotate(line_eq,(25,3.75),fontsize=10,color=\"red\")\n",
    "plt.annotate(r_value,(25,3),fontsize=10,color=\"red\")\n",
    "plt.title(\"Relationship Between Rainfall and Fatality Count (Melbourne LGA)\")\n",
    "plt.xlabel(\"Daily Rainfall (mm)\")\n",
    "plt.ylabel(\"Daily Fatality Count\")\n",
    "\n",
    "# Save the figure\n",
    "# plt.savefig(os.path.join(\"figures\",f\"Melb_Rainfall_vs_Fatality_Count.png\"))\n",
    "print('The pvalue of this correlation is '+str(round(pvalue,3))+' ---> We cannot reject null hypothesis')"
   ]
  },
  {
   "cell_type": "code",
   "execution_count": 13,
   "id": "45081834",
   "metadata": {},
   "outputs": [
    {
     "name": "stdout",
     "output_type": "stream",
     "text": [
      "The correlation between daily rainfall and daily fatality count for all roads in Melbourne LGA is -0.03\n"
     ]
    }
   ],
   "source": [
    "# Calculating the correlation coefficient for daily rainfall and daily fatality count\n",
    "correlation = st.pearsonr(x_axis[\"Rainfall amount (millimetres)\"], y_axis)\n",
    "print(f\"The correlation between daily rainfall and daily fatality count for all roads in Melbourne LGA is {round(correlation[0],2)}\")\n",
    "\n",
    "# Outcome: correlation=-0.03 means there is no correlation i.e daily rainfall does not appear to \n",
    "# increase the likelihood of fatalities in road accidents (all roads) in Melbourne LGA. \n",
    "# Therefore confirming the Null Hypothesis."
   ]
  },
  {
   "cell_type": "markdown",
   "id": "3d2807e7",
   "metadata": {},
   "source": [
    "#### (2b) Road accident severity (only freeways/arterials,as fatality count) against rainfall (Melbourne LGA)"
   ]
  },
  {
   "cell_type": "code",
   "execution_count": 14,
   "id": "d8f6a13e",
   "metadata": {},
   "outputs": [],
   "source": [
    "# Group data by the accident date to find daily values.\n",
    "grouped_melbourne_main_roads_df = melbourne_main_roads.groupby([\"Date\"])\n",
    "\n",
    "# Assign data to axis: x_axis is fatality sum, y_axis is rainfall (mean used but all rainfall data \n",
    "# values same for the same date).\n",
    "y_axis = grouped_melbourne_main_roads_df[\"FATALITY\"].sum()\n",
    "x_axis = grouped_melbourne_main_roads_df[\"Rainfall amount (millimetres)\"].mean().reset_index()"
   ]
  },
  {
   "cell_type": "code",
   "execution_count": 32,
   "id": "39326099",
   "metadata": {},
   "outputs": [
    {
     "name": "stdout",
     "output_type": "stream",
     "text": [
      "The pvalue of this correlation is 0.797 ---> We cannot reject null hypothesis\n"
     ]
    },
    {
     "data": {
      "image/png": "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\n",
      "text/plain": [
       "<Figure size 432x288 with 1 Axes>"
      ]
     },
     "metadata": {
      "needs_background": "light"
     },
     "output_type": "display_data"
    }
   ],
   "source": [
    "# Undertake the linear regression and plot using matplotlib\n",
    "(slope, intercept, rvalue, pvalue, stderr) = linregress(x_axis[\"Rainfall amount (millimetres)\"], y_axis)\n",
    "regress_values = x_axis[\"Rainfall amount (millimetres)\"] * slope + intercept\n",
    "\n",
    "line_eq = \"y = \" + str(round(slope,2)) + \"x + \" + str(round(intercept,2))\n",
    "r_value = \"r value= \" + str(round((rvalue),2))\n",
    "\n",
    "# Use matplotlib to create a scatter plot\n",
    "plt.scatter(x_axis[\"Rainfall amount (millimetres)\"], y_axis, marker=\"o\", facecolors=\"blue\", edgecolors=\"blue\", alpha=0.5)\n",
    "plt.plot(x_axis[\"Rainfall amount (millimetres)\"],regress_values,\"r-\")\n",
    "plt.annotate(line_eq,(25,1.75),fontsize=10,color=\"red\")\n",
    "plt.annotate(r_value,(25,1.50),fontsize=10,color=\"red\")\n",
    "plt.title(\"Relationship Between Rainfall and Fatality Count \\n(Arterials/Freeways)(Melbourne LGA)\")\n",
    "plt.xlabel(\"Daily Rainfall (mm)\")\n",
    "plt.ylabel(\"Daily Fatality Count\")\n",
    "\n",
    "# Save the figure\n",
    "# plt.savefig(os.path.join(\"figures\",f\"Melb_Rainfall_vs_Fatality_Count_Arterials_Freeways.png\"))\n",
    "print('The pvalue of this correlation is '+str(round(pvalue,3))+' ---> We cannot reject null hypothesis')"
   ]
  },
  {
   "cell_type": "code",
   "execution_count": 16,
   "id": "ff14a0cd",
   "metadata": {},
   "outputs": [
    {
     "name": "stdout",
     "output_type": "stream",
     "text": [
      "The correlation between daily rainfall and daily fatality count for arterials/freeways in Melbourne LGA is -0.02\n"
     ]
    }
   ],
   "source": [
    "# Calculating the correlation coefficient for daily rainfall and daily fatality count\n",
    "correlation = st.pearsonr(x_axis[\"Rainfall amount (millimetres)\"], y_axis)\n",
    "print(f\"The correlation between daily rainfall and daily fatality count for arterials/freeways in Melbourne LGA is {round(correlation[0],2)}\")\n",
    "\n",
    "# Outcome: correlation=-0.02 means there is no correlation i.e daily rainfall does not appear to \n",
    "# increase the likelihood of fatalities in road accidents in Melbourne. \n",
    "# Therefore confirming the Null Hypothesis."
   ]
  },
  {
   "cell_type": "markdown",
   "id": "27a485d0",
   "metadata": {},
   "source": [
    "### Road accident frequency/severity increases with rainfall (Hume LGA)"
   ]
  },
  {
   "cell_type": "code",
   "execution_count": 17,
   "id": "c9ff349e",
   "metadata": {},
   "outputs": [
    {
     "data": {
      "text/html": [
       "<div>\n",
       "<style scoped>\n",
       "    .dataframe tbody tr th:only-of-type {\n",
       "        vertical-align: middle;\n",
       "    }\n",
       "\n",
       "    .dataframe tbody tr th {\n",
       "        vertical-align: top;\n",
       "    }\n",
       "\n",
       "    .dataframe thead th {\n",
       "        text-align: right;\n",
       "    }\n",
       "</style>\n",
       "<table border=\"1\" class=\"dataframe\">\n",
       "  <thead>\n",
       "    <tr style=\"text-align: right;\">\n",
       "      <th></th>\n",
       "      <th>ACCIDENT_NO</th>\n",
       "      <th>ABS_CODE</th>\n",
       "      <th>Date</th>\n",
       "      <th>ACCIDENT_TIME</th>\n",
       "      <th>ACCIDENT_TYPE</th>\n",
       "      <th>DAY_OF_WEEK</th>\n",
       "      <th>LONGITUDE</th>\n",
       "      <th>LATITUDE</th>\n",
       "      <th>LGA_NAME</th>\n",
       "      <th>FATALITY</th>\n",
       "      <th>DEG_URBAN_ALL</th>\n",
       "      <th>REGION_NAME_ALL</th>\n",
       "      <th>RMA</th>\n",
       "      <th>STAT_DIV_NAME</th>\n",
       "      <th>Rainfall amount (millimetres)</th>\n",
       "      <th>Maximum temperature (Degree C)</th>\n",
       "    </tr>\n",
       "  </thead>\n",
       "  <tbody>\n",
       "    <tr>\n",
       "      <th>0</th>\n",
       "      <td>T20140013978</td>\n",
       "      <td>Driving accident</td>\n",
       "      <td>2014/07/07</td>\n",
       "      <td>17:45:00</td>\n",
       "      <td>Struck Pedestrian</td>\n",
       "      <td>Monday</td>\n",
       "      <td>144.894949</td>\n",
       "      <td>-37.693058</td>\n",
       "      <td>HUME</td>\n",
       "      <td>0.0</td>\n",
       "      <td>MELB_URBAN</td>\n",
       "      <td>METROPOLITAN NORTH WEST REGION</td>\n",
       "      <td>Local Road</td>\n",
       "      <td>Metro</td>\n",
       "      <td>0.2</td>\n",
       "      <td>15.3</td>\n",
       "    </tr>\n",
       "    <tr>\n",
       "      <th>1</th>\n",
       "      <td>T20140013706</td>\n",
       "      <td>Driving accident</td>\n",
       "      <td>2014/07/03</td>\n",
       "      <td>15:50:00</td>\n",
       "      <td>Collision with vehicle</td>\n",
       "      <td>Thursday</td>\n",
       "      <td>-1.000000</td>\n",
       "      <td>-1.000000</td>\n",
       "      <td>HUME</td>\n",
       "      <td>0.0</td>\n",
       "      <td>MELB_URBAN</td>\n",
       "      <td>METROPOLITAN NORTH WEST REGION</td>\n",
       "      <td>Local Road</td>\n",
       "      <td>Metro</td>\n",
       "      <td>0.0</td>\n",
       "      <td>11.7</td>\n",
       "    </tr>\n",
       "    <tr>\n",
       "      <th>2</th>\n",
       "      <td>T20140014503</td>\n",
       "      <td>Driving accident</td>\n",
       "      <td>2014/07/14</td>\n",
       "      <td>13:27:00</td>\n",
       "      <td>Collision with vehicle</td>\n",
       "      <td>Monday</td>\n",
       "      <td>-1.000000</td>\n",
       "      <td>-37.692174</td>\n",
       "      <td>HUME</td>\n",
       "      <td>0.0</td>\n",
       "      <td>MELB_URBAN</td>\n",
       "      <td>METROPOLITAN NORTH WEST REGION</td>\n",
       "      <td>Freeway</td>\n",
       "      <td>Metro</td>\n",
       "      <td>0.4</td>\n",
       "      <td>12.4</td>\n",
       "    </tr>\n",
       "    <tr>\n",
       "      <th>3</th>\n",
       "      <td>T20140014709</td>\n",
       "      <td>Driving accident</td>\n",
       "      <td>2014/07/16</td>\n",
       "      <td>13:30:00</td>\n",
       "      <td>No collision and no object struck</td>\n",
       "      <td>Wednesday</td>\n",
       "      <td>-1.000000</td>\n",
       "      <td>-1.000000</td>\n",
       "      <td>HUME</td>\n",
       "      <td>0.0</td>\n",
       "      <td>RURAL_VICTORIA</td>\n",
       "      <td>METROPOLITAN NORTH WEST REGION</td>\n",
       "      <td>Local Road</td>\n",
       "      <td>Metro</td>\n",
       "      <td>0.4</td>\n",
       "      <td>13.8</td>\n",
       "    </tr>\n",
       "    <tr>\n",
       "      <th>4</th>\n",
       "      <td>T20140014809</td>\n",
       "      <td>Driving accident</td>\n",
       "      <td>2014/07/17</td>\n",
       "      <td>20:40:00</td>\n",
       "      <td>No collision and no object struck</td>\n",
       "      <td>Thursday</td>\n",
       "      <td>-1.000000</td>\n",
       "      <td>-1.000000</td>\n",
       "      <td>HUME</td>\n",
       "      <td>0.0</td>\n",
       "      <td>MELB_URBAN</td>\n",
       "      <td>METROPOLITAN NORTH WEST REGION</td>\n",
       "      <td>Arterial Other</td>\n",
       "      <td>Metro</td>\n",
       "      <td>0.0</td>\n",
       "      <td>11.7</td>\n",
       "    </tr>\n",
       "  </tbody>\n",
       "</table>\n",
       "</div>"
      ],
      "text/plain": [
       "    ACCIDENT_NO          ABS_CODE        Date ACCIDENT_TIME  \\\n",
       "0  T20140013978  Driving accident  2014/07/07      17:45:00   \n",
       "1  T20140013706  Driving accident  2014/07/03      15:50:00   \n",
       "2  T20140014503  Driving accident  2014/07/14      13:27:00   \n",
       "3  T20140014709  Driving accident  2014/07/16      13:30:00   \n",
       "4  T20140014809  Driving accident  2014/07/17      20:40:00   \n",
       "\n",
       "                       ACCIDENT_TYPE DAY_OF_WEEK   LONGITUDE   LATITUDE  \\\n",
       "0                  Struck Pedestrian      Monday  144.894949 -37.693058   \n",
       "1             Collision with vehicle    Thursday   -1.000000  -1.000000   \n",
       "2             Collision with vehicle      Monday   -1.000000 -37.692174   \n",
       "3  No collision and no object struck   Wednesday   -1.000000  -1.000000   \n",
       "4  No collision and no object struck    Thursday   -1.000000  -1.000000   \n",
       "\n",
       "  LGA_NAME  FATALITY   DEG_URBAN_ALL                 REGION_NAME_ALL  \\\n",
       "0     HUME       0.0      MELB_URBAN  METROPOLITAN NORTH WEST REGION   \n",
       "1     HUME       0.0      MELB_URBAN  METROPOLITAN NORTH WEST REGION   \n",
       "2     HUME       0.0      MELB_URBAN  METROPOLITAN NORTH WEST REGION   \n",
       "3     HUME       0.0  RURAL_VICTORIA  METROPOLITAN NORTH WEST REGION   \n",
       "4     HUME       0.0      MELB_URBAN  METROPOLITAN NORTH WEST REGION   \n",
       "\n",
       "              RMA STAT_DIV_NAME  Rainfall amount (millimetres)  \\\n",
       "0      Local Road         Metro                            0.2   \n",
       "1      Local Road         Metro                            0.0   \n",
       "2         Freeway         Metro                            0.4   \n",
       "3      Local Road         Metro                            0.4   \n",
       "4  Arterial Other         Metro                            0.0   \n",
       "\n",
       "   Maximum temperature (Degree C)  \n",
       "0                            15.3  \n",
       "1                            11.7  \n",
       "2                            12.4  \n",
       "3                            13.8  \n",
       "4                            11.7  "
      ]
     },
     "execution_count": 17,
     "metadata": {},
     "output_type": "execute_result"
    }
   ],
   "source": [
    "# Import cleaned Hume crash + weather data\n",
    "hume_data_path = \"cleaned_data/merged_hume_data.csv\"\n",
    "hume_data = pd.read_csv(hume_data_path)\n",
    "hume_data.head()"
   ]
  },
  {
   "cell_type": "markdown",
   "id": "8bf2ed73",
   "metadata": {},
   "source": [
    "#### (1a) Road accident (all roads) frequency against rainfall (Hume LGA)"
   ]
  },
  {
   "cell_type": "code",
   "execution_count": 18,
   "id": "ff93060f",
   "metadata": {},
   "outputs": [],
   "source": [
    "# Group data by the accident date to find daily values.\n",
    "grouped_hume_df = hume_data.groupby([\"Date\"])\n",
    "\n",
    "# Assign data to axis: x_axis is daily accident count, y_axis is rainfall (mean used but all rainfall data \n",
    "# values same for the same date).\n",
    "y_axis = grouped_hume_df[\"ACCIDENT_NO\"].count()\n",
    "x_axis = grouped_hume_df[\"Rainfall amount (millimetres)\"].mean().reset_index()"
   ]
  },
  {
   "cell_type": "code",
   "execution_count": 19,
   "id": "92b089be",
   "metadata": {},
   "outputs": [
    {
     "name": "stdout",
     "output_type": "stream",
     "text": [
      "The pvalue of this correlation is 0.263 ---> We cannot reject null hypothesis\n"
     ]
    },
    {
     "data": {
      "image/png": "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\n",
      "text/plain": [
       "<Figure size 432x288 with 1 Axes>"
      ]
     },
     "metadata": {
      "needs_background": "light"
     },
     "output_type": "display_data"
    }
   ],
   "source": [
    "# Undertake the linear regression and plot using matplotlib\n",
    "(slope, intercept, rvalue, pvalue, stderr) = linregress(x_axis[\"Rainfall amount (millimetres)\"], y_axis)\n",
    "regress_values = x_axis[\"Rainfall amount (millimetres)\"] * slope + intercept\n",
    "\n",
    "line_eq = \"y = \" + str(round(slope,2)) + \"x + \" + str(round(intercept,2))\n",
    "r_value = \"r value= \" + str(round((rvalue),2))\n",
    "\n",
    "# Use matplotlib to create a scatter plot\n",
    "plt.scatter(x_axis[\"Rainfall amount (millimetres)\"], y_axis, marker=\"o\", facecolors=\"blue\", edgecolors=\"blue\", alpha=0.5)\n",
    "plt.plot(x_axis[\"Rainfall amount (millimetres)\"],regress_values,\"r-\")\n",
    "plt.annotate(line_eq,(40,6.5),fontsize=10,color=\"red\")\n",
    "plt.annotate(r_value,(40,6),fontsize=10,color=\"red\")\n",
    "plt.title(\"Relationship Between Rainfall and Road Accident Count (Hume LGA)\")\n",
    "plt.xlabel(\"Daily Rainfall (mm)\")\n",
    "plt.ylabel(\"Daily Road Accident Count\")\n",
    "\n",
    "# Save the figure\n",
    "# plt.savefig(os.path.join(\"figures\",f\"Hume_Rainfall_vs_Accident_Count.png\"))\n",
    "print('The pvalue of this correlation is '+str(round(pvalue,3))+' ---> We cannot reject null hypothesis')"
   ]
  },
  {
   "cell_type": "code",
   "execution_count": 20,
   "id": "bc80dbfb",
   "metadata": {},
   "outputs": [
    {
     "name": "stdout",
     "output_type": "stream",
     "text": [
      "The correlation between daily rainfall and daily road accident count for all roads in Hume LGA is 0.03\n"
     ]
    }
   ],
   "source": [
    "# Calculating the correlation coefficient for daily rainfall and daily road accident count\n",
    "correlation = st.pearsonr(x_axis[\"Rainfall amount (millimetres)\"], y_axis)\n",
    "print(f\"The correlation between daily rainfall and daily road accident count for all roads in Hume LGA is {round(correlation[0],2)}\")\n",
    "\n",
    "# Outcome: correlation=0.03 means there is no correlation i.e daily rainfall has no impact \n",
    "# on daily road accident frequency. Therefore confirming the Null Hypothesis."
   ]
  },
  {
   "cell_type": "markdown",
   "id": "9b6178ea",
   "metadata": {},
   "source": [
    "#### (1b) Road accident (only freeways/arterials) frequency against rainfall (Hume LGA)"
   ]
  },
  {
   "cell_type": "code",
   "execution_count": 21,
   "id": "2e1d1bd0",
   "metadata": {},
   "outputs": [
    {
     "data": {
      "text/html": [
       "<div>\n",
       "<style scoped>\n",
       "    .dataframe tbody tr th:only-of-type {\n",
       "        vertical-align: middle;\n",
       "    }\n",
       "\n",
       "    .dataframe tbody tr th {\n",
       "        vertical-align: top;\n",
       "    }\n",
       "\n",
       "    .dataframe thead th {\n",
       "        text-align: right;\n",
       "    }\n",
       "</style>\n",
       "<table border=\"1\" class=\"dataframe\">\n",
       "  <thead>\n",
       "    <tr style=\"text-align: right;\">\n",
       "      <th></th>\n",
       "      <th>ACCIDENT_NO</th>\n",
       "      <th>ABS_CODE</th>\n",
       "      <th>Date</th>\n",
       "      <th>ACCIDENT_TIME</th>\n",
       "      <th>ACCIDENT_TYPE</th>\n",
       "      <th>DAY_OF_WEEK</th>\n",
       "      <th>LONGITUDE</th>\n",
       "      <th>LATITUDE</th>\n",
       "      <th>LGA_NAME</th>\n",
       "      <th>FATALITY</th>\n",
       "      <th>DEG_URBAN_ALL</th>\n",
       "      <th>REGION_NAME_ALL</th>\n",
       "      <th>RMA</th>\n",
       "      <th>STAT_DIV_NAME</th>\n",
       "      <th>Rainfall amount (millimetres)</th>\n",
       "      <th>Maximum temperature (Degree C)</th>\n",
       "    </tr>\n",
       "  </thead>\n",
       "  <tbody>\n",
       "    <tr>\n",
       "      <th>2</th>\n",
       "      <td>T20140014503</td>\n",
       "      <td>Driving accident</td>\n",
       "      <td>2014/07/14</td>\n",
       "      <td>13:27:00</td>\n",
       "      <td>Collision with vehicle</td>\n",
       "      <td>Monday</td>\n",
       "      <td>-1.000000</td>\n",
       "      <td>-37.692174</td>\n",
       "      <td>HUME</td>\n",
       "      <td>0.0</td>\n",
       "      <td>MELB_URBAN</td>\n",
       "      <td>METROPOLITAN NORTH WEST REGION</td>\n",
       "      <td>Freeway</td>\n",
       "      <td>Metro</td>\n",
       "      <td>0.4</td>\n",
       "      <td>12.4</td>\n",
       "    </tr>\n",
       "    <tr>\n",
       "      <th>4</th>\n",
       "      <td>T20140014809</td>\n",
       "      <td>Driving accident</td>\n",
       "      <td>2014/07/17</td>\n",
       "      <td>20:40:00</td>\n",
       "      <td>No collision and no object struck</td>\n",
       "      <td>Thursday</td>\n",
       "      <td>-1.000000</td>\n",
       "      <td>-1.000000</td>\n",
       "      <td>HUME</td>\n",
       "      <td>0.0</td>\n",
       "      <td>MELB_URBAN</td>\n",
       "      <td>METROPOLITAN NORTH WEST REGION</td>\n",
       "      <td>Arterial Other</td>\n",
       "      <td>Metro</td>\n",
       "      <td>0.0</td>\n",
       "      <td>11.7</td>\n",
       "    </tr>\n",
       "    <tr>\n",
       "      <th>8</th>\n",
       "      <td>T20140015079</td>\n",
       "      <td>Driving accident</td>\n",
       "      <td>2014/07/22</td>\n",
       "      <td>09:15:00</td>\n",
       "      <td>Collision with vehicle</td>\n",
       "      <td>Tuesday</td>\n",
       "      <td>-1.000000</td>\n",
       "      <td>-1.000000</td>\n",
       "      <td>HUME</td>\n",
       "      <td>0.0</td>\n",
       "      <td>SMALL_CITIES</td>\n",
       "      <td>METROPOLITAN NORTH WEST REGION</td>\n",
       "      <td>Arterial Other</td>\n",
       "      <td>Metro</td>\n",
       "      <td>0.0</td>\n",
       "      <td>10.1</td>\n",
       "    </tr>\n",
       "    <tr>\n",
       "      <th>10</th>\n",
       "      <td>T20140015349</td>\n",
       "      <td>Driving accident</td>\n",
       "      <td>2014/07/25</td>\n",
       "      <td>17:00:00</td>\n",
       "      <td>Collision with vehicle</td>\n",
       "      <td>Friday</td>\n",
       "      <td>144.760179</td>\n",
       "      <td>-37.582995</td>\n",
       "      <td>HUME</td>\n",
       "      <td>0.0</td>\n",
       "      <td>RURAL_VICTORIA</td>\n",
       "      <td>METROPOLITAN NORTH WEST REGION</td>\n",
       "      <td>Arterial Other</td>\n",
       "      <td>Metro</td>\n",
       "      <td>0.0</td>\n",
       "      <td>15.9</td>\n",
       "    </tr>\n",
       "    <tr>\n",
       "      <th>11</th>\n",
       "      <td>T20140015197</td>\n",
       "      <td>Driving accident</td>\n",
       "      <td>2014/07/23</td>\n",
       "      <td>17:14:00</td>\n",
       "      <td>Collision with vehicle</td>\n",
       "      <td>Wednesday</td>\n",
       "      <td>-1.000000</td>\n",
       "      <td>-1.000000</td>\n",
       "      <td>HUME</td>\n",
       "      <td>2.0</td>\n",
       "      <td>MELB_URBAN</td>\n",
       "      <td>METROPOLITAN NORTH WEST REGION</td>\n",
       "      <td>Freeway</td>\n",
       "      <td>Metro</td>\n",
       "      <td>0.0</td>\n",
       "      <td>12.4</td>\n",
       "    </tr>\n",
       "  </tbody>\n",
       "</table>\n",
       "</div>"
      ],
      "text/plain": [
       "     ACCIDENT_NO          ABS_CODE        Date ACCIDENT_TIME  \\\n",
       "2   T20140014503  Driving accident  2014/07/14      13:27:00   \n",
       "4   T20140014809  Driving accident  2014/07/17      20:40:00   \n",
       "8   T20140015079  Driving accident  2014/07/22      09:15:00   \n",
       "10  T20140015349  Driving accident  2014/07/25      17:00:00   \n",
       "11  T20140015197  Driving accident  2014/07/23      17:14:00   \n",
       "\n",
       "                        ACCIDENT_TYPE DAY_OF_WEEK   LONGITUDE   LATITUDE  \\\n",
       "2              Collision with vehicle      Monday   -1.000000 -37.692174   \n",
       "4   No collision and no object struck    Thursday   -1.000000  -1.000000   \n",
       "8              Collision with vehicle     Tuesday   -1.000000  -1.000000   \n",
       "10             Collision with vehicle      Friday  144.760179 -37.582995   \n",
       "11             Collision with vehicle   Wednesday   -1.000000  -1.000000   \n",
       "\n",
       "   LGA_NAME  FATALITY   DEG_URBAN_ALL                 REGION_NAME_ALL  \\\n",
       "2      HUME       0.0      MELB_URBAN  METROPOLITAN NORTH WEST REGION   \n",
       "4      HUME       0.0      MELB_URBAN  METROPOLITAN NORTH WEST REGION   \n",
       "8      HUME       0.0    SMALL_CITIES  METROPOLITAN NORTH WEST REGION   \n",
       "10     HUME       0.0  RURAL_VICTORIA  METROPOLITAN NORTH WEST REGION   \n",
       "11     HUME       2.0      MELB_URBAN  METROPOLITAN NORTH WEST REGION   \n",
       "\n",
       "               RMA STAT_DIV_NAME  Rainfall amount (millimetres)  \\\n",
       "2          Freeway         Metro                            0.4   \n",
       "4   Arterial Other         Metro                            0.0   \n",
       "8   Arterial Other         Metro                            0.0   \n",
       "10  Arterial Other         Metro                            0.0   \n",
       "11         Freeway         Metro                            0.0   \n",
       "\n",
       "    Maximum temperature (Degree C)  \n",
       "2                             12.4  \n",
       "4                             11.7  \n",
       "8                             10.1  \n",
       "10                            15.9  \n",
       "11                            12.4  "
      ]
     },
     "execution_count": 21,
     "metadata": {},
     "output_type": "execute_result"
    }
   ],
   "source": [
    "# Create new dataframe for hume_data that only contains freeways/arterials\n",
    "#hume_data[\"RMA\"].unique()\n",
    "hume_main_roads=hume_data.loc[((hume_data[\"RMA\"]==\"Freeway\") | \n",
    "                                         (hume_data[\"RMA\"]==\"Arterial Highway\") | \n",
    "                                         (hume_data[\"RMA\"]==\"Arterial Other\"))]\n",
    "hume_main_roads.head()"
   ]
  },
  {
   "cell_type": "code",
   "execution_count": 22,
   "id": "2084da97",
   "metadata": {},
   "outputs": [
    {
     "data": {
      "text/plain": [
       "array(['Freeway', 'Arterial Other', 'Arterial Highway'], dtype=object)"
      ]
     },
     "execution_count": 22,
     "metadata": {},
     "output_type": "execute_result"
    }
   ],
   "source": [
    "# Double check only the main roads (arterials or freeways) returned\n",
    "hume_main_roads[\"RMA\"].unique()"
   ]
  },
  {
   "cell_type": "code",
   "execution_count": 23,
   "id": "ba3bb062",
   "metadata": {},
   "outputs": [],
   "source": [
    "# Group data by the accident date to find daily values.\n",
    "grouped_hume_main_roads_df = hume_main_roads.groupby([\"Date\"])\n",
    "\n",
    "# Assign data to axis: x_axis is daily accident count, y_axis is rainfall (mean used but all rainfall data \n",
    "# values same for the same date).\n",
    "y_axis = grouped_hume_main_roads_df[\"ACCIDENT_NO\"].count()\n",
    "x_axis = grouped_hume_main_roads_df[\"Rainfall amount (millimetres)\"].mean().reset_index()"
   ]
  },
  {
   "cell_type": "code",
   "execution_count": 24,
   "id": "007bf434",
   "metadata": {},
   "outputs": [
    {
     "name": "stdout",
     "output_type": "stream",
     "text": [
      "The pvalue of this correlation is 0.157 ---> We cannot reject null hypothesis\n"
     ]
    },
    {
     "data": {
      "image/png": "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\n",
      "text/plain": [
       "<Figure size 432x288 with 1 Axes>"
      ]
     },
     "metadata": {
      "needs_background": "light"
     },
     "output_type": "display_data"
    }
   ],
   "source": [
    "# Undertake the linear regression and plot using matplotlib\n",
    "(slope, intercept, rvalue, pvalue, stderr) = linregress(x_axis[\"Rainfall amount (millimetres)\"], y_axis)\n",
    "regress_values = x_axis[\"Rainfall amount (millimetres)\"] * slope + intercept\n",
    "\n",
    "line_eq = \"y = \" + str(round(slope,2)) + \"x + \" + str(round(intercept,2))\n",
    "r_value = \"r value= \" + str(round((rvalue),2))\n",
    "\n",
    "# Use matplotlib to create a scatter plot\n",
    "plt.scatter(x_axis[\"Rainfall amount (millimetres)\"], y_axis, marker=\"o\", facecolors=\"blue\", edgecolors=\"blue\", alpha=0.5)\n",
    "plt.plot(x_axis[\"Rainfall amount (millimetres)\"],regress_values,\"r-\")\n",
    "plt.annotate(line_eq,(40,5.5),fontsize=10,color=\"red\")\n",
    "plt.annotate(r_value,(40,5),fontsize=10,color=\"red\")\n",
    "plt.title(\"Relationship Between Rainfall and Road Accident Count \\n(Main Arterials/Freeways) (Hume LGA)\")\n",
    "plt.xlabel(\"Daily Rainfall (mm)\")\n",
    "plt.ylabel(\"Daily Road Accident Count\")\n",
    "\n",
    "# Save the figure\n",
    "# plt.savefig(os.path.join(\"figures\",f\"Hume_Rainfall_vs_Accident_Count_Arterials_Freeways.png\"))\n",
    "print('The pvalue of this correlation is '+str(round(pvalue,3))+' ---> We cannot reject null hypothesis')"
   ]
  },
  {
   "cell_type": "code",
   "execution_count": 25,
   "id": "48059696",
   "metadata": {},
   "outputs": [
    {
     "name": "stdout",
     "output_type": "stream",
     "text": [
      "The correlation between daily rainfall and daily road accident count for arterials/freeways in Hume LGA is 0.05\n"
     ]
    }
   ],
   "source": [
    "# Calculating the correlation coefficient for daily rainfall and daily road accident count\n",
    "correlation = st.pearsonr(x_axis[\"Rainfall amount (millimetres)\"], y_axis)\n",
    "print(f\"The correlation between daily rainfall and daily road accident count for arterials/freeways in Hume LGA is {round(correlation[0],2)}\")\n",
    "\n",
    "# Outcome: correlation=0.05 means there is no correlation i.e daily rainfall has no impact \n",
    "# on daily road accident frequency. Therefore confirming the Null Hypothesis."
   ]
  },
  {
   "cell_type": "markdown",
   "id": "90af15f8",
   "metadata": {},
   "source": [
    "#### (2a) Road accident severity (all roads, as fatality count) against rainfall (Hume LGA)"
   ]
  },
  {
   "cell_type": "code",
   "execution_count": 26,
   "id": "5ab89bd0",
   "metadata": {},
   "outputs": [],
   "source": [
    "# Group data by the accident date to find daily values.\n",
    "grouped_hume_df = hume_data.groupby([\"Date\"])\n",
    "\n",
    "# Assign data to axis: x_axis is fatality sum, y_axis is rainfall (mean used but all rainfall data \n",
    "# values same for the same date).\n",
    "y_axis = grouped_hume_df[\"FATALITY\"].sum()\n",
    "x_axis = grouped_hume_df[\"Rainfall amount (millimetres)\"].mean().reset_index()"
   ]
  },
  {
   "cell_type": "code",
   "execution_count": 27,
   "id": "fbf48551",
   "metadata": {},
   "outputs": [
    {
     "name": "stdout",
     "output_type": "stream",
     "text": [
      "The pvalue of this correlation is 0.583 ---> We cannot reject null hypothesis\n"
     ]
    },
    {
     "data": {
      "image/png": "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\n",
      "text/plain": [
       "<Figure size 432x288 with 1 Axes>"
      ]
     },
     "metadata": {
      "needs_background": "light"
     },
     "output_type": "display_data"
    }
   ],
   "source": [
    "# Undertake the linear regression and plot using matplotlib\n",
    "(slope, intercept, rvalue, pvalue, stderr) = linregress(x_axis[\"Rainfall amount (millimetres)\"], y_axis)\n",
    "regress_values = x_axis[\"Rainfall amount (millimetres)\"] * slope + intercept\n",
    "\n",
    "line_eq = \"y = \" + str(round(slope,2)) + \"x + \" + str(round(intercept,2))\n",
    "r_value = \"r value= \" + str(round((rvalue),2))\n",
    "\n",
    "# Use matplotlib to create a scatter plot\n",
    "plt.scatter(x_axis[\"Rainfall amount (millimetres)\"], y_axis, marker=\"o\", facecolors=\"blue\", edgecolors=\"blue\", alpha=0.5)\n",
    "plt.plot(x_axis[\"Rainfall amount (millimetres)\"],regress_values,\"r-\")\n",
    "plt.annotate(line_eq,(40,1.75),fontsize=10,color=\"red\")\n",
    "plt.annotate(r_value,(40,1.50),fontsize=10,color=\"red\")\n",
    "plt.title(\"Relationship Between Rainfall and Fatality Count (Hume LGA)\")\n",
    "plt.xlabel(\"Daily Rainfall (mm)\")\n",
    "plt.ylabel(\"Daily Fatality Count\")\n",
    "\n",
    "# Save the figure\n",
    "# plt.savefig(os.path.join(\"figures\",f\"Hume_Rainfall_vs_Fatality_Count.png\"))\n",
    "print('The pvalue of this correlation is '+str(round(pvalue,3))+' ---> We cannot reject null hypothesis')"
   ]
  },
  {
   "cell_type": "code",
   "execution_count": 28,
   "id": "df6d82b1",
   "metadata": {},
   "outputs": [
    {
     "name": "stdout",
     "output_type": "stream",
     "text": [
      "The correlation between daily rainfall and daily fatality count for all roads in Hume LGA is -0.02\n"
     ]
    }
   ],
   "source": [
    "# Calculating the correlation coefficient for daily rainfall and daily fatality count\n",
    "correlation = st.pearsonr(x_axis[\"Rainfall amount (millimetres)\"], y_axis)\n",
    "print(f\"The correlation between daily rainfall and daily fatality count for all roads in Hume LGA is {round(correlation[0],2)}\")\n",
    "\n",
    "# Outcome: correlation=-0.02 means there is no correlation i.e daily rainfall does not appear to \n",
    "# increase the likelihood of fatalities in road accidents (all roads) in Hume LGA. \n",
    "# Therefore confirming the Null Hypothesis."
   ]
  },
  {
   "cell_type": "markdown",
   "id": "6de7d8a3",
   "metadata": {},
   "source": [
    "#### (2b) Road accident severity (only freeways/arterials, as fatality count) against rainfall (Hume LGA)"
   ]
  },
  {
   "cell_type": "code",
   "execution_count": 29,
   "id": "aa81a6bb",
   "metadata": {},
   "outputs": [],
   "source": [
    "# Group data by the accident date to find daily values.\n",
    "grouped_hume_main_roads_df = hume_main_roads.groupby([\"Date\"])\n",
    "\n",
    "# Assign data to axis: x_axis is fatality sum, y_axis is rainfall (mean used but all rainfall data \n",
    "# values same for the same date).\n",
    "y_axis = grouped_hume_main_roads_df[\"FATALITY\"].sum()\n",
    "x_axis = grouped_hume_main_roads_df[\"Rainfall amount (millimetres)\"].mean().reset_index()"
   ]
  },
  {
   "cell_type": "code",
   "execution_count": 30,
   "id": "ba7313ef",
   "metadata": {},
   "outputs": [
    {
     "name": "stdout",
     "output_type": "stream",
     "text": [
      "The pvalue of this correlation is 0.797 ---> We cannot reject null hypothesis\n"
     ]
    },
    {
     "data": {
      "image/png": "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\n",
      "text/plain": [
       "<Figure size 432x288 with 1 Axes>"
      ]
     },
     "metadata": {
      "needs_background": "light"
     },
     "output_type": "display_data"
    }
   ],
   "source": [
    "# Undertake the linear regression and plot using matplotlib\n",
    "(slope, intercept, rvalue, pvalue, stderr) = linregress(x_axis[\"Rainfall amount (millimetres)\"], y_axis)\n",
    "regress_values = x_axis[\"Rainfall amount (millimetres)\"] * slope + intercept\n",
    "\n",
    "line_eq = \"y = \" + str(round(slope,2)) + \"x + \" + str(round(intercept,2))\n",
    "r_value = \"r value= \" + str(round((rvalue),2))\n",
    "\n",
    "# Use matplotlib to create a scatter plot\n",
    "plt.scatter(x_axis[\"Rainfall amount (millimetres)\"], y_axis, marker=\"o\", facecolors=\"blue\", edgecolors=\"blue\", alpha=0.5)\n",
    "plt.plot(x_axis[\"Rainfall amount (millimetres)\"],regress_values,\"r-\")\n",
    "plt.annotate(line_eq,(42,1.75),fontsize=10,color=\"red\")\n",
    "plt.annotate(r_value,(42,1.50),fontsize=10,color=\"red\")\n",
    "plt.title(\"Relationship Between Rainfall and Fatality Count \\n(Arterials/Freeways)(Hume LGA)\")\n",
    "plt.xlabel(\"Daily Rainfall (mm)\")\n",
    "plt.ylabel(\"Daily Fatality Count\")\n",
    "\n",
    "# Save the figure\n",
    "# plt.savefig(os.path.join(\"figures\",f\"Hume_Rainfall_vs_Fatality_Count_Arterials_Freeways.png\"))\n",
    "print('The pvalue of this correlation is '+str(round(pvalue,3))+' ---> We cannot reject null hypothesis')"
   ]
  },
  {
   "cell_type": "code",
   "execution_count": 31,
   "id": "f250e791",
   "metadata": {},
   "outputs": [
    {
     "name": "stdout",
     "output_type": "stream",
     "text": [
      "The correlation between daily rainfall and daily fatality count for arterials/freeways in Hume LGA is -0.01\n"
     ]
    }
   ],
   "source": [
    "# Calculating the correlation coefficient for daily rainfall and daily fatality count\n",
    "correlation = st.pearsonr(x_axis[\"Rainfall amount (millimetres)\"], y_axis)\n",
    "print(f\"The correlation between daily rainfall and daily fatality count for arterials/freeways in Hume LGA is {round(correlation[0],2)}\")\n",
    "\n",
    "# Outcome: correlation=-0.01 means there is no correlation i.e daily rainfall does not appear to \n",
    "# increase the likelihood of fatalities in road accidents on arterials/freeways in Hume. \n",
    "# Therefore confirming the Null Hypothesis."
   ]
  }
 ],
 "metadata": {
  "kernelspec": {
   "display_name": "Python 3 (ipykernel)",
   "language": "python",
   "name": "python3"
  },
  "language_info": {
   "codemirror_mode": {
    "name": "ipython",
    "version": 3
   },
   "file_extension": ".py",
   "mimetype": "text/x-python",
   "name": "python",
   "nbconvert_exporter": "python",
   "pygments_lexer": "ipython3",
   "version": "3.9.6"
  }
 },
 "nbformat": 4,
 "nbformat_minor": 5
}
