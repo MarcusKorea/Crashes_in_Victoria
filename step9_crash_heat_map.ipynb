{
 "cells": [
  {
   "cell_type": "markdown",
   "id": "81ad5ea9",
   "metadata": {},
   "source": [
    "## Victorian Road Accidents Heat Map (2014-2019)"
   ]
  },
  {
   "cell_type": "code",
   "execution_count": 1,
   "id": "7c5b43db",
   "metadata": {},
   "outputs": [
    {
     "ename": "ModuleNotFoundError",
     "evalue": "No module named 'config'",
     "output_type": "error",
     "traceback": [
      "\u001b[0;31m---------------------------------------------------------------------------\u001b[0m",
      "\u001b[0;31mModuleNotFoundError\u001b[0m                       Traceback (most recent call last)",
      "\u001b[0;32m<ipython-input-1-47a1bfd36208>\u001b[0m in \u001b[0;36m<module>\u001b[0;34m\u001b[0m\n\u001b[1;32m      5\u001b[0m \u001b[0;32mimport\u001b[0m \u001b[0mrequests\u001b[0m\u001b[0;34m\u001b[0m\u001b[0;34m\u001b[0m\u001b[0m\n\u001b[1;32m      6\u001b[0m \u001b[0;32mimport\u001b[0m \u001b[0mgmaps\u001b[0m\u001b[0;34m\u001b[0m\u001b[0;34m\u001b[0m\u001b[0m\n\u001b[0;32m----> 7\u001b[0;31m \u001b[0;32mfrom\u001b[0m \u001b[0mconfig\u001b[0m \u001b[0;32mimport\u001b[0m \u001b[0mgkey\u001b[0m\u001b[0;34m\u001b[0m\u001b[0;34m\u001b[0m\u001b[0m\n\u001b[0m\u001b[1;32m      8\u001b[0m \u001b[0;34m\u001b[0m\u001b[0m\n\u001b[1;32m      9\u001b[0m \u001b[0;31m# Configure gmaps\u001b[0m\u001b[0;34m\u001b[0m\u001b[0;34m\u001b[0m\u001b[0;34m\u001b[0m\u001b[0m\n",
      "\u001b[0;31mModuleNotFoundError\u001b[0m: No module named 'config'"
     ]
    }
   ],
   "source": [
    "# Dependencies\n",
    "import numpy as np\n",
    "import pandas as pd\n",
    "import matplotlib.pyplot as plt\n",
    "import requests\n",
    "import gmaps\n",
    "from config import gkey\n",
    "\n",
    "# Configure gmaps\n",
    "gmaps.configure(api_key=gkey)"
   ]
  },
  {
   "cell_type": "code",
   "execution_count": null,
   "id": "57fe360d",
   "metadata": {},
   "outputs": [],
   "source": [
    "# Import the cleaned crashes CSV file\n",
    "crashes_df = pd.read_csv(\"cleaned_data/all_crashes.csv\")\n",
    "crashes_df.head()"
   ]
  },
  {
   "cell_type": "code",
   "execution_count": null,
   "id": "73d29e1f",
   "metadata": {},
   "outputs": [],
   "source": [
    "crashes_df.columns"
   ]
  },
  {
   "cell_type": "code",
   "execution_count": null,
   "id": "5757553c",
   "metadata": {},
   "outputs": [],
   "source": [
    "# Store latitude and longitude in locations\n",
    "locations = crashes_df[[\"LATITUDE\", \"LONGITUDE\"]]\n"
   ]
  },
  {
   "cell_type": "code",
   "execution_count": null,
   "id": "a83087b5",
   "metadata": {},
   "outputs": [],
   "source": [
    "# Plot as a Terrain map\n",
    "fig = gmaps.figure(map_type=\"TERRAIN\",center=(38, 144), zoom_level=1.5)\n",
    "\n",
    "# Create heat layer\n",
    "heat_layer = gmaps.heatmap_layer(locations, \n",
    "                                 max_intensity=10,\n",
    "                                 point_radius=5)\n",
    "\n",
    "fig.add_layer(heat_layer)\n",
    "fig"
   ]
  },
  {
   "cell_type": "code",
   "execution_count": null,
   "id": "0d06ef72",
   "metadata": {},
   "outputs": [],
   "source": [
    "melb_accidents = crashes_df.loc[crashes_df['LGA_NAME']=='MELBOURNE','ACCIDENT_NO'].count()\n",
    "hume_accidents = crashes_df.loc[crashes_df['LGA_NAME']=='HUME','ACCIDENT_NO'].count()\n",
    "\n",
    "#Got city coordinates from Google search\n",
    "cities = [{'name':'Melbourne', 'location':(-37.8136,144.9631),'accidents': melb_accidents},\n",
    "          {'name':'Hume', 'location': (-37.5987,144.8291), 'accidents': hume_accidents}]\n",
    "\n",
    "city_locations = [city['location'] for city in cities]\n"
   ]
  },
  {
   "cell_type": "code",
   "execution_count": null,
   "id": "1dacbfca",
   "metadata": {},
   "outputs": [],
   "source": [
    "info_box_template = \"\"\"\n",
    "<dl>\n",
    "<dt>City</dt><dd>{name}</dd>\n",
    "<dt>Accidents</dt><dd>{accidents}</dd>\n",
    "</dl>\n",
    "\"\"\"\n",
    "city_info = [info_box_template.format(**city) for city in cities]\n",
    "markers = gmaps.marker_layer(city_locations, info_box_content=city_info)\n",
    "fig.add_layer(markers)\n",
    "fig"
   ]
  },
  {
   "cell_type": "code",
   "execution_count": null,
   "id": "85aa3401",
   "metadata": {},
   "outputs": [],
   "source": []
  }
 ],
 "metadata": {
  "kernelspec": {
   "display_name": "Python 3",
   "language": "python",
   "name": "python3"
  },
  "language_info": {
   "codemirror_mode": {
    "name": "ipython",
    "version": 3
   },
   "file_extension": ".py",
   "mimetype": "text/x-python",
   "name": "python",
   "nbconvert_exporter": "python",
   "pygments_lexer": "ipython3",
   "version": "3.8.2"
  }
 },
 "nbformat": 4,
 "nbformat_minor": 5
}
