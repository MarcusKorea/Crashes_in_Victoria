{
 "cells": [
  {
   "cell_type": "markdown",
   "id": "aa6306d9",
   "metadata": {},
   "source": [
    "## Hypothesis 4 testing"
   ]
  },
  {
   "cell_type": "markdown",
   "id": "d289f4bd",
   "metadata": {},
   "source": [
    "### Do accidents/fatalities increase during cold weather?"
   ]
  },
  {
   "cell_type": "code",
   "execution_count": 16,
   "id": "9626e8fc",
   "metadata": {},
   "outputs": [],
   "source": [
    "import pandas as pd\n",
    "import matplotlib.pyplot as plt\n",
    "import scipy.stats as sts\n",
    "import os"
   ]
  },
  {
   "cell_type": "code",
   "execution_count": 17,
   "id": "b6052dbb",
   "metadata": {},
   "outputs": [
    {
     "data": {
      "text/html": [
       "<div>\n",
       "<style scoped>\n",
       "    .dataframe tbody tr th:only-of-type {\n",
       "        vertical-align: middle;\n",
       "    }\n",
       "\n",
       "    .dataframe tbody tr th {\n",
       "        vertical-align: top;\n",
       "    }\n",
       "\n",
       "    .dataframe thead th {\n",
       "        text-align: right;\n",
       "    }\n",
       "</style>\n",
       "<table border=\"1\" class=\"dataframe\">\n",
       "  <thead>\n",
       "    <tr style=\"text-align: right;\">\n",
       "      <th></th>\n",
       "      <th>ACCIDENT_NO</th>\n",
       "      <th>ABS_CODE</th>\n",
       "      <th>ACCIDENT_STATUS</th>\n",
       "      <th>Date</th>\n",
       "      <th>ACCIDENT_TIME</th>\n",
       "      <th>ALCOHOLTIME</th>\n",
       "      <th>ACCIDENT_TYPE</th>\n",
       "      <th>DAY_OF_WEEK</th>\n",
       "      <th>DCA_CODE</th>\n",
       "      <th>HIT_RUN_FLAG</th>\n",
       "      <th>...</th>\n",
       "      <th>PASSENGERVEHICLE</th>\n",
       "      <th>MOTORCYCLE</th>\n",
       "      <th>PUBLICVEHICLE</th>\n",
       "      <th>DEG_URBAN_NAME</th>\n",
       "      <th>DEG_URBAN_ALL</th>\n",
       "      <th>LGA_NAME_ALL</th>\n",
       "      <th>REGION_NAME_ALL</th>\n",
       "      <th>STAT_DIV_NAME</th>\n",
       "      <th>Rainfall amount (millimetres)</th>\n",
       "      <th>Maximum temperature (Degree C)</th>\n",
       "    </tr>\n",
       "  </thead>\n",
       "  <tbody>\n",
       "    <tr>\n",
       "      <th>0</th>\n",
       "      <td>T20140013533</td>\n",
       "      <td>Driving accident</td>\n",
       "      <td>Unfinished</td>\n",
       "      <td>2014/07/01</td>\n",
       "      <td>18:05:00</td>\n",
       "      <td>Yes</td>\n",
       "      <td>Collision with vehicle</td>\n",
       "      <td>Monday</td>\n",
       "      <td>REAR END(VEHICLES IN SAME LANE)</td>\n",
       "      <td>No</td>\n",
       "      <td>...</td>\n",
       "      <td>3.0</td>\n",
       "      <td>0.0</td>\n",
       "      <td>0.0</td>\n",
       "      <td>MELB_URBAN</td>\n",
       "      <td>MELB_URBAN</td>\n",
       "      <td>MELBOURNE</td>\n",
       "      <td>METROPOLITAN NORTH WEST REGION</td>\n",
       "      <td>Metro</td>\n",
       "      <td>0.4</td>\n",
       "      <td>13.3</td>\n",
       "    </tr>\n",
       "    <tr>\n",
       "      <th>1</th>\n",
       "      <td>T20140013680</td>\n",
       "      <td>Driving accident</td>\n",
       "      <td>Finished</td>\n",
       "      <td>2014/07/03</td>\n",
       "      <td>11:00:00</td>\n",
       "      <td>No</td>\n",
       "      <td>No collision and no object struck</td>\n",
       "      <td>Thursday</td>\n",
       "      <td>OFF CARRIAGEWAY TO RIGHT</td>\n",
       "      <td>No</td>\n",
       "      <td>...</td>\n",
       "      <td>0.0</td>\n",
       "      <td>1.0</td>\n",
       "      <td>0.0</td>\n",
       "      <td>MELBOURNE_CBD</td>\n",
       "      <td>MELBOURNE_CBD</td>\n",
       "      <td>MELBOURNE</td>\n",
       "      <td>METROPOLITAN NORTH WEST REGION</td>\n",
       "      <td>Metro</td>\n",
       "      <td>0.0</td>\n",
       "      <td>13.1</td>\n",
       "    </tr>\n",
       "    <tr>\n",
       "      <th>2</th>\n",
       "      <td>T20140013898</td>\n",
       "      <td>Driving accident</td>\n",
       "      <td>Finished</td>\n",
       "      <td>2014/07/03</td>\n",
       "      <td>10:30:00</td>\n",
       "      <td>No</td>\n",
       "      <td>Fall from or in moving vehicle</td>\n",
       "      <td>Thursday</td>\n",
       "      <td>FELL IN/FROM VEHICLE</td>\n",
       "      <td>No</td>\n",
       "      <td>...</td>\n",
       "      <td>0.0</td>\n",
       "      <td>0.0</td>\n",
       "      <td>1.0</td>\n",
       "      <td>MELB_URBAN</td>\n",
       "      <td>MELB_URBAN</td>\n",
       "      <td>MELBOURNE</td>\n",
       "      <td>METROPOLITAN NORTH WEST REGION</td>\n",
       "      <td>Metro</td>\n",
       "      <td>0.0</td>\n",
       "      <td>13.1</td>\n",
       "    </tr>\n",
       "    <tr>\n",
       "      <th>3</th>\n",
       "      <td>T20140013771</td>\n",
       "      <td>Driving accident</td>\n",
       "      <td>Finished</td>\n",
       "      <td>2014/07/04</td>\n",
       "      <td>17:40:00</td>\n",
       "      <td>No</td>\n",
       "      <td>No collision and no object struck</td>\n",
       "      <td>Thursday</td>\n",
       "      <td>OUT OF CONTROL ON CARRIAGEWAY (ON STRAIGHT)</td>\n",
       "      <td>No</td>\n",
       "      <td>...</td>\n",
       "      <td>0.0</td>\n",
       "      <td>1.0</td>\n",
       "      <td>0.0</td>\n",
       "      <td>MELB_URBAN</td>\n",
       "      <td>MELB_URBAN</td>\n",
       "      <td>MELBOURNE</td>\n",
       "      <td>METROPOLITAN NORTH WEST REGION</td>\n",
       "      <td>Metro</td>\n",
       "      <td>0.0</td>\n",
       "      <td>12.8</td>\n",
       "    </tr>\n",
       "    <tr>\n",
       "      <th>4</th>\n",
       "      <td>T20140013792</td>\n",
       "      <td>Driving accident</td>\n",
       "      <td>Finished</td>\n",
       "      <td>2014/07/04</td>\n",
       "      <td>23:13:00</td>\n",
       "      <td>Yes</td>\n",
       "      <td>Collision with vehicle</td>\n",
       "      <td>Thursday</td>\n",
       "      <td>RIGHT THROUGH</td>\n",
       "      <td>No</td>\n",
       "      <td>...</td>\n",
       "      <td>1.0</td>\n",
       "      <td>1.0</td>\n",
       "      <td>0.0</td>\n",
       "      <td>MELBOURNE_CBD</td>\n",
       "      <td>MELBOURNE_CBD</td>\n",
       "      <td>MELBOURNE</td>\n",
       "      <td>METROPOLITAN NORTH WEST REGION</td>\n",
       "      <td>Metro</td>\n",
       "      <td>0.0</td>\n",
       "      <td>12.8</td>\n",
       "    </tr>\n",
       "  </tbody>\n",
       "</table>\n",
       "<p>5 rows × 53 columns</p>\n",
       "</div>"
      ],
      "text/plain": [
       "    ACCIDENT_NO          ABS_CODE ACCIDENT_STATUS        Date ACCIDENT_TIME  \\\n",
       "0  T20140013533  Driving accident      Unfinished  2014/07/01      18:05:00   \n",
       "1  T20140013680  Driving accident        Finished  2014/07/03      11:00:00   \n",
       "2  T20140013898  Driving accident        Finished  2014/07/03      10:30:00   \n",
       "3  T20140013771  Driving accident        Finished  2014/07/04      17:40:00   \n",
       "4  T20140013792  Driving accident        Finished  2014/07/04      23:13:00   \n",
       "\n",
       "  ALCOHOLTIME                      ACCIDENT_TYPE DAY_OF_WEEK  \\\n",
       "0         Yes             Collision with vehicle      Monday   \n",
       "1          No  No collision and no object struck    Thursday   \n",
       "2          No     Fall from or in moving vehicle    Thursday   \n",
       "3          No  No collision and no object struck    Thursday   \n",
       "4         Yes             Collision with vehicle    Thursday   \n",
       "\n",
       "                                      DCA_CODE HIT_RUN_FLAG  ...  \\\n",
       "0              REAR END(VEHICLES IN SAME LANE)           No  ...   \n",
       "1                     OFF CARRIAGEWAY TO RIGHT           No  ...   \n",
       "2                         FELL IN/FROM VEHICLE           No  ...   \n",
       "3  OUT OF CONTROL ON CARRIAGEWAY (ON STRAIGHT)           No  ...   \n",
       "4                                RIGHT THROUGH           No  ...   \n",
       "\n",
       "  PASSENGERVEHICLE MOTORCYCLE PUBLICVEHICLE DEG_URBAN_NAME  DEG_URBAN_ALL  \\\n",
       "0              3.0        0.0           0.0     MELB_URBAN     MELB_URBAN   \n",
       "1              0.0        1.0           0.0  MELBOURNE_CBD  MELBOURNE_CBD   \n",
       "2              0.0        0.0           1.0     MELB_URBAN     MELB_URBAN   \n",
       "3              0.0        1.0           0.0     MELB_URBAN     MELB_URBAN   \n",
       "4              1.0        1.0           0.0  MELBOURNE_CBD  MELBOURNE_CBD   \n",
       "\n",
       "  LGA_NAME_ALL                 REGION_NAME_ALL  STAT_DIV_NAME  \\\n",
       "0    MELBOURNE  METROPOLITAN NORTH WEST REGION          Metro   \n",
       "1    MELBOURNE  METROPOLITAN NORTH WEST REGION          Metro   \n",
       "2    MELBOURNE  METROPOLITAN NORTH WEST REGION          Metro   \n",
       "3    MELBOURNE  METROPOLITAN NORTH WEST REGION          Metro   \n",
       "4    MELBOURNE  METROPOLITAN NORTH WEST REGION          Metro   \n",
       "\n",
       "  Rainfall amount (millimetres) Maximum temperature (Degree C)  \n",
       "0                           0.4                           13.3  \n",
       "1                           0.0                           13.1  \n",
       "2                           0.0                           13.1  \n",
       "3                           0.0                           12.8  \n",
       "4                           0.0                           12.8  \n",
       "\n",
       "[5 rows x 53 columns]"
      ]
     },
     "execution_count": 17,
     "metadata": {},
     "output_type": "execute_result"
    }
   ],
   "source": [
    "melb_merged = pd.read_csv('cleaned_data/merged_melb_data.csv')\n",
    "melb_merged.head()"
   ]
  },
  {
   "cell_type": "code",
   "execution_count": 18,
   "id": "70f4127c",
   "metadata": {},
   "outputs": [
    {
     "data": {
      "text/plain": [
       "(3966, 53)"
      ]
     },
     "execution_count": 18,
     "metadata": {},
     "output_type": "execute_result"
    }
   ],
   "source": [
    "#Remove accidents happened due to death of the driver before the accident\n",
    "melb_merged = melb_merged[melb_merged['ABS_CODE']=='Driving accident']\n",
    "melb_merged.shape"
   ]
  },
  {
   "cell_type": "markdown",
   "id": "f84d49ac",
   "metadata": {},
   "source": [
    "### (a) Road accident frequency (as accident count) against daily max temperature"
   ]
  },
  {
   "cell_type": "code",
   "execution_count": 31,
   "id": "47b0979b",
   "metadata": {},
   "outputs": [],
   "source": [
    "# Group data by the accident date to find daily values.\n",
    "grouped_df = melb_merged.groupby([\"Date\"])\n",
    "\n",
    "# Assign data to axis: x_axis is max temperature (mean used but all max temperature data values are the same for the same date),\n",
    "# y_axis is daily accident count  \n",
    "x_axis = grouped_df[\"Maximum temperature (Degree C)\"].mean()\n",
    "y_axis = grouped_df[\"ACCIDENT_NO\"].count()"
   ]
  },
  {
   "cell_type": "code",
   "execution_count": 34,
   "id": "5d88a765",
   "metadata": {},
   "outputs": [
    {
     "data": {
      "image/png": "[encoded data removed]",
      "text/plain": [
       "<Figure size 432x288 with 1 Axes>"
      ]
     },
     "metadata": {
      "needs_background": "light"
     },
     "output_type": "display_data"
    },
    {
     "name": "stdout",
     "output_type": "stream",
     "text": [
      "The pvalue of this correlation is 0.0498078946057247\n"
     ]
    }
   ],
   "source": [
    "# Use matplotlib to create a scatter plot\n",
    "plt.scatter(x_axis, y_axis, marker=\"o\", facecolors=\"blue\", edgecolors=\"blue\", alpha=0.5)\n",
    "plt.title(\"Relationship Between daily temperature and Road Accident Count\")\n",
    "plt.xlabel(\"Maximum Temperature (Degree C)\")\n",
    "plt.ylabel(\"Daily Road Accident Count\")\n",
    "\n",
    "#Create regression line for the data\n",
    "(slope,intercept,rvalue,pvalue,stderr) = sts.linregress(x_axis,y_axis)\n",
    "regress_values = x_axis*slope+intercept\n",
    "plt.plot(x_axis,regress_values,color='r')\n",
    "line_eq = 'Y='+str(round(slope,2))+'*X+'+str(round(intercept,2))\n",
    "plt.annotate(line_eq,(25,10),fontsize=15,color='red')\n",
    "plt.show()\n",
    "print('The pvalue of this correlation is '+str(pvalue))\n",
    "# Save the figure\n",
    "# plt.savefig(os.path.join(\"figures\",f\"Temperature_vs_Accident_Count.png\"))"
   ]
  },
  {
   "cell_type": "code",
   "execution_count": null,
   "id": "052deb96",
   "metadata": {},
   "outputs": [],
   "source": []
  }
 ],
 "metadata": {
  "kernelspec": {
   "display_name": "Python 3 (ipykernel)",
   "language": "python",
   "name": "python3"
  },
  "language_info": {
   "codemirror_mode": {
    "name": "ipython",
    "version": 3
   },
   "file_extension": ".py",
   "mimetype": "text/x-python",
   "name": "python",
   "nbconvert_exporter": "python",
   "pygments_lexer": "ipython3",
   "version": "3.9.6"
  }
 },
 "nbformat": 4,
 "nbformat_minor": 5
}
