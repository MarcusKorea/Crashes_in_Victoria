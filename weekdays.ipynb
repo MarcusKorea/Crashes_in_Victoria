{
 "cells": [
  {
   "cell_type": "code",
   "execution_count": 1,
   "id": "95de1fb2",
   "metadata": {},
   "outputs": [],
   "source": [
    "import pandas as pd\n",
    "import matplotlib.pyplot as plt\n",
    "import datetime"
   ]
  },
  {
   "cell_type": "code",
   "execution_count": 2,
   "id": "2cb1ca50",
   "metadata": {},
   "outputs": [],
   "source": [
    "# read file\n",
    "crashes = pd.read_csv('cleaned_data/all_crashes.csv')"
   ]
  },
  {
   "cell_type": "code",
   "execution_count": 3,
   "id": "06b9c951",
   "metadata": {},
   "outputs": [],
   "source": [
    "# remove object ID and Unnamed 0. column\n",
    "crashes = crashes.drop(['Unnamed: 0','OBJECTID'],axis =1)"
   ]
  },
  {
   "cell_type": "code",
   "execution_count": 4,
   "id": "2b9696b6",
   "metadata": {},
   "outputs": [
    {
     "data": {
      "text/html": [
       "<div>\n",
       "<style scoped>\n",
       "    .dataframe tbody tr th:only-of-type {\n",
       "        vertical-align: middle;\n",
       "    }\n",
       "\n",
       "    .dataframe tbody tr th {\n",
       "        vertical-align: top;\n",
       "    }\n",
       "\n",
       "    .dataframe thead th {\n",
       "        text-align: right;\n",
       "    }\n",
       "</style>\n",
       "<table border=\"1\" class=\"dataframe\">\n",
       "  <thead>\n",
       "    <tr style=\"text-align: right;\">\n",
       "      <th></th>\n",
       "      <th>ACCIDENT_NO</th>\n",
       "      <th>ABS_CODE</th>\n",
       "      <th>ACCIDENT_STATUS</th>\n",
       "      <th>ACCIDENT_DATE</th>\n",
       "      <th>ACCIDENT_TIME</th>\n",
       "      <th>ALCOHOLTIME</th>\n",
       "      <th>ACCIDENT_TYPE</th>\n",
       "      <th>DAY_OF_WEEK</th>\n",
       "      <th>DCA_CODE</th>\n",
       "      <th>HIT_RUN_FLAG</th>\n",
       "      <th>...</th>\n",
       "      <th>HEAVYVEHICLE</th>\n",
       "      <th>PASSENGERVEHICLE</th>\n",
       "      <th>MOTORCYCLE</th>\n",
       "      <th>PUBLICVEHICLE</th>\n",
       "      <th>DEG_URBAN_NAME</th>\n",
       "      <th>DEG_URBAN_ALL</th>\n",
       "      <th>LGA_NAME_ALL</th>\n",
       "      <th>REGION_NAME_ALL</th>\n",
       "      <th>RMA</th>\n",
       "      <th>STAT_DIV_NAME</th>\n",
       "    </tr>\n",
       "  </thead>\n",
       "  <tbody>\n",
       "    <tr>\n",
       "      <th>0</th>\n",
       "      <td>T20140013514</td>\n",
       "      <td>Driving accident</td>\n",
       "      <td>Unfinished</td>\n",
       "      <td>2014/07/01</td>\n",
       "      <td>13:09:00</td>\n",
       "      <td>No</td>\n",
       "      <td>Collision with vehicle</td>\n",
       "      <td>Monday</td>\n",
       "      <td>RIGHT THROUGH</td>\n",
       "      <td>No</td>\n",
       "      <td>...</td>\n",
       "      <td>0.0</td>\n",
       "      <td>2.0</td>\n",
       "      <td>0.0</td>\n",
       "      <td>0.0</td>\n",
       "      <td>TOWNS</td>\n",
       "      <td>TOWNS</td>\n",
       "      <td>MITCHELL</td>\n",
       "      <td>NORTHERN REGION</td>\n",
       "      <td>Arterial Highway</td>\n",
       "      <td>Country</td>\n",
       "    </tr>\n",
       "    <tr>\n",
       "      <th>1</th>\n",
       "      <td>T20140013549</td>\n",
       "      <td>Driving accident</td>\n",
       "      <td>Finished</td>\n",
       "      <td>2014/07/02</td>\n",
       "      <td>00:01:00</td>\n",
       "      <td>Yes</td>\n",
       "      <td>Collision with vehicle</td>\n",
       "      <td>Wednesday</td>\n",
       "      <td>U TURN</td>\n",
       "      <td>No</td>\n",
       "      <td>...</td>\n",
       "      <td>0.0</td>\n",
       "      <td>2.0</td>\n",
       "      <td>0.0</td>\n",
       "      <td>0.0</td>\n",
       "      <td>MELB_URBAN</td>\n",
       "      <td>MELB_URBAN</td>\n",
       "      <td>WHITTLESEA</td>\n",
       "      <td>METROPOLITAN NORTH WEST REGION</td>\n",
       "      <td>Arterial Other</td>\n",
       "      <td>Metro</td>\n",
       "    </tr>\n",
       "    <tr>\n",
       "      <th>2</th>\n",
       "      <td>T20140013563</td>\n",
       "      <td>Driving accident</td>\n",
       "      <td>Finished</td>\n",
       "      <td>2014/07/02</td>\n",
       "      <td>10:08:00</td>\n",
       "      <td>No</td>\n",
       "      <td>Collision with vehicle</td>\n",
       "      <td>Wednesday</td>\n",
       "      <td>CROSS TRAFFIC(INTERSECTIONS ONLY)</td>\n",
       "      <td>Yes</td>\n",
       "      <td>...</td>\n",
       "      <td>0.0</td>\n",
       "      <td>2.0</td>\n",
       "      <td>0.0</td>\n",
       "      <td>0.0</td>\n",
       "      <td>MELB_URBAN</td>\n",
       "      <td>MELB_URBAN</td>\n",
       "      <td>WYNDHAM</td>\n",
       "      <td>METROPOLITAN NORTH WEST REGION</td>\n",
       "      <td>Arterial Other</td>\n",
       "      <td>Metro</td>\n",
       "    </tr>\n",
       "    <tr>\n",
       "      <th>3</th>\n",
       "      <td>T20140013567</td>\n",
       "      <td>Driving accident</td>\n",
       "      <td>Finished</td>\n",
       "      <td>2014/07/02</td>\n",
       "      <td>09:12:00</td>\n",
       "      <td>No</td>\n",
       "      <td>Collision with vehicle</td>\n",
       "      <td>Wednesday</td>\n",
       "      <td>RIGHT THROUGH</td>\n",
       "      <td>No</td>\n",
       "      <td>...</td>\n",
       "      <td>1.0</td>\n",
       "      <td>1.0</td>\n",
       "      <td>0.0</td>\n",
       "      <td>0.0</td>\n",
       "      <td>MELB_URBAN</td>\n",
       "      <td>MELB_URBAN</td>\n",
       "      <td>WYNDHAM</td>\n",
       "      <td>METROPOLITAN NORTH WEST REGION</td>\n",
       "      <td>Arterial Other</td>\n",
       "      <td>Metro</td>\n",
       "    </tr>\n",
       "    <tr>\n",
       "      <th>4</th>\n",
       "      <td>T20140013582</td>\n",
       "      <td>Driving accident</td>\n",
       "      <td>Finished</td>\n",
       "      <td>2014/07/02</td>\n",
       "      <td>12:20:00</td>\n",
       "      <td>No</td>\n",
       "      <td>Collision with a fixed object</td>\n",
       "      <td>Wednesday</td>\n",
       "      <td>OFF RIGHT BEND INTO OBJECT/PARKED VEHICLE</td>\n",
       "      <td>No</td>\n",
       "      <td>...</td>\n",
       "      <td>0.0</td>\n",
       "      <td>0.0</td>\n",
       "      <td>1.0</td>\n",
       "      <td>0.0</td>\n",
       "      <td>MELB_URBAN</td>\n",
       "      <td>MELB_URBAN</td>\n",
       "      <td>PORT PHILLIP</td>\n",
       "      <td>METROPOLITAN NORTH WEST REGION</td>\n",
       "      <td>Local Road</td>\n",
       "      <td>Metro</td>\n",
       "    </tr>\n",
       "  </tbody>\n",
       "</table>\n",
       "<p>5 rows × 52 columns</p>\n",
       "</div>"
      ],
      "text/plain": [
       "    ACCIDENT_NO          ABS_CODE ACCIDENT_STATUS ACCIDENT_DATE ACCIDENT_TIME  \\\n",
       "0  T20140013514  Driving accident      Unfinished    2014/07/01      13:09:00   \n",
       "1  T20140013549  Driving accident        Finished    2014/07/02      00:01:00   \n",
       "2  T20140013563  Driving accident        Finished    2014/07/02      10:08:00   \n",
       "3  T20140013567  Driving accident        Finished    2014/07/02      09:12:00   \n",
       "4  T20140013582  Driving accident        Finished    2014/07/02      12:20:00   \n",
       "\n",
       "  ALCOHOLTIME                  ACCIDENT_TYPE DAY_OF_WEEK  \\\n",
       "0          No         Collision with vehicle      Monday   \n",
       "1         Yes         Collision with vehicle   Wednesday   \n",
       "2          No         Collision with vehicle   Wednesday   \n",
       "3          No         Collision with vehicle   Wednesday   \n",
       "4          No  Collision with a fixed object   Wednesday   \n",
       "\n",
       "                                    DCA_CODE HIT_RUN_FLAG  ... HEAVYVEHICLE  \\\n",
       "0                              RIGHT THROUGH           No  ...          0.0   \n",
       "1                                     U TURN           No  ...          0.0   \n",
       "2          CROSS TRAFFIC(INTERSECTIONS ONLY)          Yes  ...          0.0   \n",
       "3                              RIGHT THROUGH           No  ...          1.0   \n",
       "4  OFF RIGHT BEND INTO OBJECT/PARKED VEHICLE           No  ...          0.0   \n",
       "\n",
       "  PASSENGERVEHICLE MOTORCYCLE PUBLICVEHICLE DEG_URBAN_NAME DEG_URBAN_ALL  \\\n",
       "0              2.0        0.0           0.0          TOWNS         TOWNS   \n",
       "1              2.0        0.0           0.0     MELB_URBAN    MELB_URBAN   \n",
       "2              2.0        0.0           0.0     MELB_URBAN    MELB_URBAN   \n",
       "3              1.0        0.0           0.0     MELB_URBAN    MELB_URBAN   \n",
       "4              0.0        1.0           0.0     MELB_URBAN    MELB_URBAN   \n",
       "\n",
       "   LGA_NAME_ALL                 REGION_NAME_ALL               RMA  \\\n",
       "0      MITCHELL                 NORTHERN REGION  Arterial Highway   \n",
       "1    WHITTLESEA  METROPOLITAN NORTH WEST REGION    Arterial Other   \n",
       "2       WYNDHAM  METROPOLITAN NORTH WEST REGION    Arterial Other   \n",
       "3       WYNDHAM  METROPOLITAN NORTH WEST REGION    Arterial Other   \n",
       "4  PORT PHILLIP  METROPOLITAN NORTH WEST REGION        Local Road   \n",
       "\n",
       "  STAT_DIV_NAME  \n",
       "0       Country  \n",
       "1         Metro  \n",
       "2         Metro  \n",
       "3         Metro  \n",
       "4         Metro  \n",
       "\n",
       "[5 rows x 52 columns]"
      ]
     },
     "execution_count": 4,
     "metadata": {},
     "output_type": "execute_result"
    }
   ],
   "source": [
    "crashes.head()"
   ]
  },
  {
   "cell_type": "code",
   "execution_count": 5,
   "id": "de00d73c",
   "metadata": {},
   "outputs": [
    {
     "data": {
      "text/plain": [
       "DAY_OF_WEEK\n",
       "Monday        9822\n",
       "Tuesday      10294\n",
       "Wednesday    10589\n",
       "Thursday     10875\n",
       "Friday       10746\n",
       "Saturday      7681\n",
       "Sunday       10996\n",
       "Name: ACCIDENT_NO, dtype: int64"
      ]
     },
     "execution_count": 5,
     "metadata": {},
     "output_type": "execute_result"
    }
   ],
   "source": [
    "# group by daya_of_week\n",
    "dow = crashes.groupby(\"DAY_OF_WEEK\")\n",
    "accident_frequency = dow.count()\n",
    "accident_frequency = accident_frequency[\"ACCIDENT_NO\"]\n",
    "# list to reorder accident_frequency \n",
    "reorder = [\"Monday\",\"Tuesday\",\"Wednesday\",\"Thursday\",\"Friday\",\"Saturday\",\"Sunday\"]\n",
    "\n",
    "# reorder accident_frequency \n",
    "accident_frequency = accident_frequency.reindex(reorder)\n",
    "accident_frequency"
   ]
  },
  {
   "cell_type": "code",
   "execution_count": 6,
   "id": "70c4c9b3",
   "metadata": {},
   "outputs": [
    {
     "data": {
      "image/png": "[encoded data removed]",
      "text/plain": [
       "<Figure size 432x288 with 1 Axes>"
      ]
     },
     "metadata": {
      "needs_background": "light"
     },
     "output_type": "display_data"
    }
   ],
   "source": [
    "plt.bar([\"Monday\",\"Tuesday\",\"Wednesday\",\"Thursday\",\"Friday\",\"Saturday\",\"Sunday\"],accident_frequency)\n",
    "plt.xticks(rotation=45)\n",
    "plt.xlabel(\"Day of the Week\")\n",
    "plt.ylabel(\"Accident Count\")\n",
    "plt.title(\"Accident Count by Day of the Week\")\n",
    "plt.show()"
   ]
  },
  {
   "cell_type": "markdown",
   "id": "716d4e6e",
   "metadata": {},
   "source": [
    "We can see that the amount of accidents increases throughout the week, but there is a sudden drop in accidents on Saturday. Why? Are less people driving? Are road saftey ads working? Is saturday so low because people are recovering from the night before? Or are people out past 12am on a saturday that if they do have an accident it is counted as a sunday"
   ]
  },
  {
   "cell_type": "markdown",
   "id": "4a0b6644",
   "metadata": {},
   "source": [
    "### Create function that filters out for  a particular day"
   ]
  },
  {
   "cell_type": "code",
   "execution_count": 7,
   "id": "eba4bb0b",
   "metadata": {},
   "outputs": [],
   "source": [
    "# create function that filters for a particular day of week\n",
    "# returns dataframe, takes a dataframe and the a string as arguments\n",
    "def day_wanted(dataframe,day_of_week):\n",
    "    day = dataframe[dataframe[\"DAY_OF_WEEK\"] == day_of_week]\n",
    "    return day"
   ]
  },
  {
   "cell_type": "markdown",
   "id": "dfcdb212",
   "metadata": {},
   "source": [
    "### Create function that finds the counts of each hour for a particular day"
   ]
  },
  {
   "cell_type": "code",
   "execution_count": 8,
   "id": "18a9269c",
   "metadata": {},
   "outputs": [],
   "source": [
    "# function that finds hour counts for a particular day of the week\n",
    "# function takes a dataframe as an argument\n",
    "# the function returns a dataframe\n",
    "# 1st column is the labels for the hours (12am,1am) ect\n",
    "# 2nd column is the conts for each hourn itself\n",
    "\n",
    "def hour_count(dataframe):\n",
    "    # create a list for counts\n",
    "    hour_counts = []\n",
    "\n",
    "    # create labels for each hour\n",
    "    hour_labels = []\n",
    "    \n",
    "    for i in range(24):\n",
    "        if i == 0:\n",
    "            hour_labels.append(f'12am')\n",
    "        elif i < 12:\n",
    "            hour_labels.append(f\"{i}am\")\n",
    "        elif i == 12:\n",
    "            hour_labels.append('12pm')\n",
    "        else:\n",
    "            hour_labels.append(f'{i-12}pm')\n",
    "\n",
    "\n",
    "    # add labels as the first element\n",
    "    hour_counts.append(hour_labels)\n",
    "\n",
    "    # calculate the count for the particular day\n",
    "    amounts = []\n",
    "    for i in range(24):\n",
    "        if i < 10:\n",
    "            count = dataframe[(dataframe[\"ACCIDENT_TIME\"] > \"0\"+str(i)+ \":00:00\") \n",
    "                       & (dataframe[\"ACCIDENT_TIME\"] <= \"0\"+str(i)+\":59:00\")][\"ACCIDENT_TIME\"].count()\n",
    "    #         print(f'This is hour {i}: there are this many accidents: {count}')\n",
    "            amounts.append(count)\n",
    "\n",
    "        else:\n",
    "            count = dataframe[(dataframe[\"ACCIDENT_TIME\"] > str(i)+ \":00:00\") \n",
    "                       & (dataframe[\"ACCIDENT_TIME\"] <= str(i)+\":59:00\")][\"ACCIDENT_TIME\"].count()\n",
    "    #         print(f'This is hour {i}: there are this many accidents: {count}')\n",
    "            amounts.append(count)\n",
    "\n",
    "    hour_counts.append(amounts)\n",
    "    week_day_counts = pd.DataFrame({\"Hours\":hour_counts[0],\"Counts\":hour_counts[1]})\n",
    "    \n",
    "    return week_day_counts"
   ]
  },
  {
   "cell_type": "markdown",
   "id": "3eaf5fb0",
   "metadata": {},
   "source": [
    "### Create display function"
   ]
  },
  {
   "cell_type": "code",
   "execution_count": 9,
   "id": "4c4e7ab2",
   "metadata": {},
   "outputs": [],
   "source": [
    "# create functions that display accident count against hour of the day\n",
    "# takes a dataframe and s string\n",
    "# displays a graph\n",
    "\n",
    "def display_day(dataframe, day):\n",
    "    plt.bar(dataframe[\"Hours\"],dataframe[\"Counts\"])\n",
    "    plt.xticks(rotation=90)\n",
    "    plt.xlabel(\"Hour\")\n",
    "    plt.ylabel(\"Accident Count\")\n",
    "    plt.title(f\"Accident Count Per Hour on a {day}\")\n",
    "\n",
    "    plt.show()"
   ]
  },
  {
   "cell_type": "markdown",
   "id": "df6658be",
   "metadata": {},
   "source": [
    "### Create a function that uses all previous functions and does everything at once"
   ]
  },
  {
   "cell_type": "markdown",
   "id": "02483445",
   "metadata": {},
   "source": [
    "If you want to use this function, call the function name and then the first argument will be the dataframe you are using and then as a string the second argument is the day of the week you want to show."
   ]
  },
  {
   "cell_type": "code",
   "execution_count": 10,
   "id": "13460bf6",
   "metadata": {},
   "outputs": [],
   "source": [
    "# takes dataframe, and string as arguments\n",
    "def accident_count_per_hour(dataframe,day):\n",
    "    filtered_day = day_wanted(dataframe,day)\n",
    "    hours_counted = hour_count(filtered_day)\n",
    "    display_day(hours_counted,day)"
   ]
  },
  {
   "cell_type": "markdown",
   "id": "b194947f",
   "metadata": {},
   "source": [
    "## Saturday"
   ]
  },
  {
   "cell_type": "markdown",
   "id": "f43a1141",
   "metadata": {},
   "source": [
    "### Plot count of accidents for each hour against the corresponding frequencies"
   ]
  },
  {
   "cell_type": "code",
   "execution_count": 11,
   "id": "843e7de7",
   "metadata": {},
   "outputs": [
    {
     "data": {
      "image/png": "[encoded data removed]",
      "text/plain": [
       "<Figure size 432x288 with 1 Axes>"
      ]
     },
     "metadata": {
      "needs_background": "light"
     },
     "output_type": "display_data"
    }
   ],
   "source": [
    "accident_count_per_hour(crashes,\"Saturday\")"
   ]
  },
  {
   "cell_type": "markdown",
   "id": "a74fd7f1",
   "metadata": {},
   "source": [
    "## Sunday"
   ]
  },
  {
   "cell_type": "markdown",
   "id": "be88b6fe",
   "metadata": {},
   "source": [
    "### Plot count of accidents for each hour against the corresponding frequencies"
   ]
  },
  {
   "cell_type": "code",
   "execution_count": 12,
   "id": "93a99ba4",
   "metadata": {
    "scrolled": true
   },
   "outputs": [
    {
     "data": {
      "image/png": "[encoded data removed]",
      "text/plain": [
       "<Figure size 432x288 with 1 Axes>"
      ]
     },
     "metadata": {
      "needs_background": "light"
     },
     "output_type": "display_data"
    }
   ],
   "source": [
    "accident_count_per_hour(crashes,\"Sunday\")"
   ]
  },
  {
   "cell_type": "markdown",
   "id": "1f969ec3",
   "metadata": {},
   "source": [
    "Increase of accidents at 12am on sunday, comfirms theory that people are out past midnight. Maybe do a two sample t-stes? (Ask Nick/Akshay if this is the right thing to do). Might not be, but good thing to ask."
   ]
  },
  {
   "cell_type": "markdown",
   "id": "c50711f8",
   "metadata": {},
   "source": [
    "Maybe even look at 12am values for all days of the week, and compare to sunday 12am value. Maybe some kind of test?"
   ]
  },
  {
   "cell_type": "markdown",
   "id": "ec6055e2",
   "metadata": {},
   "source": [
    "### Melbourne accident rate by day of the week"
   ]
  },
  {
   "cell_type": "code",
   "execution_count": 13,
   "id": "74ebe7a0",
   "metadata": {},
   "outputs": [],
   "source": [
    "# read file\n",
    "melb = pd.read_csv('cleaned_data/melbourne_data.csv')"
   ]
  },
  {
   "cell_type": "markdown",
   "id": "a08e8420",
   "metadata": {},
   "source": [
    "### Sunday"
   ]
  },
  {
   "cell_type": "code",
   "execution_count": 14,
   "id": "0e3b04f4",
   "metadata": {},
   "outputs": [
    {
     "data": {
      "image/png": "[encoded data removed]",
      "text/plain": [
       "<Figure size 432x288 with 1 Axes>"
      ]
     },
     "metadata": {
      "needs_background": "light"
     },
     "output_type": "display_data"
    }
   ],
   "source": [
    "accident_count_per_hour(melb,\"Sunday\")"
   ]
  },
  {
   "cell_type": "markdown",
   "id": "304485e3",
   "metadata": {},
   "source": [
    "### Saturday"
   ]
  },
  {
   "cell_type": "code",
   "execution_count": 15,
   "id": "5c53719f",
   "metadata": {
    "scrolled": true
   },
   "outputs": [
    {
     "data": {
      "image/png": "[encoded data removed]",
      "text/plain": [
       "<Figure size 432x288 with 1 Axes>"
      ]
     },
     "metadata": {
      "needs_background": "light"
     },
     "output_type": "display_data"
    }
   ],
   "source": [
    "accident_count_per_hour(melb,\"Saturday\")"
   ]
  },
  {
   "cell_type": "markdown",
   "id": "99bf2a75",
   "metadata": {},
   "source": [
    "### Hume"
   ]
  },
  {
   "cell_type": "code",
   "execution_count": 16,
   "id": "bc5e4fc9",
   "metadata": {},
   "outputs": [],
   "source": [
    "# read file\n",
    "hume = pd.read_csv('cleaned_data/hume_data.csv')"
   ]
  },
  {
   "cell_type": "markdown",
   "id": "1e91197c",
   "metadata": {},
   "source": [
    "### Sunday"
   ]
  },
  {
   "cell_type": "code",
   "execution_count": 17,
   "id": "f3ffaaf9",
   "metadata": {},
   "outputs": [
    {
     "data": {
      "image/png": "[encoded data removed]",
      "text/plain": [
       "<Figure size 432x288 with 1 Axes>"
      ]
     },
     "metadata": {
      "needs_background": "light"
     },
     "output_type": "display_data"
    }
   ],
   "source": [
    "accident_count_per_hour(hume,\"Sunday\")"
   ]
  },
  {
   "cell_type": "markdown",
   "id": "5a0c236f",
   "metadata": {},
   "source": [
    "### Saturday"
   ]
  },
  {
   "cell_type": "code",
   "execution_count": 18,
   "id": "406c0aad",
   "metadata": {
    "scrolled": true
   },
   "outputs": [
    {
     "data": {
      "image/png": "[encoded data removed]",
      "text/plain": [
       "<Figure size 432x288 with 1 Axes>"
      ]
     },
     "metadata": {
      "needs_background": "light"
     },
     "output_type": "display_data"
    }
   ],
   "source": [
    "accident_count_per_hour(hume,\"Saturday\")"
   ]
  },
  {
   "cell_type": "markdown",
   "id": "b2846d2b",
   "metadata": {},
   "source": [
    "Two sample t-test for melb and hume data, to see if there is a differnce in the counts (maybe for fatality rates? As we can look at means there). Or ask if there is a test we can do. If not, then no need for it."
   ]
  },
  {
   "cell_type": "markdown",
   "id": "ecef491d",
   "metadata": {},
   "source": [
    "## Ask Akshay or Nick about the analysis underneath to confirm"
   ]
  },
  {
   "cell_type": "markdown",
   "id": "c27b635d",
   "metadata": {},
   "source": [
    "### Fatality count"
   ]
  },
  {
   "cell_type": "markdown",
   "id": "ce1ad3c4",
   "metadata": {},
   "source": [
    "### Average fatality Count (I think this may be the correct way)"
   ]
  },
  {
   "cell_type": "code",
   "execution_count": 19,
   "id": "9d13d89f",
   "metadata": {},
   "outputs": [
    {
     "data": {
      "text/plain": [
       "DAY_OF_WEEK\n",
       "Monday       0.022704\n",
       "Tuesday      0.017194\n",
       "Wednesday    0.020493\n",
       "Thursday     0.018943\n",
       "Friday       0.022241\n",
       "Saturday     0.029944\n",
       "Sunday       0.019916\n",
       "Name: FATALITY, dtype: float64"
      ]
     },
     "execution_count": 19,
     "metadata": {},
     "output_type": "execute_result"
    }
   ],
   "source": [
    "# looking at mean fatality rate\n",
    "\n",
    "fatality_rate = dow[\"FATALITY\"].mean()\n",
    "reorder = [\"Monday\",\"Tuesday\",\"Wednesday\",\"Thursday\",\"Friday\",\"Saturday\",\"Sunday\"]\n",
    "\n",
    "fatality_rate = fatality_rate.reindex(reorder)\n",
    "fatality_rate"
   ]
  },
  {
   "cell_type": "code",
   "execution_count": 20,
   "id": "67582b28",
   "metadata": {},
   "outputs": [
    {
     "data": {
      "image/png": "[encoded data removed]",
      "text/plain": [
       "<Figure size 432x288 with 1 Axes>"
      ]
     },
     "metadata": {
      "needs_background": "light"
     },
     "output_type": "display_data"
    }
   ],
   "source": [
    "plt.bar([\"Monday\",\"Tuesday\",\"Wednesday\",\"Thursday\",\"Friday\",\"Saturday\",\"Sunday\"],fatality_rate)\n",
    "plt.xticks(rotation=45)\n",
    "plt.xlabel(\"Day of the Week\")\n",
    "plt.ylabel(\"Fatality Count\")\n",
    "plt.title(\"Fatality Count by Day of the Week\")\n",
    "plt.show()"
   ]
  },
  {
   "cell_type": "markdown",
   "id": "12d7ec3d",
   "metadata": {},
   "source": [
    "### Total Fatality Count"
   ]
  },
  {
   "cell_type": "code",
   "execution_count": 21,
   "id": "2bd52dd2",
   "metadata": {},
   "outputs": [
    {
     "data": {
      "text/plain": [
       "DAY_OF_WEEK\n",
       "Monday       223.0\n",
       "Tuesday      177.0\n",
       "Wednesday    217.0\n",
       "Thursday     206.0\n",
       "Friday       239.0\n",
       "Saturday     230.0\n",
       "Sunday       219.0\n",
       "Name: FATALITY, dtype: float64"
      ]
     },
     "execution_count": 21,
     "metadata": {},
     "output_type": "execute_result"
    }
   ],
   "source": [
    "# looking at the total sum of each fatality \n",
    "fatality_sum = dow[\"FATALITY\"].sum()\n",
    "reorder = [\"Monday\",\"Tuesday\",\"Wednesday\",\"Thursday\",\"Friday\",\"Saturday\",\"Sunday\"]\n",
    "\n",
    "fatality_sum = fatality_sum.reindex(reorder)\n",
    "fatality_sum"
   ]
  },
  {
   "cell_type": "code",
   "execution_count": 22,
   "id": "075c9d6a",
   "metadata": {},
   "outputs": [
    {
     "data": {
      "image/png": "[encoded data removed]",
      "text/plain": [
       "<Figure size 432x288 with 1 Axes>"
      ]
     },
     "metadata": {
      "needs_background": "light"
     },
     "output_type": "display_data"
    }
   ],
   "source": [
    "plt.bar([\"Monday\",\"Tuesday\",\"Wednesday\",\"Thursday\",\"Friday\",\"Saturday\",\"Sunday\"],fatality_sum)\n",
    "plt.xticks(rotation=45)\n",
    "plt.xlabel(\"Day of the Week\")\n",
    "plt.ylabel(\"Fatality Count\")\n",
    "plt.title(\"Fatality Count by Day of the Week\")\n",
    "plt.show()"
   ]
  },
  {
   "cell_type": "markdown",
   "id": "ea3e7b01",
   "metadata": {},
   "source": [
    "Friday has the highest  fatality count. Could this be because on Fridays people go to work AND go out at night? Are people tired from during the week?"
   ]
  },
  {
   "cell_type": "markdown",
   "id": "a2db48f8",
   "metadata": {},
   "source": [
    "### Look at accident count (or mean)  grouped by year"
   ]
  },
  {
   "cell_type": "code",
   "execution_count": 23,
   "id": "33e1c94d",
   "metadata": {},
   "outputs": [
    {
     "data": {
      "text/html": [
       "<div>\n",
       "<style scoped>\n",
       "    .dataframe tbody tr th:only-of-type {\n",
       "        vertical-align: middle;\n",
       "    }\n",
       "\n",
       "    .dataframe tbody tr th {\n",
       "        vertical-align: top;\n",
       "    }\n",
       "\n",
       "    .dataframe thead th {\n",
       "        text-align: right;\n",
       "    }\n",
       "</style>\n",
       "<table border=\"1\" class=\"dataframe\">\n",
       "  <thead>\n",
       "    <tr style=\"text-align: right;\">\n",
       "      <th></th>\n",
       "      <th>ACCIDENT_NO</th>\n",
       "      <th>ABS_CODE</th>\n",
       "      <th>ACCIDENT_STATUS</th>\n",
       "      <th>ACCIDENT_DATE</th>\n",
       "      <th>ACCIDENT_TIME</th>\n",
       "      <th>ALCOHOLTIME</th>\n",
       "      <th>ACCIDENT_TYPE</th>\n",
       "      <th>DAY_OF_WEEK</th>\n",
       "      <th>DCA_CODE</th>\n",
       "      <th>HIT_RUN_FLAG</th>\n",
       "      <th>...</th>\n",
       "      <th>PUBLICVEHICLE</th>\n",
       "      <th>DEG_URBAN_NAME</th>\n",
       "      <th>DEG_URBAN_ALL</th>\n",
       "      <th>LGA_NAME_ALL</th>\n",
       "      <th>REGION_NAME_ALL</th>\n",
       "      <th>RMA</th>\n",
       "      <th>STAT_DIV_NAME</th>\n",
       "      <th>YEAR</th>\n",
       "      <th>MONTH</th>\n",
       "      <th>DAY</th>\n",
       "    </tr>\n",
       "  </thead>\n",
       "  <tbody>\n",
       "    <tr>\n",
       "      <th>0</th>\n",
       "      <td>T20140013514</td>\n",
       "      <td>Driving accident</td>\n",
       "      <td>Unfinished</td>\n",
       "      <td>2014/07/01</td>\n",
       "      <td>13:09:00</td>\n",
       "      <td>No</td>\n",
       "      <td>Collision with vehicle</td>\n",
       "      <td>Monday</td>\n",
       "      <td>RIGHT THROUGH</td>\n",
       "      <td>No</td>\n",
       "      <td>...</td>\n",
       "      <td>0.0</td>\n",
       "      <td>TOWNS</td>\n",
       "      <td>TOWNS</td>\n",
       "      <td>MITCHELL</td>\n",
       "      <td>NORTHERN REGION</td>\n",
       "      <td>Arterial Highway</td>\n",
       "      <td>Country</td>\n",
       "      <td>2014</td>\n",
       "      <td>07</td>\n",
       "      <td>01</td>\n",
       "    </tr>\n",
       "    <tr>\n",
       "      <th>1</th>\n",
       "      <td>T20140013549</td>\n",
       "      <td>Driving accident</td>\n",
       "      <td>Finished</td>\n",
       "      <td>2014/07/02</td>\n",
       "      <td>00:01:00</td>\n",
       "      <td>Yes</td>\n",
       "      <td>Collision with vehicle</td>\n",
       "      <td>Wednesday</td>\n",
       "      <td>U TURN</td>\n",
       "      <td>No</td>\n",
       "      <td>...</td>\n",
       "      <td>0.0</td>\n",
       "      <td>MELB_URBAN</td>\n",
       "      <td>MELB_URBAN</td>\n",
       "      <td>WHITTLESEA</td>\n",
       "      <td>METROPOLITAN NORTH WEST REGION</td>\n",
       "      <td>Arterial Other</td>\n",
       "      <td>Metro</td>\n",
       "      <td>2014</td>\n",
       "      <td>07</td>\n",
       "      <td>02</td>\n",
       "    </tr>\n",
       "    <tr>\n",
       "      <th>2</th>\n",
       "      <td>T20140013563</td>\n",
       "      <td>Driving accident</td>\n",
       "      <td>Finished</td>\n",
       "      <td>2014/07/02</td>\n",
       "      <td>10:08:00</td>\n",
       "      <td>No</td>\n",
       "      <td>Collision with vehicle</td>\n",
       "      <td>Wednesday</td>\n",
       "      <td>CROSS TRAFFIC(INTERSECTIONS ONLY)</td>\n",
       "      <td>Yes</td>\n",
       "      <td>...</td>\n",
       "      <td>0.0</td>\n",
       "      <td>MELB_URBAN</td>\n",
       "      <td>MELB_URBAN</td>\n",
       "      <td>WYNDHAM</td>\n",
       "      <td>METROPOLITAN NORTH WEST REGION</td>\n",
       "      <td>Arterial Other</td>\n",
       "      <td>Metro</td>\n",
       "      <td>2014</td>\n",
       "      <td>07</td>\n",
       "      <td>02</td>\n",
       "    </tr>\n",
       "    <tr>\n",
       "      <th>3</th>\n",
       "      <td>T20140013567</td>\n",
       "      <td>Driving accident</td>\n",
       "      <td>Finished</td>\n",
       "      <td>2014/07/02</td>\n",
       "      <td>09:12:00</td>\n",
       "      <td>No</td>\n",
       "      <td>Collision with vehicle</td>\n",
       "      <td>Wednesday</td>\n",
       "      <td>RIGHT THROUGH</td>\n",
       "      <td>No</td>\n",
       "      <td>...</td>\n",
       "      <td>0.0</td>\n",
       "      <td>MELB_URBAN</td>\n",
       "      <td>MELB_URBAN</td>\n",
       "      <td>WYNDHAM</td>\n",
       "      <td>METROPOLITAN NORTH WEST REGION</td>\n",
       "      <td>Arterial Other</td>\n",
       "      <td>Metro</td>\n",
       "      <td>2014</td>\n",
       "      <td>07</td>\n",
       "      <td>02</td>\n",
       "    </tr>\n",
       "    <tr>\n",
       "      <th>4</th>\n",
       "      <td>T20140013582</td>\n",
       "      <td>Driving accident</td>\n",
       "      <td>Finished</td>\n",
       "      <td>2014/07/02</td>\n",
       "      <td>12:20:00</td>\n",
       "      <td>No</td>\n",
       "      <td>Collision with a fixed object</td>\n",
       "      <td>Wednesday</td>\n",
       "      <td>OFF RIGHT BEND INTO OBJECT/PARKED VEHICLE</td>\n",
       "      <td>No</td>\n",
       "      <td>...</td>\n",
       "      <td>0.0</td>\n",
       "      <td>MELB_URBAN</td>\n",
       "      <td>MELB_URBAN</td>\n",
       "      <td>PORT PHILLIP</td>\n",
       "      <td>METROPOLITAN NORTH WEST REGION</td>\n",
       "      <td>Local Road</td>\n",
       "      <td>Metro</td>\n",
       "      <td>2014</td>\n",
       "      <td>07</td>\n",
       "      <td>02</td>\n",
       "    </tr>\n",
       "    <tr>\n",
       "      <th>...</th>\n",
       "      <td>...</td>\n",
       "      <td>...</td>\n",
       "      <td>...</td>\n",
       "      <td>...</td>\n",
       "      <td>...</td>\n",
       "      <td>...</td>\n",
       "      <td>...</td>\n",
       "      <td>...</td>\n",
       "      <td>...</td>\n",
       "      <td>...</td>\n",
       "      <td>...</td>\n",
       "      <td>...</td>\n",
       "      <td>...</td>\n",
       "      <td>...</td>\n",
       "      <td>...</td>\n",
       "      <td>...</td>\n",
       "      <td>...</td>\n",
       "      <td>...</td>\n",
       "      <td>...</td>\n",
       "      <td>...</td>\n",
       "      <td>...</td>\n",
       "    </tr>\n",
       "    <tr>\n",
       "      <th>70998</th>\n",
       "      <td>T20200005929</td>\n",
       "      <td>Driving accident</td>\n",
       "      <td>Finished</td>\n",
       "      <td>2018/11/02</td>\n",
       "      <td>14:30:00</td>\n",
       "      <td>No</td>\n",
       "      <td>Collision with vehicle</td>\n",
       "      <td>Thursday</td>\n",
       "      <td>REAR END(VEHICLES IN SAME LANE)</td>\n",
       "      <td>No</td>\n",
       "      <td>...</td>\n",
       "      <td>0.0</td>\n",
       "      <td>MELB_URBAN</td>\n",
       "      <td>MELB_URBAN</td>\n",
       "      <td>WHITTLESEA</td>\n",
       "      <td>METROPOLITAN NORTH WEST REGION</td>\n",
       "      <td>Local Road</td>\n",
       "      <td>Metro</td>\n",
       "      <td>2018</td>\n",
       "      <td>11</td>\n",
       "      <td>02</td>\n",
       "    </tr>\n",
       "    <tr>\n",
       "      <th>70999</th>\n",
       "      <td>T20200010870</td>\n",
       "      <td>Driving accident</td>\n",
       "      <td>Unfinished</td>\n",
       "      <td>2018/01/15</td>\n",
       "      <td>15:00:00</td>\n",
       "      <td>No</td>\n",
       "      <td>Collision with vehicle</td>\n",
       "      <td>Sunday</td>\n",
       "      <td>CROSS TRAFFIC(INTERSECTIONS ONLY)</td>\n",
       "      <td>No</td>\n",
       "      <td>...</td>\n",
       "      <td>0.0</td>\n",
       "      <td>RURAL_VICTORIA</td>\n",
       "      <td>RURAL_VICTORIA</td>\n",
       "      <td>WYNDHAM</td>\n",
       "      <td>METROPOLITAN NORTH WEST REGION</td>\n",
       "      <td>Local Road</td>\n",
       "      <td>Metro</td>\n",
       "      <td>2018</td>\n",
       "      <td>01</td>\n",
       "      <td>15</td>\n",
       "    </tr>\n",
       "    <tr>\n",
       "      <th>71000</th>\n",
       "      <td>T20200012822</td>\n",
       "      <td>Driving accident</td>\n",
       "      <td>Unfinished</td>\n",
       "      <td>2019/01/17</td>\n",
       "      <td>12:30:00</td>\n",
       "      <td>No</td>\n",
       "      <td>Struck Pedestrian</td>\n",
       "      <td>Wednesday</td>\n",
       "      <td>PARKED CAR RUN AWAY</td>\n",
       "      <td>No</td>\n",
       "      <td>...</td>\n",
       "      <td>0.0</td>\n",
       "      <td>LARGE_PROVINCIAL_CITIES</td>\n",
       "      <td>LARGE_PROVINCIAL_CITIES</td>\n",
       "      <td>GEELONG</td>\n",
       "      <td>SOUTH WESTERN REGION</td>\n",
       "      <td>Local Road</td>\n",
       "      <td>Country</td>\n",
       "      <td>2019</td>\n",
       "      <td>01</td>\n",
       "      <td>17</td>\n",
       "    </tr>\n",
       "    <tr>\n",
       "      <th>71001</th>\n",
       "      <td>T20200013045</td>\n",
       "      <td>Driving accident</td>\n",
       "      <td>Unfinished</td>\n",
       "      <td>2019/03/27</td>\n",
       "      <td>17:59:00</td>\n",
       "      <td>No</td>\n",
       "      <td>No collision and no object struck</td>\n",
       "      <td>Tuesday</td>\n",
       "      <td>UNKNOWN-NO DETAILS ON MANOEUVRES OF ROAD-USERS...</td>\n",
       "      <td>No</td>\n",
       "      <td>...</td>\n",
       "      <td>1.0</td>\n",
       "      <td>MELB_URBAN</td>\n",
       "      <td>MELB_URBAN</td>\n",
       "      <td>STONNINGTON</td>\n",
       "      <td>METROPOLITAN SOUTH EAST REGION</td>\n",
       "      <td>Arterial Other</td>\n",
       "      <td>Metro</td>\n",
       "      <td>2019</td>\n",
       "      <td>03</td>\n",
       "      <td>27</td>\n",
       "    </tr>\n",
       "    <tr>\n",
       "      <th>71002</th>\n",
       "      <td>T20200017444</td>\n",
       "      <td>Driving accident</td>\n",
       "      <td>Unfinished</td>\n",
       "      <td>2018/05/12</td>\n",
       "      <td>12:00:00</td>\n",
       "      <td>No</td>\n",
       "      <td>Collision with vehicle</td>\n",
       "      <td>Friday</td>\n",
       "      <td>CROSS TRAFFIC(INTERSECTIONS ONLY)</td>\n",
       "      <td>No</td>\n",
       "      <td>...</td>\n",
       "      <td>0.0</td>\n",
       "      <td>MELB_URBAN</td>\n",
       "      <td>MELB_URBAN</td>\n",
       "      <td>DAREBIN</td>\n",
       "      <td>METROPOLITAN NORTH WEST REGION</td>\n",
       "      <td>Local Road</td>\n",
       "      <td>Metro</td>\n",
       "      <td>2018</td>\n",
       "      <td>05</td>\n",
       "      <td>12</td>\n",
       "    </tr>\n",
       "  </tbody>\n",
       "</table>\n",
       "<p>71003 rows × 55 columns</p>\n",
       "</div>"
      ],
      "text/plain": [
       "        ACCIDENT_NO          ABS_CODE ACCIDENT_STATUS ACCIDENT_DATE  \\\n",
       "0      T20140013514  Driving accident      Unfinished    2014/07/01   \n",
       "1      T20140013549  Driving accident        Finished    2014/07/02   \n",
       "2      T20140013563  Driving accident        Finished    2014/07/02   \n",
       "3      T20140013567  Driving accident        Finished    2014/07/02   \n",
       "4      T20140013582  Driving accident        Finished    2014/07/02   \n",
       "...             ...               ...             ...           ...   \n",
       "70998  T20200005929  Driving accident        Finished    2018/11/02   \n",
       "70999  T20200010870  Driving accident      Unfinished    2018/01/15   \n",
       "71000  T20200012822  Driving accident      Unfinished    2019/01/17   \n",
       "71001  T20200013045  Driving accident      Unfinished    2019/03/27   \n",
       "71002  T20200017444  Driving accident      Unfinished    2018/05/12   \n",
       "\n",
       "      ACCIDENT_TIME ALCOHOLTIME                      ACCIDENT_TYPE  \\\n",
       "0          13:09:00          No             Collision with vehicle   \n",
       "1          00:01:00         Yes             Collision with vehicle   \n",
       "2          10:08:00          No             Collision with vehicle   \n",
       "3          09:12:00          No             Collision with vehicle   \n",
       "4          12:20:00          No      Collision with a fixed object   \n",
       "...             ...         ...                                ...   \n",
       "70998      14:30:00          No             Collision with vehicle   \n",
       "70999      15:00:00          No             Collision with vehicle   \n",
       "71000      12:30:00          No                  Struck Pedestrian   \n",
       "71001      17:59:00          No  No collision and no object struck   \n",
       "71002      12:00:00          No             Collision with vehicle   \n",
       "\n",
       "      DAY_OF_WEEK                                           DCA_CODE  \\\n",
       "0          Monday                                      RIGHT THROUGH   \n",
       "1       Wednesday                                             U TURN   \n",
       "2       Wednesday                  CROSS TRAFFIC(INTERSECTIONS ONLY)   \n",
       "3       Wednesday                                      RIGHT THROUGH   \n",
       "4       Wednesday          OFF RIGHT BEND INTO OBJECT/PARKED VEHICLE   \n",
       "...           ...                                                ...   \n",
       "70998    Thursday                    REAR END(VEHICLES IN SAME LANE)   \n",
       "70999      Sunday                  CROSS TRAFFIC(INTERSECTIONS ONLY)   \n",
       "71000   Wednesday                                PARKED CAR RUN AWAY   \n",
       "71001     Tuesday  UNKNOWN-NO DETAILS ON MANOEUVRES OF ROAD-USERS...   \n",
       "71002      Friday                  CROSS TRAFFIC(INTERSECTIONS ONLY)   \n",
       "\n",
       "      HIT_RUN_FLAG  ... PUBLICVEHICLE           DEG_URBAN_NAME  \\\n",
       "0               No  ...           0.0                    TOWNS   \n",
       "1               No  ...           0.0               MELB_URBAN   \n",
       "2              Yes  ...           0.0               MELB_URBAN   \n",
       "3               No  ...           0.0               MELB_URBAN   \n",
       "4               No  ...           0.0               MELB_URBAN   \n",
       "...            ...  ...           ...                      ...   \n",
       "70998           No  ...           0.0               MELB_URBAN   \n",
       "70999           No  ...           0.0           RURAL_VICTORIA   \n",
       "71000           No  ...           0.0  LARGE_PROVINCIAL_CITIES   \n",
       "71001           No  ...           1.0               MELB_URBAN   \n",
       "71002           No  ...           0.0               MELB_URBAN   \n",
       "\n",
       "                 DEG_URBAN_ALL  LGA_NAME_ALL                 REGION_NAME_ALL  \\\n",
       "0                        TOWNS      MITCHELL                 NORTHERN REGION   \n",
       "1                   MELB_URBAN    WHITTLESEA  METROPOLITAN NORTH WEST REGION   \n",
       "2                   MELB_URBAN       WYNDHAM  METROPOLITAN NORTH WEST REGION   \n",
       "3                   MELB_URBAN       WYNDHAM  METROPOLITAN NORTH WEST REGION   \n",
       "4                   MELB_URBAN  PORT PHILLIP  METROPOLITAN NORTH WEST REGION   \n",
       "...                        ...           ...                             ...   \n",
       "70998               MELB_URBAN    WHITTLESEA  METROPOLITAN NORTH WEST REGION   \n",
       "70999           RURAL_VICTORIA       WYNDHAM  METROPOLITAN NORTH WEST REGION   \n",
       "71000  LARGE_PROVINCIAL_CITIES       GEELONG            SOUTH WESTERN REGION   \n",
       "71001               MELB_URBAN   STONNINGTON  METROPOLITAN SOUTH EAST REGION   \n",
       "71002               MELB_URBAN       DAREBIN  METROPOLITAN NORTH WEST REGION   \n",
       "\n",
       "                    RMA  STAT_DIV_NAME  YEAR MONTH DAY  \n",
       "0      Arterial Highway        Country  2014    07  01  \n",
       "1        Arterial Other          Metro  2014    07  02  \n",
       "2        Arterial Other          Metro  2014    07  02  \n",
       "3        Arterial Other          Metro  2014    07  02  \n",
       "4            Local Road          Metro  2014    07  02  \n",
       "...                 ...            ...   ...   ...  ..  \n",
       "70998        Local Road          Metro  2018    11  02  \n",
       "70999        Local Road          Metro  2018    01  15  \n",
       "71000        Local Road        Country  2019    01  17  \n",
       "71001    Arterial Other          Metro  2019    03  27  \n",
       "71002        Local Road          Metro  2018    05  12  \n",
       "\n",
       "[71003 rows x 55 columns]"
      ]
     },
     "execution_count": 23,
     "metadata": {},
     "output_type": "execute_result"
    }
   ],
   "source": [
    "# split date into three columns (year,month,day)\n",
    "crashes[['YEAR',\"MONTH\"]] = crashes['ACCIDENT_DATE'].str.split('/',1,expand =True)\n",
    "crashes[['MONTH',\"DAY\"]] = crashes['MONTH'].str.split('/',1,expand =True)\n",
    "crashes"
   ]
  },
  {
   "cell_type": "code",
   "execution_count": 24,
   "id": "4e8e22c4",
   "metadata": {},
   "outputs": [
    {
     "data": {
      "text/plain": [
       "YEAR\n",
       "2014     6700\n",
       "2015    15790\n",
       "2016    15933\n",
       "2017    13417\n",
       "2018    12758\n",
       "2019     6405\n",
       "Name: ACCIDENT_NO, dtype: int64"
      ]
     },
     "execution_count": 24,
     "metadata": {},
     "output_type": "execute_result"
    }
   ],
   "source": [
    "# group by year\n",
    "accidents_per_year = crashes.groupby(\"YEAR\").count()[\"ACCIDENT_NO\"]\n",
    "accidents_per_year"
   ]
  },
  {
   "cell_type": "code",
   "execution_count": 25,
   "id": "1378d21c",
   "metadata": {},
   "outputs": [
    {
     "data": {
      "image/png": "[encoded data removed]",
      "text/plain": [
       "<Figure size 432x288 with 1 Axes>"
      ]
     },
     "metadata": {
      "needs_background": "light"
     },
     "output_type": "display_data"
    }
   ],
   "source": [
    "plt.bar([\"2014\",\"2015\",\"2016\",\"2017\",\"2018\",\"2019\"],accidents_per_year)\n",
    "plt.xticks(rotation=45)\n",
    "plt.xlabel(\"Year\")\n",
    "plt.ylabel(\"Accident Count\")\n",
    "plt.title(\"Accident Count by Year\")\n",
    "plt.show()"
   ]
  },
  {
   "cell_type": "markdown",
   "id": "4d95b080",
   "metadata": {},
   "source": [
    "We can see that 2015 and 2016 had the highest accident count. Why? 2019 has the lowest. Did 2019 have less data? Only has until june 30th. This is probably why.\n",
    "\n",
    "Edit: 2014 and 2019 are only half years (see below)"
   ]
  },
  {
   "cell_type": "code",
   "execution_count": 26,
   "id": "a06761f9",
   "metadata": {},
   "outputs": [
    {
     "data": {
      "text/plain": [
       "0       2014/07/01\n",
       "27      2014/07/01\n",
       "26      2014/07/01\n",
       "44      2014/07/01\n",
       "20      2014/07/01\n",
       "           ...    \n",
       "5710    2014/12/31\n",
       "5709    2014/12/31\n",
       "6070    2014/12/31\n",
       "5722    2014/12/31\n",
       "5572    2014/12/31\n",
       "Name: ACCIDENT_DATE, Length: 6700, dtype: object"
      ]
     },
     "execution_count": 26,
     "metadata": {},
     "output_type": "execute_result"
    }
   ],
   "source": [
    "crashes[crashes[\"YEAR\"] == \"2019\"][\"ACCIDENT_DATE\"].sort_values()\n",
    "crashes[crashes[\"YEAR\"] == \"2014\"][\"ACCIDENT_DATE\"].sort_values()"
   ]
  },
  {
   "cell_type": "code",
   "execution_count": 27,
   "id": "de85bcfe",
   "metadata": {},
   "outputs": [],
   "source": [
    "# mulitindex_crashes = crashes.groupby([\"YEAR\", \"DAY_OF_WEEK\"])\n",
    "# counts = mulitindex_crashes.count()[\"ACCIDENT_NO\"]\n",
    "# # column_names = [\"YEAR\",\"DAY_OF_WEKK\",\"COUNT\"]\n",
    "\n",
    "# mi = crashes.set_index([\"YEAR\"])\n",
    "# mi.groupby(\"DAY_OF_WEEK\").count()"
   ]
  },
  {
   "cell_type": "markdown",
   "id": "f98c0b92",
   "metadata": {},
   "source": [
    "### Multindex (year, do of week) Issue: How to plot"
   ]
  },
  {
   "cell_type": "code",
   "execution_count": 28,
   "id": "28f02e30",
   "metadata": {},
   "outputs": [
    {
     "data": {
      "text/html": [
       "<div>\n",
       "<style scoped>\n",
       "    .dataframe tbody tr th:only-of-type {\n",
       "        vertical-align: middle;\n",
       "    }\n",
       "\n",
       "    .dataframe tbody tr th {\n",
       "        vertical-align: top;\n",
       "    }\n",
       "\n",
       "    .dataframe thead th {\n",
       "        text-align: right;\n",
       "    }\n",
       "</style>\n",
       "<table border=\"1\" class=\"dataframe\">\n",
       "  <thead>\n",
       "    <tr style=\"text-align: right;\">\n",
       "      <th></th>\n",
       "      <th></th>\n",
       "      <th>ACCIDENT_NO</th>\n",
       "      <th>ABS_CODE</th>\n",
       "      <th>ACCIDENT_STATUS</th>\n",
       "      <th>ACCIDENT_DATE</th>\n",
       "      <th>ACCIDENT_TIME</th>\n",
       "      <th>ALCOHOLTIME</th>\n",
       "      <th>ACCIDENT_TYPE</th>\n",
       "      <th>DCA_CODE</th>\n",
       "      <th>HIT_RUN_FLAG</th>\n",
       "      <th>LIGHT_CONDITION</th>\n",
       "      <th>...</th>\n",
       "      <th>MOTORCYCLE</th>\n",
       "      <th>PUBLICVEHICLE</th>\n",
       "      <th>DEG_URBAN_NAME</th>\n",
       "      <th>DEG_URBAN_ALL</th>\n",
       "      <th>LGA_NAME_ALL</th>\n",
       "      <th>REGION_NAME_ALL</th>\n",
       "      <th>RMA</th>\n",
       "      <th>STAT_DIV_NAME</th>\n",
       "      <th>MONTH</th>\n",
       "      <th>DAY</th>\n",
       "    </tr>\n",
       "    <tr>\n",
       "      <th>YEAR</th>\n",
       "      <th>DAY_OF_WEEK</th>\n",
       "      <th></th>\n",
       "      <th></th>\n",
       "      <th></th>\n",
       "      <th></th>\n",
       "      <th></th>\n",
       "      <th></th>\n",
       "      <th></th>\n",
       "      <th></th>\n",
       "      <th></th>\n",
       "      <th></th>\n",
       "      <th></th>\n",
       "      <th></th>\n",
       "      <th></th>\n",
       "      <th></th>\n",
       "      <th></th>\n",
       "      <th></th>\n",
       "      <th></th>\n",
       "      <th></th>\n",
       "      <th></th>\n",
       "      <th></th>\n",
       "      <th></th>\n",
       "    </tr>\n",
       "  </thead>\n",
       "  <tbody>\n",
       "    <tr>\n",
       "      <th rowspan=\"5\" valign=\"top\">2014</th>\n",
       "      <th>Monday</th>\n",
       "      <td>T20140013514</td>\n",
       "      <td>Driving accident</td>\n",
       "      <td>Unfinished</td>\n",
       "      <td>2014/07/01</td>\n",
       "      <td>13:09:00</td>\n",
       "      <td>No</td>\n",
       "      <td>Collision with vehicle</td>\n",
       "      <td>RIGHT THROUGH</td>\n",
       "      <td>No</td>\n",
       "      <td>Day</td>\n",
       "      <td>...</td>\n",
       "      <td>0.0</td>\n",
       "      <td>0.0</td>\n",
       "      <td>TOWNS</td>\n",
       "      <td>TOWNS</td>\n",
       "      <td>MITCHELL</td>\n",
       "      <td>NORTHERN REGION</td>\n",
       "      <td>Arterial Highway</td>\n",
       "      <td>Country</td>\n",
       "      <td>07</td>\n",
       "      <td>01</td>\n",
       "    </tr>\n",
       "    <tr>\n",
       "      <th>Wednesday</th>\n",
       "      <td>T20140013549</td>\n",
       "      <td>Driving accident</td>\n",
       "      <td>Finished</td>\n",
       "      <td>2014/07/02</td>\n",
       "      <td>00:01:00</td>\n",
       "      <td>Yes</td>\n",
       "      <td>Collision with vehicle</td>\n",
       "      <td>U TURN</td>\n",
       "      <td>No</td>\n",
       "      <td>Dark Street lights on</td>\n",
       "      <td>...</td>\n",
       "      <td>0.0</td>\n",
       "      <td>0.0</td>\n",
       "      <td>MELB_URBAN</td>\n",
       "      <td>MELB_URBAN</td>\n",
       "      <td>WHITTLESEA</td>\n",
       "      <td>METROPOLITAN NORTH WEST REGION</td>\n",
       "      <td>Arterial Other</td>\n",
       "      <td>Metro</td>\n",
       "      <td>07</td>\n",
       "      <td>02</td>\n",
       "    </tr>\n",
       "    <tr>\n",
       "      <th>Wednesday</th>\n",
       "      <td>T20140013563</td>\n",
       "      <td>Driving accident</td>\n",
       "      <td>Finished</td>\n",
       "      <td>2014/07/02</td>\n",
       "      <td>10:08:00</td>\n",
       "      <td>No</td>\n",
       "      <td>Collision with vehicle</td>\n",
       "      <td>CROSS TRAFFIC(INTERSECTIONS ONLY)</td>\n",
       "      <td>Yes</td>\n",
       "      <td>Unk.</td>\n",
       "      <td>...</td>\n",
       "      <td>0.0</td>\n",
       "      <td>0.0</td>\n",
       "      <td>MELB_URBAN</td>\n",
       "      <td>MELB_URBAN</td>\n",
       "      <td>WYNDHAM</td>\n",
       "      <td>METROPOLITAN NORTH WEST REGION</td>\n",
       "      <td>Arterial Other</td>\n",
       "      <td>Metro</td>\n",
       "      <td>07</td>\n",
       "      <td>02</td>\n",
       "    </tr>\n",
       "    <tr>\n",
       "      <th>Wednesday</th>\n",
       "      <td>T20140013567</td>\n",
       "      <td>Driving accident</td>\n",
       "      <td>Finished</td>\n",
       "      <td>2014/07/02</td>\n",
       "      <td>09:12:00</td>\n",
       "      <td>No</td>\n",
       "      <td>Collision with vehicle</td>\n",
       "      <td>RIGHT THROUGH</td>\n",
       "      <td>No</td>\n",
       "      <td>Day</td>\n",
       "      <td>...</td>\n",
       "      <td>0.0</td>\n",
       "      <td>0.0</td>\n",
       "      <td>MELB_URBAN</td>\n",
       "      <td>MELB_URBAN</td>\n",
       "      <td>WYNDHAM</td>\n",
       "      <td>METROPOLITAN NORTH WEST REGION</td>\n",
       "      <td>Arterial Other</td>\n",
       "      <td>Metro</td>\n",
       "      <td>07</td>\n",
       "      <td>02</td>\n",
       "    </tr>\n",
       "    <tr>\n",
       "      <th>Wednesday</th>\n",
       "      <td>T20140013582</td>\n",
       "      <td>Driving accident</td>\n",
       "      <td>Finished</td>\n",
       "      <td>2014/07/02</td>\n",
       "      <td>12:20:00</td>\n",
       "      <td>No</td>\n",
       "      <td>Collision with a fixed object</td>\n",
       "      <td>OFF RIGHT BEND INTO OBJECT/PARKED VEHICLE</td>\n",
       "      <td>No</td>\n",
       "      <td>Day</td>\n",
       "      <td>...</td>\n",
       "      <td>1.0</td>\n",
       "      <td>0.0</td>\n",
       "      <td>MELB_URBAN</td>\n",
       "      <td>MELB_URBAN</td>\n",
       "      <td>PORT PHILLIP</td>\n",
       "      <td>METROPOLITAN NORTH WEST REGION</td>\n",
       "      <td>Local Road</td>\n",
       "      <td>Metro</td>\n",
       "      <td>07</td>\n",
       "      <td>02</td>\n",
       "    </tr>\n",
       "    <tr>\n",
       "      <th>...</th>\n",
       "      <th>...</th>\n",
       "      <td>...</td>\n",
       "      <td>...</td>\n",
       "      <td>...</td>\n",
       "      <td>...</td>\n",
       "      <td>...</td>\n",
       "      <td>...</td>\n",
       "      <td>...</td>\n",
       "      <td>...</td>\n",
       "      <td>...</td>\n",
       "      <td>...</td>\n",
       "      <td>...</td>\n",
       "      <td>...</td>\n",
       "      <td>...</td>\n",
       "      <td>...</td>\n",
       "      <td>...</td>\n",
       "      <td>...</td>\n",
       "      <td>...</td>\n",
       "      <td>...</td>\n",
       "      <td>...</td>\n",
       "      <td>...</td>\n",
       "      <td>...</td>\n",
       "    </tr>\n",
       "    <tr>\n",
       "      <th rowspan=\"2\" valign=\"top\">2018</th>\n",
       "      <th>Thursday</th>\n",
       "      <td>T20200005929</td>\n",
       "      <td>Driving accident</td>\n",
       "      <td>Finished</td>\n",
       "      <td>2018/11/02</td>\n",
       "      <td>14:30:00</td>\n",
       "      <td>No</td>\n",
       "      <td>Collision with vehicle</td>\n",
       "      <td>REAR END(VEHICLES IN SAME LANE)</td>\n",
       "      <td>No</td>\n",
       "      <td>Day</td>\n",
       "      <td>...</td>\n",
       "      <td>0.0</td>\n",
       "      <td>0.0</td>\n",
       "      <td>MELB_URBAN</td>\n",
       "      <td>MELB_URBAN</td>\n",
       "      <td>WHITTLESEA</td>\n",
       "      <td>METROPOLITAN NORTH WEST REGION</td>\n",
       "      <td>Local Road</td>\n",
       "      <td>Metro</td>\n",
       "      <td>11</td>\n",
       "      <td>02</td>\n",
       "    </tr>\n",
       "    <tr>\n",
       "      <th>Sunday</th>\n",
       "      <td>T20200010870</td>\n",
       "      <td>Driving accident</td>\n",
       "      <td>Unfinished</td>\n",
       "      <td>2018/01/15</td>\n",
       "      <td>15:00:00</td>\n",
       "      <td>No</td>\n",
       "      <td>Collision with vehicle</td>\n",
       "      <td>CROSS TRAFFIC(INTERSECTIONS ONLY)</td>\n",
       "      <td>No</td>\n",
       "      <td>Unk.</td>\n",
       "      <td>...</td>\n",
       "      <td>0.0</td>\n",
       "      <td>0.0</td>\n",
       "      <td>RURAL_VICTORIA</td>\n",
       "      <td>RURAL_VICTORIA</td>\n",
       "      <td>WYNDHAM</td>\n",
       "      <td>METROPOLITAN NORTH WEST REGION</td>\n",
       "      <td>Local Road</td>\n",
       "      <td>Metro</td>\n",
       "      <td>01</td>\n",
       "      <td>15</td>\n",
       "    </tr>\n",
       "    <tr>\n",
       "      <th rowspan=\"2\" valign=\"top\">2019</th>\n",
       "      <th>Wednesday</th>\n",
       "      <td>T20200012822</td>\n",
       "      <td>Driving accident</td>\n",
       "      <td>Unfinished</td>\n",
       "      <td>2019/01/17</td>\n",
       "      <td>12:30:00</td>\n",
       "      <td>No</td>\n",
       "      <td>Struck Pedestrian</td>\n",
       "      <td>PARKED CAR RUN AWAY</td>\n",
       "      <td>No</td>\n",
       "      <td>Day</td>\n",
       "      <td>...</td>\n",
       "      <td>0.0</td>\n",
       "      <td>0.0</td>\n",
       "      <td>LARGE_PROVINCIAL_CITIES</td>\n",
       "      <td>LARGE_PROVINCIAL_CITIES</td>\n",
       "      <td>GEELONG</td>\n",
       "      <td>SOUTH WESTERN REGION</td>\n",
       "      <td>Local Road</td>\n",
       "      <td>Country</td>\n",
       "      <td>01</td>\n",
       "      <td>17</td>\n",
       "    </tr>\n",
       "    <tr>\n",
       "      <th>Tuesday</th>\n",
       "      <td>T20200013045</td>\n",
       "      <td>Driving accident</td>\n",
       "      <td>Unfinished</td>\n",
       "      <td>2019/03/27</td>\n",
       "      <td>17:59:00</td>\n",
       "      <td>No</td>\n",
       "      <td>No collision and no object struck</td>\n",
       "      <td>UNKNOWN-NO DETAILS ON MANOEUVRES OF ROAD-USERS...</td>\n",
       "      <td>No</td>\n",
       "      <td>Unk.</td>\n",
       "      <td>...</td>\n",
       "      <td>0.0</td>\n",
       "      <td>1.0</td>\n",
       "      <td>MELB_URBAN</td>\n",
       "      <td>MELB_URBAN</td>\n",
       "      <td>STONNINGTON</td>\n",
       "      <td>METROPOLITAN SOUTH EAST REGION</td>\n",
       "      <td>Arterial Other</td>\n",
       "      <td>Metro</td>\n",
       "      <td>03</td>\n",
       "      <td>27</td>\n",
       "    </tr>\n",
       "    <tr>\n",
       "      <th>2018</th>\n",
       "      <th>Friday</th>\n",
       "      <td>T20200017444</td>\n",
       "      <td>Driving accident</td>\n",
       "      <td>Unfinished</td>\n",
       "      <td>2018/05/12</td>\n",
       "      <td>12:00:00</td>\n",
       "      <td>No</td>\n",
       "      <td>Collision with vehicle</td>\n",
       "      <td>CROSS TRAFFIC(INTERSECTIONS ONLY)</td>\n",
       "      <td>No</td>\n",
       "      <td>Day</td>\n",
       "      <td>...</td>\n",
       "      <td>0.0</td>\n",
       "      <td>0.0</td>\n",
       "      <td>MELB_URBAN</td>\n",
       "      <td>MELB_URBAN</td>\n",
       "      <td>DAREBIN</td>\n",
       "      <td>METROPOLITAN NORTH WEST REGION</td>\n",
       "      <td>Local Road</td>\n",
       "      <td>Metro</td>\n",
       "      <td>05</td>\n",
       "      <td>12</td>\n",
       "    </tr>\n",
       "  </tbody>\n",
       "</table>\n",
       "<p>71003 rows × 53 columns</p>\n",
       "</div>"
      ],
      "text/plain": [
       "                   ACCIDENT_NO          ABS_CODE ACCIDENT_STATUS  \\\n",
       "YEAR DAY_OF_WEEK                                                   \n",
       "2014 Monday       T20140013514  Driving accident      Unfinished   \n",
       "     Wednesday    T20140013549  Driving accident        Finished   \n",
       "     Wednesday    T20140013563  Driving accident        Finished   \n",
       "     Wednesday    T20140013567  Driving accident        Finished   \n",
       "     Wednesday    T20140013582  Driving accident        Finished   \n",
       "...                        ...               ...             ...   \n",
       "2018 Thursday     T20200005929  Driving accident        Finished   \n",
       "     Sunday       T20200010870  Driving accident      Unfinished   \n",
       "2019 Wednesday    T20200012822  Driving accident      Unfinished   \n",
       "     Tuesday      T20200013045  Driving accident      Unfinished   \n",
       "2018 Friday       T20200017444  Driving accident      Unfinished   \n",
       "\n",
       "                 ACCIDENT_DATE ACCIDENT_TIME ALCOHOLTIME  \\\n",
       "YEAR DAY_OF_WEEK                                           \n",
       "2014 Monday         2014/07/01      13:09:00          No   \n",
       "     Wednesday      2014/07/02      00:01:00         Yes   \n",
       "     Wednesday      2014/07/02      10:08:00          No   \n",
       "     Wednesday      2014/07/02      09:12:00          No   \n",
       "     Wednesday      2014/07/02      12:20:00          No   \n",
       "...                        ...           ...         ...   \n",
       "2018 Thursday       2018/11/02      14:30:00          No   \n",
       "     Sunday         2018/01/15      15:00:00          No   \n",
       "2019 Wednesday      2019/01/17      12:30:00          No   \n",
       "     Tuesday        2019/03/27      17:59:00          No   \n",
       "2018 Friday         2018/05/12      12:00:00          No   \n",
       "\n",
       "                                      ACCIDENT_TYPE  \\\n",
       "YEAR DAY_OF_WEEK                                      \n",
       "2014 Monday                  Collision with vehicle   \n",
       "     Wednesday               Collision with vehicle   \n",
       "     Wednesday               Collision with vehicle   \n",
       "     Wednesday               Collision with vehicle   \n",
       "     Wednesday        Collision with a fixed object   \n",
       "...                                             ...   \n",
       "2018 Thursday                Collision with vehicle   \n",
       "     Sunday                  Collision with vehicle   \n",
       "2019 Wednesday                    Struck Pedestrian   \n",
       "     Tuesday      No collision and no object struck   \n",
       "2018 Friday                  Collision with vehicle   \n",
       "\n",
       "                                                           DCA_CODE  \\\n",
       "YEAR DAY_OF_WEEK                                                      \n",
       "2014 Monday                                           RIGHT THROUGH   \n",
       "     Wednesday                                               U TURN   \n",
       "     Wednesday                    CROSS TRAFFIC(INTERSECTIONS ONLY)   \n",
       "     Wednesday                                        RIGHT THROUGH   \n",
       "     Wednesday            OFF RIGHT BEND INTO OBJECT/PARKED VEHICLE   \n",
       "...                                                             ...   \n",
       "2018 Thursday                       REAR END(VEHICLES IN SAME LANE)   \n",
       "     Sunday                       CROSS TRAFFIC(INTERSECTIONS ONLY)   \n",
       "2019 Wednesday                                  PARKED CAR RUN AWAY   \n",
       "     Tuesday      UNKNOWN-NO DETAILS ON MANOEUVRES OF ROAD-USERS...   \n",
       "2018 Friday                       CROSS TRAFFIC(INTERSECTIONS ONLY)   \n",
       "\n",
       "                 HIT_RUN_FLAG        LIGHT_CONDITION  ... MOTORCYCLE  \\\n",
       "YEAR DAY_OF_WEEK                                      ...              \n",
       "2014 Monday                No                    Day  ...        0.0   \n",
       "     Wednesday             No  Dark Street lights on  ...        0.0   \n",
       "     Wednesday            Yes                   Unk.  ...        0.0   \n",
       "     Wednesday             No                    Day  ...        0.0   \n",
       "     Wednesday             No                    Day  ...        1.0   \n",
       "...                       ...                    ...  ...        ...   \n",
       "2018 Thursday              No                    Day  ...        0.0   \n",
       "     Sunday                No                   Unk.  ...        0.0   \n",
       "2019 Wednesday             No                    Day  ...        0.0   \n",
       "     Tuesday               No                   Unk.  ...        0.0   \n",
       "2018 Friday                No                    Day  ...        0.0   \n",
       "\n",
       "                 PUBLICVEHICLE           DEG_URBAN_NAME  \\\n",
       "YEAR DAY_OF_WEEK                                          \n",
       "2014 Monday                0.0                    TOWNS   \n",
       "     Wednesday             0.0               MELB_URBAN   \n",
       "     Wednesday             0.0               MELB_URBAN   \n",
       "     Wednesday             0.0               MELB_URBAN   \n",
       "     Wednesday             0.0               MELB_URBAN   \n",
       "...                        ...                      ...   \n",
       "2018 Thursday              0.0               MELB_URBAN   \n",
       "     Sunday                0.0           RURAL_VICTORIA   \n",
       "2019 Wednesday             0.0  LARGE_PROVINCIAL_CITIES   \n",
       "     Tuesday               1.0               MELB_URBAN   \n",
       "2018 Friday                0.0               MELB_URBAN   \n",
       "\n",
       "                            DEG_URBAN_ALL  LGA_NAME_ALL  \\\n",
       "YEAR DAY_OF_WEEK                                          \n",
       "2014 Monday                         TOWNS      MITCHELL   \n",
       "     Wednesday                 MELB_URBAN    WHITTLESEA   \n",
       "     Wednesday                 MELB_URBAN       WYNDHAM   \n",
       "     Wednesday                 MELB_URBAN       WYNDHAM   \n",
       "     Wednesday                 MELB_URBAN  PORT PHILLIP   \n",
       "...                                   ...           ...   \n",
       "2018 Thursday                  MELB_URBAN    WHITTLESEA   \n",
       "     Sunday                RURAL_VICTORIA       WYNDHAM   \n",
       "2019 Wednesday    LARGE_PROVINCIAL_CITIES       GEELONG   \n",
       "     Tuesday                   MELB_URBAN   STONNINGTON   \n",
       "2018 Friday                    MELB_URBAN       DAREBIN   \n",
       "\n",
       "                                 REGION_NAME_ALL               RMA  \\\n",
       "YEAR DAY_OF_WEEK                                                     \n",
       "2014 Monday                      NORTHERN REGION  Arterial Highway   \n",
       "     Wednesday    METROPOLITAN NORTH WEST REGION    Arterial Other   \n",
       "     Wednesday    METROPOLITAN NORTH WEST REGION    Arterial Other   \n",
       "     Wednesday    METROPOLITAN NORTH WEST REGION    Arterial Other   \n",
       "     Wednesday    METROPOLITAN NORTH WEST REGION        Local Road   \n",
       "...                                          ...               ...   \n",
       "2018 Thursday     METROPOLITAN NORTH WEST REGION        Local Road   \n",
       "     Sunday       METROPOLITAN NORTH WEST REGION        Local Road   \n",
       "2019 Wednesday              SOUTH WESTERN REGION        Local Road   \n",
       "     Tuesday      METROPOLITAN SOUTH EAST REGION    Arterial Other   \n",
       "2018 Friday       METROPOLITAN NORTH WEST REGION        Local Road   \n",
       "\n",
       "                 STAT_DIV_NAME MONTH  DAY  \n",
       "YEAR DAY_OF_WEEK                           \n",
       "2014 Monday            Country    07   01  \n",
       "     Wednesday           Metro    07   02  \n",
       "     Wednesday           Metro    07   02  \n",
       "     Wednesday           Metro    07   02  \n",
       "     Wednesday           Metro    07   02  \n",
       "...                        ...   ...  ...  \n",
       "2018 Thursday            Metro    11   02  \n",
       "     Sunday              Metro    01   15  \n",
       "2019 Wednesday         Country    01   17  \n",
       "     Tuesday             Metro    03   27  \n",
       "2018 Friday              Metro    05   12  \n",
       "\n",
       "[71003 rows x 53 columns]"
      ]
     },
     "execution_count": 28,
     "metadata": {},
     "output_type": "execute_result"
    }
   ],
   "source": [
    "crashes.set_index(['YEAR',\"DAY_OF_WEEK\"])"
   ]
  },
  {
   "cell_type": "code",
   "execution_count": null,
   "id": "bbb9c670",
   "metadata": {},
   "outputs": [],
   "source": []
  }
 ],
 "metadata": {
  "kernelspec": {
   "display_name": "Python 3",
   "language": "python",
   "name": "python3"
  },
  "language_info": {
   "codemirror_mode": {
    "name": "ipython",
    "version": 3
   },
   "file_extension": ".py",
   "mimetype": "text/x-python",
   "name": "python",
   "nbconvert_exporter": "python",
   "pygments_lexer": "ipython3",
   "version": "3.8.2"
  }
 },
 "nbformat": 4,
 "nbformat_minor": 5
}
