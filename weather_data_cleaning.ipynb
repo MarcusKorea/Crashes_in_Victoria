{
 "cells": [
  {
   "cell_type": "code",
   "execution_count": 129,
   "id": "09d312d2",
   "metadata": {},
   "outputs": [],
   "source": [
    "# Dependencies and setup\n",
    "import pandas as pd\n",
    "import datetime"
   ]
  },
  {
   "cell_type": "markdown",
   "id": "76651681",
   "metadata": {},
   "source": [
    "## Melbourne Weather - Data Cleaning"
   ]
  },
  {
   "cell_type": "markdown",
   "id": "14af7f6d",
   "metadata": {},
   "source": [
    "### Daily Total Rainfall"
   ]
  },
  {
   "cell_type": "code",
   "execution_count": 96,
   "id": "6ed3ad8f",
   "metadata": {},
   "outputs": [
    {
     "data": {
      "text/html": [
       "<div>\n",
       "<style scoped>\n",
       "    .dataframe tbody tr th:only-of-type {\n",
       "        vertical-align: middle;\n",
       "    }\n",
       "\n",
       "    .dataframe tbody tr th {\n",
       "        vertical-align: top;\n",
       "    }\n",
       "\n",
       "    .dataframe thead th {\n",
       "        text-align: right;\n",
       "    }\n",
       "</style>\n",
       "<table border=\"1\" class=\"dataframe\">\n",
       "  <thead>\n",
       "    <tr style=\"text-align: right;\">\n",
       "      <th></th>\n",
       "      <th>Product code</th>\n",
       "      <th>Bureau of Meteorology station number</th>\n",
       "      <th>Year</th>\n",
       "      <th>Month</th>\n",
       "      <th>Day</th>\n",
       "      <th>Rainfall amount (millimetres)</th>\n",
       "      <th>Period over which rainfall was measured (days)</th>\n",
       "      <th>Quality</th>\n",
       "    </tr>\n",
       "  </thead>\n",
       "  <tbody>\n",
       "    <tr>\n",
       "      <th>0</th>\n",
       "      <td>IDCJAC0009</td>\n",
       "      <td>86338</td>\n",
       "      <td>2013</td>\n",
       "      <td>1</td>\n",
       "      <td>1</td>\n",
       "      <td>NaN</td>\n",
       "      <td>NaN</td>\n",
       "      <td>NaN</td>\n",
       "    </tr>\n",
       "    <tr>\n",
       "      <th>1</th>\n",
       "      <td>IDCJAC0009</td>\n",
       "      <td>86338</td>\n",
       "      <td>2013</td>\n",
       "      <td>1</td>\n",
       "      <td>2</td>\n",
       "      <td>NaN</td>\n",
       "      <td>NaN</td>\n",
       "      <td>NaN</td>\n",
       "    </tr>\n",
       "    <tr>\n",
       "      <th>2</th>\n",
       "      <td>IDCJAC0009</td>\n",
       "      <td>86338</td>\n",
       "      <td>2013</td>\n",
       "      <td>1</td>\n",
       "      <td>3</td>\n",
       "      <td>NaN</td>\n",
       "      <td>NaN</td>\n",
       "      <td>NaN</td>\n",
       "    </tr>\n",
       "    <tr>\n",
       "      <th>3</th>\n",
       "      <td>IDCJAC0009</td>\n",
       "      <td>86338</td>\n",
       "      <td>2013</td>\n",
       "      <td>1</td>\n",
       "      <td>4</td>\n",
       "      <td>NaN</td>\n",
       "      <td>NaN</td>\n",
       "      <td>NaN</td>\n",
       "    </tr>\n",
       "    <tr>\n",
       "      <th>4</th>\n",
       "      <td>IDCJAC0009</td>\n",
       "      <td>86338</td>\n",
       "      <td>2013</td>\n",
       "      <td>1</td>\n",
       "      <td>5</td>\n",
       "      <td>NaN</td>\n",
       "      <td>NaN</td>\n",
       "      <td>NaN</td>\n",
       "    </tr>\n",
       "  </tbody>\n",
       "</table>\n",
       "</div>"
      ],
      "text/plain": [
       "  Product code  Bureau of Meteorology station number  Year  Month  Day  \\\n",
       "0   IDCJAC0009                                 86338  2013      1    1   \n",
       "1   IDCJAC0009                                 86338  2013      1    2   \n",
       "2   IDCJAC0009                                 86338  2013      1    3   \n",
       "3   IDCJAC0009                                 86338  2013      1    4   \n",
       "4   IDCJAC0009                                 86338  2013      1    5   \n",
       "\n",
       "   Rainfall amount (millimetres)  \\\n",
       "0                            NaN   \n",
       "1                            NaN   \n",
       "2                            NaN   \n",
       "3                            NaN   \n",
       "4                            NaN   \n",
       "\n",
       "   Period over which rainfall was measured (days) Quality  \n",
       "0                                             NaN     NaN  \n",
       "1                                             NaN     NaN  \n",
       "2                                             NaN     NaN  \n",
       "3                                             NaN     NaN  \n",
       "4                                             NaN     NaN  "
      ]
     },
     "execution_count": 96,
     "metadata": {},
     "output_type": "execute_result"
    }
   ],
   "source": [
    "# Read the raw data files and view data\n",
    "melbourne_rainfall_path = \"raw_data/melbourne_weather/IDCJAC0009_086338_1800_Data.csv\"\n",
    "melb_rainfall_data = pd.read_csv(melbourne_rainfall_path)\n",
    "melb_rainfall_data.head()"
   ]
  },
  {
   "cell_type": "code",
   "execution_count": 97,
   "id": "0bbfb5e4",
   "metadata": {},
   "outputs": [
    {
     "name": "stdout",
     "output_type": "stream",
     "text": [
      "<class 'pandas.core.frame.DataFrame'>\n",
      "RangeIndex: 3183 entries, 0 to 3182\n",
      "Data columns (total 8 columns):\n",
      " #   Column                                          Non-Null Count  Dtype  \n",
      "---  ------                                          --------------  -----  \n",
      " 0   Product code                                    3183 non-null   object \n",
      " 1   Bureau of Meteorology station number            3183 non-null   int64  \n",
      " 2   Year                                            3183 non-null   int64  \n",
      " 3   Month                                           3183 non-null   int64  \n",
      " 4   Day                                             3183 non-null   int64  \n",
      " 5   Rainfall amount (millimetres)                   3026 non-null   float64\n",
      " 6   Period over which rainfall was measured (days)  3025 non-null   float64\n",
      " 7   Quality                                         3026 non-null   object \n",
      "dtypes: float64(2), int64(4), object(2)\n",
      "memory usage: 199.1+ KB\n"
     ]
    }
   ],
   "source": [
    "# Check data characteristics (ensure that numeric columns are integer - they are so no change required)\n",
    "melb_rainfall_data.info()"
   ]
  },
  {
   "cell_type": "code",
   "execution_count": 98,
   "id": "cf36c66f",
   "metadata": {},
   "outputs": [
    {
     "data": {
      "text/html": [
       "<div>\n",
       "<style scoped>\n",
       "    .dataframe tbody tr th:only-of-type {\n",
       "        vertical-align: middle;\n",
       "    }\n",
       "\n",
       "    .dataframe tbody tr th {\n",
       "        vertical-align: top;\n",
       "    }\n",
       "\n",
       "    .dataframe thead th {\n",
       "        text-align: right;\n",
       "    }\n",
       "</style>\n",
       "<table border=\"1\" class=\"dataframe\">\n",
       "  <thead>\n",
       "    <tr style=\"text-align: right;\">\n",
       "      <th></th>\n",
       "      <th>Year</th>\n",
       "      <th>Month</th>\n",
       "      <th>Day</th>\n",
       "      <th>Rainfall amount (millimetres)</th>\n",
       "    </tr>\n",
       "  </thead>\n",
       "  <tbody>\n",
       "    <tr>\n",
       "      <th>152</th>\n",
       "      <td>2013</td>\n",
       "      <td>6</td>\n",
       "      <td>2</td>\n",
       "      <td>5.0</td>\n",
       "    </tr>\n",
       "    <tr>\n",
       "      <th>153</th>\n",
       "      <td>2013</td>\n",
       "      <td>6</td>\n",
       "      <td>3</td>\n",
       "      <td>0.2</td>\n",
       "    </tr>\n",
       "    <tr>\n",
       "      <th>154</th>\n",
       "      <td>2013</td>\n",
       "      <td>6</td>\n",
       "      <td>4</td>\n",
       "      <td>0.2</td>\n",
       "    </tr>\n",
       "    <tr>\n",
       "      <th>155</th>\n",
       "      <td>2013</td>\n",
       "      <td>6</td>\n",
       "      <td>5</td>\n",
       "      <td>0.0</td>\n",
       "    </tr>\n",
       "    <tr>\n",
       "      <th>156</th>\n",
       "      <td>2013</td>\n",
       "      <td>6</td>\n",
       "      <td>6</td>\n",
       "      <td>0.0</td>\n",
       "    </tr>\n",
       "  </tbody>\n",
       "</table>\n",
       "</div>"
      ],
      "text/plain": [
       "     Year  Month  Day  Rainfall amount (millimetres)\n",
       "152  2013      6    2                            5.0\n",
       "153  2013      6    3                            0.2\n",
       "154  2013      6    4                            0.2\n",
       "155  2013      6    5                            0.0\n",
       "156  2013      6    6                            0.0"
      ]
     },
     "execution_count": 98,
     "metadata": {},
     "output_type": "execute_result"
    }
   ],
   "source": [
    "# Delete extraneous columns (\"Product code\",\"Bureau of Meteorology station number\",\"Period over which rainfall was measured (days)\",\"Quality\")\n",
    "del melb_rainfall_data[\"Product code\"]\n",
    "del melb_rainfall_data[\"Bureau of Meteorology station number\"]\n",
    "del melb_rainfall_data[\"Period over which rainfall was measured (days)\"]\n",
    "del melb_rainfall_data[\"Quality\"]\n",
    "\n",
    "# Remove rows containing NaN\n",
    "melb_rainfall_data_clean=melb_rainfall_data.dropna()\n",
    "\n",
    "\n",
    "melb_rainfall_data_clean.head()"
   ]
  },
  {
   "cell_type": "code",
   "execution_count": 99,
   "id": "8e10fc0f",
   "metadata": {},
   "outputs": [
    {
     "data": {
      "text/plain": [
       "Year                             3026\n",
       "Month                            3026\n",
       "Day                              3026\n",
       "Rainfall amount (millimetres)    3026\n",
       "dtype: int64"
      ]
     },
     "execution_count": 99,
     "metadata": {},
     "output_type": "execute_result"
    }
   ],
   "source": [
    "# Check for any incomplete rows\n",
    "melb_rainfall_data_clean.count()"
   ]
  },
  {
   "cell_type": "code",
   "execution_count": 100,
   "id": "f30c7a30",
   "metadata": {},
   "outputs": [
    {
     "data": {
      "text/plain": [
       "2016    366\n",
       "2020    366\n",
       "2014    365\n",
       "2017    365\n",
       "2019    365\n",
       "2015    364\n",
       "2018    363\n",
       "2021    259\n",
       "2013    213\n",
       "Name: Year, dtype: int64"
      ]
     },
     "execution_count": 100,
     "metadata": {},
     "output_type": "execute_result"
    }
   ],
   "source": [
    "# Check for missing days\n",
    "melb_rainfall_data_clean[\"Year\"].value_counts()\n",
    "\n",
    "# Need years 2014-2019 for analysis. Out of these years, 2014 is complete, 2015 is one day short, 2016 is complete (leap year=366d), \n",
    "# 2017 is complete, 2018 is two days short, 2019 is complete. Note:to check for NaN values when this data is merged with \n",
    "# another dataset."
   ]
  },
  {
   "cell_type": "code",
   "execution_count": 101,
   "id": "1fe59b84",
   "metadata": {},
   "outputs": [
    {
     "data": {
      "text/plain": [
       "count    3026.000000\n",
       "mean        1.508328\n",
       "std         4.281743\n",
       "min         0.000000\n",
       "25%         0.000000\n",
       "50%         0.000000\n",
       "75%         0.800000\n",
       "max        54.600000\n",
       "Name: Rainfall amount (millimetres), dtype: float64"
      ]
     },
     "execution_count": 101,
     "metadata": {},
     "output_type": "execute_result"
    }
   ],
   "source": [
    "# Check rainfall data values reasonable (no outliers).\n",
    "melb_rainfall_data_clean[\"Rainfall amount (millimetres)\"].describe()\n",
    "\n",
    "# a max of 54.6mm rainfall is a reasonable number, no negative rainfall numbers (minimum = 0 mm)."
   ]
  },
  {
   "cell_type": "markdown",
   "id": "df110273",
   "metadata": {},
   "source": [
    "### Max. Daily Temperature"
   ]
  },
  {
   "cell_type": "code",
   "execution_count": 102,
   "id": "f43aa544",
   "metadata": {},
   "outputs": [
    {
     "data": {
      "text/html": [
       "<div>\n",
       "<style scoped>\n",
       "    .dataframe tbody tr th:only-of-type {\n",
       "        vertical-align: middle;\n",
       "    }\n",
       "\n",
       "    .dataframe tbody tr th {\n",
       "        vertical-align: top;\n",
       "    }\n",
       "\n",
       "    .dataframe thead th {\n",
       "        text-align: right;\n",
       "    }\n",
       "</style>\n",
       "<table border=\"1\" class=\"dataframe\">\n",
       "  <thead>\n",
       "    <tr style=\"text-align: right;\">\n",
       "      <th></th>\n",
       "      <th>Product code</th>\n",
       "      <th>Bureau of Meteorology station number</th>\n",
       "      <th>Year</th>\n",
       "      <th>Month</th>\n",
       "      <th>Day</th>\n",
       "      <th>Maximum temperature (Degree C)</th>\n",
       "      <th>Days of accumulation of maximum temperature</th>\n",
       "      <th>Quality</th>\n",
       "    </tr>\n",
       "  </thead>\n",
       "  <tbody>\n",
       "    <tr>\n",
       "      <th>0</th>\n",
       "      <td>IDCJAC0010</td>\n",
       "      <td>86338</td>\n",
       "      <td>2013</td>\n",
       "      <td>1</td>\n",
       "      <td>1</td>\n",
       "      <td>NaN</td>\n",
       "      <td>NaN</td>\n",
       "      <td>NaN</td>\n",
       "    </tr>\n",
       "    <tr>\n",
       "      <th>1</th>\n",
       "      <td>IDCJAC0010</td>\n",
       "      <td>86338</td>\n",
       "      <td>2013</td>\n",
       "      <td>1</td>\n",
       "      <td>2</td>\n",
       "      <td>NaN</td>\n",
       "      <td>NaN</td>\n",
       "      <td>NaN</td>\n",
       "    </tr>\n",
       "    <tr>\n",
       "      <th>2</th>\n",
       "      <td>IDCJAC0010</td>\n",
       "      <td>86338</td>\n",
       "      <td>2013</td>\n",
       "      <td>1</td>\n",
       "      <td>3</td>\n",
       "      <td>NaN</td>\n",
       "      <td>NaN</td>\n",
       "      <td>NaN</td>\n",
       "    </tr>\n",
       "    <tr>\n",
       "      <th>3</th>\n",
       "      <td>IDCJAC0010</td>\n",
       "      <td>86338</td>\n",
       "      <td>2013</td>\n",
       "      <td>1</td>\n",
       "      <td>4</td>\n",
       "      <td>NaN</td>\n",
       "      <td>NaN</td>\n",
       "      <td>NaN</td>\n",
       "    </tr>\n",
       "    <tr>\n",
       "      <th>4</th>\n",
       "      <td>IDCJAC0010</td>\n",
       "      <td>86338</td>\n",
       "      <td>2013</td>\n",
       "      <td>1</td>\n",
       "      <td>5</td>\n",
       "      <td>NaN</td>\n",
       "      <td>NaN</td>\n",
       "      <td>NaN</td>\n",
       "    </tr>\n",
       "  </tbody>\n",
       "</table>\n",
       "</div>"
      ],
      "text/plain": [
       "  Product code  Bureau of Meteorology station number  Year  Month  Day  \\\n",
       "0   IDCJAC0010                                 86338  2013      1    1   \n",
       "1   IDCJAC0010                                 86338  2013      1    2   \n",
       "2   IDCJAC0010                                 86338  2013      1    3   \n",
       "3   IDCJAC0010                                 86338  2013      1    4   \n",
       "4   IDCJAC0010                                 86338  2013      1    5   \n",
       "\n",
       "   Maximum temperature (Degree C)  \\\n",
       "0                             NaN   \n",
       "1                             NaN   \n",
       "2                             NaN   \n",
       "3                             NaN   \n",
       "4                             NaN   \n",
       "\n",
       "   Days of accumulation of maximum temperature Quality  \n",
       "0                                          NaN     NaN  \n",
       "1                                          NaN     NaN  \n",
       "2                                          NaN     NaN  \n",
       "3                                          NaN     NaN  \n",
       "4                                          NaN     NaN  "
      ]
     },
     "execution_count": 102,
     "metadata": {},
     "output_type": "execute_result"
    }
   ],
   "source": [
    "# Read the raw data files and view data\n",
    "melbourne_temperature_path = \"raw_data/melbourne_weather/IDCJAC0010_086338_1800_Data.csv\"\n",
    "melb_temperature_data = pd.read_csv(melbourne_temperature_path)\n",
    "melb_temperature_data.head()"
   ]
  },
  {
   "cell_type": "code",
   "execution_count": 103,
   "id": "e155d818",
   "metadata": {},
   "outputs": [
    {
     "name": "stdout",
     "output_type": "stream",
     "text": [
      "<class 'pandas.core.frame.DataFrame'>\n",
      "RangeIndex: 3182 entries, 0 to 3181\n",
      "Data columns (total 8 columns):\n",
      " #   Column                                       Non-Null Count  Dtype  \n",
      "---  ------                                       --------------  -----  \n",
      " 0   Product code                                 3182 non-null   object \n",
      " 1   Bureau of Meteorology station number         3182 non-null   int64  \n",
      " 2   Year                                         3182 non-null   int64  \n",
      " 3   Month                                        3182 non-null   int64  \n",
      " 4   Day                                          3182 non-null   int64  \n",
      " 5   Maximum temperature (Degree C)               3030 non-null   float64\n",
      " 6   Days of accumulation of maximum temperature  3030 non-null   float64\n",
      " 7   Quality                                      3029 non-null   object \n",
      "dtypes: float64(2), int64(4), object(2)\n",
      "memory usage: 199.0+ KB\n"
     ]
    }
   ],
   "source": [
    "# Check data characteristics (ensure that numeric columns are integer - all ok)\n",
    "melb_temperature_data.info()"
   ]
  },
  {
   "cell_type": "code",
   "execution_count": 104,
   "id": "81e10bfd",
   "metadata": {},
   "outputs": [
    {
     "data": {
      "text/plain": [
       "1.0    3030\n",
       "Name: Days of accumulation of maximum temperature, dtype: int64"
      ]
     },
     "execution_count": 104,
     "metadata": {},
     "output_type": "execute_result"
    }
   ],
   "source": [
    "# Check if days of accumulation of maximum temperature\n",
    "melb_temperature_data[\"Days of accumulation of maximum temperature\"].value_counts()\n",
    "\n",
    "# No accumulated temperature values in data set - no data correction required and so column can be removed in next step."
   ]
  },
  {
   "cell_type": "code",
   "execution_count": 105,
   "id": "c92ec1bd",
   "metadata": {},
   "outputs": [
    {
     "data": {
      "text/html": [
       "<div>\n",
       "<style scoped>\n",
       "    .dataframe tbody tr th:only-of-type {\n",
       "        vertical-align: middle;\n",
       "    }\n",
       "\n",
       "    .dataframe tbody tr th {\n",
       "        vertical-align: top;\n",
       "    }\n",
       "\n",
       "    .dataframe thead th {\n",
       "        text-align: right;\n",
       "    }\n",
       "</style>\n",
       "<table border=\"1\" class=\"dataframe\">\n",
       "  <thead>\n",
       "    <tr style=\"text-align: right;\">\n",
       "      <th></th>\n",
       "      <th>Year</th>\n",
       "      <th>Month</th>\n",
       "      <th>Day</th>\n",
       "      <th>Maximum temperature (Degree C)</th>\n",
       "    </tr>\n",
       "  </thead>\n",
       "  <tbody>\n",
       "    <tr>\n",
       "      <th>151</th>\n",
       "      <td>2013</td>\n",
       "      <td>6</td>\n",
       "      <td>1</td>\n",
       "      <td>15.8</td>\n",
       "    </tr>\n",
       "    <tr>\n",
       "      <th>152</th>\n",
       "      <td>2013</td>\n",
       "      <td>6</td>\n",
       "      <td>2</td>\n",
       "      <td>15.7</td>\n",
       "    </tr>\n",
       "    <tr>\n",
       "      <th>153</th>\n",
       "      <td>2013</td>\n",
       "      <td>6</td>\n",
       "      <td>3</td>\n",
       "      <td>14.8</td>\n",
       "    </tr>\n",
       "    <tr>\n",
       "      <th>154</th>\n",
       "      <td>2013</td>\n",
       "      <td>6</td>\n",
       "      <td>4</td>\n",
       "      <td>15.0</td>\n",
       "    </tr>\n",
       "    <tr>\n",
       "      <th>155</th>\n",
       "      <td>2013</td>\n",
       "      <td>6</td>\n",
       "      <td>5</td>\n",
       "      <td>14.6</td>\n",
       "    </tr>\n",
       "  </tbody>\n",
       "</table>\n",
       "</div>"
      ],
      "text/plain": [
       "     Year  Month  Day  Maximum temperature (Degree C)\n",
       "151  2013      6    1                            15.8\n",
       "152  2013      6    2                            15.7\n",
       "153  2013      6    3                            14.8\n",
       "154  2013      6    4                            15.0\n",
       "155  2013      6    5                            14.6"
      ]
     },
     "execution_count": 105,
     "metadata": {},
     "output_type": "execute_result"
    }
   ],
   "source": [
    "# Delete extraneous columns (\"Product code\",\"Bureau of Meteorology station number\",\"Quality\")\n",
    "del melb_temperature_data[\"Product code\"]\n",
    "del melb_temperature_data[\"Bureau of Meteorology station number\"]\n",
    "del melb_temperature_data[\"Days of accumulation of maximum temperature\"]\n",
    "del melb_temperature_data[\"Quality\"]\n",
    "\n",
    "# Remove rows containing NaN\n",
    "melb_temperature_data_clean=melb_temperature_data.dropna()\n",
    "\n",
    "melb_temperature_data_clean.head()"
   ]
  },
  {
   "cell_type": "code",
   "execution_count": 106,
   "id": "accb7fee",
   "metadata": {},
   "outputs": [
    {
     "data": {
      "text/plain": [
       "2016    366\n",
       "2020    366\n",
       "2014    365\n",
       "2018    365\n",
       "2015    365\n",
       "2017    365\n",
       "2019    365\n",
       "2021    259\n",
       "2013    214\n",
       "Name: Year, dtype: int64"
      ]
     },
     "execution_count": 106,
     "metadata": {},
     "output_type": "execute_result"
    }
   ],
   "source": [
    "# Check for missing days\n",
    "melb_temperature_data_clean[\"Year\"].value_counts()\n",
    "\n",
    "# Need years 2014-2019 for analysis. Out of these years, no missing days (2016 is a leap year with 366 days). \n",
    "# So when merging datasets, use this one as a base."
   ]
  },
  {
   "cell_type": "code",
   "execution_count": 107,
   "id": "388ff304",
   "metadata": {},
   "outputs": [
    {
     "data": {
      "text/plain": [
       "count    3030.000000\n",
       "mean       20.299769\n",
       "std         6.117367\n",
       "min         9.000000\n",
       "25%        15.600000\n",
       "50%        19.000000\n",
       "75%        23.700000\n",
       "max        43.500000\n",
       "Name: Maximum temperature (Degree C), dtype: float64"
      ]
     },
     "execution_count": 107,
     "metadata": {},
     "output_type": "execute_result"
    }
   ],
   "source": [
    "# Check maximum temperature data values reasonable (no outliers).\n",
    "melb_temperature_data_clean[\"Maximum temperature (Degree C)\"].describe()\n",
    "\n",
    "# a mean of 20 deg C, a max of 43.5 deg C and min of 6.1 deg C is reasonable for Melbourne weather."
   ]
  },
  {
   "cell_type": "markdown",
   "id": "1d97b401",
   "metadata": {},
   "source": [
    "### Merge the two Melbourne weather dataframes"
   ]
  },
  {
   "cell_type": "code",
   "execution_count": 143,
   "id": "123606c9",
   "metadata": {},
   "outputs": [
    {
     "data": {
      "text/html": [
       "<div>\n",
       "<style scoped>\n",
       "    .dataframe tbody tr th:only-of-type {\n",
       "        vertical-align: middle;\n",
       "    }\n",
       "\n",
       "    .dataframe tbody tr th {\n",
       "        vertical-align: top;\n",
       "    }\n",
       "\n",
       "    .dataframe thead th {\n",
       "        text-align: right;\n",
       "    }\n",
       "</style>\n",
       "<table border=\"1\" class=\"dataframe\">\n",
       "  <thead>\n",
       "    <tr style=\"text-align: right;\">\n",
       "      <th></th>\n",
       "      <th>Year</th>\n",
       "      <th>Month</th>\n",
       "      <th>Day</th>\n",
       "      <th>Rainfall amount (millimetres)</th>\n",
       "      <th>Maximum temperature (Degree C)</th>\n",
       "    </tr>\n",
       "  </thead>\n",
       "  <tbody>\n",
       "    <tr>\n",
       "      <th>0</th>\n",
       "      <td>2013</td>\n",
       "      <td>6</td>\n",
       "      <td>1</td>\n",
       "      <td>NaN</td>\n",
       "      <td>15.8</td>\n",
       "    </tr>\n",
       "    <tr>\n",
       "      <th>1</th>\n",
       "      <td>2013</td>\n",
       "      <td>6</td>\n",
       "      <td>2</td>\n",
       "      <td>5.0</td>\n",
       "      <td>15.7</td>\n",
       "    </tr>\n",
       "    <tr>\n",
       "      <th>2</th>\n",
       "      <td>2013</td>\n",
       "      <td>6</td>\n",
       "      <td>3</td>\n",
       "      <td>0.2</td>\n",
       "      <td>14.8</td>\n",
       "    </tr>\n",
       "    <tr>\n",
       "      <th>3</th>\n",
       "      <td>2013</td>\n",
       "      <td>6</td>\n",
       "      <td>4</td>\n",
       "      <td>0.2</td>\n",
       "      <td>15.0</td>\n",
       "    </tr>\n",
       "    <tr>\n",
       "      <th>4</th>\n",
       "      <td>2013</td>\n",
       "      <td>6</td>\n",
       "      <td>5</td>\n",
       "      <td>0.0</td>\n",
       "      <td>14.6</td>\n",
       "    </tr>\n",
       "  </tbody>\n",
       "</table>\n",
       "</div>"
      ],
      "text/plain": [
       "   Year  Month  Day  Rainfall amount (millimetres)  \\\n",
       "0  2013      6    1                            NaN   \n",
       "1  2013      6    2                            5.0   \n",
       "2  2013      6    3                            0.2   \n",
       "3  2013      6    4                            0.2   \n",
       "4  2013      6    5                            0.0   \n",
       "\n",
       "   Maximum temperature (Degree C)  \n",
       "0                            15.8  \n",
       "1                            15.7  \n",
       "2                            14.8  \n",
       "3                            15.0  \n",
       "4                            14.6  "
      ]
     },
     "execution_count": 143,
     "metadata": {},
     "output_type": "execute_result"
    }
   ],
   "source": [
    "# Combine the two Melbourne datasets (rainfall and temperature) into a single Melbourne Weather dataset\n",
    "melbourne_combined_df = pd.merge(melb_rainfall_data_clean, melb_temperature_data_clean,how=\"right\", on=[\"Year\",\"Month\",\"Day\"])\n",
    "\n",
    "# Display the data table for preview\n",
    "melbourne_combined_df.head()"
   ]
  },
  {
   "cell_type": "code",
   "execution_count": 144,
   "id": "2c107d71",
   "metadata": {},
   "outputs": [
    {
     "data": {
      "text/html": [
       "<div>\n",
       "<style scoped>\n",
       "    .dataframe tbody tr th:only-of-type {\n",
       "        vertical-align: middle;\n",
       "    }\n",
       "\n",
       "    .dataframe tbody tr th {\n",
       "        vertical-align: top;\n",
       "    }\n",
       "\n",
       "    .dataframe thead th {\n",
       "        text-align: right;\n",
       "    }\n",
       "</style>\n",
       "<table border=\"1\" class=\"dataframe\">\n",
       "  <thead>\n",
       "    <tr style=\"text-align: right;\">\n",
       "      <th></th>\n",
       "      <th>Year</th>\n",
       "      <th>Month</th>\n",
       "      <th>Day</th>\n",
       "      <th>Rainfall amount (millimetres)</th>\n",
       "      <th>Maximum temperature (Degree C)</th>\n",
       "    </tr>\n",
       "  </thead>\n",
       "  <tbody>\n",
       "    <tr>\n",
       "      <th>0</th>\n",
       "      <td>2013</td>\n",
       "      <td>6</td>\n",
       "      <td>1</td>\n",
       "      <td>NaN</td>\n",
       "      <td>15.8</td>\n",
       "    </tr>\n",
       "    <tr>\n",
       "      <th>740</th>\n",
       "      <td>2015</td>\n",
       "      <td>6</td>\n",
       "      <td>11</td>\n",
       "      <td>NaN</td>\n",
       "      <td>14.0</td>\n",
       "    </tr>\n",
       "    <tr>\n",
       "      <th>1956</th>\n",
       "      <td>2018</td>\n",
       "      <td>10</td>\n",
       "      <td>9</td>\n",
       "      <td>NaN</td>\n",
       "      <td>17.9</td>\n",
       "    </tr>\n",
       "    <tr>\n",
       "      <th>1957</th>\n",
       "      <td>2018</td>\n",
       "      <td>10</td>\n",
       "      <td>10</td>\n",
       "      <td>NaN</td>\n",
       "      <td>16.5</td>\n",
       "    </tr>\n",
       "    <tr>\n",
       "      <th>2959</th>\n",
       "      <td>2021</td>\n",
       "      <td>7</td>\n",
       "      <td>9</td>\n",
       "      <td>NaN</td>\n",
       "      <td>12.0</td>\n",
       "    </tr>\n",
       "  </tbody>\n",
       "</table>\n",
       "</div>"
      ],
      "text/plain": [
       "      Year  Month  Day  Rainfall amount (millimetres)  \\\n",
       "0     2013      6    1                            NaN   \n",
       "740   2015      6   11                            NaN   \n",
       "1956  2018     10    9                            NaN   \n",
       "1957  2018     10   10                            NaN   \n",
       "2959  2021      7    9                            NaN   \n",
       "\n",
       "      Maximum temperature (Degree C)  \n",
       "0                               15.8  \n",
       "740                             14.0  \n",
       "1956                            17.9  \n",
       "1957                            16.5  \n",
       "2959                            12.0  "
      ]
     },
     "execution_count": 144,
     "metadata": {},
     "output_type": "execute_result"
    }
   ],
   "source": [
    "# Find those missing rainfall days identified earlier (expect 1 in 2015, 2 in 2018 and 1 in 2019 out of the years of interest of 2014-2019)\n",
    "melbourne_combined_df.loc[melbourne_combined_df[\"Rainfall amount (millimetres)\"].isna(),:]"
   ]
  },
  {
   "cell_type": "code",
   "execution_count": 145,
   "id": "52579457",
   "metadata": {},
   "outputs": [],
   "source": [
    "# Remove rows containing NaN values in Rainfall column.\n",
    "melbourne_combined_df=melbourne_combined_df.dropna()"
   ]
  },
  {
   "cell_type": "code",
   "execution_count": 146,
   "id": "6a5857cb",
   "metadata": {},
   "outputs": [
    {
     "data": {
      "text/plain": [
       "Year                              3025\n",
       "Month                             3025\n",
       "Day                               3025\n",
       "Rainfall amount (millimetres)     3025\n",
       "Maximum temperature (Degree C)    3025\n",
       "dtype: int64"
      ]
     },
     "execution_count": 146,
     "metadata": {},
     "output_type": "execute_result"
    }
   ],
   "source": [
    "# Confirm no more missing values\n",
    "melbourne_combined_df.count()"
   ]
  },
  {
   "cell_type": "code",
   "execution_count": 150,
   "id": "b3ae4c03",
   "metadata": {},
   "outputs": [
    {
     "data": {
      "text/html": [
       "<div>\n",
       "<style scoped>\n",
       "    .dataframe tbody tr th:only-of-type {\n",
       "        vertical-align: middle;\n",
       "    }\n",
       "\n",
       "    .dataframe tbody tr th {\n",
       "        vertical-align: top;\n",
       "    }\n",
       "\n",
       "    .dataframe thead th {\n",
       "        text-align: right;\n",
       "    }\n",
       "</style>\n",
       "<table border=\"1\" class=\"dataframe\">\n",
       "  <thead>\n",
       "    <tr style=\"text-align: right;\">\n",
       "      <th></th>\n",
       "      <th>Date</th>\n",
       "      <th>Rainfall amount (millimetres)</th>\n",
       "      <th>Maximum temperature (Degree C)</th>\n",
       "    </tr>\n",
       "  </thead>\n",
       "  <tbody>\n",
       "    <tr>\n",
       "      <th>1</th>\n",
       "      <td>2013/06/02</td>\n",
       "      <td>5.0</td>\n",
       "      <td>15.7</td>\n",
       "    </tr>\n",
       "    <tr>\n",
       "      <th>2</th>\n",
       "      <td>2013/06/03</td>\n",
       "      <td>0.2</td>\n",
       "      <td>14.8</td>\n",
       "    </tr>\n",
       "    <tr>\n",
       "      <th>3</th>\n",
       "      <td>2013/06/04</td>\n",
       "      <td>0.2</td>\n",
       "      <td>15.0</td>\n",
       "    </tr>\n",
       "    <tr>\n",
       "      <th>4</th>\n",
       "      <td>2013/06/05</td>\n",
       "      <td>0.0</td>\n",
       "      <td>14.6</td>\n",
       "    </tr>\n",
       "    <tr>\n",
       "      <th>5</th>\n",
       "      <td>2013/06/06</td>\n",
       "      <td>0.0</td>\n",
       "      <td>17.3</td>\n",
       "    </tr>\n",
       "  </tbody>\n",
       "</table>\n",
       "</div>"
      ],
      "text/plain": [
       "         Date  Rainfall amount (millimetres)  Maximum temperature (Degree C)\n",
       "1  2013/06/02                            5.0                            15.7\n",
       "2  2013/06/03                            0.2                            14.8\n",
       "3  2013/06/04                            0.2                            15.0\n",
       "4  2013/06/05                            0.0                            14.6\n",
       "5  2013/06/06                            0.0                            17.3"
      ]
     },
     "execution_count": 150,
     "metadata": {},
     "output_type": "execute_result"
    }
   ],
   "source": [
    "# Concatenate the Year, Month and Day column into a Date column (will be required for future merging with traffic acident DataFrame)\n",
    "melbourne_combined_df[\"dateInt\"]=melbourne_combined_df[\"Year\"].astype(str) + melbourne_combined_df[\"Month\"].astype(str).str.zfill(2)+ melbourne_combined_df[\"Day\"].astype(str).str.zfill(2)\n",
    "melbourne_combined_df[\"Date\"] = pd.to_datetime(melbourne_combined_df[\"dateInt\"], format=\"%Y%m%d\")\n",
    "melbourne_combined_df[\"Date\"] = melbourne_combined_df[\"Date\"].dt.strftime(\"%Y/%m/%d\")\n",
    "\n",
    "# Remove no longer required columns\n",
    "del melbourne_combined_df[\"dateInt\"]\n",
    "del melbourne_combined_df[\"Year\"]\n",
    "del melbourne_combined_df[\"Month\"]\n",
    "del melbourne_combined_df[\"Day\"]\n",
    "\n",
    "# Rearrange columns to desired order\n",
    "melbourne_combined_df = melbourne_combined_df[[\"Date\", \"Rainfall amount (millimetres)\", \"Maximum temperature (Degree C)\"]]\n",
    "\n",
    "melbourne_combined_df.head()"
   ]
  },
  {
   "cell_type": "code",
   "execution_count": 151,
   "id": "e5c17788",
   "metadata": {},
   "outputs": [],
   "source": [
    "# Reset index and send cleaned Melbourne Weather data to CSV in cleaned_data folder\n",
    "melbourne_combined_df.reset_index(drop=True)\n",
    "melbourne_combined_df.head()\n",
    "\n",
    "# Store Melbourne Weather data in CSV file\n",
    "melbourne_combined_df.to_csv(\"cleaned_data/melbourne_weather.csv\",encoding=\"utf-8\",index = False)"
   ]
  },
  {
   "cell_type": "markdown",
   "id": "52a6010e",
   "metadata": {},
   "source": [
    "## Hume Weather - Data Cleaning"
   ]
  },
  {
   "cell_type": "markdown",
   "id": "a989e7df",
   "metadata": {},
   "source": [
    "### Daily Total Rainfall"
   ]
  },
  {
   "cell_type": "code",
   "execution_count": 113,
   "id": "2d7d45d2",
   "metadata": {},
   "outputs": [
    {
     "data": {
      "text/html": [
       "<div>\n",
       "<style scoped>\n",
       "    .dataframe tbody tr th:only-of-type {\n",
       "        vertical-align: middle;\n",
       "    }\n",
       "\n",
       "    .dataframe tbody tr th {\n",
       "        vertical-align: top;\n",
       "    }\n",
       "\n",
       "    .dataframe thead th {\n",
       "        text-align: right;\n",
       "    }\n",
       "</style>\n",
       "<table border=\"1\" class=\"dataframe\">\n",
       "  <thead>\n",
       "    <tr style=\"text-align: right;\">\n",
       "      <th></th>\n",
       "      <th>Product code</th>\n",
       "      <th>Bureau of Meteorology station number</th>\n",
       "      <th>Year</th>\n",
       "      <th>Month</th>\n",
       "      <th>Day</th>\n",
       "      <th>Rainfall amount (millimetres)</th>\n",
       "      <th>Period over which rainfall was measured (days)</th>\n",
       "      <th>Quality</th>\n",
       "    </tr>\n",
       "  </thead>\n",
       "  <tbody>\n",
       "    <tr>\n",
       "      <th>0</th>\n",
       "      <td>IDCJAC0009</td>\n",
       "      <td>86282</td>\n",
       "      <td>1970</td>\n",
       "      <td>1</td>\n",
       "      <td>1</td>\n",
       "      <td>NaN</td>\n",
       "      <td>NaN</td>\n",
       "      <td>NaN</td>\n",
       "    </tr>\n",
       "    <tr>\n",
       "      <th>1</th>\n",
       "      <td>IDCJAC0009</td>\n",
       "      <td>86282</td>\n",
       "      <td>1970</td>\n",
       "      <td>1</td>\n",
       "      <td>2</td>\n",
       "      <td>NaN</td>\n",
       "      <td>NaN</td>\n",
       "      <td>NaN</td>\n",
       "    </tr>\n",
       "    <tr>\n",
       "      <th>2</th>\n",
       "      <td>IDCJAC0009</td>\n",
       "      <td>86282</td>\n",
       "      <td>1970</td>\n",
       "      <td>1</td>\n",
       "      <td>3</td>\n",
       "      <td>NaN</td>\n",
       "      <td>NaN</td>\n",
       "      <td>NaN</td>\n",
       "    </tr>\n",
       "    <tr>\n",
       "      <th>3</th>\n",
       "      <td>IDCJAC0009</td>\n",
       "      <td>86282</td>\n",
       "      <td>1970</td>\n",
       "      <td>1</td>\n",
       "      <td>4</td>\n",
       "      <td>NaN</td>\n",
       "      <td>NaN</td>\n",
       "      <td>NaN</td>\n",
       "    </tr>\n",
       "    <tr>\n",
       "      <th>4</th>\n",
       "      <td>IDCJAC0009</td>\n",
       "      <td>86282</td>\n",
       "      <td>1970</td>\n",
       "      <td>1</td>\n",
       "      <td>5</td>\n",
       "      <td>NaN</td>\n",
       "      <td>NaN</td>\n",
       "      <td>NaN</td>\n",
       "    </tr>\n",
       "  </tbody>\n",
       "</table>\n",
       "</div>"
      ],
      "text/plain": [
       "  Product code  Bureau of Meteorology station number  Year  Month  Day  \\\n",
       "0   IDCJAC0009                                 86282  1970      1    1   \n",
       "1   IDCJAC0009                                 86282  1970      1    2   \n",
       "2   IDCJAC0009                                 86282  1970      1    3   \n",
       "3   IDCJAC0009                                 86282  1970      1    4   \n",
       "4   IDCJAC0009                                 86282  1970      1    5   \n",
       "\n",
       "   Rainfall amount (millimetres)  \\\n",
       "0                            NaN   \n",
       "1                            NaN   \n",
       "2                            NaN   \n",
       "3                            NaN   \n",
       "4                            NaN   \n",
       "\n",
       "   Period over which rainfall was measured (days) Quality  \n",
       "0                                             NaN     NaN  \n",
       "1                                             NaN     NaN  \n",
       "2                                             NaN     NaN  \n",
       "3                                             NaN     NaN  \n",
       "4                                             NaN     NaN  "
      ]
     },
     "execution_count": 113,
     "metadata": {},
     "output_type": "execute_result"
    }
   ],
   "source": [
    "# Read the raw data files and view data\n",
    "hume_rainfall_path = \"raw_data/hume_weather/IDCJAC0009_086282_1800_Data.csv\"\n",
    "hume_rainfall_data = pd.read_csv(hume_rainfall_path)\n",
    "hume_rainfall_data.head()"
   ]
  },
  {
   "cell_type": "code",
   "execution_count": 114,
   "id": "38b871b0",
   "metadata": {},
   "outputs": [
    {
     "name": "stdout",
     "output_type": "stream",
     "text": [
      "<class 'pandas.core.frame.DataFrame'>\n",
      "RangeIndex: 18889 entries, 0 to 18888\n",
      "Data columns (total 8 columns):\n",
      " #   Column                                          Non-Null Count  Dtype  \n",
      "---  ------                                          --------------  -----  \n",
      " 0   Product code                                    18889 non-null  object \n",
      " 1   Bureau of Meteorology station number            18889 non-null  int64  \n",
      " 2   Year                                            18889 non-null  int64  \n",
      " 3   Month                                           18889 non-null  int64  \n",
      " 4   Day                                             18889 non-null  int64  \n",
      " 5   Rainfall amount (millimetres)                   18708 non-null  float64\n",
      " 6   Period over which rainfall was measured (days)  8347 non-null   float64\n",
      " 7   Quality                                         18708 non-null  object \n",
      "dtypes: float64(2), int64(4), object(2)\n",
      "memory usage: 1.2+ MB\n"
     ]
    }
   ],
   "source": [
    "# Check data characteristics (ensure that numeric columns are integer - all ok)\n",
    "hume_rainfall_data.info()"
   ]
  },
  {
   "cell_type": "code",
   "execution_count": 115,
   "id": "214596ac",
   "metadata": {},
   "outputs": [
    {
     "data": {
      "text/plain": [
       "1.0    8347\n",
       "Name: Period over which rainfall was measured (days), dtype: int64"
      ]
     },
     "execution_count": 115,
     "metadata": {},
     "output_type": "execute_result"
    }
   ],
   "source": [
    "# Check if there are days of accumulation of measured rainfall\n",
    "hume_rainfall_data[\"Period over which rainfall was measured (days)\"].value_counts()\n",
    "\n",
    "# There are none, so no action required and column can be removed in next step."
   ]
  },
  {
   "cell_type": "code",
   "execution_count": 116,
   "id": "534d636c",
   "metadata": {},
   "outputs": [
    {
     "data": {
      "text/html": [
       "<div>\n",
       "<style scoped>\n",
       "    .dataframe tbody tr th:only-of-type {\n",
       "        vertical-align: middle;\n",
       "    }\n",
       "\n",
       "    .dataframe tbody tr th {\n",
       "        vertical-align: top;\n",
       "    }\n",
       "\n",
       "    .dataframe thead th {\n",
       "        text-align: right;\n",
       "    }\n",
       "</style>\n",
       "<table border=\"1\" class=\"dataframe\">\n",
       "  <thead>\n",
       "    <tr style=\"text-align: right;\">\n",
       "      <th></th>\n",
       "      <th>Year</th>\n",
       "      <th>Month</th>\n",
       "      <th>Day</th>\n",
       "      <th>Rainfall amount (millimetres)</th>\n",
       "    </tr>\n",
       "  </thead>\n",
       "  <tbody>\n",
       "    <tr>\n",
       "      <th>181</th>\n",
       "      <td>1970</td>\n",
       "      <td>7</td>\n",
       "      <td>1</td>\n",
       "      <td>0.3</td>\n",
       "    </tr>\n",
       "    <tr>\n",
       "      <th>182</th>\n",
       "      <td>1970</td>\n",
       "      <td>7</td>\n",
       "      <td>2</td>\n",
       "      <td>3.0</td>\n",
       "    </tr>\n",
       "    <tr>\n",
       "      <th>183</th>\n",
       "      <td>1970</td>\n",
       "      <td>7</td>\n",
       "      <td>3</td>\n",
       "      <td>0.0</td>\n",
       "    </tr>\n",
       "    <tr>\n",
       "      <th>184</th>\n",
       "      <td>1970</td>\n",
       "      <td>7</td>\n",
       "      <td>4</td>\n",
       "      <td>0.0</td>\n",
       "    </tr>\n",
       "    <tr>\n",
       "      <th>185</th>\n",
       "      <td>1970</td>\n",
       "      <td>7</td>\n",
       "      <td>5</td>\n",
       "      <td>3.6</td>\n",
       "    </tr>\n",
       "  </tbody>\n",
       "</table>\n",
       "</div>"
      ],
      "text/plain": [
       "     Year  Month  Day  Rainfall amount (millimetres)\n",
       "181  1970      7    1                            0.3\n",
       "182  1970      7    2                            3.0\n",
       "183  1970      7    3                            0.0\n",
       "184  1970      7    4                            0.0\n",
       "185  1970      7    5                            3.6"
      ]
     },
     "execution_count": 116,
     "metadata": {},
     "output_type": "execute_result"
    }
   ],
   "source": [
    "# Delete extraneous columns (\"Product code\",\"Bureau of Meteorology station number\",\"Period over which rainfall was measured (days)\",\"Quality\")\n",
    "del hume_rainfall_data[\"Product code\"]\n",
    "del hume_rainfall_data[\"Bureau of Meteorology station number\"]\n",
    "del hume_rainfall_data[\"Period over which rainfall was measured (days)\"]\n",
    "del hume_rainfall_data[\"Quality\"]\n",
    "\n",
    "# Remove rows containing NaN\n",
    "hume_rainfall_data_clean=hume_rainfall_data.dropna()\n",
    "\n",
    "hume_rainfall_data_clean.head()"
   ]
  },
  {
   "cell_type": "code",
   "execution_count": 117,
   "id": "0ef447a1",
   "metadata": {},
   "outputs": [
    {
     "data": {
      "text/plain": [
       "Year                             18708\n",
       "Month                            18708\n",
       "Day                              18708\n",
       "Rainfall amount (millimetres)    18708\n",
       "dtype: int64"
      ]
     },
     "execution_count": 117,
     "metadata": {},
     "output_type": "execute_result"
    }
   ],
   "source": [
    "# Check for any incomplete rows\n",
    "hume_rainfall_data_clean.count()"
   ]
  },
  {
   "cell_type": "code",
   "execution_count": 118,
   "id": "07181000",
   "metadata": {},
   "outputs": [
    {
     "data": {
      "text/plain": [
       "1984    366\n",
       "2012    366\n",
       "1976    366\n",
       "2000    366\n",
       "2020    366\n",
       "2004    366\n",
       "2008    366\n",
       "1972    366\n",
       "1980    366\n",
       "1996    366\n",
       "1988    366\n",
       "1992    366\n",
       "2016    366\n",
       "2010    365\n",
       "1977    365\n",
       "1999    365\n",
       "1993    365\n",
       "2009    365\n",
       "1978    365\n",
       "1994    365\n",
       "1981    365\n",
       "1997    365\n",
       "1995    365\n",
       "2011    365\n",
       "1983    365\n",
       "2014    365\n",
       "1998    365\n",
       "1982    365\n",
       "2013    365\n",
       "1979    365\n",
       "1991    365\n",
       "2007    365\n",
       "1975    365\n",
       "1985    365\n",
       "2001    365\n",
       "2017    365\n",
       "1986    365\n",
       "2002    365\n",
       "2018    365\n",
       "1971    365\n",
       "1987    365\n",
       "2003    365\n",
       "2019    365\n",
       "1973    365\n",
       "1989    365\n",
       "2005    365\n",
       "1974    365\n",
       "1990    365\n",
       "2006    365\n",
       "2015    365\n",
       "2021    261\n",
       "1970    184\n",
       "Name: Year, dtype: int64"
      ]
     },
     "execution_count": 118,
     "metadata": {},
     "output_type": "execute_result"
    }
   ],
   "source": [
    "# Check for missing days\n",
    "hume_rainfall_data_clean[\"Year\"].value_counts()\n",
    "\n",
    "# Need years 2014-2019 for analysis. Out of these years, 2014 is complete, 2015 is complete, 2016 is complete (leap year=266 days), \n",
    "# 2017 is complete, 2018 is complete, 2019 is complete."
   ]
  },
  {
   "cell_type": "code",
   "execution_count": 119,
   "id": "04dd59dd",
   "metadata": {},
   "outputs": [
    {
     "data": {
      "text/plain": [
       "count    18708.000000\n",
       "mean         1.467805\n",
       "std          4.663583\n",
       "min          0.000000\n",
       "25%          0.000000\n",
       "50%          0.000000\n",
       "75%          0.800000\n",
       "max        138.800000\n",
       "Name: Rainfall amount (millimetres), dtype: float64"
      ]
     },
     "execution_count": 119,
     "metadata": {},
     "output_type": "execute_result"
    }
   ],
   "source": [
    "# Check rainfall data values reasonable (no outliers).\n",
    "hume_rainfall_data_clean[\"Rainfall amount (millimetres)\"].describe()\n",
    "\n",
    "# a max of 138.8mm rainfall is a reasonable number, no negative rainfall numbers (minimum = 0 mm)."
   ]
  },
  {
   "cell_type": "markdown",
   "id": "aa670054",
   "metadata": {},
   "source": [
    "### Max. Daily Temperature"
   ]
  },
  {
   "cell_type": "code",
   "execution_count": 120,
   "id": "3636fca4",
   "metadata": {},
   "outputs": [
    {
     "data": {
      "text/html": [
       "<div>\n",
       "<style scoped>\n",
       "    .dataframe tbody tr th:only-of-type {\n",
       "        vertical-align: middle;\n",
       "    }\n",
       "\n",
       "    .dataframe tbody tr th {\n",
       "        vertical-align: top;\n",
       "    }\n",
       "\n",
       "    .dataframe thead th {\n",
       "        text-align: right;\n",
       "    }\n",
       "</style>\n",
       "<table border=\"1\" class=\"dataframe\">\n",
       "  <thead>\n",
       "    <tr style=\"text-align: right;\">\n",
       "      <th></th>\n",
       "      <th>Product code</th>\n",
       "      <th>Bureau of Meteorology station number</th>\n",
       "      <th>Year</th>\n",
       "      <th>Month</th>\n",
       "      <th>Day</th>\n",
       "      <th>Maximum temperature (Degree C)</th>\n",
       "      <th>Days of accumulation of maximum temperature</th>\n",
       "      <th>Quality</th>\n",
       "    </tr>\n",
       "  </thead>\n",
       "  <tbody>\n",
       "    <tr>\n",
       "      <th>0</th>\n",
       "      <td>IDCJAC0010</td>\n",
       "      <td>86282</td>\n",
       "      <td>1970</td>\n",
       "      <td>1</td>\n",
       "      <td>1</td>\n",
       "      <td>NaN</td>\n",
       "      <td>NaN</td>\n",
       "      <td>NaN</td>\n",
       "    </tr>\n",
       "    <tr>\n",
       "      <th>1</th>\n",
       "      <td>IDCJAC0010</td>\n",
       "      <td>86282</td>\n",
       "      <td>1970</td>\n",
       "      <td>1</td>\n",
       "      <td>2</td>\n",
       "      <td>NaN</td>\n",
       "      <td>NaN</td>\n",
       "      <td>NaN</td>\n",
       "    </tr>\n",
       "    <tr>\n",
       "      <th>2</th>\n",
       "      <td>IDCJAC0010</td>\n",
       "      <td>86282</td>\n",
       "      <td>1970</td>\n",
       "      <td>1</td>\n",
       "      <td>3</td>\n",
       "      <td>NaN</td>\n",
       "      <td>NaN</td>\n",
       "      <td>NaN</td>\n",
       "    </tr>\n",
       "    <tr>\n",
       "      <th>3</th>\n",
       "      <td>IDCJAC0010</td>\n",
       "      <td>86282</td>\n",
       "      <td>1970</td>\n",
       "      <td>1</td>\n",
       "      <td>4</td>\n",
       "      <td>NaN</td>\n",
       "      <td>NaN</td>\n",
       "      <td>NaN</td>\n",
       "    </tr>\n",
       "    <tr>\n",
       "      <th>4</th>\n",
       "      <td>IDCJAC0010</td>\n",
       "      <td>86282</td>\n",
       "      <td>1970</td>\n",
       "      <td>1</td>\n",
       "      <td>5</td>\n",
       "      <td>NaN</td>\n",
       "      <td>NaN</td>\n",
       "      <td>NaN</td>\n",
       "    </tr>\n",
       "  </tbody>\n",
       "</table>\n",
       "</div>"
      ],
      "text/plain": [
       "  Product code  Bureau of Meteorology station number  Year  Month  Day  \\\n",
       "0   IDCJAC0010                                 86282  1970      1    1   \n",
       "1   IDCJAC0010                                 86282  1970      1    2   \n",
       "2   IDCJAC0010                                 86282  1970      1    3   \n",
       "3   IDCJAC0010                                 86282  1970      1    4   \n",
       "4   IDCJAC0010                                 86282  1970      1    5   \n",
       "\n",
       "   Maximum temperature (Degree C)  \\\n",
       "0                             NaN   \n",
       "1                             NaN   \n",
       "2                             NaN   \n",
       "3                             NaN   \n",
       "4                             NaN   \n",
       "\n",
       "   Days of accumulation of maximum temperature Quality  \n",
       "0                                          NaN     NaN  \n",
       "1                                          NaN     NaN  \n",
       "2                                          NaN     NaN  \n",
       "3                                          NaN     NaN  \n",
       "4                                          NaN     NaN  "
      ]
     },
     "execution_count": 120,
     "metadata": {},
     "output_type": "execute_result"
    }
   ],
   "source": [
    "# Read the raw data files and view data\n",
    "hume_temperature_path = \"raw_data/hume_weather/IDCJAC0010_086282_1800_Data.csv\"\n",
    "hume_temperature_data = pd.read_csv(hume_temperature_path)\n",
    "hume_temperature_data.head()"
   ]
  },
  {
   "cell_type": "code",
   "execution_count": 121,
   "id": "a414cbd8",
   "metadata": {},
   "outputs": [
    {
     "name": "stdout",
     "output_type": "stream",
     "text": [
      "<class 'pandas.core.frame.DataFrame'>\n",
      "RangeIndex: 18888 entries, 0 to 18887\n",
      "Data columns (total 8 columns):\n",
      " #   Column                                       Non-Null Count  Dtype  \n",
      "---  ------                                       --------------  -----  \n",
      " 0   Product code                                 18888 non-null  object \n",
      " 1   Bureau of Meteorology station number         18888 non-null  int64  \n",
      " 2   Year                                         18888 non-null  int64  \n",
      " 3   Month                                        18888 non-null  int64  \n",
      " 4   Day                                          18888 non-null  int64  \n",
      " 5   Maximum temperature (Degree C)               18706 non-null  float64\n",
      " 6   Days of accumulation of maximum temperature  18705 non-null  float64\n",
      " 7   Quality                                      18705 non-null  object \n",
      "dtypes: float64(2), int64(4), object(2)\n",
      "memory usage: 1.2+ MB\n"
     ]
    }
   ],
   "source": [
    "# Check data characteristics (ensure that numeric columns are integer - all ok)\n",
    "hume_temperature_data.info()"
   ]
  },
  {
   "cell_type": "code",
   "execution_count": 122,
   "id": "066ff486",
   "metadata": {},
   "outputs": [
    {
     "data": {
      "text/plain": [
       "1.0    18705\n",
       "Name: Days of accumulation of maximum temperature, dtype: int64"
      ]
     },
     "execution_count": 122,
     "metadata": {},
     "output_type": "execute_result"
    }
   ],
   "source": [
    "# Check if any days of accumulation of maximum temperature\n",
    "hume_temperature_data[\"Days of accumulation of maximum temperature\"].value_counts()\n",
    "\n",
    "# No accumulated temperature values in data set - no data correction required and column can be removed."
   ]
  },
  {
   "cell_type": "code",
   "execution_count": 123,
   "id": "ef80e8fb",
   "metadata": {},
   "outputs": [
    {
     "data": {
      "text/html": [
       "<div>\n",
       "<style scoped>\n",
       "    .dataframe tbody tr th:only-of-type {\n",
       "        vertical-align: middle;\n",
       "    }\n",
       "\n",
       "    .dataframe tbody tr th {\n",
       "        vertical-align: top;\n",
       "    }\n",
       "\n",
       "    .dataframe thead th {\n",
       "        text-align: right;\n",
       "    }\n",
       "</style>\n",
       "<table border=\"1\" class=\"dataframe\">\n",
       "  <thead>\n",
       "    <tr style=\"text-align: right;\">\n",
       "      <th></th>\n",
       "      <th>Year</th>\n",
       "      <th>Month</th>\n",
       "      <th>Day</th>\n",
       "      <th>Maximum temperature (Degree C)</th>\n",
       "    </tr>\n",
       "  </thead>\n",
       "  <tbody>\n",
       "    <tr>\n",
       "      <th>181</th>\n",
       "      <td>1970</td>\n",
       "      <td>7</td>\n",
       "      <td>1</td>\n",
       "      <td>14.1</td>\n",
       "    </tr>\n",
       "    <tr>\n",
       "      <th>182</th>\n",
       "      <td>1970</td>\n",
       "      <td>7</td>\n",
       "      <td>2</td>\n",
       "      <td>12.4</td>\n",
       "    </tr>\n",
       "    <tr>\n",
       "      <th>183</th>\n",
       "      <td>1970</td>\n",
       "      <td>7</td>\n",
       "      <td>3</td>\n",
       "      <td>11.3</td>\n",
       "    </tr>\n",
       "    <tr>\n",
       "      <th>184</th>\n",
       "      <td>1970</td>\n",
       "      <td>7</td>\n",
       "      <td>4</td>\n",
       "      <td>12.3</td>\n",
       "    </tr>\n",
       "    <tr>\n",
       "      <th>185</th>\n",
       "      <td>1970</td>\n",
       "      <td>7</td>\n",
       "      <td>5</td>\n",
       "      <td>14.8</td>\n",
       "    </tr>\n",
       "  </tbody>\n",
       "</table>\n",
       "</div>"
      ],
      "text/plain": [
       "     Year  Month  Day  Maximum temperature (Degree C)\n",
       "181  1970      7    1                            14.1\n",
       "182  1970      7    2                            12.4\n",
       "183  1970      7    3                            11.3\n",
       "184  1970      7    4                            12.3\n",
       "185  1970      7    5                            14.8"
      ]
     },
     "execution_count": 123,
     "metadata": {},
     "output_type": "execute_result"
    }
   ],
   "source": [
    "# Delete extraneous columns (\"Product code\",\"Bureau of Meteorology station number\",\"Quality\")\n",
    "del hume_temperature_data[\"Product code\"]\n",
    "del hume_temperature_data[\"Bureau of Meteorology station number\"]\n",
    "del hume_temperature_data[\"Days of accumulation of maximum temperature\"]\n",
    "del hume_temperature_data[\"Quality\"]\n",
    "\n",
    "# Remove rows containing NaN\n",
    "hume_temperature_data_clean=hume_temperature_data.dropna()\n",
    "\n",
    "hume_temperature_data_clean.head()"
   ]
  },
  {
   "cell_type": "code",
   "execution_count": 124,
   "id": "30d2b8c9",
   "metadata": {},
   "outputs": [
    {
     "data": {
      "text/plain": [
       "1984    366\n",
       "2012    366\n",
       "2008    366\n",
       "2000    366\n",
       "2020    366\n",
       "2004    366\n",
       "1988    366\n",
       "1992    366\n",
       "1980    366\n",
       "1996    366\n",
       "1976    366\n",
       "2016    366\n",
       "1981    365\n",
       "1997    365\n",
       "1999    365\n",
       "1977    365\n",
       "1993    365\n",
       "2009    365\n",
       "1978    365\n",
       "1994    365\n",
       "2010    365\n",
       "1979    365\n",
       "1995    365\n",
       "1983    365\n",
       "2014    365\n",
       "1998    365\n",
       "1982    365\n",
       "2013    365\n",
       "2011    365\n",
       "1991    365\n",
       "2007    365\n",
       "1975    365\n",
       "1985    365\n",
       "2001    365\n",
       "2017    365\n",
       "1986    365\n",
       "2002    365\n",
       "2018    365\n",
       "1971    365\n",
       "1987    365\n",
       "2003    365\n",
       "2019    365\n",
       "1972    365\n",
       "1973    365\n",
       "1989    365\n",
       "2005    365\n",
       "1974    365\n",
       "1990    365\n",
       "2006    365\n",
       "2015    365\n",
       "2021    260\n",
       "1970    184\n",
       "Name: Year, dtype: int64"
      ]
     },
     "execution_count": 124,
     "metadata": {},
     "output_type": "execute_result"
    }
   ],
   "source": [
    "# Check for missing days\n",
    "hume_temperature_data_clean[\"Year\"].value_counts()\n",
    "\n",
    "# Need years 2014-2019 for analysis. Out of these years, no missing days (2016 is a leap year with 366 days). \n",
    "# So when merging datasets, can use this one as base"
   ]
  },
  {
   "cell_type": "code",
   "execution_count": 125,
   "id": "e0e1ffa0",
   "metadata": {},
   "outputs": [
    {
     "data": {
      "text/plain": [
       "count    18706.000000\n",
       "mean        19.856784\n",
       "std          6.466474\n",
       "min          5.700000\n",
       "25%         14.800000\n",
       "50%         18.600000\n",
       "75%         23.600000\n",
       "max         46.800000\n",
       "Name: Maximum temperature (Degree C), dtype: float64"
      ]
     },
     "execution_count": 125,
     "metadata": {},
     "output_type": "execute_result"
    }
   ],
   "source": [
    "# Check maximum temperature data values reasonable (no outliers).\n",
    "hume_temperature_data_clean[\"Maximum temperature (Degree C)\"].describe()\n",
    "\n",
    "# a mean of 19.9 deg C, a max of 46.8 deg C and min of 5.7 deg C are all possible for Hume weather. \n",
    "# Note: 46.8 deg C is a little high but this weather station is located at Melbourne airport in the Hume area so minimal \n",
    "# vegetation to keep temperatures cooler."
   ]
  },
  {
   "cell_type": "markdown",
   "id": "b9fbc0b8",
   "metadata": {},
   "source": [
    "### Merge the two Hume weather dataframes"
   ]
  },
  {
   "cell_type": "code",
   "execution_count": 152,
   "id": "ee2105e8",
   "metadata": {},
   "outputs": [
    {
     "data": {
      "text/html": [
       "<div>\n",
       "<style scoped>\n",
       "    .dataframe tbody tr th:only-of-type {\n",
       "        vertical-align: middle;\n",
       "    }\n",
       "\n",
       "    .dataframe tbody tr th {\n",
       "        vertical-align: top;\n",
       "    }\n",
       "\n",
       "    .dataframe thead th {\n",
       "        text-align: right;\n",
       "    }\n",
       "</style>\n",
       "<table border=\"1\" class=\"dataframe\">\n",
       "  <thead>\n",
       "    <tr style=\"text-align: right;\">\n",
       "      <th></th>\n",
       "      <th>Year</th>\n",
       "      <th>Month</th>\n",
       "      <th>Day</th>\n",
       "      <th>Rainfall amount (millimetres)</th>\n",
       "      <th>Maximum temperature (Degree C)</th>\n",
       "    </tr>\n",
       "  </thead>\n",
       "  <tbody>\n",
       "    <tr>\n",
       "      <th>0</th>\n",
       "      <td>1970</td>\n",
       "      <td>7</td>\n",
       "      <td>1</td>\n",
       "      <td>0.3</td>\n",
       "      <td>14.1</td>\n",
       "    </tr>\n",
       "    <tr>\n",
       "      <th>1</th>\n",
       "      <td>1970</td>\n",
       "      <td>7</td>\n",
       "      <td>2</td>\n",
       "      <td>3.0</td>\n",
       "      <td>12.4</td>\n",
       "    </tr>\n",
       "    <tr>\n",
       "      <th>2</th>\n",
       "      <td>1970</td>\n",
       "      <td>7</td>\n",
       "      <td>3</td>\n",
       "      <td>0.0</td>\n",
       "      <td>11.3</td>\n",
       "    </tr>\n",
       "    <tr>\n",
       "      <th>3</th>\n",
       "      <td>1970</td>\n",
       "      <td>7</td>\n",
       "      <td>4</td>\n",
       "      <td>0.0</td>\n",
       "      <td>12.3</td>\n",
       "    </tr>\n",
       "    <tr>\n",
       "      <th>4</th>\n",
       "      <td>1970</td>\n",
       "      <td>7</td>\n",
       "      <td>5</td>\n",
       "      <td>3.6</td>\n",
       "      <td>14.8</td>\n",
       "    </tr>\n",
       "  </tbody>\n",
       "</table>\n",
       "</div>"
      ],
      "text/plain": [
       "   Year  Month  Day  Rainfall amount (millimetres)  \\\n",
       "0  1970      7    1                            0.3   \n",
       "1  1970      7    2                            3.0   \n",
       "2  1970      7    3                            0.0   \n",
       "3  1970      7    4                            0.0   \n",
       "4  1970      7    5                            3.6   \n",
       "\n",
       "   Maximum temperature (Degree C)  \n",
       "0                            14.1  \n",
       "1                            12.4  \n",
       "2                            11.3  \n",
       "3                            12.3  \n",
       "4                            14.8  "
      ]
     },
     "execution_count": 152,
     "metadata": {},
     "output_type": "execute_result"
    }
   ],
   "source": [
    "# Combine the two Hume datasets (rainfall and temperature) into a single Hume Weather dataset\n",
    "hume_combined_df = pd.merge(hume_rainfall_data_clean, hume_temperature_data_clean,how=\"right\", on=[\"Year\",\"Month\",\"Day\"])\n",
    "\n",
    "# Display the data table for preview\n",
    "hume_combined_df.head()"
   ]
  },
  {
   "cell_type": "code",
   "execution_count": 153,
   "id": "50344ff1",
   "metadata": {},
   "outputs": [
    {
     "data": {
      "text/plain": [
       "Year                              18706\n",
       "Month                             18706\n",
       "Day                               18706\n",
       "Rainfall amount (millimetres)     18706\n",
       "Maximum temperature (Degree C)    18706\n",
       "dtype: int64"
      ]
     },
     "execution_count": 153,
     "metadata": {},
     "output_type": "execute_result"
    }
   ],
   "source": [
    "# Check for any missing values\n",
    "hume_combined_df.count()"
   ]
  },
  {
   "cell_type": "code",
   "execution_count": 154,
   "id": "a0184e00",
   "metadata": {},
   "outputs": [
    {
     "data": {
      "text/html": [
       "<div>\n",
       "<style scoped>\n",
       "    .dataframe tbody tr th:only-of-type {\n",
       "        vertical-align: middle;\n",
       "    }\n",
       "\n",
       "    .dataframe tbody tr th {\n",
       "        vertical-align: top;\n",
       "    }\n",
       "\n",
       "    .dataframe thead th {\n",
       "        text-align: right;\n",
       "    }\n",
       "</style>\n",
       "<table border=\"1\" class=\"dataframe\">\n",
       "  <thead>\n",
       "    <tr style=\"text-align: right;\">\n",
       "      <th></th>\n",
       "      <th>Date</th>\n",
       "      <th>Rainfall amount (millimetres)</th>\n",
       "      <th>Maximum temperature (Degree C)</th>\n",
       "    </tr>\n",
       "  </thead>\n",
       "  <tbody>\n",
       "    <tr>\n",
       "      <th>0</th>\n",
       "      <td>1970/07/01</td>\n",
       "      <td>0.3</td>\n",
       "      <td>14.1</td>\n",
       "    </tr>\n",
       "    <tr>\n",
       "      <th>1</th>\n",
       "      <td>1970/07/02</td>\n",
       "      <td>3.0</td>\n",
       "      <td>12.4</td>\n",
       "    </tr>\n",
       "    <tr>\n",
       "      <th>2</th>\n",
       "      <td>1970/07/03</td>\n",
       "      <td>0.0</td>\n",
       "      <td>11.3</td>\n",
       "    </tr>\n",
       "    <tr>\n",
       "      <th>3</th>\n",
       "      <td>1970/07/04</td>\n",
       "      <td>0.0</td>\n",
       "      <td>12.3</td>\n",
       "    </tr>\n",
       "    <tr>\n",
       "      <th>4</th>\n",
       "      <td>1970/07/05</td>\n",
       "      <td>3.6</td>\n",
       "      <td>14.8</td>\n",
       "    </tr>\n",
       "  </tbody>\n",
       "</table>\n",
       "</div>"
      ],
      "text/plain": [
       "         Date  Rainfall amount (millimetres)  Maximum temperature (Degree C)\n",
       "0  1970/07/01                            0.3                            14.1\n",
       "1  1970/07/02                            3.0                            12.4\n",
       "2  1970/07/03                            0.0                            11.3\n",
       "3  1970/07/04                            0.0                            12.3\n",
       "4  1970/07/05                            3.6                            14.8"
      ]
     },
     "execution_count": 154,
     "metadata": {},
     "output_type": "execute_result"
    }
   ],
   "source": [
    "# Concatenate the Year, Month and Day column into a Date column (will be required for future merging with traffic acident DataFrame)\n",
    "hume_combined_df[\"dateInt\"]=hume_combined_df[\"Year\"].astype(str) + hume_combined_df[\"Month\"].astype(str).str.zfill(2)+ hume_combined_df[\"Day\"].astype(str).str.zfill(2)\n",
    "hume_combined_df[\"Date\"] = pd.to_datetime(hume_combined_df[\"dateInt\"], format=\"%Y%m%d\")\n",
    "hume_combined_df[\"Date\"] = hume_combined_df[\"Date\"].dt.strftime(\"%Y/%m/%d\")\n",
    "\n",
    "# Remove no longer required columns\n",
    "del hume_combined_df[\"dateInt\"]\n",
    "del hume_combined_df[\"Year\"]\n",
    "del hume_combined_df[\"Month\"]\n",
    "del hume_combined_df[\"Day\"]\n",
    "\n",
    "# Rearrange columns to desired order\n",
    "hume_combined_df = hume_combined_df[[\"Date\", \"Rainfall amount (millimetres)\", \"Maximum temperature (Degree C)\"]]\n",
    "\n",
    "hume_combined_df.head()"
   ]
  },
  {
   "cell_type": "code",
   "execution_count": 155,
   "id": "d059608a",
   "metadata": {},
   "outputs": [],
   "source": [
    "# Reset index and send clean Hume Weather data to CSV in cleaned_data folder\n",
    "hume_combined_df.reset_index(drop=True)\n",
    "hume_combined_df.head()\n",
    "\n",
    "# Store Melbourne Weather data in CSV file\n",
    "hume_combined_df.to_csv(\"cleaned_data/hume_weather.csv\",encoding=\"utf-8\",index = False)"
   ]
  },
  {
   "cell_type": "code",
   "execution_count": null,
   "id": "55bb7d57",
   "metadata": {},
   "outputs": [],
   "source": []
  }
 ],
 "metadata": {
  "kernelspec": {
   "display_name": "Python 3",
   "language": "python",
   "name": "python3"
  },
  "language_info": {
   "codemirror_mode": {
    "name": "ipython",
    "version": 3
   },
   "file_extension": ".py",
   "mimetype": "text/x-python",
   "name": "python",
   "nbconvert_exporter": "python",
   "pygments_lexer": "ipython3",
   "version": "3.8.8"
  }
 },
 "nbformat": 4,
 "nbformat_minor": 5
}
